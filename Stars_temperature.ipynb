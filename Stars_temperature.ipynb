{
 "cells": [
  {
   "cell_type": "markdown",
   "id": "73f26529",
   "metadata": {},
   "source": [
    "# Прогнозирование температуры звезды"
   ]
  },
  {
   "cell_type": "markdown",
   "id": "442df7fe",
   "metadata": {},
   "source": [
    "В данном проекте рассмотрена задача от обсерватории «Небо на ладони»: придумать, как с помощью нейросети определять температуру на поверхности обнаруженных звёзд. Обычно для расчёта температуры учёные пользуются следующими методами:\n",
    "- Закон смещения Вина.\n",
    "- Закон Стефана-Больцмана.\n",
    "- Спектральный анализ.\n",
    "\n",
    "Каждый из них имеет плюсы и минусы. Обсерватория хочет внедрить технологии машинного обучения для предсказания температуры звёзд, надеясь, что этот метод будет наиболее точным и удобным.\n",
    "В базе обсерватории есть характеристики уже изученных 240 звёзд.\n",
    "\n",
    "Необходимо разработать нейронную сеть, которая поможет предсказывать абсолютную температуру на поверхности звезды."
   ]
  },
  {
   "cell_type": "code",
   "execution_count": 1,
   "id": "f0cb71b2",
   "metadata": {},
   "outputs": [
    {
     "name": "stdout",
     "output_type": "stream",
     "text": [
      "Requirement already satisfied: skorch in /opt/conda/lib/python3.9/site-packages (0.15.0)\n",
      "Requirement already satisfied: numpy>=1.13.3 in /opt/conda/lib/python3.9/site-packages (from skorch) (1.21.1)\n",
      "Requirement already satisfied: scipy>=1.1.0 in /opt/conda/lib/python3.9/site-packages (from skorch) (1.9.1)\n",
      "Requirement already satisfied: scikit-learn>=0.22.0 in /opt/conda/lib/python3.9/site-packages (from skorch) (0.24.1)\n",
      "Requirement already satisfied: tqdm>=4.14.0 in /opt/conda/lib/python3.9/site-packages (from skorch) (4.61.2)\n",
      "Requirement already satisfied: tabulate>=0.7.7 in /opt/conda/lib/python3.9/site-packages (from skorch) (0.9.0)\n",
      "Requirement already satisfied: joblib>=0.11 in /opt/conda/lib/python3.9/site-packages (from scikit-learn>=0.22.0->skorch) (1.1.0)\n",
      "Requirement already satisfied: threadpoolctl>=2.0.0 in /opt/conda/lib/python3.9/site-packages (from scikit-learn>=0.22.0->skorch) (3.1.0)\n"
     ]
    }
   ],
   "source": [
    "!python -m pip install skorch"
   ]
  },
  {
   "cell_type": "markdown",
   "id": "corresponding-armstrong",
   "metadata": {
    "ExecuteTime": {
     "end_time": "2022-05-05T04:58:05.692448Z",
     "start_time": "2022-05-05T04:58:05.688565Z"
    }
   },
   "source": [
    "## 1. Загрузка данных"
   ]
  },
  {
   "cell_type": "markdown",
   "id": "e4310714",
   "metadata": {},
   "source": [
    "Для начала загрузим все нужные библиотеки, а также добавим \"якоря\" для того, чтобы результаты при перезапуске тетради не менялись."
   ]
  },
  {
   "cell_type": "code",
   "execution_count": 2,
   "id": "spectacular-folder",
   "metadata": {},
   "outputs": [],
   "source": [
    "import pandas as pd\n",
    "import matplotlib.pyplot as plt\n",
    "import seaborn as sns\n",
    "import pylab\n",
    "from sklearn.preprocessing import StandardScaler, OneHotEncoder\n",
    "from sklearn.model_selection import train_test_split\n",
    "import torch\n",
    "import torch.nn as nn\n",
    "import torch.optim as optim\n",
    "import numpy as np\n",
    "from math import sqrt\n",
    "from math import ceil\n",
    "from sklearn.compose import ColumnTransformer\n",
    "\n",
    "torch.manual_seed(0)\n",
    "torch.use_deterministic_algorithms(True)\n",
    "np.random.seed(0)"
   ]
  },
  {
   "cell_type": "markdown",
   "id": "1ca0e350",
   "metadata": {},
   "source": [
    "Загрузим датафрейм и посмотрим на данные."
   ]
  },
  {
   "cell_type": "code",
   "execution_count": 3,
   "id": "6e7b3aca",
   "metadata": {},
   "outputs": [
    {
     "data": {
      "text/html": [
       "<div>\n",
       "<style scoped>\n",
       "    .dataframe tbody tr th:only-of-type {\n",
       "        vertical-align: middle;\n",
       "    }\n",
       "\n",
       "    .dataframe tbody tr th {\n",
       "        vertical-align: top;\n",
       "    }\n",
       "\n",
       "    .dataframe thead th {\n",
       "        text-align: right;\n",
       "    }\n",
       "</style>\n",
       "<table border=\"1\" class=\"dataframe\">\n",
       "  <thead>\n",
       "    <tr style=\"text-align: right;\">\n",
       "      <th></th>\n",
       "      <th>Unnamed: 0</th>\n",
       "      <th>Temperature (K)</th>\n",
       "      <th>Luminosity(L/Lo)</th>\n",
       "      <th>Radius(R/Ro)</th>\n",
       "      <th>Absolute magnitude(Mv)</th>\n",
       "      <th>Star type</th>\n",
       "      <th>Star color</th>\n",
       "    </tr>\n",
       "  </thead>\n",
       "  <tbody>\n",
       "    <tr>\n",
       "      <th>0</th>\n",
       "      <td>0</td>\n",
       "      <td>3068</td>\n",
       "      <td>0.002400</td>\n",
       "      <td>0.1700</td>\n",
       "      <td>16.12</td>\n",
       "      <td>0</td>\n",
       "      <td>Red</td>\n",
       "    </tr>\n",
       "    <tr>\n",
       "      <th>1</th>\n",
       "      <td>1</td>\n",
       "      <td>3042</td>\n",
       "      <td>0.000500</td>\n",
       "      <td>0.1542</td>\n",
       "      <td>16.60</td>\n",
       "      <td>0</td>\n",
       "      <td>Red</td>\n",
       "    </tr>\n",
       "    <tr>\n",
       "      <th>2</th>\n",
       "      <td>2</td>\n",
       "      <td>2600</td>\n",
       "      <td>0.000300</td>\n",
       "      <td>0.1020</td>\n",
       "      <td>18.70</td>\n",
       "      <td>0</td>\n",
       "      <td>Red</td>\n",
       "    </tr>\n",
       "    <tr>\n",
       "      <th>3</th>\n",
       "      <td>3</td>\n",
       "      <td>2800</td>\n",
       "      <td>0.000200</td>\n",
       "      <td>0.1600</td>\n",
       "      <td>16.65</td>\n",
       "      <td>0</td>\n",
       "      <td>Red</td>\n",
       "    </tr>\n",
       "    <tr>\n",
       "      <th>4</th>\n",
       "      <td>4</td>\n",
       "      <td>1939</td>\n",
       "      <td>0.000138</td>\n",
       "      <td>0.1030</td>\n",
       "      <td>20.06</td>\n",
       "      <td>0</td>\n",
       "      <td>Red</td>\n",
       "    </tr>\n",
       "    <tr>\n",
       "      <th>...</th>\n",
       "      <td>...</td>\n",
       "      <td>...</td>\n",
       "      <td>...</td>\n",
       "      <td>...</td>\n",
       "      <td>...</td>\n",
       "      <td>...</td>\n",
       "      <td>...</td>\n",
       "    </tr>\n",
       "    <tr>\n",
       "      <th>235</th>\n",
       "      <td>235</td>\n",
       "      <td>38940</td>\n",
       "      <td>374830.000000</td>\n",
       "      <td>1356.0000</td>\n",
       "      <td>-9.93</td>\n",
       "      <td>5</td>\n",
       "      <td>Blue</td>\n",
       "    </tr>\n",
       "    <tr>\n",
       "      <th>236</th>\n",
       "      <td>236</td>\n",
       "      <td>30839</td>\n",
       "      <td>834042.000000</td>\n",
       "      <td>1194.0000</td>\n",
       "      <td>-10.63</td>\n",
       "      <td>5</td>\n",
       "      <td>Blue</td>\n",
       "    </tr>\n",
       "    <tr>\n",
       "      <th>237</th>\n",
       "      <td>237</td>\n",
       "      <td>8829</td>\n",
       "      <td>537493.000000</td>\n",
       "      <td>1423.0000</td>\n",
       "      <td>-10.73</td>\n",
       "      <td>5</td>\n",
       "      <td>White</td>\n",
       "    </tr>\n",
       "    <tr>\n",
       "      <th>238</th>\n",
       "      <td>238</td>\n",
       "      <td>9235</td>\n",
       "      <td>404940.000000</td>\n",
       "      <td>1112.0000</td>\n",
       "      <td>-11.23</td>\n",
       "      <td>5</td>\n",
       "      <td>White</td>\n",
       "    </tr>\n",
       "    <tr>\n",
       "      <th>239</th>\n",
       "      <td>239</td>\n",
       "      <td>37882</td>\n",
       "      <td>294903.000000</td>\n",
       "      <td>1783.0000</td>\n",
       "      <td>-7.80</td>\n",
       "      <td>5</td>\n",
       "      <td>Blue</td>\n",
       "    </tr>\n",
       "  </tbody>\n",
       "</table>\n",
       "<p>240 rows × 7 columns</p>\n",
       "</div>"
      ],
      "text/plain": [
       "     Unnamed: 0  Temperature (K)  Luminosity(L/Lo)  Radius(R/Ro)  \\\n",
       "0             0             3068          0.002400        0.1700   \n",
       "1             1             3042          0.000500        0.1542   \n",
       "2             2             2600          0.000300        0.1020   \n",
       "3             3             2800          0.000200        0.1600   \n",
       "4             4             1939          0.000138        0.1030   \n",
       "..          ...              ...               ...           ...   \n",
       "235         235            38940     374830.000000     1356.0000   \n",
       "236         236            30839     834042.000000     1194.0000   \n",
       "237         237             8829     537493.000000     1423.0000   \n",
       "238         238             9235     404940.000000     1112.0000   \n",
       "239         239            37882     294903.000000     1783.0000   \n",
       "\n",
       "     Absolute magnitude(Mv)  Star type Star color  \n",
       "0                     16.12          0        Red  \n",
       "1                     16.60          0        Red  \n",
       "2                     18.70          0        Red  \n",
       "3                     16.65          0        Red  \n",
       "4                     20.06          0        Red  \n",
       "..                      ...        ...        ...  \n",
       "235                   -9.93          5       Blue  \n",
       "236                  -10.63          5       Blue  \n",
       "237                  -10.73          5      White  \n",
       "238                  -11.23          5      White  \n",
       "239                   -7.80          5       Blue  \n",
       "\n",
       "[240 rows x 7 columns]"
      ]
     },
     "execution_count": 3,
     "metadata": {},
     "output_type": "execute_result"
    }
   ],
   "source": [
    "df = pd.read_csv('/datasets/6_class.csv')\n",
    "df"
   ]
  },
  {
   "cell_type": "markdown",
   "id": "d33d68fd",
   "metadata": {},
   "source": [
    "Мы видим лишнюю колонку с индексами, для обучения она не нужна, избавимс от нее."
   ]
  },
  {
   "cell_type": "code",
   "execution_count": 4,
   "id": "21b66955",
   "metadata": {},
   "outputs": [
    {
     "data": {
      "text/html": [
       "<div>\n",
       "<style scoped>\n",
       "    .dataframe tbody tr th:only-of-type {\n",
       "        vertical-align: middle;\n",
       "    }\n",
       "\n",
       "    .dataframe tbody tr th {\n",
       "        vertical-align: top;\n",
       "    }\n",
       "\n",
       "    .dataframe thead th {\n",
       "        text-align: right;\n",
       "    }\n",
       "</style>\n",
       "<table border=\"1\" class=\"dataframe\">\n",
       "  <thead>\n",
       "    <tr style=\"text-align: right;\">\n",
       "      <th></th>\n",
       "      <th>Temperature (K)</th>\n",
       "      <th>Luminosity(L/Lo)</th>\n",
       "      <th>Radius(R/Ro)</th>\n",
       "      <th>Absolute magnitude(Mv)</th>\n",
       "      <th>Star type</th>\n",
       "      <th>Star color</th>\n",
       "    </tr>\n",
       "  </thead>\n",
       "  <tbody>\n",
       "    <tr>\n",
       "      <th>0</th>\n",
       "      <td>3068</td>\n",
       "      <td>0.002400</td>\n",
       "      <td>0.1700</td>\n",
       "      <td>16.12</td>\n",
       "      <td>0</td>\n",
       "      <td>Red</td>\n",
       "    </tr>\n",
       "    <tr>\n",
       "      <th>1</th>\n",
       "      <td>3042</td>\n",
       "      <td>0.000500</td>\n",
       "      <td>0.1542</td>\n",
       "      <td>16.60</td>\n",
       "      <td>0</td>\n",
       "      <td>Red</td>\n",
       "    </tr>\n",
       "    <tr>\n",
       "      <th>2</th>\n",
       "      <td>2600</td>\n",
       "      <td>0.000300</td>\n",
       "      <td>0.1020</td>\n",
       "      <td>18.70</td>\n",
       "      <td>0</td>\n",
       "      <td>Red</td>\n",
       "    </tr>\n",
       "    <tr>\n",
       "      <th>3</th>\n",
       "      <td>2800</td>\n",
       "      <td>0.000200</td>\n",
       "      <td>0.1600</td>\n",
       "      <td>16.65</td>\n",
       "      <td>0</td>\n",
       "      <td>Red</td>\n",
       "    </tr>\n",
       "    <tr>\n",
       "      <th>4</th>\n",
       "      <td>1939</td>\n",
       "      <td>0.000138</td>\n",
       "      <td>0.1030</td>\n",
       "      <td>20.06</td>\n",
       "      <td>0</td>\n",
       "      <td>Red</td>\n",
       "    </tr>\n",
       "    <tr>\n",
       "      <th>...</th>\n",
       "      <td>...</td>\n",
       "      <td>...</td>\n",
       "      <td>...</td>\n",
       "      <td>...</td>\n",
       "      <td>...</td>\n",
       "      <td>...</td>\n",
       "    </tr>\n",
       "    <tr>\n",
       "      <th>235</th>\n",
       "      <td>38940</td>\n",
       "      <td>374830.000000</td>\n",
       "      <td>1356.0000</td>\n",
       "      <td>-9.93</td>\n",
       "      <td>5</td>\n",
       "      <td>Blue</td>\n",
       "    </tr>\n",
       "    <tr>\n",
       "      <th>236</th>\n",
       "      <td>30839</td>\n",
       "      <td>834042.000000</td>\n",
       "      <td>1194.0000</td>\n",
       "      <td>-10.63</td>\n",
       "      <td>5</td>\n",
       "      <td>Blue</td>\n",
       "    </tr>\n",
       "    <tr>\n",
       "      <th>237</th>\n",
       "      <td>8829</td>\n",
       "      <td>537493.000000</td>\n",
       "      <td>1423.0000</td>\n",
       "      <td>-10.73</td>\n",
       "      <td>5</td>\n",
       "      <td>White</td>\n",
       "    </tr>\n",
       "    <tr>\n",
       "      <th>238</th>\n",
       "      <td>9235</td>\n",
       "      <td>404940.000000</td>\n",
       "      <td>1112.0000</td>\n",
       "      <td>-11.23</td>\n",
       "      <td>5</td>\n",
       "      <td>White</td>\n",
       "    </tr>\n",
       "    <tr>\n",
       "      <th>239</th>\n",
       "      <td>37882</td>\n",
       "      <td>294903.000000</td>\n",
       "      <td>1783.0000</td>\n",
       "      <td>-7.80</td>\n",
       "      <td>5</td>\n",
       "      <td>Blue</td>\n",
       "    </tr>\n",
       "  </tbody>\n",
       "</table>\n",
       "<p>240 rows × 6 columns</p>\n",
       "</div>"
      ],
      "text/plain": [
       "     Temperature (K)  Luminosity(L/Lo)  Radius(R/Ro)  Absolute magnitude(Mv)  \\\n",
       "0               3068          0.002400        0.1700                   16.12   \n",
       "1               3042          0.000500        0.1542                   16.60   \n",
       "2               2600          0.000300        0.1020                   18.70   \n",
       "3               2800          0.000200        0.1600                   16.65   \n",
       "4               1939          0.000138        0.1030                   20.06   \n",
       "..               ...               ...           ...                     ...   \n",
       "235            38940     374830.000000     1356.0000                   -9.93   \n",
       "236            30839     834042.000000     1194.0000                  -10.63   \n",
       "237             8829     537493.000000     1423.0000                  -10.73   \n",
       "238             9235     404940.000000     1112.0000                  -11.23   \n",
       "239            37882     294903.000000     1783.0000                   -7.80   \n",
       "\n",
       "     Star type Star color  \n",
       "0            0        Red  \n",
       "1            0        Red  \n",
       "2            0        Red  \n",
       "3            0        Red  \n",
       "4            0        Red  \n",
       "..         ...        ...  \n",
       "235          5       Blue  \n",
       "236          5       Blue  \n",
       "237          5      White  \n",
       "238          5      White  \n",
       "239          5       Blue  \n",
       "\n",
       "[240 rows x 6 columns]"
      ]
     },
     "execution_count": 4,
     "metadata": {},
     "output_type": "execute_result"
    }
   ],
   "source": [
    "df = df.drop(columns='Unnamed: 0')\n",
    "df"
   ]
  },
  {
   "cell_type": "markdown",
   "id": "64851d9d",
   "metadata": {},
   "source": [
    "Уже сейчас становится понятно, что популяция достаточно небольшая. В помощь модели проведем аугментацию данных - в дальнейшем разделим выборки на тренировочную и обучающую и добавим к существующему тренировочной все те же значения, только несущественно изменим числовые данные."
   ]
  },
  {
   "cell_type": "markdown",
   "id": "simple-subdivision",
   "metadata": {},
   "source": [
    "## 2. Предобработка и анализ данных"
   ]
  },
  {
   "cell_type": "markdown",
   "id": "3cfa90e7",
   "metadata": {},
   "source": [
    "Посмотрим, какая информация находится в датасете."
   ]
  },
  {
   "cell_type": "code",
   "execution_count": 5,
   "id": "38d9b33e",
   "metadata": {},
   "outputs": [
    {
     "name": "stdout",
     "output_type": "stream",
     "text": [
      "<class 'pandas.core.frame.DataFrame'>\n",
      "RangeIndex: 240 entries, 0 to 239\n",
      "Data columns (total 6 columns):\n",
      " #   Column                  Non-Null Count  Dtype  \n",
      "---  ------                  --------------  -----  \n",
      " 0   Temperature (K)         240 non-null    int64  \n",
      " 1   Luminosity(L/Lo)        240 non-null    float64\n",
      " 2   Radius(R/Ro)            240 non-null    float64\n",
      " 3   Absolute magnitude(Mv)  240 non-null    float64\n",
      " 4   Star type               240 non-null    int64  \n",
      " 5   Star color              240 non-null    object \n",
      "dtypes: float64(3), int64(2), object(1)\n",
      "memory usage: 11.4+ KB\n"
     ]
    }
   ],
   "source": [
    "df.info()"
   ]
  },
  {
   "cell_type": "markdown",
   "id": "723e9c08",
   "metadata": {},
   "source": [
    "Искомый датасет содержит следующие колонки:\n",
    "- `Temperature (K)` Абсолютная температура T(K) — температура на поверхности звезды в Кельвинах.\n",
    "- `Luminosity(L/Lo)` Относительная светимость L/Lo — светимость звезды относительно Солнца.\n",
    "- `Radius(R/Ro)` Относительный радиус R/Ro — радиус звезды относительно радиуса Солнца.\n",
    "- `Absolute magnitude(Mv)` Абсолютная звёздная величина Mv — физическая величина, характеризующая блеск звезды.\n",
    "- `Star type` Тип звезды.\n",
    "- `Star color` Звёздный цвет (white, red, blue, yellow, yellow-orange и др.) — цвет звезды, который определяют на основе спектрального анализа.\n",
    "\n",
    "Пропущенные значения отсутствуют. Посмотрим на категориальные и числовые данные поближе."
   ]
  },
  {
   "cell_type": "markdown",
   "id": "1b6dc75a",
   "metadata": {},
   "source": [
    "- Категориальные данные"
   ]
  },
  {
   "cell_type": "markdown",
   "id": "e4fe3162",
   "metadata": {},
   "source": [
    "В колонке `Star type` находятся значения от 0 до 5, обозначающие тип звезды:\n",
    "- `0` Коричневый карлик\n",
    "- `1` Красный карлик\n",
    "- `2` Белый карлик\n",
    "- `3` Звёзды главной последовательности\n",
    "- `4` Сверхгигант\n",
    "- `5` Гипергигант\n",
    "\n",
    "А вот в колонке `Star color` содержатся строковые значения - цвет звезды. Приведем значения этой колонки к строковому формату и посмотрим уникальные значения."
   ]
  },
  {
   "cell_type": "code",
   "execution_count": 6,
   "id": "490164bd",
   "metadata": {},
   "outputs": [
    {
     "data": {
      "text/plain": [
       "array(['red', 'blue white', 'white', 'yellowish white',\n",
       "       'pale yellow orange', 'blue', 'blue-white', 'whitish',\n",
       "       'yellow-white', 'orange', 'white-yellow', 'blue ', 'yellowish',\n",
       "       'orange-red', 'blue white '], dtype=object)"
      ]
     },
     "execution_count": 6,
     "metadata": {},
     "output_type": "execute_result"
    }
   ],
   "source": [
    "df['Star color'] = df['Star color'].str.lower()\n",
    "df['Star color'].unique()"
   ]
  },
  {
   "cell_type": "markdown",
   "id": "a0cec39d",
   "metadata": {},
   "source": [
    "Мы видим неявные дубликаты из-за лишних пробелов, порядка слов в обозначении цвета и т.д., исправим это с помощью функции."
   ]
  },
  {
   "cell_type": "code",
   "execution_count": 7,
   "id": "29139fa2",
   "metadata": {},
   "outputs": [
    {
     "data": {
      "text/plain": [
       "array(['red', 'blue-white', 'white', 'yellow-white', 'pale yellow orange',\n",
       "       'blue', 'whitish', 'orange', 'orange-red'], dtype=object)"
      ]
     },
     "execution_count": 7,
     "metadata": {},
     "output_type": "execute_result"
    }
   ],
   "source": [
    "def star_color(value):\n",
    "    if value == 'blue ':\n",
    "        return 'blue'\n",
    "    elif value == 'blue white ' or value == 'blue white':\n",
    "        return 'blue-white'\n",
    "    elif value == 'yellowish white' or value == 'white-yellow' or value == 'yellowish':\n",
    "        return 'yellow-white'\n",
    "    else:\n",
    "        return value\n",
    "    \n",
    "df['Star color'] = df['Star color'].apply(star_color)\n",
    "df['Star color'].unique()"
   ]
  },
  {
   "cell_type": "markdown",
   "id": "80fd6c14",
   "metadata": {},
   "source": [
    "Теперь можно посмотреть состав данных на фоне всего датасета, для этого построим графики."
   ]
  },
  {
   "cell_type": "code",
   "execution_count": 8,
   "id": "d8bd7fc3",
   "metadata": {},
   "outputs": [
    {
     "data": {
      "image/png": "[encoded data removed]",
      "text/plain": [
       "<Figure size 1152x576 with 2 Axes>"
      ]
     },
     "metadata": {
      "needs_background": "light"
     },
     "output_type": "display_data"
    }
   ],
   "source": [
    "# 1 строка, 2 колонки, 1-ый график\n",
    "pylab.subplot(1, 2, 1)\n",
    "df_group = df.groupby('Star type')['Star type'].count()\n",
    "df_group.plot(kind='pie', autopct='%1.1f%%', figsize=(16,8))\n",
    "plt.title('Тип звезды')\n",
    "plt.ylabel('')\n",
    "\n",
    "# 1 строка, 2 колонки, 2-ой график\n",
    "pylab.subplot(1, 2, 2)\n",
    "df_group = df.groupby('Star color')['Star color'].count()\n",
    "df_group.plot(kind='bar', figsize=(16,8))\n",
    "plt.title('Звёздный цвет')\n",
    "plt.ylabel('')\n",
    "plt.show()"
   ]
  },
  {
   "cell_type": "markdown",
   "id": "cda4e173",
   "metadata": {},
   "source": [
    "Типы звезд в предоставленном датасете представлен достаточно разномерно. А вот цвет у цветов звезд наблюдается явный дисбаланс. Посмотрим далее, как с этим справится нейронная сеть. При необходимости проведем аугментацию даннх для редко представленных цветов."
   ]
  },
  {
   "cell_type": "markdown",
   "id": "funded-electric",
   "metadata": {},
   "source": [
    "## 3. Построение базовой нейронной сети"
   ]
  },
  {
   "cell_type": "markdown",
   "id": "89eada54",
   "metadata": {},
   "source": [
    "Для начала выделим количественные и категориальные признаки."
   ]
  },
  {
   "cell_type": "code",
   "execution_count": 9,
   "id": "flush-dream",
   "metadata": {},
   "outputs": [],
   "source": [
    "num = ['Luminosity(L/Lo)', 'Radius(R/Ro)', 'Absolute magnitude(Mv)']\n",
    "cat = ['Star type', 'Star color']"
   ]
  },
  {
   "cell_type": "markdown",
   "id": "4d291d9f",
   "metadata": {},
   "source": [
    "Разделим данные на обучающий и тестовый наборы. Для дальнейшей работы обнулим в получившихся объектах индексы."
   ]
  },
  {
   "cell_type": "code",
   "execution_count": 10,
   "id": "0ef98def",
   "metadata": {},
   "outputs": [],
   "source": [
    "features = df.drop('Temperature (K)', axis=1)\n",
    "target = df['Temperature (K)']\n",
    "\n",
    "X_train, X_test, y_train, y_test = train_test_split(features, target, test_size=0.25, shuffle=True, random_state=42)\n",
    "\n",
    "X_train = X_train.reset_index(drop=True)\n",
    "X_test = X_test.reset_index(drop=True)\n",
    "y_train = y_train.reset_index(drop=True)\n",
    "y_test = y_test.reset_index(drop=True)"
   ]
  },
  {
   "cell_type": "markdown",
   "id": "b8e5fd58",
   "metadata": {},
   "source": [
    "Теперь мы можем провести аугментацию для обучающей выборки. Подготовим один дополнительный датасет, домножив на `1.01`, и второй датасет, поделив изначальные данные на `1.01`. Данная манипуляция увеличит датасет для обучения в разы, но при этом не будет являться для нейронных сетей той же самой информацией.\n",
    "\n",
    "Дополним изначальный датасет \"увеличенным\" и \"уменьшенным\" по значениям."
   ]
  },
  {
   "cell_type": "code",
   "execution_count": 11,
   "id": "45390cf6",
   "metadata": {},
   "outputs": [
    {
     "data": {
      "text/html": [
       "<div>\n",
       "<style scoped>\n",
       "    .dataframe tbody tr th:only-of-type {\n",
       "        vertical-align: middle;\n",
       "    }\n",
       "\n",
       "    .dataframe tbody tr th {\n",
       "        vertical-align: top;\n",
       "    }\n",
       "\n",
       "    .dataframe thead th {\n",
       "        text-align: right;\n",
       "    }\n",
       "</style>\n",
       "<table border=\"1\" class=\"dataframe\">\n",
       "  <thead>\n",
       "    <tr style=\"text-align: right;\">\n",
       "      <th></th>\n",
       "      <th>Luminosity(L/Lo)</th>\n",
       "      <th>Radius(R/Ro)</th>\n",
       "      <th>Absolute magnitude(Mv)</th>\n",
       "      <th>Star type</th>\n",
       "      <th>Star color</th>\n",
       "    </tr>\n",
       "  </thead>\n",
       "  <tbody>\n",
       "    <tr>\n",
       "      <th>0</th>\n",
       "      <td>672.00000</td>\n",
       "      <td>6.9800</td>\n",
       "      <td>-2.300</td>\n",
       "      <td>3</td>\n",
       "      <td>blue-white</td>\n",
       "    </tr>\n",
       "    <tr>\n",
       "      <th>1</th>\n",
       "      <td>0.00087</td>\n",
       "      <td>0.0932</td>\n",
       "      <td>16.880</td>\n",
       "      <td>0</td>\n",
       "      <td>red</td>\n",
       "    </tr>\n",
       "    <tr>\n",
       "      <th>2</th>\n",
       "      <td>0.00043</td>\n",
       "      <td>0.0912</td>\n",
       "      <td>17.160</td>\n",
       "      <td>0</td>\n",
       "      <td>red</td>\n",
       "    </tr>\n",
       "    <tr>\n",
       "      <th>3</th>\n",
       "      <td>0.00098</td>\n",
       "      <td>0.0911</td>\n",
       "      <td>16.450</td>\n",
       "      <td>0</td>\n",
       "      <td>red</td>\n",
       "    </tr>\n",
       "    <tr>\n",
       "      <th>4</th>\n",
       "      <td>813000.00000</td>\n",
       "      <td>14.0000</td>\n",
       "      <td>-6.230</td>\n",
       "      <td>4</td>\n",
       "      <td>blue</td>\n",
       "    </tr>\n",
       "    <tr>\n",
       "      <th>...</th>\n",
       "      <td>...</td>\n",
       "      <td>...</td>\n",
       "      <td>...</td>\n",
       "      <td>...</td>\n",
       "      <td>...</td>\n",
       "    </tr>\n",
       "    <tr>\n",
       "      <th>175</th>\n",
       "      <td>363000.00000</td>\n",
       "      <td>63.0000</td>\n",
       "      <td>-5.830</td>\n",
       "      <td>4</td>\n",
       "      <td>blue</td>\n",
       "    </tr>\n",
       "    <tr>\n",
       "      <th>176</th>\n",
       "      <td>0.00060</td>\n",
       "      <td>0.1400</td>\n",
       "      <td>11.782</td>\n",
       "      <td>1</td>\n",
       "      <td>red</td>\n",
       "    </tr>\n",
       "    <tr>\n",
       "      <th>177</th>\n",
       "      <td>0.08500</td>\n",
       "      <td>0.7950</td>\n",
       "      <td>6.228</td>\n",
       "      <td>3</td>\n",
       "      <td>yellow-white</td>\n",
       "    </tr>\n",
       "    <tr>\n",
       "      <th>178</th>\n",
       "      <td>248490.00000</td>\n",
       "      <td>1134.5000</td>\n",
       "      <td>-8.240</td>\n",
       "      <td>5</td>\n",
       "      <td>blue-white</td>\n",
       "    </tr>\n",
       "    <tr>\n",
       "      <th>179</th>\n",
       "      <td>127000.00000</td>\n",
       "      <td>36.0000</td>\n",
       "      <td>-5.760</td>\n",
       "      <td>4</td>\n",
       "      <td>blue</td>\n",
       "    </tr>\n",
       "  </tbody>\n",
       "</table>\n",
       "<p>180 rows × 5 columns</p>\n",
       "</div>"
      ],
      "text/plain": [
       "     Luminosity(L/Lo)  Radius(R/Ro)  Absolute magnitude(Mv)  Star type  \\\n",
       "0           672.00000        6.9800                  -2.300          3   \n",
       "1             0.00087        0.0932                  16.880          0   \n",
       "2             0.00043        0.0912                  17.160          0   \n",
       "3             0.00098        0.0911                  16.450          0   \n",
       "4        813000.00000       14.0000                  -6.230          4   \n",
       "..                ...           ...                     ...        ...   \n",
       "175      363000.00000       63.0000                  -5.830          4   \n",
       "176           0.00060        0.1400                  11.782          1   \n",
       "177           0.08500        0.7950                   6.228          3   \n",
       "178      248490.00000     1134.5000                  -8.240          5   \n",
       "179      127000.00000       36.0000                  -5.760          4   \n",
       "\n",
       "       Star color  \n",
       "0      blue-white  \n",
       "1             red  \n",
       "2             red  \n",
       "3             red  \n",
       "4            blue  \n",
       "..            ...  \n",
       "175          blue  \n",
       "176           red  \n",
       "177  yellow-white  \n",
       "178    blue-white  \n",
       "179          blue  \n",
       "\n",
       "[180 rows x 5 columns]"
      ]
     },
     "execution_count": 11,
     "metadata": {},
     "output_type": "execute_result"
    }
   ],
   "source": [
    "X_train"
   ]
  },
  {
   "cell_type": "code",
   "execution_count": 12,
   "id": "0a63b0af",
   "metadata": {},
   "outputs": [
    {
     "data": {
      "text/html": [
       "<div>\n",
       "<style scoped>\n",
       "    .dataframe tbody tr th:only-of-type {\n",
       "        vertical-align: middle;\n",
       "    }\n",
       "\n",
       "    .dataframe tbody tr th {\n",
       "        vertical-align: top;\n",
       "    }\n",
       "\n",
       "    .dataframe thead th {\n",
       "        text-align: right;\n",
       "    }\n",
       "</style>\n",
       "<table border=\"1\" class=\"dataframe\">\n",
       "  <thead>\n",
       "    <tr style=\"text-align: right;\">\n",
       "      <th></th>\n",
       "      <th>Luminosity(L/Lo)</th>\n",
       "      <th>Radius(R/Ro)</th>\n",
       "      <th>Absolute magnitude(Mv)</th>\n",
       "      <th>Star type</th>\n",
       "      <th>Star color</th>\n",
       "    </tr>\n",
       "  </thead>\n",
       "  <tbody>\n",
       "    <tr>\n",
       "      <th>0</th>\n",
       "      <td>678.720000</td>\n",
       "      <td>7.049800</td>\n",
       "      <td>-2.32300</td>\n",
       "      <td>3</td>\n",
       "      <td>blue-white</td>\n",
       "    </tr>\n",
       "    <tr>\n",
       "      <th>1</th>\n",
       "      <td>0.000879</td>\n",
       "      <td>0.094132</td>\n",
       "      <td>17.04880</td>\n",
       "      <td>0</td>\n",
       "      <td>red</td>\n",
       "    </tr>\n",
       "    <tr>\n",
       "      <th>2</th>\n",
       "      <td>0.000434</td>\n",
       "      <td>0.092112</td>\n",
       "      <td>17.33160</td>\n",
       "      <td>0</td>\n",
       "      <td>red</td>\n",
       "    </tr>\n",
       "    <tr>\n",
       "      <th>3</th>\n",
       "      <td>0.000990</td>\n",
       "      <td>0.092011</td>\n",
       "      <td>16.61450</td>\n",
       "      <td>0</td>\n",
       "      <td>red</td>\n",
       "    </tr>\n",
       "    <tr>\n",
       "      <th>4</th>\n",
       "      <td>821130.000000</td>\n",
       "      <td>14.140000</td>\n",
       "      <td>-6.29230</td>\n",
       "      <td>4</td>\n",
       "      <td>blue</td>\n",
       "    </tr>\n",
       "    <tr>\n",
       "      <th>...</th>\n",
       "      <td>...</td>\n",
       "      <td>...</td>\n",
       "      <td>...</td>\n",
       "      <td>...</td>\n",
       "      <td>...</td>\n",
       "    </tr>\n",
       "    <tr>\n",
       "      <th>175</th>\n",
       "      <td>366630.000000</td>\n",
       "      <td>63.630000</td>\n",
       "      <td>-5.88830</td>\n",
       "      <td>4</td>\n",
       "      <td>blue</td>\n",
       "    </tr>\n",
       "    <tr>\n",
       "      <th>176</th>\n",
       "      <td>0.000606</td>\n",
       "      <td>0.141400</td>\n",
       "      <td>11.89982</td>\n",
       "      <td>1</td>\n",
       "      <td>red</td>\n",
       "    </tr>\n",
       "    <tr>\n",
       "      <th>177</th>\n",
       "      <td>0.085850</td>\n",
       "      <td>0.802950</td>\n",
       "      <td>6.29028</td>\n",
       "      <td>3</td>\n",
       "      <td>yellow-white</td>\n",
       "    </tr>\n",
       "    <tr>\n",
       "      <th>178</th>\n",
       "      <td>250974.900000</td>\n",
       "      <td>1145.845000</td>\n",
       "      <td>-8.32240</td>\n",
       "      <td>5</td>\n",
       "      <td>blue-white</td>\n",
       "    </tr>\n",
       "    <tr>\n",
       "      <th>179</th>\n",
       "      <td>128270.000000</td>\n",
       "      <td>36.360000</td>\n",
       "      <td>-5.81760</td>\n",
       "      <td>4</td>\n",
       "      <td>blue</td>\n",
       "    </tr>\n",
       "  </tbody>\n",
       "</table>\n",
       "<p>180 rows × 5 columns</p>\n",
       "</div>"
      ],
      "text/plain": [
       "     Luminosity(L/Lo)  Radius(R/Ro)  Absolute magnitude(Mv)  Star type  \\\n",
       "0          678.720000      7.049800                -2.32300          3   \n",
       "1            0.000879      0.094132                17.04880          0   \n",
       "2            0.000434      0.092112                17.33160          0   \n",
       "3            0.000990      0.092011                16.61450          0   \n",
       "4       821130.000000     14.140000                -6.29230          4   \n",
       "..                ...           ...                     ...        ...   \n",
       "175     366630.000000     63.630000                -5.88830          4   \n",
       "176          0.000606      0.141400                11.89982          1   \n",
       "177          0.085850      0.802950                 6.29028          3   \n",
       "178     250974.900000   1145.845000                -8.32240          5   \n",
       "179     128270.000000     36.360000                -5.81760          4   \n",
       "\n",
       "       Star color  \n",
       "0      blue-white  \n",
       "1             red  \n",
       "2             red  \n",
       "3             red  \n",
       "4            blue  \n",
       "..            ...  \n",
       "175          blue  \n",
       "176           red  \n",
       "177  yellow-white  \n",
       "178    blue-white  \n",
       "179          blue  \n",
       "\n",
       "[180 rows x 5 columns]"
      ]
     },
     "metadata": {},
     "output_type": "display_data"
    },
    {
     "data": {
      "text/html": [
       "<div>\n",
       "<style scoped>\n",
       "    .dataframe tbody tr th:only-of-type {\n",
       "        vertical-align: middle;\n",
       "    }\n",
       "\n",
       "    .dataframe tbody tr th {\n",
       "        vertical-align: top;\n",
       "    }\n",
       "\n",
       "    .dataframe thead th {\n",
       "        text-align: right;\n",
       "    }\n",
       "</style>\n",
       "<table border=\"1\" class=\"dataframe\">\n",
       "  <thead>\n",
       "    <tr style=\"text-align: right;\">\n",
       "      <th></th>\n",
       "      <th>Luminosity(L/Lo)</th>\n",
       "      <th>Radius(R/Ro)</th>\n",
       "      <th>Absolute magnitude(Mv)</th>\n",
       "      <th>Star type</th>\n",
       "      <th>Star color</th>\n",
       "    </tr>\n",
       "  </thead>\n",
       "  <tbody>\n",
       "    <tr>\n",
       "      <th>0</th>\n",
       "      <td>665.346535</td>\n",
       "      <td>6.910891</td>\n",
       "      <td>-2.277228</td>\n",
       "      <td>3</td>\n",
       "      <td>blue-white</td>\n",
       "    </tr>\n",
       "    <tr>\n",
       "      <th>1</th>\n",
       "      <td>0.000861</td>\n",
       "      <td>0.092277</td>\n",
       "      <td>16.712871</td>\n",
       "      <td>0</td>\n",
       "      <td>red</td>\n",
       "    </tr>\n",
       "    <tr>\n",
       "      <th>2</th>\n",
       "      <td>0.000426</td>\n",
       "      <td>0.090297</td>\n",
       "      <td>16.990099</td>\n",
       "      <td>0</td>\n",
       "      <td>red</td>\n",
       "    </tr>\n",
       "    <tr>\n",
       "      <th>3</th>\n",
       "      <td>0.000970</td>\n",
       "      <td>0.090198</td>\n",
       "      <td>16.287129</td>\n",
       "      <td>0</td>\n",
       "      <td>red</td>\n",
       "    </tr>\n",
       "    <tr>\n",
       "      <th>4</th>\n",
       "      <td>804950.495050</td>\n",
       "      <td>13.861386</td>\n",
       "      <td>-6.168317</td>\n",
       "      <td>4</td>\n",
       "      <td>blue</td>\n",
       "    </tr>\n",
       "    <tr>\n",
       "      <th>...</th>\n",
       "      <td>...</td>\n",
       "      <td>...</td>\n",
       "      <td>...</td>\n",
       "      <td>...</td>\n",
       "      <td>...</td>\n",
       "    </tr>\n",
       "    <tr>\n",
       "      <th>175</th>\n",
       "      <td>359405.940594</td>\n",
       "      <td>62.376238</td>\n",
       "      <td>-5.772277</td>\n",
       "      <td>4</td>\n",
       "      <td>blue</td>\n",
       "    </tr>\n",
       "    <tr>\n",
       "      <th>176</th>\n",
       "      <td>0.000594</td>\n",
       "      <td>0.138614</td>\n",
       "      <td>11.665347</td>\n",
       "      <td>1</td>\n",
       "      <td>red</td>\n",
       "    </tr>\n",
       "    <tr>\n",
       "      <th>177</th>\n",
       "      <td>0.084158</td>\n",
       "      <td>0.787129</td>\n",
       "      <td>6.166337</td>\n",
       "      <td>3</td>\n",
       "      <td>yellow-white</td>\n",
       "    </tr>\n",
       "    <tr>\n",
       "      <th>178</th>\n",
       "      <td>246029.702970</td>\n",
       "      <td>1123.267327</td>\n",
       "      <td>-8.158416</td>\n",
       "      <td>5</td>\n",
       "      <td>blue-white</td>\n",
       "    </tr>\n",
       "    <tr>\n",
       "      <th>179</th>\n",
       "      <td>125742.574257</td>\n",
       "      <td>35.643564</td>\n",
       "      <td>-5.702970</td>\n",
       "      <td>4</td>\n",
       "      <td>blue</td>\n",
       "    </tr>\n",
       "  </tbody>\n",
       "</table>\n",
       "<p>180 rows × 5 columns</p>\n",
       "</div>"
      ],
      "text/plain": [
       "     Luminosity(L/Lo)  Radius(R/Ro)  Absolute magnitude(Mv)  Star type  \\\n",
       "0          665.346535      6.910891               -2.277228          3   \n",
       "1            0.000861      0.092277               16.712871          0   \n",
       "2            0.000426      0.090297               16.990099          0   \n",
       "3            0.000970      0.090198               16.287129          0   \n",
       "4       804950.495050     13.861386               -6.168317          4   \n",
       "..                ...           ...                     ...        ...   \n",
       "175     359405.940594     62.376238               -5.772277          4   \n",
       "176          0.000594      0.138614               11.665347          1   \n",
       "177          0.084158      0.787129                6.166337          3   \n",
       "178     246029.702970   1123.267327               -8.158416          5   \n",
       "179     125742.574257     35.643564               -5.702970          4   \n",
       "\n",
       "       Star color  \n",
       "0      blue-white  \n",
       "1             red  \n",
       "2             red  \n",
       "3             red  \n",
       "4            blue  \n",
       "..            ...  \n",
       "175          blue  \n",
       "176           red  \n",
       "177  yellow-white  \n",
       "178    blue-white  \n",
       "179          blue  \n",
       "\n",
       "[180 rows x 5 columns]"
      ]
     },
     "metadata": {},
     "output_type": "display_data"
    }
   ],
   "source": [
    "X_train_2 = pd.DataFrame()\n",
    "X_train_2['Luminosity(L/Lo)'] = X_train['Luminosity(L/Lo)'] * 1.01\n",
    "X_train_2['Radius(R/Ro)'] = X_train['Radius(R/Ro)'] * 1.01\n",
    "X_train_2['Absolute magnitude(Mv)'] = X_train['Absolute magnitude(Mv)'] * 1.01\n",
    "X_train_2['Star type'] = X_train['Star type']\n",
    "X_train_2['Star color'] = X_train['Star color']\n",
    "\n",
    "X_train_3 = pd.DataFrame()\n",
    "X_train_3['Luminosity(L/Lo)'] = X_train['Luminosity(L/Lo)'] / 1.01\n",
    "X_train_3['Radius(R/Ro)'] = X_train['Radius(R/Ro)'] / 1.01\n",
    "X_train_3['Absolute magnitude(Mv)'] = X_train['Absolute magnitude(Mv)'] / 1.01\n",
    "X_train_3['Star type'] = X_train['Star type']\n",
    "X_train_3['Star color'] = X_train['Star color']\n",
    "\n",
    "display(X_train_2)\n",
    "display(X_train_3)"
   ]
  },
  {
   "cell_type": "code",
   "execution_count": 13,
   "id": "907021eb",
   "metadata": {},
   "outputs": [
    {
     "data": {
      "text/html": [
       "<div>\n",
       "<style scoped>\n",
       "    .dataframe tbody tr th:only-of-type {\n",
       "        vertical-align: middle;\n",
       "    }\n",
       "\n",
       "    .dataframe tbody tr th {\n",
       "        vertical-align: top;\n",
       "    }\n",
       "\n",
       "    .dataframe thead th {\n",
       "        text-align: right;\n",
       "    }\n",
       "</style>\n",
       "<table border=\"1\" class=\"dataframe\">\n",
       "  <thead>\n",
       "    <tr style=\"text-align: right;\">\n",
       "      <th></th>\n",
       "      <th>Luminosity(L/Lo)</th>\n",
       "      <th>Radius(R/Ro)</th>\n",
       "      <th>Absolute magnitude(Mv)</th>\n",
       "      <th>Star type</th>\n",
       "      <th>Star color</th>\n",
       "    </tr>\n",
       "  </thead>\n",
       "  <tbody>\n",
       "    <tr>\n",
       "      <th>0</th>\n",
       "      <td>672.000000</td>\n",
       "      <td>6.980000</td>\n",
       "      <td>-2.300000</td>\n",
       "      <td>3</td>\n",
       "      <td>blue-white</td>\n",
       "    </tr>\n",
       "    <tr>\n",
       "      <th>1</th>\n",
       "      <td>0.000870</td>\n",
       "      <td>0.093200</td>\n",
       "      <td>16.880000</td>\n",
       "      <td>0</td>\n",
       "      <td>red</td>\n",
       "    </tr>\n",
       "    <tr>\n",
       "      <th>2</th>\n",
       "      <td>0.000430</td>\n",
       "      <td>0.091200</td>\n",
       "      <td>17.160000</td>\n",
       "      <td>0</td>\n",
       "      <td>red</td>\n",
       "    </tr>\n",
       "    <tr>\n",
       "      <th>3</th>\n",
       "      <td>0.000980</td>\n",
       "      <td>0.091100</td>\n",
       "      <td>16.450000</td>\n",
       "      <td>0</td>\n",
       "      <td>red</td>\n",
       "    </tr>\n",
       "    <tr>\n",
       "      <th>4</th>\n",
       "      <td>813000.000000</td>\n",
       "      <td>14.000000</td>\n",
       "      <td>-6.230000</td>\n",
       "      <td>4</td>\n",
       "      <td>blue</td>\n",
       "    </tr>\n",
       "    <tr>\n",
       "      <th>...</th>\n",
       "      <td>...</td>\n",
       "      <td>...</td>\n",
       "      <td>...</td>\n",
       "      <td>...</td>\n",
       "      <td>...</td>\n",
       "    </tr>\n",
       "    <tr>\n",
       "      <th>535</th>\n",
       "      <td>359405.940594</td>\n",
       "      <td>62.376238</td>\n",
       "      <td>-5.772277</td>\n",
       "      <td>4</td>\n",
       "      <td>blue</td>\n",
       "    </tr>\n",
       "    <tr>\n",
       "      <th>536</th>\n",
       "      <td>0.000594</td>\n",
       "      <td>0.138614</td>\n",
       "      <td>11.665347</td>\n",
       "      <td>1</td>\n",
       "      <td>red</td>\n",
       "    </tr>\n",
       "    <tr>\n",
       "      <th>537</th>\n",
       "      <td>0.084158</td>\n",
       "      <td>0.787129</td>\n",
       "      <td>6.166337</td>\n",
       "      <td>3</td>\n",
       "      <td>yellow-white</td>\n",
       "    </tr>\n",
       "    <tr>\n",
       "      <th>538</th>\n",
       "      <td>246029.702970</td>\n",
       "      <td>1123.267327</td>\n",
       "      <td>-8.158416</td>\n",
       "      <td>5</td>\n",
       "      <td>blue-white</td>\n",
       "    </tr>\n",
       "    <tr>\n",
       "      <th>539</th>\n",
       "      <td>125742.574257</td>\n",
       "      <td>35.643564</td>\n",
       "      <td>-5.702970</td>\n",
       "      <td>4</td>\n",
       "      <td>blue</td>\n",
       "    </tr>\n",
       "  </tbody>\n",
       "</table>\n",
       "<p>540 rows × 5 columns</p>\n",
       "</div>"
      ],
      "text/plain": [
       "     Luminosity(L/Lo)  Radius(R/Ro)  Absolute magnitude(Mv)  Star type  \\\n",
       "0          672.000000      6.980000               -2.300000          3   \n",
       "1            0.000870      0.093200               16.880000          0   \n",
       "2            0.000430      0.091200               17.160000          0   \n",
       "3            0.000980      0.091100               16.450000          0   \n",
       "4       813000.000000     14.000000               -6.230000          4   \n",
       "..                ...           ...                     ...        ...   \n",
       "535     359405.940594     62.376238               -5.772277          4   \n",
       "536          0.000594      0.138614               11.665347          1   \n",
       "537          0.084158      0.787129                6.166337          3   \n",
       "538     246029.702970   1123.267327               -8.158416          5   \n",
       "539     125742.574257     35.643564               -5.702970          4   \n",
       "\n",
       "       Star color  \n",
       "0      blue-white  \n",
       "1             red  \n",
       "2             red  \n",
       "3             red  \n",
       "4            blue  \n",
       "..            ...  \n",
       "535          blue  \n",
       "536           red  \n",
       "537  yellow-white  \n",
       "538    blue-white  \n",
       "539          blue  \n",
       "\n",
       "[540 rows x 5 columns]"
      ]
     },
     "execution_count": 13,
     "metadata": {},
     "output_type": "execute_result"
    }
   ],
   "source": [
    "frames = [X_train, X_train_2, X_train_3]\n",
    "X_train = pd.concat(frames).reset_index(drop=True)\n",
    "X_train"
   ]
  },
  {
   "cell_type": "markdown",
   "id": "3e896c58",
   "metadata": {},
   "source": [
    "Также увеличим правильные ответы для модели."
   ]
  },
  {
   "cell_type": "code",
   "execution_count": 14,
   "id": "fafe0bb6",
   "metadata": {},
   "outputs": [
    {
     "data": {
      "text/plain": [
       "0      11250\n",
       "1       2935\n",
       "2       3323\n",
       "3       2817\n",
       "4      40000\n",
       "       ...  \n",
       "535    24630\n",
       "536     2650\n",
       "537     4077\n",
       "538    24490\n",
       "539    23000\n",
       "Name: Temperature (K), Length: 540, dtype: int64"
      ]
     },
     "execution_count": 14,
     "metadata": {},
     "output_type": "execute_result"
    }
   ],
   "source": [
    "y_train = pd.concat([y_train, y_train, y_train]).reset_index(drop=True)\n",
    "y_train"
   ]
  },
  {
   "cell_type": "markdown",
   "id": "53fd7766",
   "metadata": {},
   "source": [
    "С помощью `ColumnTransformer()` проведем преобразование категориальных признаков и масштабирование признаков для популяции для обучения и для тестовой выборки."
   ]
  },
  {
   "cell_type": "code",
   "execution_count": 15,
   "id": "26bb14a7",
   "metadata": {},
   "outputs": [],
   "source": [
    "col_transformer = ColumnTransformer(\n",
    "                            transformers=[\n",
    "                                ('scaler', StandardScaler(), num),\n",
    "                                ('ohe', OneHotEncoder(sparse=False, handle_unknown='ignore'), cat)],\n",
    "                                    remainder=\"passthrough\"\n",
    "                                      )\n",
    "\n",
    "X_train = col_transformer.fit_transform(X_train)\n",
    "X_test = col_transformer.transform(X_test)"
   ]
  },
  {
   "cell_type": "markdown",
   "id": "b8a5528f",
   "metadata": {},
   "source": [
    "Теперь можно преобразовать данные в формат PyTorch Tensors."
   ]
  },
  {
   "cell_type": "code",
   "execution_count": 16,
   "id": "d58221f2",
   "metadata": {},
   "outputs": [],
   "source": [
    "X_train = torch.tensor(X_train, dtype=torch.float32)\n",
    "X_test = torch.tensor(X_test, dtype=torch.float32)\n",
    "y_train = torch.tensor(y_train, dtype=torch.float32)\n",
    "y_test = torch.tensor(y_test, dtype=torch.float32)"
   ]
  },
  {
   "cell_type": "markdown",
   "id": "20d2b9a2",
   "metadata": {},
   "source": [
    "Поскольку в следующих шагах мы намерены проводить подбор параметров нейронной сети, таких как `dropout` и `размер батча`, создадим для этого отдельные функции. Начнем с функции, в которой определим архитектуру нейронной сети.\n",
    "\n",
    "Так как по условиям задачи количество слоев и нейронов в них для сравнения результатов не должен меняться, пропишем их явно."
   ]
  },
  {
   "cell_type": "code",
   "execution_count": 17,
   "id": "3e8025c9",
   "metadata": {},
   "outputs": [],
   "source": [
    "def dropout_p(value):\n",
    "    \n",
    "    n_in = X_train.shape[1]\n",
    "    n_hid_1 = 30\n",
    "    n_hid_2 = 20\n",
    "    n_hid_3 = 15\n",
    "    n_hid_4 = 5\n",
    "    n_out = 1\n",
    "    \n",
    "    net = nn.Sequential(\n",
    "        nn.Linear(n_in, n_hid_1), nn.ReLU(),\n",
    "        nn.Linear(n_hid_1, n_hid_2), nn.ReLU(), nn.Dropout(p=value),\n",
    "        nn.Linear(n_hid_2, n_hid_3), nn.ReLU(), nn.Dropout(p=value),\n",
    "        nn.Linear(n_hid_3, n_hid_4), nn.ReLU(), nn.Dropout(p=value),\n",
    "        nn.Linear(n_hid_4, n_out)\n",
    "    )\n",
    "    \n",
    "    return net"
   ]
  },
  {
   "cell_type": "markdown",
   "id": "e154b27b",
   "metadata": {},
   "source": [
    "Далее определим функцию инициализации весов. С ней мы эксперементировать также не будем, но применим ко всем слоям."
   ]
  },
  {
   "cell_type": "code",
   "execution_count": 18,
   "id": "ac93d7cb",
   "metadata": {},
   "outputs": [],
   "source": [
    "def init_weights(layer):\n",
    "    if type(layer) == nn.Linear:\n",
    "        nn.init.kaiming_uniform_(layer.weight, mode='fan_in', nonlinearity='relu') # Веса\n",
    "        nn.init.uniform_(layer.bias) # Смещение"
   ]
  },
  {
   "cell_type": "markdown",
   "id": "ad9c9c64",
   "metadata": {},
   "source": [
    "Теперь мы можем прописать функцию обучения нашей модели так, чтобы можно было запускать ее в цикле перебора параметров. В рамках данного проекта это будут `dropout` и `размер батча`, которые будут попадать в функцию через параметры. Внутри этой функции мы также определим функцию потерь `MSELoss()` и оптимизатор `Adam`.\n",
    "\n",
    "На выходе у функции будут тестовые предсказания, фактические ответы, а также `RMSE` - метрика каества, данная по заданию. Метрику мы будем использовать далее для определения лучших `dropout` и `размер батча`, а вот тестовые предсказания и фактические ответы пригодятся нам для построения графика лучшего результата."
   ]
  },
  {
   "cell_type": "code",
   "execution_count": 19,
   "id": "4407ae97",
   "metadata": {},
   "outputs": [],
   "source": [
    "def model_ch(p, batch_size):\n",
    "\n",
    "    loss = nn.MSELoss() # Определение функции потерь\n",
    "    \n",
    "    net = dropout_p(p)\n",
    "    net.apply(init_weights)\n",
    "    \n",
    "    optimizer = optim.Adam(net.parameters(), lr=0.005) # Определение оптимизатора\n",
    "    \n",
    "    accumulation_iteration = 5\n",
    "    num_batches = ceil(len(X_train)/batch_size)    \n",
    "    \n",
    "    num_epochs = 3000\n",
    "    best_test_rmse = 100000\n",
    "\n",
    "    for epoch in range(num_epochs):\n",
    "        \n",
    "        order = np.random.permutation(len(X_train))\n",
    "        optimizer.zero_grad()\n",
    "        \n",
    "        for batch_i in range(num_batches):\n",
    "            \n",
    "            start_index = batch_i * batch_size\n",
    "            batch_indexes = order[start_index:start_index+batch_size]\n",
    "            X_batch = X_train[batch_indexes]\n",
    "            y_batch = y_train[batch_indexes]\n",
    "\n",
    "            preds = net.forward(X_train).flatten()\n",
    "            loss_value = loss(preds, y_train)\n",
    "            loss_value.backward()\n",
    "            \n",
    "            if ((batch_i + 1) % accumulation_iteration == 0) or (batch_i + 1 == num_batches):\n",
    "                optimizer.step()\n",
    "                optimizer.zero_grad()\n",
    "\n",
    "        if epoch % 50 == 0 or epoch == num_epochs - 1:\n",
    "            net.eval()\n",
    "            test_preds = net.forward(X_test).flatten()\n",
    "            test_rmse = sqrt(loss(test_preds, y_test))\n",
    "\n",
    "            if test_rmse < best_test_rmse:\n",
    "                best_test_rmse = test_rmse\n",
    "            else:\n",
    "                break\n",
    "\n",
    "    print()\n",
    "    print('Batch size:', batch_size)\n",
    "    print('Dropout:', p)\n",
    "    rmse = sqrt(loss(preds, y_train))\n",
    "    print('RMSE train:', rmse)\n",
    "    test_rmse = sqrt(loss(test_preds, y_test))\n",
    "    print('RMSE test:', round(test_rmse, 2))\n",
    "    \n",
    "    return test_preds, y_test, round(test_rmse,2)"
   ]
  },
  {
   "cell_type": "markdown",
   "id": "519771e4",
   "metadata": {},
   "source": [
    "Для наглядности будем выводить результаты `Предсказания/факт` для первых 13 звезд по данным теста. Чтобы не прописывать каждый раз достаточно массивный код для графика, выделим ему отдельную функцию, которую вызовем для результатов до подбора, и лучших результатов после подбора."
   ]
  },
  {
   "cell_type": "code",
   "execution_count": 20,
   "id": "e2347f70",
   "metadata": {},
   "outputs": [],
   "source": [
    "def chart(preds, y):\n",
    "        \n",
    "    p = np.array(preds[0:13].detach().numpy())\n",
    "    y = np.array(y[0:13].detach().numpy())\n",
    "    indexes = np.arange(13)\n",
    "\n",
    "    sns.set(rc={\"figure.figsize\":(17, 6)})\n",
    "    sns.set_style(\"ticks\",{'axes.grid' : True})\n",
    "\n",
    "    barplot = sns.barplot(x=indexes, y=p, color='#fec000', alpha=0.7, label='Прогноз', zorder=2)\n",
    "    for bar, width in zip(barplot.patches, [0.4] * len(p)):\n",
    "        bar.set_width(width)\n",
    "\n",
    "    barplot = sns.barplot(x=indexes, y=y, color='#ade2f6', alpha=0.9, label='Факт', zorder=1)\n",
    "    for bar, width in zip(barplot.patches, [0.4] * len(y)):\n",
    "        bar.set_width(width)\n",
    "        x = bar.get_x()\n",
    "        bar.set_x(x+width/2)\n",
    "\n",
    "    barplot.set_xlabel(\"Номер звезды в таблице данных\", fontweight='bold')\n",
    "    barplot.set_ylabel(\"Температура звезды\", fontweight='bold')\n",
    "    barplot.set_title(\"Температура звезд\")\n",
    "\n",
    "    handles, labels = barplot.get_legend_handles_labels()\n",
    "\n",
    "    handles[0], handles[1] = handles[1], handles[0]\n",
    "    labels[0], labels[1] = labels[1], labels[0]\n",
    "\n",
    "    legend = barplot.legend(handles, labels, bbox_to_anchor=(0.5, -0.25), loc='upper center', ncol=2)\n",
    "\n",
    "    legend.get_frame().set_linewidth(0)"
   ]
  },
  {
   "cell_type": "markdown",
   "id": "a7c97d72",
   "metadata": {},
   "source": [
    "По итогу подготовки всех необходимых функций мы можем запустить нашу модель до перебора параметров `dropout` и `размер батча` и посмотреть, какие будут результаты."
   ]
  },
  {
   "cell_type": "code",
   "execution_count": 21,
   "id": "043fbb73",
   "metadata": {},
   "outputs": [
    {
     "name": "stdout",
     "output_type": "stream",
     "text": [
      "\n",
      "Batch size: 540\n",
      "Dropout: 0.0\n",
      "RMSE train: 3849.0428680387545\n",
      "RMSE test: 4469.99\n"
     ]
    },
    {
     "data": {
      "image/png": "[encoded data removed]",
      "text/plain": [
       "<Figure size 1224x432 with 1 Axes>"
      ]
     },
     "metadata": {},
     "output_type": "display_data"
    }
   ],
   "source": [
    "dropout_n = 0.0\n",
    "batch_size = X_train.shape[0]\n",
    "test_preds, y_test, rmse = model_ch(dropout_n, batch_size)\n",
    "chart(test_preds, y_test)"
   ]
  },
  {
   "cell_type": "markdown",
   "id": "4ec84d7c",
   "metadata": {},
   "source": [
    "Без применения батчей и dropout модель показывает достаточно хороший результат. График это также наглядно показывает. В целом, мы видим некоторый \"недобор\" прогноза, особенно у первой звезды графика, но если посмотреть на картину целмком - модель достаточно точно предсказывает температуру на поверхности звезд в Кельвинах.\n",
    "\n",
    "По задаче нам необходимо получить `RMSE` не более `4 500`, без дополнительных переборов нейросеть показывает `RMSE` в размере `4 469.99`. Посмотрим, как повлияет на модель подбор дополнительных параметров `dropout` и `размер батча`."
   ]
  },
  {
   "cell_type": "markdown",
   "id": "growing-supply",
   "metadata": {},
   "source": [
    "## 4. Улучшение нейронной сети"
   ]
  },
  {
   "cell_type": "markdown",
   "id": "19fd9120",
   "metadata": {},
   "source": [
    "Создадим решение с перебором параметров нейросети - `dropout` и `размер батча`. \n",
    "Архитектура нейронной сети: `количество слоёв`, `нейронов`, `вид функции активации` остается как в Baseline, чтобы сравнить результат.\n",
    "\n",
    "Для параметра `размер батча` выберем размерность в `20, 50, 80, 100 и 150`. Для `dropout` определим параметры `0.1-0.8` с шагом `0.1`. Используя наши функции выше определим наилучшее сочетание `dropout` - `размер батча` по метрике качества `RMSE`. Для наглядности соберем все возможные варианты и их `RMSE` в список, чтобы далее преобразовать его в таблицу и изучить подробнее."
   ]
  },
  {
   "cell_type": "code",
   "execution_count": 22,
   "id": "a5f430f6",
   "metadata": {},
   "outputs": [
    {
     "name": "stdout",
     "output_type": "stream",
     "text": [
      "\n",
      "Batch size: 20\n",
      "Dropout: 0.1\n",
      "RMSE train: 3651.8043485378566\n",
      "RMSE test: 5125.22\n",
      "\n",
      "Batch size: 20\n",
      "Dropout: 0.2\n",
      "RMSE train: 3134.7983986215127\n",
      "RMSE test: 5177.13\n",
      "\n",
      "Batch size: 20\n",
      "Dropout: 0.3\n",
      "RMSE train: 3627.875411311695\n",
      "RMSE test: 5238.46\n",
      "\n",
      "Batch size: 20\n",
      "Dropout: 0.4\n",
      "RMSE train: 3637.715354449823\n",
      "RMSE test: 4906.19\n",
      "\n",
      "Batch size: 20\n",
      "Dropout: 0.5\n",
      "RMSE train: 3434.7772853563592\n",
      "RMSE test: 5234.34\n",
      "\n",
      "Batch size: 20\n",
      "Dropout: 0.6\n",
      "RMSE train: 3406.5178702011826\n",
      "RMSE test: 5106.09\n",
      "\n",
      "Batch size: 20\n",
      "Dropout: 0.7\n",
      "RMSE train: 2899.143149277041\n",
      "RMSE test: 5556.27\n",
      "\n",
      "Batch size: 20\n",
      "Dropout: 0.8\n",
      "RMSE train: 3794.2565806755874\n",
      "RMSE test: 4708.39\n",
      "\n",
      "Batch size: 50\n",
      "Dropout: 0.1\n",
      "RMSE train: 3950.7238577253156\n",
      "RMSE test: 4772.31\n",
      "\n",
      "Batch size: 50\n",
      "Dropout: 0.2\n",
      "RMSE train: 3549.8961956654452\n",
      "RMSE test: 4496.49\n",
      "\n",
      "Batch size: 50\n",
      "Dropout: 0.3\n",
      "RMSE train: 3850.647478022365\n",
      "RMSE test: 4726.72\n",
      "\n",
      "Batch size: 50\n",
      "Dropout: 0.4\n",
      "RMSE train: 3562.7386937579354\n",
      "RMSE test: 4731.54\n",
      "\n",
      "Batch size: 50\n",
      "Dropout: 0.5\n",
      "RMSE train: 3931.7759346127546\n",
      "RMSE test: 4611.54\n",
      "\n",
      "Batch size: 50\n",
      "Dropout: 0.6\n",
      "RMSE train: 3622.850535144943\n",
      "RMSE test: 4547.47\n",
      "\n",
      "Batch size: 50\n",
      "Dropout: 0.7\n",
      "RMSE train: 3879.386033897632\n",
      "RMSE test: 4750.58\n",
      "\n",
      "Batch size: 50\n",
      "Dropout: 0.8\n",
      "RMSE train: 3844.620397386457\n",
      "RMSE test: 4759.8\n",
      "\n",
      "Batch size: 80\n",
      "Dropout: 0.1\n",
      "RMSE train: 3739.2544711479586\n",
      "RMSE test: 4566.88\n",
      "\n",
      "Batch size: 80\n",
      "Dropout: 0.2\n",
      "RMSE train: 3951.648643288014\n",
      "RMSE test: 4693.01\n",
      "\n",
      "Batch size: 80\n",
      "Dropout: 0.3\n",
      "RMSE train: 3937.5689200317497\n",
      "RMSE test: 4709.43\n",
      "\n",
      "Batch size: 80\n",
      "Dropout: 0.4\n",
      "RMSE train: 3904.392398312444\n",
      "RMSE test: 4707.96\n",
      "\n",
      "Batch size: 80\n",
      "Dropout: 0.5\n",
      "RMSE train: 3812.4006872310783\n",
      "RMSE test: 4578.15\n",
      "\n",
      "Batch size: 80\n",
      "Dropout: 0.6\n",
      "RMSE train: 3746.786756675645\n",
      "RMSE test: 4649.98\n",
      "\n",
      "Batch size: 80\n",
      "Dropout: 0.7\n",
      "RMSE train: 14006.908009978504\n",
      "RMSE test: 14606.16\n",
      "\n",
      "Batch size: 80\n",
      "Dropout: 0.8\n",
      "RMSE train: 3633.9993120527693\n",
      "RMSE test: 4677.0\n",
      "\n",
      "Batch size: 100\n",
      "Dropout: 0.1\n",
      "RMSE train: 3622.9427265691074\n",
      "RMSE test: 4670.29\n",
      "\n",
      "Batch size: 100\n",
      "Dropout: 0.2\n",
      "RMSE train: 3950.1132895146184\n",
      "RMSE test: 4769.55\n",
      "\n",
      "Batch size: 100\n",
      "Dropout: 0.3\n",
      "RMSE train: 3838.128971256698\n",
      "RMSE test: 4695.46\n",
      "\n",
      "Batch size: 100\n",
      "Dropout: 0.4\n",
      "RMSE train: 3750.2321261489933\n",
      "RMSE test: 4415.95\n",
      "\n",
      "Batch size: 100\n",
      "Dropout: 0.5\n",
      "RMSE train: 3913.564104496054\n",
      "RMSE test: 4670.57\n",
      "\n",
      "Batch size: 100\n",
      "Dropout: 0.6\n",
      "RMSE train: 3984.2192459753014\n",
      "RMSE test: 4744.01\n",
      "\n",
      "Batch size: 100\n",
      "Dropout: 0.7\n",
      "RMSE train: 3926.453743519717\n",
      "RMSE test: 4695.84\n",
      "\n",
      "Batch size: 100\n",
      "Dropout: 0.8\n",
      "RMSE train: 3705.2661172984594\n",
      "RMSE test: 4512.13\n",
      "\n",
      "Batch size: 150\n",
      "Dropout: 0.1\n",
      "RMSE train: 3992.4228232991554\n",
      "RMSE test: 4685.7\n",
      "\n",
      "Batch size: 150\n",
      "Dropout: 0.2\n",
      "RMSE train: 3971.4619474445426\n",
      "RMSE test: 4634.51\n",
      "\n",
      "Batch size: 150\n",
      "Dropout: 0.3\n",
      "RMSE train: 3954.2703498875744\n",
      "RMSE test: 4639.75\n",
      "\n",
      "Batch size: 150\n",
      "Dropout: 0.4\n",
      "RMSE train: 14015.944634593845\n",
      "RMSE test: 14615.21\n",
      "\n",
      "Batch size: 150\n",
      "Dropout: 0.5\n",
      "RMSE train: 3970.962100045781\n",
      "RMSE test: 4629.86\n",
      "\n",
      "Batch size: 150\n",
      "Dropout: 0.6\n",
      "RMSE train: 14015.755134847355\n",
      "RMSE test: 14615.02\n",
      "\n",
      "Batch size: 150\n",
      "Dropout: 0.7\n",
      "RMSE train: 3935.1043188205317\n",
      "RMSE test: 4725.64\n",
      "\n",
      "Batch size: 150\n",
      "Dropout: 0.8\n",
      "RMSE train: 3746.128534901065\n",
      "RMSE test: 4555.49\n"
     ]
    }
   ],
   "source": [
    "batch_size_list = [20, 50, 80, 100, 150]\n",
    "dropout_list = [0.1, 0.2, 0.3, 0.4, 0.5, 0.6, 0.7, 0.8]\n",
    "best_result = 10000\n",
    "\n",
    "total_table = []\n",
    "total_table.append([batch_size, dropout_n, rmse]) # Добавим обучение сети до подборов параметров\n",
    "\n",
    "for batch_size in batch_size_list:\n",
    "    for dropout_n in dropout_list:\n",
    "        test_preds, y_test, rmse = model_ch(dropout_n, batch_size)\n",
    "        total_table.append([batch_size, dropout_n, rmse]) # Помещаем очередной результат в общий список\n",
    "        if rmse < best_result:\n",
    "            best_result = rmse\n",
    "            best_result_p = dropout_n\n",
    "            best_result_b = batch_size\n",
    "            best_preds = test_preds\n",
    "            best_y = y_test"
   ]
  },
  {
   "cell_type": "markdown",
   "id": "4ad60cbf",
   "metadata": {},
   "source": [
    "Мы можем проследить за всеми результатами в детализации выше, но в этом нет необходимости, поскольку лучший результат определен, а все подборы собраны в отдельную таблицу. Для начала на график предсказания по параметрам с лушим `RMSE`."
   ]
  },
  {
   "cell_type": "code",
   "execution_count": 23,
   "id": "8e23dedd",
   "metadata": {},
   "outputs": [
    {
     "name": "stdout",
     "output_type": "stream",
     "text": [
      "Best RMSE: 4415.95\n",
      "With best batch_size: 100\n",
      "With best dropout: 0.4\n"
     ]
    },
    {
     "data": {
      "image/png": "[encoded data removed]",
      "text/plain": [
       "<Figure size 1224x432 with 1 Axes>"
      ]
     },
     "metadata": {},
     "output_type": "display_data"
    }
   ],
   "source": [
    "print('Best RMSE:', best_result)\n",
    "print('With best batch_size:', best_result_b)\n",
    "print('With best dropout:', best_result_p)\n",
    "\n",
    "chart(best_preds, best_y)"
   ]
  },
  {
   "cell_type": "markdown",
   "id": "8b2ec2ad",
   "metadata": {},
   "source": [
    "Мы можем наблюдать повышение точности по сравнению с baseline, который отражен на графике выше. Посмотрим детальнее на общие результаты подбора параметров, предварительно отсортировав по возрастанию `RMSE (test)`."
   ]
  },
  {
   "cell_type": "code",
   "execution_count": 24,
   "id": "4a28aeaa",
   "metadata": {},
   "outputs": [
    {
     "data": {
      "text/html": [
       "<div>\n",
       "<style scoped>\n",
       "    .dataframe tbody tr th:only-of-type {\n",
       "        vertical-align: middle;\n",
       "    }\n",
       "\n",
       "    .dataframe tbody tr th {\n",
       "        vertical-align: top;\n",
       "    }\n",
       "\n",
       "    .dataframe thead th {\n",
       "        text-align: right;\n",
       "    }\n",
       "</style>\n",
       "<table border=\"1\" class=\"dataframe\">\n",
       "  <thead>\n",
       "    <tr style=\"text-align: right;\">\n",
       "      <th></th>\n",
       "      <th>Batch size</th>\n",
       "      <th>Dropout</th>\n",
       "      <th>RMSE (test)</th>\n",
       "    </tr>\n",
       "  </thead>\n",
       "  <tbody>\n",
       "    <tr>\n",
       "      <th>28</th>\n",
       "      <td>100</td>\n",
       "      <td>0.4</td>\n",
       "      <td>4415.95</td>\n",
       "    </tr>\n",
       "    <tr>\n",
       "      <th>0</th>\n",
       "      <td>540</td>\n",
       "      <td>0.0</td>\n",
       "      <td>4469.99</td>\n",
       "    </tr>\n",
       "    <tr>\n",
       "      <th>10</th>\n",
       "      <td>50</td>\n",
       "      <td>0.2</td>\n",
       "      <td>4496.49</td>\n",
       "    </tr>\n",
       "    <tr>\n",
       "      <th>32</th>\n",
       "      <td>100</td>\n",
       "      <td>0.8</td>\n",
       "      <td>4512.13</td>\n",
       "    </tr>\n",
       "    <tr>\n",
       "      <th>14</th>\n",
       "      <td>50</td>\n",
       "      <td>0.6</td>\n",
       "      <td>4547.47</td>\n",
       "    </tr>\n",
       "    <tr>\n",
       "      <th>40</th>\n",
       "      <td>150</td>\n",
       "      <td>0.8</td>\n",
       "      <td>4555.49</td>\n",
       "    </tr>\n",
       "    <tr>\n",
       "      <th>17</th>\n",
       "      <td>80</td>\n",
       "      <td>0.1</td>\n",
       "      <td>4566.88</td>\n",
       "    </tr>\n",
       "    <tr>\n",
       "      <th>21</th>\n",
       "      <td>80</td>\n",
       "      <td>0.5</td>\n",
       "      <td>4578.15</td>\n",
       "    </tr>\n",
       "    <tr>\n",
       "      <th>13</th>\n",
       "      <td>50</td>\n",
       "      <td>0.5</td>\n",
       "      <td>4611.54</td>\n",
       "    </tr>\n",
       "    <tr>\n",
       "      <th>37</th>\n",
       "      <td>150</td>\n",
       "      <td>0.5</td>\n",
       "      <td>4629.86</td>\n",
       "    </tr>\n",
       "    <tr>\n",
       "      <th>34</th>\n",
       "      <td>150</td>\n",
       "      <td>0.2</td>\n",
       "      <td>4634.51</td>\n",
       "    </tr>\n",
       "    <tr>\n",
       "      <th>35</th>\n",
       "      <td>150</td>\n",
       "      <td>0.3</td>\n",
       "      <td>4639.75</td>\n",
       "    </tr>\n",
       "    <tr>\n",
       "      <th>22</th>\n",
       "      <td>80</td>\n",
       "      <td>0.6</td>\n",
       "      <td>4649.98</td>\n",
       "    </tr>\n",
       "    <tr>\n",
       "      <th>25</th>\n",
       "      <td>100</td>\n",
       "      <td>0.1</td>\n",
       "      <td>4670.29</td>\n",
       "    </tr>\n",
       "    <tr>\n",
       "      <th>29</th>\n",
       "      <td>100</td>\n",
       "      <td>0.5</td>\n",
       "      <td>4670.57</td>\n",
       "    </tr>\n",
       "    <tr>\n",
       "      <th>24</th>\n",
       "      <td>80</td>\n",
       "      <td>0.8</td>\n",
       "      <td>4677.00</td>\n",
       "    </tr>\n",
       "    <tr>\n",
       "      <th>33</th>\n",
       "      <td>150</td>\n",
       "      <td>0.1</td>\n",
       "      <td>4685.70</td>\n",
       "    </tr>\n",
       "    <tr>\n",
       "      <th>18</th>\n",
       "      <td>80</td>\n",
       "      <td>0.2</td>\n",
       "      <td>4693.01</td>\n",
       "    </tr>\n",
       "    <tr>\n",
       "      <th>27</th>\n",
       "      <td>100</td>\n",
       "      <td>0.3</td>\n",
       "      <td>4695.46</td>\n",
       "    </tr>\n",
       "    <tr>\n",
       "      <th>31</th>\n",
       "      <td>100</td>\n",
       "      <td>0.7</td>\n",
       "      <td>4695.84</td>\n",
       "    </tr>\n",
       "    <tr>\n",
       "      <th>20</th>\n",
       "      <td>80</td>\n",
       "      <td>0.4</td>\n",
       "      <td>4707.96</td>\n",
       "    </tr>\n",
       "    <tr>\n",
       "      <th>8</th>\n",
       "      <td>20</td>\n",
       "      <td>0.8</td>\n",
       "      <td>4708.39</td>\n",
       "    </tr>\n",
       "    <tr>\n",
       "      <th>19</th>\n",
       "      <td>80</td>\n",
       "      <td>0.3</td>\n",
       "      <td>4709.43</td>\n",
       "    </tr>\n",
       "    <tr>\n",
       "      <th>39</th>\n",
       "      <td>150</td>\n",
       "      <td>0.7</td>\n",
       "      <td>4725.64</td>\n",
       "    </tr>\n",
       "    <tr>\n",
       "      <th>11</th>\n",
       "      <td>50</td>\n",
       "      <td>0.3</td>\n",
       "      <td>4726.72</td>\n",
       "    </tr>\n",
       "    <tr>\n",
       "      <th>12</th>\n",
       "      <td>50</td>\n",
       "      <td>0.4</td>\n",
       "      <td>4731.54</td>\n",
       "    </tr>\n",
       "    <tr>\n",
       "      <th>30</th>\n",
       "      <td>100</td>\n",
       "      <td>0.6</td>\n",
       "      <td>4744.01</td>\n",
       "    </tr>\n",
       "    <tr>\n",
       "      <th>15</th>\n",
       "      <td>50</td>\n",
       "      <td>0.7</td>\n",
       "      <td>4750.58</td>\n",
       "    </tr>\n",
       "    <tr>\n",
       "      <th>16</th>\n",
       "      <td>50</td>\n",
       "      <td>0.8</td>\n",
       "      <td>4759.80</td>\n",
       "    </tr>\n",
       "    <tr>\n",
       "      <th>26</th>\n",
       "      <td>100</td>\n",
       "      <td>0.2</td>\n",
       "      <td>4769.55</td>\n",
       "    </tr>\n",
       "    <tr>\n",
       "      <th>9</th>\n",
       "      <td>50</td>\n",
       "      <td>0.1</td>\n",
       "      <td>4772.31</td>\n",
       "    </tr>\n",
       "    <tr>\n",
       "      <th>4</th>\n",
       "      <td>20</td>\n",
       "      <td>0.4</td>\n",
       "      <td>4906.19</td>\n",
       "    </tr>\n",
       "    <tr>\n",
       "      <th>6</th>\n",
       "      <td>20</td>\n",
       "      <td>0.6</td>\n",
       "      <td>5106.09</td>\n",
       "    </tr>\n",
       "    <tr>\n",
       "      <th>1</th>\n",
       "      <td>20</td>\n",
       "      <td>0.1</td>\n",
       "      <td>5125.22</td>\n",
       "    </tr>\n",
       "    <tr>\n",
       "      <th>2</th>\n",
       "      <td>20</td>\n",
       "      <td>0.2</td>\n",
       "      <td>5177.13</td>\n",
       "    </tr>\n",
       "    <tr>\n",
       "      <th>5</th>\n",
       "      <td>20</td>\n",
       "      <td>0.5</td>\n",
       "      <td>5234.34</td>\n",
       "    </tr>\n",
       "    <tr>\n",
       "      <th>3</th>\n",
       "      <td>20</td>\n",
       "      <td>0.3</td>\n",
       "      <td>5238.46</td>\n",
       "    </tr>\n",
       "    <tr>\n",
       "      <th>7</th>\n",
       "      <td>20</td>\n",
       "      <td>0.7</td>\n",
       "      <td>5556.27</td>\n",
       "    </tr>\n",
       "    <tr>\n",
       "      <th>23</th>\n",
       "      <td>80</td>\n",
       "      <td>0.7</td>\n",
       "      <td>14606.16</td>\n",
       "    </tr>\n",
       "    <tr>\n",
       "      <th>38</th>\n",
       "      <td>150</td>\n",
       "      <td>0.6</td>\n",
       "      <td>14615.02</td>\n",
       "    </tr>\n",
       "    <tr>\n",
       "      <th>36</th>\n",
       "      <td>150</td>\n",
       "      <td>0.4</td>\n",
       "      <td>14615.21</td>\n",
       "    </tr>\n",
       "  </tbody>\n",
       "</table>\n",
       "</div>"
      ],
      "text/plain": [
       "    Batch size  Dropout  RMSE (test)\n",
       "28         100      0.4      4415.95\n",
       "0          540      0.0      4469.99\n",
       "10          50      0.2      4496.49\n",
       "32         100      0.8      4512.13\n",
       "14          50      0.6      4547.47\n",
       "40         150      0.8      4555.49\n",
       "17          80      0.1      4566.88\n",
       "21          80      0.5      4578.15\n",
       "13          50      0.5      4611.54\n",
       "37         150      0.5      4629.86\n",
       "34         150      0.2      4634.51\n",
       "35         150      0.3      4639.75\n",
       "22          80      0.6      4649.98\n",
       "25         100      0.1      4670.29\n",
       "29         100      0.5      4670.57\n",
       "24          80      0.8      4677.00\n",
       "33         150      0.1      4685.70\n",
       "18          80      0.2      4693.01\n",
       "27         100      0.3      4695.46\n",
       "31         100      0.7      4695.84\n",
       "20          80      0.4      4707.96\n",
       "8           20      0.8      4708.39\n",
       "19          80      0.3      4709.43\n",
       "39         150      0.7      4725.64\n",
       "11          50      0.3      4726.72\n",
       "12          50      0.4      4731.54\n",
       "30         100      0.6      4744.01\n",
       "15          50      0.7      4750.58\n",
       "16          50      0.8      4759.80\n",
       "26         100      0.2      4769.55\n",
       "9           50      0.1      4772.31\n",
       "4           20      0.4      4906.19\n",
       "6           20      0.6      5106.09\n",
       "1           20      0.1      5125.22\n",
       "2           20      0.2      5177.13\n",
       "5           20      0.5      5234.34\n",
       "3           20      0.3      5238.46\n",
       "7           20      0.7      5556.27\n",
       "23          80      0.7     14606.16\n",
       "38         150      0.6     14615.02\n",
       "36         150      0.4     14615.21"
      ]
     },
     "execution_count": 24,
     "metadata": {},
     "output_type": "execute_result"
    }
   ],
   "source": [
    "df_fin = pd.DataFrame(total_table, columns=['Batch size', 'Dropout', 'RMSE (test)'])\n",
    "df_fin.sort_values(by='RMSE (test)')"
   ]
  },
  {
   "cell_type": "markdown",
   "id": "0b34b1e5",
   "metadata": {},
   "source": [
    "Таблица получилась достаточно длинной, что затрудняет анализ. Однако, уже сейчас бросается в глаза эффективность работы нейровнных сетей с батчами размером `20`. Они занимают все места в `Топ-5` по лучшим показателям `RMSE` и `70%` в `ТОП-10`. Для более удобного анализа всей картины выведем график."
   ]
  },
  {
   "cell_type": "code",
   "execution_count": 25,
   "id": "7eeb8d56",
   "metadata": {},
   "outputs": [
    {
     "data": {
      "image/png": "[encoded data removed]",
      "text/plain": [
       "<Figure size 1224x936 with 1 Axes>"
      ]
     },
     "metadata": {},
     "output_type": "display_data"
    }
   ],
   "source": [
    "df_fin['Batch size - Dropout'] = df_fin['Batch size'].astype(str) + ' - ' + df_fin['Dropout'].astype(str)\n",
    "\n",
    "plt.figure(figsize=(17, 13))\n",
    "plt.barh(df_fin['Batch size - Dropout'], df_fin['RMSE (test)'])\n",
    "plt.xlabel('RMSE (test)')\n",
    "plt.ylabel('Batch size - Dropout')\n",
    "plt.title('RMSE по параметрам подбора')\n",
    "plt.show()"
   ]
  },
  {
   "cell_type": "markdown",
   "id": "2efec00d",
   "metadata": {},
   "source": [
    "Здесь уже можно сделать выводы на основании графика целиком. Большинство сочетаний `размер батча` - `dropout` близки к указанному в задаче порогу - `RMSE` ниже `4 500`, но все еще не дотягивают. Наиболее низкие показатели расхождения имеют модели с `100 батчами - dropout 0.4` и `50 батчами - dropout 0.2`. При этом при `150 батчах` мы видим явные проблемы с предсказанием температуры звезд - сразу несколько сочетаний показали аномальные расхождения свыше `14 000`.\n",
    "\n",
    "Также в данной таблице присутствует информация по результатам обучения нейронной сети без использоания `dropout` и всего на `1 батче` - это первая строка. В целом, результаты удовлетворительные - `4 469.99`. Однако, на фоне использовании подбора сочетаний `размер батча` - `dropout` мы можем сделать вывод, что это принесло некоторую эффективность и показало лучший результат `RMSE` в размере - `4 415.95`. Такой показатель нам дали параметры: `размер батча - 100`, `dropout - 0.4`."
   ]
  },
  {
   "cell_type": "markdown",
   "id": "accurate-infrastructure",
   "metadata": {},
   "source": [
    "## Выводы"
   ]
  },
  {
   "cell_type": "markdown",
   "id": "062630c3",
   "metadata": {},
   "source": [
    "1. По результатам поставленной задачи мы провели анализ и предобработку предоставленной информации для дальнейшего обучения.\n",
    "2. Мы провели всю необходимую обработку данных, в т.ч. кодирование категориальных данных и масштабирование.\n",
    "3. Произвели настройку нейронной сети: определили функцию инициализации весов, функцию потерь, оптимизатор и т.д.\n",
    "4. Обучили baseline без применения `батчей` и `dropout` и наглядно продемонстрировали результаты на графике. Метрика качества `RMSE` на тесте составила `4 469.99`.\n",
    "5. Перебрали параметры `размер батча` и `dropout` и определили наиболее эффективные для обучения параметры `размер батча - 100`, `dropout - 0.4`, `RMSE` составила `4 415.95`, что несколько лучше, чем у baseline. Визуализировали и проанализировали предсказания и фактическую температуру звезд на тесте с помощью графика.\n",
    "6. Проанализировали поведение нейронной сети на фоне изменяющихся параметров `размер батча` и `dropout`."
   ]
  }
 ],
 "metadata": {
  "ExecuteTimeLog": [
   {
    "duration": 412,
    "start_time": "2023-09-14T06:58:25.379Z"
   },
   {
    "duration": 99,
    "start_time": "2023-09-14T06:58:25.841Z"
   },
   {
    "duration": 54,
    "start_time": "2023-09-14T06:59:08.992Z"
   },
   {
    "duration": 43,
    "start_time": "2023-09-14T06:59:12.251Z"
   },
   {
    "duration": 88,
    "start_time": "2023-09-14T06:59:33.193Z"
   },
   {
    "duration": 47,
    "start_time": "2023-09-14T06:59:36.297Z"
   },
   {
    "duration": 77,
    "start_time": "2023-09-14T07:00:43.527Z"
   },
   {
    "duration": 12,
    "start_time": "2023-09-14T07:01:45.211Z"
   },
   {
    "duration": 4,
    "start_time": "2023-09-14T07:06:56.956Z"
   },
   {
    "duration": 7,
    "start_time": "2023-09-14T07:07:47.480Z"
   },
   {
    "duration": 25,
    "start_time": "2023-09-14T07:07:52.342Z"
   },
   {
    "duration": 10,
    "start_time": "2023-09-14T07:07:58.317Z"
   },
   {
    "duration": 12,
    "start_time": "2023-09-14T07:10:24.922Z"
   },
   {
    "duration": 10,
    "start_time": "2023-09-14T07:10:33.334Z"
   },
   {
    "duration": 1347,
    "start_time": "2023-09-14T10:50:52.380Z"
   },
   {
    "duration": 103,
    "start_time": "2023-09-14T10:50:53.730Z"
   },
   {
    "duration": 20,
    "start_time": "2023-09-14T10:50:53.835Z"
   },
   {
    "duration": 15,
    "start_time": "2023-09-14T10:50:53.858Z"
   },
   {
    "duration": 6,
    "start_time": "2023-09-14T10:50:53.959Z"
   },
   {
    "duration": 13,
    "start_time": "2023-09-14T10:50:55.525Z"
   },
   {
    "duration": 14,
    "start_time": "2023-09-14T10:50:56.673Z"
   },
   {
    "duration": 196,
    "start_time": "2023-09-14T10:52:41.218Z"
   },
   {
    "duration": 107,
    "start_time": "2023-09-14T10:52:58.968Z"
   },
   {
    "duration": 345,
    "start_time": "2023-09-14T10:53:12.760Z"
   },
   {
    "duration": 337,
    "start_time": "2023-09-14T10:54:14.133Z"
   },
   {
    "duration": 335,
    "start_time": "2023-09-14T10:54:58.901Z"
   },
   {
    "duration": 10,
    "start_time": "2023-09-14T10:55:28.463Z"
   },
   {
    "duration": 8,
    "start_time": "2023-09-14T10:55:38.231Z"
   },
   {
    "duration": 8,
    "start_time": "2023-09-14T10:55:42.819Z"
   },
   {
    "duration": 11,
    "start_time": "2023-09-14T10:55:46.745Z"
   },
   {
    "duration": 7,
    "start_time": "2023-09-14T10:55:50.229Z"
   },
   {
    "duration": 8,
    "start_time": "2023-09-14T10:55:53.610Z"
   },
   {
    "duration": 7,
    "start_time": "2023-09-14T10:55:57.124Z"
   },
   {
    "duration": 7,
    "start_time": "2023-09-14T10:58:50.659Z"
   },
   {
    "duration": 517,
    "start_time": "2023-09-14T10:59:54.166Z"
   },
   {
    "duration": 4,
    "start_time": "2023-09-14T11:01:48.563Z"
   },
   {
    "duration": 337,
    "start_time": "2023-09-14T11:01:51.085Z"
   },
   {
    "duration": 4,
    "start_time": "2023-09-14T11:03:43.872Z"
   },
   {
    "duration": 1845,
    "start_time": "2023-09-16T08:12:16.104Z"
   },
   {
    "duration": 87,
    "start_time": "2023-09-16T08:12:17.951Z"
   },
   {
    "duration": 15,
    "start_time": "2023-09-16T08:12:18.044Z"
   },
   {
    "duration": 21,
    "start_time": "2023-09-16T08:12:22.818Z"
   },
   {
    "duration": 3,
    "start_time": "2023-09-16T08:12:24.252Z"
   },
   {
    "duration": 13,
    "start_time": "2023-09-16T08:12:24.934Z"
   },
   {
    "duration": 10,
    "start_time": "2023-09-16T08:12:27.296Z"
   },
   {
    "duration": 5,
    "start_time": "2023-09-16T08:12:28.096Z"
   },
   {
    "duration": 5,
    "start_time": "2023-09-16T08:12:28.764Z"
   },
   {
    "duration": 355,
    "start_time": "2023-09-16T08:12:31.356Z"
   },
   {
    "duration": 349,
    "start_time": "2023-09-16T08:12:32.533Z"
   },
   {
    "duration": 22,
    "start_time": "2023-09-16T08:12:35.584Z"
   },
   {
    "duration": 38,
    "start_time": "2023-09-16T08:12:41.861Z"
   },
   {
    "duration": 3,
    "start_time": "2023-09-16T08:13:41.442Z"
   },
   {
    "duration": 11,
    "start_time": "2023-09-16T08:13:42.630Z"
   },
   {
    "duration": 110,
    "start_time": "2023-09-16T08:13:44.067Z"
   },
   {
    "duration": 38,
    "start_time": "2023-09-16T08:14:09.185Z"
   },
   {
    "duration": 22,
    "start_time": "2023-09-16T08:14:09.532Z"
   },
   {
    "duration": 16,
    "start_time": "2023-09-16T08:14:10.075Z"
   },
   {
    "duration": 3,
    "start_time": "2023-09-16T08:14:10.481Z"
   },
   {
    "duration": 15,
    "start_time": "2023-09-16T08:14:10.712Z"
   },
   {
    "duration": 12,
    "start_time": "2023-09-16T08:14:11.462Z"
   },
   {
    "duration": 5,
    "start_time": "2023-09-16T08:14:11.750Z"
   },
   {
    "duration": 4,
    "start_time": "2023-09-16T08:14:12.080Z"
   },
   {
    "duration": 409,
    "start_time": "2023-09-16T08:14:12.558Z"
   },
   {
    "duration": 306,
    "start_time": "2023-09-16T08:14:13.034Z"
   },
   {
    "duration": 23,
    "start_time": "2023-09-16T08:14:13.857Z"
   },
   {
    "duration": 62,
    "start_time": "2023-09-16T08:14:14.267Z"
   },
   {
    "duration": 79,
    "start_time": "2023-09-16T08:24:21.766Z"
   },
   {
    "duration": 5,
    "start_time": "2023-09-16T08:24:31.716Z"
   },
   {
    "duration": 112,
    "start_time": "2023-09-16T08:24:37.114Z"
   },
   {
    "duration": 13,
    "start_time": "2023-09-16T08:25:07.686Z"
   },
   {
    "duration": 17,
    "start_time": "2023-09-16T08:25:51.055Z"
   },
   {
    "duration": 38,
    "start_time": "2023-09-16T08:27:00.390Z"
   },
   {
    "duration": 16,
    "start_time": "2023-09-16T08:27:00.891Z"
   },
   {
    "duration": 11,
    "start_time": "2023-09-16T08:27:03.062Z"
   },
   {
    "duration": 3,
    "start_time": "2023-09-16T08:27:05.399Z"
   },
   {
    "duration": 3,
    "start_time": "2023-09-16T08:27:07.861Z"
   },
   {
    "duration": 4,
    "start_time": "2023-09-16T08:27:28.254Z"
   },
   {
    "duration": 10,
    "start_time": "2023-09-16T08:27:29.630Z"
   },
   {
    "duration": 4,
    "start_time": "2023-09-16T08:27:36.127Z"
   },
   {
    "duration": 4,
    "start_time": "2023-09-16T08:27:40.527Z"
   },
   {
    "duration": 5,
    "start_time": "2023-09-16T08:27:46.952Z"
   },
   {
    "duration": 44,
    "start_time": "2023-09-16T08:28:13.647Z"
   },
   {
    "duration": 15,
    "start_time": "2023-09-16T08:28:13.852Z"
   },
   {
    "duration": 10,
    "start_time": "2023-09-16T08:28:14.247Z"
   },
   {
    "duration": 4,
    "start_time": "2023-09-16T08:28:16.386Z"
   },
   {
    "duration": 4,
    "start_time": "2023-09-16T08:28:16.766Z"
   },
   {
    "duration": 4,
    "start_time": "2023-09-16T08:28:17.369Z"
   },
   {
    "duration": 4,
    "start_time": "2023-09-16T08:28:18.924Z"
   },
   {
    "duration": 36,
    "start_time": "2023-09-16T08:29:21.090Z"
   },
   {
    "duration": 16,
    "start_time": "2023-09-16T08:29:21.285Z"
   },
   {
    "duration": 14,
    "start_time": "2023-09-16T08:29:21.625Z"
   },
   {
    "duration": 3,
    "start_time": "2023-09-16T08:29:24.166Z"
   },
   {
    "duration": 5,
    "start_time": "2023-09-16T08:29:24.606Z"
   },
   {
    "duration": 4,
    "start_time": "2023-09-16T08:29:25.158Z"
   },
   {
    "duration": 6,
    "start_time": "2023-09-16T08:29:26.721Z"
   },
   {
    "duration": 4,
    "start_time": "2023-09-16T08:29:51.667Z"
   },
   {
    "duration": 38,
    "start_time": "2023-09-16T08:29:51.861Z"
   },
   {
    "duration": 15,
    "start_time": "2023-09-16T08:29:52.020Z"
   },
   {
    "duration": 11,
    "start_time": "2023-09-16T08:29:52.365Z"
   },
   {
    "duration": 3,
    "start_time": "2023-09-16T08:29:54.708Z"
   },
   {
    "duration": 4,
    "start_time": "2023-09-16T08:29:55.190Z"
   },
   {
    "duration": 6,
    "start_time": "2023-09-16T08:29:56.936Z"
   },
   {
    "duration": 5,
    "start_time": "2023-09-16T08:29:58.371Z"
   },
   {
    "duration": 285,
    "start_time": "2023-09-16T08:30:23.786Z"
   },
   {
    "duration": 302,
    "start_time": "2023-09-16T08:30:33.279Z"
   },
   {
    "duration": 5,
    "start_time": "2023-09-16T08:32:38.794Z"
   },
   {
    "duration": 6,
    "start_time": "2023-09-16T08:32:39.350Z"
   },
   {
    "duration": 286,
    "start_time": "2023-09-16T08:32:40.102Z"
   },
   {
    "duration": 5,
    "start_time": "2023-09-16T08:33:33.909Z"
   },
   {
    "duration": 5,
    "start_time": "2023-09-16T08:33:34.379Z"
   },
   {
    "duration": 253,
    "start_time": "2023-09-16T08:33:35.181Z"
   },
   {
    "duration": 5,
    "start_time": "2023-09-16T08:34:07.434Z"
   },
   {
    "duration": 4,
    "start_time": "2023-09-16T08:34:07.822Z"
   },
   {
    "duration": 244,
    "start_time": "2023-09-16T08:34:08.490Z"
   },
   {
    "duration": 327,
    "start_time": "2023-09-16T08:34:16.831Z"
   },
   {
    "duration": 3,
    "start_time": "2023-09-16T08:34:55.839Z"
   },
   {
    "duration": 20,
    "start_time": "2023-09-16T08:34:56.532Z"
   },
   {
    "duration": 28,
    "start_time": "2023-09-16T08:35:01.246Z"
   },
   {
    "duration": 23,
    "start_time": "2023-09-16T08:35:29.322Z"
   },
   {
    "duration": 8,
    "start_time": "2023-09-16T08:36:55.792Z"
   },
   {
    "duration": 17,
    "start_time": "2023-09-16T08:37:06.817Z"
   },
   {
    "duration": 3,
    "start_time": "2023-09-16T08:37:19.050Z"
   },
   {
    "duration": 6,
    "start_time": "2023-09-16T08:38:28.340Z"
   },
   {
    "duration": 9,
    "start_time": "2023-09-16T08:39:02.810Z"
   },
   {
    "duration": 458,
    "start_time": "2023-09-16T08:39:23.651Z"
   },
   {
    "duration": 3,
    "start_time": "2023-09-16T08:39:32.002Z"
   },
   {
    "duration": 6,
    "start_time": "2023-09-16T08:39:35.790Z"
   },
   {
    "duration": 15,
    "start_time": "2023-09-16T08:39:43.222Z"
   },
   {
    "duration": 6,
    "start_time": "2023-09-16T08:40:02.675Z"
   },
   {
    "duration": 5,
    "start_time": "2023-09-16T08:40:38.769Z"
   },
   {
    "duration": 4,
    "start_time": "2023-09-16T08:40:49.217Z"
   },
   {
    "duration": 4,
    "start_time": "2023-09-16T08:40:49.631Z"
   },
   {
    "duration": 5,
    "start_time": "2023-09-16T08:40:51.004Z"
   },
   {
    "duration": 3,
    "start_time": "2023-09-16T08:41:39.198Z"
   },
   {
    "duration": 37,
    "start_time": "2023-09-16T08:43:39.177Z"
   },
   {
    "duration": 4,
    "start_time": "2023-09-16T08:45:19.521Z"
   },
   {
    "duration": 12,
    "start_time": "2023-09-16T08:46:59.741Z"
   },
   {
    "duration": 5,
    "start_time": "2023-09-16T08:47:20.193Z"
   },
   {
    "duration": 4,
    "start_time": "2023-09-16T08:49:06.834Z"
   },
   {
    "duration": 91,
    "start_time": "2023-09-16T09:10:56.348Z"
   },
   {
    "duration": 3,
    "start_time": "2023-09-16T09:16:29.653Z"
   },
   {
    "duration": 28,
    "start_time": "2023-09-16T09:17:46.392Z"
   },
   {
    "duration": 23,
    "start_time": "2023-09-16T09:20:49.844Z"
   },
   {
    "duration": 24,
    "start_time": "2023-09-16T09:21:36.302Z"
   },
   {
    "duration": 5,
    "start_time": "2023-09-16T09:24:11.182Z"
   },
   {
    "duration": 3,
    "start_time": "2023-09-16T09:24:12.275Z"
   },
   {
    "duration": 15,
    "start_time": "2023-09-16T09:24:13.440Z"
   },
   {
    "duration": 5,
    "start_time": "2023-09-16T09:24:31.328Z"
   },
   {
    "duration": 2,
    "start_time": "2023-09-16T09:24:36.685Z"
   },
   {
    "duration": 22,
    "start_time": "2023-09-16T09:24:37.414Z"
   },
   {
    "duration": 6,
    "start_time": "2023-09-16T09:27:22.456Z"
   },
   {
    "duration": 2,
    "start_time": "2023-09-16T09:27:23.549Z"
   },
   {
    "duration": 24,
    "start_time": "2023-09-16T09:27:24.447Z"
   },
   {
    "duration": 28,
    "start_time": "2023-09-16T09:27:44.640Z"
   },
   {
    "duration": 31,
    "start_time": "2023-09-16T09:29:52.429Z"
   },
   {
    "duration": 4,
    "start_time": "2023-09-16T09:30:11.464Z"
   },
   {
    "duration": 24,
    "start_time": "2023-09-16T09:31:07.959Z"
   },
   {
    "duration": 8,
    "start_time": "2023-09-16T09:31:30.694Z"
   },
   {
    "duration": 4,
    "start_time": "2023-09-16T09:32:39.420Z"
   },
   {
    "duration": 4,
    "start_time": "2023-09-16T09:33:00.590Z"
   },
   {
    "duration": 6,
    "start_time": "2023-09-16T09:33:30.753Z"
   },
   {
    "duration": 7,
    "start_time": "2023-09-16T09:33:40.064Z"
   },
   {
    "duration": 6,
    "start_time": "2023-09-16T09:33:48.751Z"
   },
   {
    "duration": 9,
    "start_time": "2023-09-16T09:34:16.195Z"
   },
   {
    "duration": 6,
    "start_time": "2023-09-16T09:35:04.748Z"
   },
   {
    "duration": 6,
    "start_time": "2023-09-16T09:35:38.688Z"
   },
   {
    "duration": 3,
    "start_time": "2023-09-16T09:35:40.772Z"
   },
   {
    "duration": 6,
    "start_time": "2023-09-16T09:35:41.778Z"
   },
   {
    "duration": 6,
    "start_time": "2023-09-16T09:36:29.378Z"
   },
   {
    "duration": 5,
    "start_time": "2023-09-16T09:36:35.698Z"
   },
   {
    "duration": 3,
    "start_time": "2023-09-16T09:36:36.914Z"
   },
   {
    "duration": 6,
    "start_time": "2023-09-16T09:36:39.675Z"
   },
   {
    "duration": 5,
    "start_time": "2023-09-16T09:36:47.157Z"
   },
   {
    "duration": 2,
    "start_time": "2023-09-16T09:36:47.978Z"
   },
   {
    "duration": 6,
    "start_time": "2023-09-16T09:36:48.894Z"
   },
   {
    "duration": 5,
    "start_time": "2023-09-16T09:39:23.982Z"
   },
   {
    "duration": 3,
    "start_time": "2023-09-16T09:39:26.112Z"
   },
   {
    "duration": 5,
    "start_time": "2023-09-16T09:39:28.479Z"
   },
   {
    "duration": 28,
    "start_time": "2023-09-16T09:41:52.888Z"
   },
   {
    "duration": 12,
    "start_time": "2023-09-16T09:42:05.669Z"
   },
   {
    "duration": 12,
    "start_time": "2023-09-16T09:42:14.694Z"
   },
   {
    "duration": 45,
    "start_time": "2023-09-16T09:43:04.483Z"
   },
   {
    "duration": 30,
    "start_time": "2023-09-16T09:43:20.352Z"
   },
   {
    "duration": 25,
    "start_time": "2023-09-16T09:45:07.097Z"
   },
   {
    "duration": 17,
    "start_time": "2023-09-16T09:49:07.130Z"
   },
   {
    "duration": 6,
    "start_time": "2023-09-16T09:49:15.022Z"
   },
   {
    "duration": 13,
    "start_time": "2023-09-16T09:49:15.767Z"
   },
   {
    "duration": 5,
    "start_time": "2023-09-16T09:49:45.043Z"
   },
   {
    "duration": 13,
    "start_time": "2023-09-16T09:49:53.545Z"
   },
   {
    "duration": 3,
    "start_time": "2023-09-16T09:50:13.085Z"
   },
   {
    "duration": 6,
    "start_time": "2023-09-16T09:50:15.255Z"
   },
   {
    "duration": 4,
    "start_time": "2023-09-16T09:50:16.597Z"
   },
   {
    "duration": 6,
    "start_time": "2023-09-16T09:50:19.569Z"
   },
   {
    "duration": 242,
    "start_time": "2023-09-16T09:50:25.498Z"
   },
   {
    "duration": 321,
    "start_time": "2023-09-16T09:51:19.224Z"
   },
   {
    "duration": 6,
    "start_time": "2023-09-16T09:53:31.650Z"
   },
   {
    "duration": 3,
    "start_time": "2023-09-16T09:53:33.903Z"
   },
   {
    "duration": 7,
    "start_time": "2023-09-16T09:53:35.324Z"
   },
   {
    "duration": 180,
    "start_time": "2023-09-16T09:53:37.760Z"
   },
   {
    "duration": 12,
    "start_time": "2023-09-16T09:53:49.489Z"
   },
   {
    "duration": 12,
    "start_time": "2023-09-16T09:53:55.403Z"
   },
   {
    "duration": 26,
    "start_time": "2023-09-16T09:54:06.579Z"
   },
   {
    "duration": 3,
    "start_time": "2023-09-16T09:55:01.723Z"
   },
   {
    "duration": 6,
    "start_time": "2023-09-16T09:55:02.702Z"
   },
   {
    "duration": 24,
    "start_time": "2023-09-16T09:55:04.852Z"
   },
   {
    "duration": 2,
    "start_time": "2023-09-16T09:55:28.539Z"
   },
   {
    "duration": 6,
    "start_time": "2023-09-16T09:55:30.042Z"
   },
   {
    "duration": 27,
    "start_time": "2023-09-16T09:55:36.395Z"
   },
   {
    "duration": 4,
    "start_time": "2023-09-16T09:56:04.036Z"
   },
   {
    "duration": 58,
    "start_time": "2023-09-16T09:56:04.042Z"
   },
   {
    "duration": 13,
    "start_time": "2023-09-16T09:56:04.101Z"
   },
   {
    "duration": 23,
    "start_time": "2023-09-16T09:56:04.116Z"
   },
   {
    "duration": 27,
    "start_time": "2023-09-16T09:56:04.141Z"
   },
   {
    "duration": 39,
    "start_time": "2023-09-16T09:56:04.170Z"
   },
   {
    "duration": 32,
    "start_time": "2023-09-16T09:56:04.211Z"
   },
   {
    "duration": 316,
    "start_time": "2023-09-16T09:56:04.244Z"
   },
   {
    "duration": 2,
    "start_time": "2023-09-16T09:56:04.562Z"
   },
   {
    "duration": 50,
    "start_time": "2023-09-16T09:56:04.566Z"
   },
   {
    "duration": 45,
    "start_time": "2023-09-16T09:56:04.618Z"
   },
   {
    "duration": 13,
    "start_time": "2023-09-16T09:56:04.664Z"
   },
   {
    "duration": 15,
    "start_time": "2023-09-16T09:56:04.678Z"
   },
   {
    "duration": 10,
    "start_time": "2023-09-16T09:56:04.695Z"
   },
   {
    "duration": 55,
    "start_time": "2023-09-16T09:56:04.706Z"
   },
   {
    "duration": 47,
    "start_time": "2023-09-16T09:56:04.763Z"
   },
   {
    "duration": 33,
    "start_time": "2023-09-16T09:56:04.812Z"
   },
   {
    "duration": 29,
    "start_time": "2023-09-16T09:56:25.098Z"
   },
   {
    "duration": 16,
    "start_time": "2023-09-16T09:56:38.437Z"
   },
   {
    "duration": 29,
    "start_time": "2023-09-16T09:56:43.991Z"
   },
   {
    "duration": 4,
    "start_time": "2023-09-16T09:57:21.272Z"
   },
   {
    "duration": 81,
    "start_time": "2023-09-16T09:57:21.278Z"
   },
   {
    "duration": 15,
    "start_time": "2023-09-16T09:57:21.361Z"
   },
   {
    "duration": 226,
    "start_time": "2023-09-16T09:57:21.378Z"
   },
   {
    "duration": 63,
    "start_time": "2023-09-16T09:57:21.607Z"
   },
   {
    "duration": 43,
    "start_time": "2023-09-16T09:57:21.672Z"
   },
   {
    "duration": 33,
    "start_time": "2023-09-16T09:57:21.717Z"
   },
   {
    "duration": 108,
    "start_time": "2023-09-16T09:57:21.751Z"
   },
   {
    "duration": 483,
    "start_time": "2023-09-16T09:57:21.861Z"
   },
   {
    "duration": 3,
    "start_time": "2023-09-16T09:57:22.346Z"
   },
   {
    "duration": 179,
    "start_time": "2023-09-16T09:57:22.350Z"
   },
   {
    "duration": 223,
    "start_time": "2023-09-16T09:57:22.531Z"
   },
   {
    "duration": 73,
    "start_time": "2023-09-16T09:57:22.755Z"
   },
   {
    "duration": 70,
    "start_time": "2023-09-16T09:57:22.830Z"
   },
   {
    "duration": 39,
    "start_time": "2023-09-16T09:57:22.902Z"
   },
   {
    "duration": 22,
    "start_time": "2023-09-16T09:57:22.943Z"
   },
   {
    "duration": 41,
    "start_time": "2023-09-16T09:57:22.967Z"
   },
   {
    "duration": 91,
    "start_time": "2023-09-16T09:57:27.534Z"
   },
   {
    "duration": 5,
    "start_time": "2023-09-16T10:04:18.774Z"
   },
   {
    "duration": 3,
    "start_time": "2023-09-16T10:04:26.353Z"
   },
   {
    "duration": 6,
    "start_time": "2023-09-16T10:04:27.893Z"
   },
   {
    "duration": 79,
    "start_time": "2023-09-16T10:04:38.245Z"
   },
   {
    "duration": 9,
    "start_time": "2023-09-16T10:04:49.339Z"
   },
   {
    "duration": 5,
    "start_time": "2023-09-16T10:04:53.705Z"
   },
   {
    "duration": 6,
    "start_time": "2023-09-16T10:05:08.519Z"
   },
   {
    "duration": 4,
    "start_time": "2023-09-16T10:05:37.928Z"
   },
   {
    "duration": 6,
    "start_time": "2023-09-16T10:05:39.767Z"
   },
   {
    "duration": 26,
    "start_time": "2023-09-16T10:05:40.450Z"
   },
   {
    "duration": 88,
    "start_time": "2023-09-16T10:06:16.827Z"
   },
   {
    "duration": 5,
    "start_time": "2023-09-16T10:10:23.163Z"
   },
   {
    "duration": 17,
    "start_time": "2023-09-16T10:10:58.435Z"
   },
   {
    "duration": 16,
    "start_time": "2023-09-16T10:11:06.817Z"
   },
   {
    "duration": 16,
    "start_time": "2023-09-16T10:11:13.518Z"
   },
   {
    "duration": 6,
    "start_time": "2023-09-16T10:11:25.112Z"
   },
   {
    "duration": 3,
    "start_time": "2023-09-16T10:11:27.967Z"
   },
   {
    "duration": 6,
    "start_time": "2023-09-16T10:11:39.638Z"
   },
   {
    "duration": 100,
    "start_time": "2023-09-16T10:11:49.126Z"
   },
   {
    "duration": 8,
    "start_time": "2023-09-16T10:13:28.385Z"
   },
   {
    "duration": 13,
    "start_time": "2023-09-16T10:13:39.328Z"
   },
   {
    "duration": 5,
    "start_time": "2023-09-16T10:13:47.840Z"
   },
   {
    "duration": 6,
    "start_time": "2023-09-16T10:14:12.197Z"
   },
   {
    "duration": 7,
    "start_time": "2023-09-16T10:14:24.422Z"
   },
   {
    "duration": 7,
    "start_time": "2023-09-16T10:14:51.112Z"
   },
   {
    "duration": 4,
    "start_time": "2023-09-16T10:15:24.402Z"
   },
   {
    "duration": 3,
    "start_time": "2023-09-16T10:15:25.197Z"
   },
   {
    "duration": 6,
    "start_time": "2023-09-16T10:15:25.696Z"
   },
   {
    "duration": 5,
    "start_time": "2023-09-16T10:15:26.523Z"
   },
   {
    "duration": 3,
    "start_time": "2023-09-16T10:15:27.360Z"
   },
   {
    "duration": 6,
    "start_time": "2023-09-16T10:15:28.172Z"
   },
   {
    "duration": 6,
    "start_time": "2023-09-16T10:15:39.770Z"
   },
   {
    "duration": 7,
    "start_time": "2023-09-16T10:15:40.838Z"
   },
   {
    "duration": 103,
    "start_time": "2023-09-16T10:15:45.623Z"
   },
   {
    "duration": 5,
    "start_time": "2023-09-16T10:16:01.386Z"
   },
   {
    "duration": 5,
    "start_time": "2023-09-16T10:16:01.884Z"
   },
   {
    "duration": 3,
    "start_time": "2023-09-16T10:16:03.047Z"
   },
   {
    "duration": 6,
    "start_time": "2023-09-16T10:16:04.132Z"
   },
   {
    "duration": 1510,
    "start_time": "2023-09-16T10:26:09.405Z"
   },
   {
    "duration": 1323,
    "start_time": "2023-09-16T10:26:25.921Z"
   },
   {
    "duration": 37,
    "start_time": "2023-09-16T10:26:38.999Z"
   },
   {
    "duration": 1557,
    "start_time": "2023-09-16T10:26:39.625Z"
   },
   {
    "duration": 6,
    "start_time": "2023-09-16T10:27:07.934Z"
   },
   {
    "duration": 1309,
    "start_time": "2023-09-16T10:28:35.350Z"
   },
   {
    "duration": 216,
    "start_time": "2023-09-16T10:29:28.844Z"
   },
   {
    "duration": 12,
    "start_time": "2023-09-16T10:31:38.804Z"
   },
   {
    "duration": 5,
    "start_time": "2023-09-16T10:31:51.380Z"
   },
   {
    "duration": 125,
    "start_time": "2023-09-16T10:32:00.011Z"
   },
   {
    "duration": 4,
    "start_time": "2023-09-16T10:32:48.763Z"
   },
   {
    "duration": 36,
    "start_time": "2023-09-16T10:32:48.946Z"
   },
   {
    "duration": 15,
    "start_time": "2023-09-16T10:32:49.130Z"
   },
   {
    "duration": 10,
    "start_time": "2023-09-16T10:32:49.488Z"
   },
   {
    "duration": 3,
    "start_time": "2023-09-16T10:32:50.053Z"
   },
   {
    "duration": 4,
    "start_time": "2023-09-16T10:32:50.225Z"
   },
   {
    "duration": 5,
    "start_time": "2023-09-16T10:32:50.614Z"
   },
   {
    "duration": 4,
    "start_time": "2023-09-16T10:32:50.869Z"
   },
   {
    "duration": 213,
    "start_time": "2023-09-16T10:32:51.494Z"
   },
   {
    "duration": 116,
    "start_time": "2023-09-16T10:32:52.436Z"
   },
   {
    "duration": 10,
    "start_time": "2023-09-16T10:33:39.007Z"
   },
   {
    "duration": 4,
    "start_time": "2023-09-16T10:34:37.081Z"
   },
   {
    "duration": 4,
    "start_time": "2023-09-16T10:34:37.617Z"
   },
   {
    "duration": 238,
    "start_time": "2023-09-16T10:34:38.398Z"
   },
   {
    "duration": 35,
    "start_time": "2023-09-16T10:34:44.100Z"
   },
   {
    "duration": 14,
    "start_time": "2023-09-16T10:34:44.315Z"
   },
   {
    "duration": 10,
    "start_time": "2023-09-16T10:34:44.670Z"
   },
   {
    "duration": 6,
    "start_time": "2023-09-16T10:34:45.806Z"
   },
   {
    "duration": 4,
    "start_time": "2023-09-16T10:34:46.386Z"
   },
   {
    "duration": 5,
    "start_time": "2023-09-16T10:34:47.116Z"
   },
   {
    "duration": 3,
    "start_time": "2023-09-16T10:34:47.641Z"
   },
   {
    "duration": 217,
    "start_time": "2023-09-16T10:34:48.288Z"
   },
   {
    "duration": 154,
    "start_time": "2023-09-16T10:34:51.591Z"
   },
   {
    "duration": 152,
    "start_time": "2023-09-16T10:35:06.558Z"
   },
   {
    "duration": 4,
    "start_time": "2023-09-16T10:35:50.966Z"
   },
   {
    "duration": 36,
    "start_time": "2023-09-16T10:35:51.174Z"
   },
   {
    "duration": 14,
    "start_time": "2023-09-16T10:35:51.377Z"
   },
   {
    "duration": 11,
    "start_time": "2023-09-16T10:35:51.757Z"
   },
   {
    "duration": 3,
    "start_time": "2023-09-16T10:35:52.683Z"
   },
   {
    "duration": 5,
    "start_time": "2023-09-16T10:35:53.173Z"
   },
   {
    "duration": 5,
    "start_time": "2023-09-16T10:35:53.829Z"
   },
   {
    "duration": 5,
    "start_time": "2023-09-16T10:35:54.277Z"
   },
   {
    "duration": 211,
    "start_time": "2023-09-16T10:35:54.663Z"
   },
   {
    "duration": 156,
    "start_time": "2023-09-16T10:35:55.161Z"
   },
   {
    "duration": 10,
    "start_time": "2023-09-16T10:36:13.281Z"
   },
   {
    "duration": 3,
    "start_time": "2023-09-16T10:36:43.550Z"
   },
   {
    "duration": 36,
    "start_time": "2023-09-16T10:36:43.722Z"
   },
   {
    "duration": 14,
    "start_time": "2023-09-16T10:36:43.918Z"
   },
   {
    "duration": 11,
    "start_time": "2023-09-16T10:36:44.256Z"
   },
   {
    "duration": 4,
    "start_time": "2023-09-16T10:36:44.816Z"
   },
   {
    "duration": 4,
    "start_time": "2023-09-16T10:36:45.231Z"
   },
   {
    "duration": 6,
    "start_time": "2023-09-16T10:36:45.436Z"
   },
   {
    "duration": 4,
    "start_time": "2023-09-16T10:36:45.645Z"
   },
   {
    "duration": 325,
    "start_time": "2023-09-16T10:36:45.842Z"
   },
   {
    "duration": 270,
    "start_time": "2023-09-16T10:36:46.169Z"
   },
   {
    "duration": 12,
    "start_time": "2023-09-16T10:36:46.441Z"
   },
   {
    "duration": 155,
    "start_time": "2023-09-16T10:36:53.823Z"
   },
   {
    "duration": 11,
    "start_time": "2023-09-16T10:37:00.276Z"
   },
   {
    "duration": 12,
    "start_time": "2023-09-16T10:37:05.940Z"
   },
   {
    "duration": 4,
    "start_time": "2023-09-16T10:37:28.186Z"
   },
   {
    "duration": 4,
    "start_time": "2023-09-16T10:37:36.350Z"
   },
   {
    "duration": 3,
    "start_time": "2023-09-16T10:37:41.848Z"
   },
   {
    "duration": 35,
    "start_time": "2023-09-16T10:37:42.020Z"
   },
   {
    "duration": 15,
    "start_time": "2023-09-16T10:37:42.198Z"
   },
   {
    "duration": 10,
    "start_time": "2023-09-16T10:37:42.542Z"
   },
   {
    "duration": 4,
    "start_time": "2023-09-16T10:37:43.060Z"
   },
   {
    "duration": 4,
    "start_time": "2023-09-16T10:37:43.282Z"
   },
   {
    "duration": 5,
    "start_time": "2023-09-16T10:37:43.723Z"
   },
   {
    "duration": 5,
    "start_time": "2023-09-16T10:37:44.054Z"
   },
   {
    "duration": 284,
    "start_time": "2023-09-16T10:37:44.343Z"
   },
   {
    "duration": 168,
    "start_time": "2023-09-16T10:37:45.732Z"
   },
   {
    "duration": 11,
    "start_time": "2023-09-16T10:37:46.587Z"
   },
   {
    "duration": 18,
    "start_time": "2023-09-16T10:37:59.857Z"
   },
   {
    "duration": 11,
    "start_time": "2023-09-16T10:38:08.989Z"
   },
   {
    "duration": 14,
    "start_time": "2023-09-16T10:38:17.842Z"
   },
   {
    "duration": 8,
    "start_time": "2023-09-16T10:38:31.954Z"
   },
   {
    "duration": 14,
    "start_time": "2023-09-16T10:38:49.462Z"
   },
   {
    "duration": 7,
    "start_time": "2023-09-16T10:38:54.310Z"
   },
   {
    "duration": 15,
    "start_time": "2023-09-16T10:39:03.686Z"
   },
   {
    "duration": 1773,
    "start_time": "2023-09-16T10:44:26.359Z"
   },
   {
    "duration": 45,
    "start_time": "2023-09-16T10:44:28.134Z"
   },
   {
    "duration": 16,
    "start_time": "2023-09-16T10:44:28.180Z"
   },
   {
    "duration": 22,
    "start_time": "2023-09-16T10:44:28.198Z"
   },
   {
    "duration": 20,
    "start_time": "2023-09-16T10:44:28.222Z"
   },
   {
    "duration": 31,
    "start_time": "2023-09-16T10:44:28.244Z"
   },
   {
    "duration": 21,
    "start_time": "2023-09-16T10:44:28.277Z"
   },
   {
    "duration": 35,
    "start_time": "2023-09-16T10:44:28.300Z"
   },
   {
    "duration": 405,
    "start_time": "2023-09-16T10:44:28.337Z"
   },
   {
    "duration": 190,
    "start_time": "2023-09-16T10:44:28.745Z"
   },
   {
    "duration": 15,
    "start_time": "2023-09-16T10:44:28.937Z"
   },
   {
    "duration": 25,
    "start_time": "2023-09-16T10:44:28.954Z"
   },
   {
    "duration": 51,
    "start_time": "2023-09-16T10:44:28.981Z"
   },
   {
    "duration": 80,
    "start_time": "2023-09-16T10:44:29.034Z"
   },
   {
    "duration": 5,
    "start_time": "2023-09-16T10:44:29.115Z"
   },
   {
    "duration": 32,
    "start_time": "2023-09-16T10:44:29.122Z"
   },
   {
    "duration": 46,
    "start_time": "2023-09-16T10:44:29.155Z"
   },
   {
    "duration": 53,
    "start_time": "2023-09-16T10:44:29.203Z"
   },
   {
    "duration": 57,
    "start_time": "2023-09-16T10:44:29.258Z"
   },
   {
    "duration": 25,
    "start_time": "2023-09-16T10:44:29.316Z"
   },
   {
    "duration": 10,
    "start_time": "2023-09-16T10:44:29.343Z"
   },
   {
    "duration": 26,
    "start_time": "2023-09-16T10:44:29.355Z"
   },
   {
    "duration": 68,
    "start_time": "2023-09-16T10:44:29.383Z"
   },
   {
    "duration": 138,
    "start_time": "2023-09-16T10:46:32.691Z"
   },
   {
    "duration": 16,
    "start_time": "2023-09-16T10:46:50.121Z"
   },
   {
    "duration": 9,
    "start_time": "2023-09-16T10:48:10.466Z"
   },
   {
    "duration": 6,
    "start_time": "2023-09-16T10:48:12.770Z"
   },
   {
    "duration": 5,
    "start_time": "2023-09-16T10:48:15.515Z"
   },
   {
    "duration": 35,
    "start_time": "2023-09-16T10:48:16.680Z"
   },
   {
    "duration": 8,
    "start_time": "2023-09-16T10:49:20.132Z"
   },
   {
    "duration": 7,
    "start_time": "2023-09-16T10:49:20.781Z"
   },
   {
    "duration": 3,
    "start_time": "2023-09-16T10:49:21.956Z"
   },
   {
    "duration": 19,
    "start_time": "2023-09-16T10:49:22.786Z"
   },
   {
    "duration": 7,
    "start_time": "2023-09-16T10:49:36.070Z"
   },
   {
    "duration": 5,
    "start_time": "2023-09-16T10:49:36.490Z"
   },
   {
    "duration": 3,
    "start_time": "2023-09-16T10:49:37.298Z"
   },
   {
    "duration": 7,
    "start_time": "2023-09-16T10:49:37.939Z"
   },
   {
    "duration": 6,
    "start_time": "2023-09-16T10:49:52.678Z"
   },
   {
    "duration": 7,
    "start_time": "2023-09-16T10:49:55.585Z"
   },
   {
    "duration": 1953,
    "start_time": "2023-09-16T10:50:59.559Z"
   },
   {
    "duration": 43,
    "start_time": "2023-09-16T10:51:01.514Z"
   },
   {
    "duration": 46,
    "start_time": "2023-09-16T10:51:01.558Z"
   },
   {
    "duration": 46,
    "start_time": "2023-09-16T10:51:01.605Z"
   },
   {
    "duration": 29,
    "start_time": "2023-09-16T10:51:01.653Z"
   },
   {
    "duration": 40,
    "start_time": "2023-09-16T10:51:01.684Z"
   },
   {
    "duration": 33,
    "start_time": "2023-09-16T10:51:01.726Z"
   },
   {
    "duration": 369,
    "start_time": "2023-09-16T10:51:01.761Z"
   },
   {
    "duration": 151,
    "start_time": "2023-09-16T10:51:02.132Z"
   },
   {
    "duration": 0,
    "start_time": "2023-09-16T10:51:02.285Z"
   },
   {
    "duration": 0,
    "start_time": "2023-09-16T10:51:02.287Z"
   },
   {
    "duration": 0,
    "start_time": "2023-09-16T10:51:02.288Z"
   },
   {
    "duration": 0,
    "start_time": "2023-09-16T10:51:02.289Z"
   },
   {
    "duration": 0,
    "start_time": "2023-09-16T10:51:02.290Z"
   },
   {
    "duration": 0,
    "start_time": "2023-09-16T10:51:02.292Z"
   },
   {
    "duration": 0,
    "start_time": "2023-09-16T10:51:02.293Z"
   },
   {
    "duration": 0,
    "start_time": "2023-09-16T10:51:02.295Z"
   },
   {
    "duration": 0,
    "start_time": "2023-09-16T10:51:02.297Z"
   },
   {
    "duration": 0,
    "start_time": "2023-09-16T10:51:02.298Z"
   },
   {
    "duration": 0,
    "start_time": "2023-09-16T10:51:02.299Z"
   },
   {
    "duration": 0,
    "start_time": "2023-09-16T10:51:02.324Z"
   },
   {
    "duration": 0,
    "start_time": "2023-09-16T10:51:02.326Z"
   },
   {
    "duration": 1897,
    "start_time": "2023-09-16T10:51:33.156Z"
   },
   {
    "duration": 43,
    "start_time": "2023-09-16T10:51:35.054Z"
   },
   {
    "duration": 128,
    "start_time": "2023-09-16T10:51:35.099Z"
   },
   {
    "duration": 57,
    "start_time": "2023-09-16T10:51:35.229Z"
   },
   {
    "duration": 30,
    "start_time": "2023-09-16T10:51:35.288Z"
   },
   {
    "duration": 22,
    "start_time": "2023-09-16T10:51:35.320Z"
   },
   {
    "duration": 39,
    "start_time": "2023-09-16T10:51:35.344Z"
   },
   {
    "duration": 404,
    "start_time": "2023-09-16T10:51:35.385Z"
   },
   {
    "duration": 1755,
    "start_time": "2023-09-16T10:51:35.792Z"
   },
   {
    "duration": 0,
    "start_time": "2023-09-16T10:51:37.548Z"
   },
   {
    "duration": 0,
    "start_time": "2023-09-16T10:51:37.549Z"
   },
   {
    "duration": 0,
    "start_time": "2023-09-16T10:51:37.550Z"
   },
   {
    "duration": 0,
    "start_time": "2023-09-16T10:51:37.552Z"
   },
   {
    "duration": 0,
    "start_time": "2023-09-16T10:51:37.553Z"
   },
   {
    "duration": 0,
    "start_time": "2023-09-16T10:51:37.554Z"
   },
   {
    "duration": 0,
    "start_time": "2023-09-16T10:51:37.554Z"
   },
   {
    "duration": 0,
    "start_time": "2023-09-16T10:51:37.555Z"
   },
   {
    "duration": 0,
    "start_time": "2023-09-16T10:51:37.556Z"
   },
   {
    "duration": 0,
    "start_time": "2023-09-16T10:51:37.557Z"
   },
   {
    "duration": 0,
    "start_time": "2023-09-16T10:51:37.558Z"
   },
   {
    "duration": 0,
    "start_time": "2023-09-16T10:51:37.560Z"
   },
   {
    "duration": 1871,
    "start_time": "2023-09-16T10:51:49.096Z"
   },
   {
    "duration": 40,
    "start_time": "2023-09-16T10:51:50.969Z"
   },
   {
    "duration": 13,
    "start_time": "2023-09-16T10:51:51.011Z"
   },
   {
    "duration": 22,
    "start_time": "2023-09-16T10:51:51.026Z"
   },
   {
    "duration": 24,
    "start_time": "2023-09-16T10:51:51.050Z"
   },
   {
    "duration": 28,
    "start_time": "2023-09-16T10:51:51.076Z"
   },
   {
    "duration": 27,
    "start_time": "2023-09-16T10:51:51.105Z"
   },
   {
    "duration": 408,
    "start_time": "2023-09-16T10:51:51.134Z"
   },
   {
    "duration": 3,
    "start_time": "2023-09-16T10:51:51.544Z"
   },
   {
    "duration": 30,
    "start_time": "2023-09-16T10:51:51.549Z"
   },
   {
    "duration": 38,
    "start_time": "2023-09-16T10:51:51.580Z"
   },
   {
    "duration": 4,
    "start_time": "2023-09-16T10:51:51.619Z"
   },
   {
    "duration": 25,
    "start_time": "2023-09-16T10:51:51.625Z"
   },
   {
    "duration": 30,
    "start_time": "2023-09-16T10:51:51.652Z"
   },
   {
    "duration": 22,
    "start_time": "2023-09-16T10:51:51.683Z"
   },
   {
    "duration": 8,
    "start_time": "2023-09-16T10:51:51.706Z"
   },
   {
    "duration": 42,
    "start_time": "2023-09-16T10:51:51.715Z"
   },
   {
    "duration": 25,
    "start_time": "2023-09-16T10:51:51.758Z"
   },
   {
    "duration": 51,
    "start_time": "2023-09-16T10:51:51.785Z"
   },
   {
    "duration": 104,
    "start_time": "2023-09-16T10:51:51.838Z"
   },
   {
    "duration": 134,
    "start_time": "2023-09-16T10:53:21.421Z"
   },
   {
    "duration": 102,
    "start_time": "2023-09-16T10:53:56.965Z"
   },
   {
    "duration": 134,
    "start_time": "2023-09-16T10:54:07.759Z"
   },
   {
    "duration": 141,
    "start_time": "2023-09-16T10:54:18.820Z"
   },
   {
    "duration": 203,
    "start_time": "2023-09-16T10:54:56.780Z"
   },
   {
    "duration": 337,
    "start_time": "2023-09-16T10:55:19.322Z"
   },
   {
    "duration": 188,
    "start_time": "2023-09-16T10:55:40.360Z"
   },
   {
    "duration": 693,
    "start_time": "2023-09-16T10:55:51.967Z"
   },
   {
    "duration": 36,
    "start_time": "2023-09-16T10:57:09.900Z"
   },
   {
    "duration": 36,
    "start_time": "2023-09-16T10:57:35.337Z"
   },
   {
    "duration": 37,
    "start_time": "2023-09-16T10:58:10.561Z"
   },
   {
    "duration": 17,
    "start_time": "2023-09-16T10:58:18.354Z"
   },
   {
    "duration": 77,
    "start_time": "2023-09-16T10:58:33.465Z"
   },
   {
    "duration": 42,
    "start_time": "2023-09-16T10:58:39.753Z"
   },
   {
    "duration": 14,
    "start_time": "2023-09-16T10:58:58.590Z"
   },
   {
    "duration": 42,
    "start_time": "2023-09-16T10:58:59.349Z"
   },
   {
    "duration": 17,
    "start_time": "2023-09-16T10:59:53.367Z"
   },
   {
    "duration": 603,
    "start_time": "2023-09-16T11:02:05.926Z"
   },
   {
    "duration": 3,
    "start_time": "2023-09-16T11:03:01.508Z"
   },
   {
    "duration": 20,
    "start_time": "2023-09-16T11:03:02.584Z"
   },
   {
    "duration": 22,
    "start_time": "2023-09-16T11:03:04.260Z"
   },
   {
    "duration": 5,
    "start_time": "2023-09-16T11:03:05.040Z"
   },
   {
    "duration": 5,
    "start_time": "2023-09-16T11:03:05.773Z"
   },
   {
    "duration": 6,
    "start_time": "2023-09-16T11:03:06.392Z"
   },
   {
    "duration": 5,
    "start_time": "2023-09-16T11:03:07.575Z"
   },
   {
    "duration": 3,
    "start_time": "2023-09-16T11:03:09.109Z"
   },
   {
    "duration": 7,
    "start_time": "2023-09-16T11:03:09.995Z"
   },
   {
    "duration": 6,
    "start_time": "2023-09-16T11:03:12.113Z"
   },
   {
    "duration": 3,
    "start_time": "2023-09-16T11:03:27.298Z"
   },
   {
    "duration": 18,
    "start_time": "2023-09-16T11:03:28.092Z"
   },
   {
    "duration": 34,
    "start_time": "2023-09-16T11:03:30.624Z"
   },
   {
    "duration": 5,
    "start_time": "2023-09-16T11:03:32.057Z"
   },
   {
    "duration": 3,
    "start_time": "2023-09-16T11:03:33.377Z"
   },
   {
    "duration": 6,
    "start_time": "2023-09-16T11:03:34.060Z"
   },
   {
    "duration": 5,
    "start_time": "2023-09-16T11:03:35.146Z"
   },
   {
    "duration": 3,
    "start_time": "2023-09-16T11:03:36.506Z"
   },
   {
    "duration": 7,
    "start_time": "2023-09-16T11:03:36.958Z"
   },
   {
    "duration": 7,
    "start_time": "2023-09-16T11:03:39.437Z"
   },
   {
    "duration": 7,
    "start_time": "2023-09-16T11:03:43.360Z"
   },
   {
    "duration": 3,
    "start_time": "2023-09-16T11:04:25.814Z"
   },
   {
    "duration": 20,
    "start_time": "2023-09-16T11:04:26.390Z"
   },
   {
    "duration": 33,
    "start_time": "2023-09-16T11:04:26.967Z"
   },
   {
    "duration": 5,
    "start_time": "2023-09-16T11:04:27.462Z"
   },
   {
    "duration": 4,
    "start_time": "2023-09-16T11:04:27.925Z"
   },
   {
    "duration": 8,
    "start_time": "2023-09-16T11:04:28.458Z"
   },
   {
    "duration": 6,
    "start_time": "2023-09-16T11:04:29.610Z"
   },
   {
    "duration": 3,
    "start_time": "2023-09-16T11:04:30.849Z"
   },
   {
    "duration": 6,
    "start_time": "2023-09-16T11:04:31.642Z"
   },
   {
    "duration": 3,
    "start_time": "2023-09-16T11:04:47.252Z"
   },
   {
    "duration": 19,
    "start_time": "2023-09-16T11:04:47.751Z"
   },
   {
    "duration": 37,
    "start_time": "2023-09-16T11:04:48.154Z"
   },
   {
    "duration": 5,
    "start_time": "2023-09-16T11:04:48.563Z"
   },
   {
    "duration": 4,
    "start_time": "2023-09-16T11:04:49.106Z"
   },
   {
    "duration": 7,
    "start_time": "2023-09-16T11:04:49.762Z"
   },
   {
    "duration": 6,
    "start_time": "2023-09-16T11:04:50.307Z"
   },
   {
    "duration": 4,
    "start_time": "2023-09-16T11:04:51.235Z"
   },
   {
    "duration": 8,
    "start_time": "2023-09-16T11:04:52.028Z"
   },
   {
    "duration": 4,
    "start_time": "2023-09-16T11:05:54.635Z"
   },
   {
    "duration": 13,
    "start_time": "2023-09-16T11:06:16.768Z"
   },
   {
    "duration": 4,
    "start_time": "2023-09-16T11:07:11.616Z"
   },
   {
    "duration": 1991,
    "start_time": "2023-09-16T11:08:09.099Z"
   },
   {
    "duration": 43,
    "start_time": "2023-09-16T11:08:11.093Z"
   },
   {
    "duration": 14,
    "start_time": "2023-09-16T11:08:11.138Z"
   },
   {
    "duration": 79,
    "start_time": "2023-09-16T11:08:11.154Z"
   },
   {
    "duration": 112,
    "start_time": "2023-09-16T11:08:11.236Z"
   },
   {
    "duration": 809,
    "start_time": "2023-09-16T11:08:11.350Z"
   },
   {
    "duration": 12,
    "start_time": "2023-09-16T11:08:12.161Z"
   },
   {
    "duration": 37,
    "start_time": "2023-09-16T11:08:12.175Z"
   },
   {
    "duration": 21,
    "start_time": "2023-09-16T11:08:12.213Z"
   },
   {
    "duration": 100,
    "start_time": "2023-09-16T11:08:12.236Z"
   },
   {
    "duration": 326,
    "start_time": "2023-09-16T11:08:12.338Z"
   },
   {
    "duration": 4,
    "start_time": "2023-09-16T11:08:12.666Z"
   },
   {
    "duration": 38,
    "start_time": "2023-09-16T11:08:12.672Z"
   },
   {
    "duration": 62,
    "start_time": "2023-09-16T11:08:12.712Z"
   },
   {
    "duration": 9,
    "start_time": "2023-09-16T11:08:12.775Z"
   },
   {
    "duration": 164,
    "start_time": "2023-09-16T11:08:12.785Z"
   },
   {
    "duration": 0,
    "start_time": "2023-09-16T11:08:12.950Z"
   },
   {
    "duration": 0,
    "start_time": "2023-09-16T11:08:12.952Z"
   },
   {
    "duration": 0,
    "start_time": "2023-09-16T11:08:12.953Z"
   },
   {
    "duration": 0,
    "start_time": "2023-09-16T11:08:12.954Z"
   },
   {
    "duration": 0,
    "start_time": "2023-09-16T11:08:12.955Z"
   },
   {
    "duration": 0,
    "start_time": "2023-09-16T11:08:12.955Z"
   },
   {
    "duration": 0,
    "start_time": "2023-09-16T11:08:12.956Z"
   },
   {
    "duration": 12,
    "start_time": "2023-09-16T11:09:27.025Z"
   },
   {
    "duration": 13,
    "start_time": "2023-09-16T11:09:34.894Z"
   },
   {
    "duration": 12,
    "start_time": "2023-09-16T11:09:40.874Z"
   },
   {
    "duration": 4,
    "start_time": "2023-09-16T11:10:04.649Z"
   },
   {
    "duration": 19,
    "start_time": "2023-09-16T11:10:05.402Z"
   },
   {
    "duration": 37,
    "start_time": "2023-09-16T11:10:07.443Z"
   },
   {
    "duration": 5,
    "start_time": "2023-09-16T11:10:09.793Z"
   },
   {
    "duration": 11,
    "start_time": "2023-09-16T11:10:11.018Z"
   },
   {
    "duration": 34,
    "start_time": "2023-09-16T11:10:29.073Z"
   },
   {
    "duration": 14,
    "start_time": "2023-09-16T11:11:14.424Z"
   },
   {
    "duration": 11,
    "start_time": "2023-09-16T11:11:22.111Z"
   },
   {
    "duration": 10,
    "start_time": "2023-09-16T11:12:24.998Z"
   },
   {
    "duration": 1807,
    "start_time": "2023-09-16T11:13:50.259Z"
   },
   {
    "duration": 43,
    "start_time": "2023-09-16T11:13:52.069Z"
   },
   {
    "duration": 151,
    "start_time": "2023-09-16T11:13:52.113Z"
   },
   {
    "duration": 88,
    "start_time": "2023-09-16T11:13:52.266Z"
   },
   {
    "duration": 28,
    "start_time": "2023-09-16T11:13:52.356Z"
   },
   {
    "duration": 626,
    "start_time": "2023-09-16T11:13:52.386Z"
   },
   {
    "duration": 18,
    "start_time": "2023-09-16T11:13:53.013Z"
   },
   {
    "duration": 87,
    "start_time": "2023-09-16T11:13:53.033Z"
   },
   {
    "duration": 107,
    "start_time": "2023-09-16T11:13:53.122Z"
   },
   {
    "duration": 33,
    "start_time": "2023-09-16T11:13:53.231Z"
   },
   {
    "duration": 323,
    "start_time": "2023-09-16T11:13:53.265Z"
   },
   {
    "duration": 3,
    "start_time": "2023-09-16T11:13:53.590Z"
   },
   {
    "duration": 42,
    "start_time": "2023-09-16T11:13:53.595Z"
   },
   {
    "duration": 65,
    "start_time": "2023-09-16T11:13:53.640Z"
   },
   {
    "duration": 9,
    "start_time": "2023-09-16T11:13:53.707Z"
   },
   {
    "duration": 39,
    "start_time": "2023-09-16T11:13:53.718Z"
   },
   {
    "duration": 148,
    "start_time": "2023-09-16T11:13:53.758Z"
   },
   {
    "duration": 0,
    "start_time": "2023-09-16T11:13:53.907Z"
   },
   {
    "duration": 0,
    "start_time": "2023-09-16T11:13:53.908Z"
   },
   {
    "duration": 0,
    "start_time": "2023-09-16T11:13:53.909Z"
   },
   {
    "duration": 0,
    "start_time": "2023-09-16T11:13:53.910Z"
   },
   {
    "duration": 0,
    "start_time": "2023-09-16T11:13:53.911Z"
   },
   {
    "duration": 0,
    "start_time": "2023-09-16T11:13:53.912Z"
   },
   {
    "duration": 0,
    "start_time": "2023-09-16T11:13:53.924Z"
   },
   {
    "duration": 10,
    "start_time": "2023-09-16T11:16:39.852Z"
   },
   {
    "duration": 2502,
    "start_time": "2023-09-16T11:28:04.445Z"
   },
   {
    "duration": 44,
    "start_time": "2023-09-16T11:28:06.950Z"
   },
   {
    "duration": 70,
    "start_time": "2023-09-16T11:28:06.995Z"
   },
   {
    "duration": 455,
    "start_time": "2023-09-16T11:28:07.067Z"
   },
   {
    "duration": 151,
    "start_time": "2023-09-16T11:28:07.525Z"
   },
   {
    "duration": 760,
    "start_time": "2023-09-16T11:28:07.678Z"
   },
   {
    "duration": 12,
    "start_time": "2023-09-16T11:28:08.440Z"
   },
   {
    "duration": 14,
    "start_time": "2023-09-16T11:28:08.454Z"
   },
   {
    "duration": 20,
    "start_time": "2023-09-16T11:28:08.470Z"
   },
   {
    "duration": 11,
    "start_time": "2023-09-16T11:28:08.492Z"
   },
   {
    "duration": 343,
    "start_time": "2023-09-16T11:28:08.504Z"
   },
   {
    "duration": 2,
    "start_time": "2023-09-16T11:28:08.849Z"
   },
   {
    "duration": 63,
    "start_time": "2023-09-16T11:28:08.853Z"
   },
   {
    "duration": 48,
    "start_time": "2023-09-16T11:28:08.919Z"
   },
   {
    "duration": 126,
    "start_time": "2023-09-16T11:28:08.970Z"
   },
   {
    "duration": 0,
    "start_time": "2023-09-16T11:28:09.098Z"
   },
   {
    "duration": 0,
    "start_time": "2023-09-16T11:28:09.100Z"
   },
   {
    "duration": 0,
    "start_time": "2023-09-16T11:28:09.101Z"
   },
   {
    "duration": 0,
    "start_time": "2023-09-16T11:28:09.102Z"
   },
   {
    "duration": 0,
    "start_time": "2023-09-16T11:28:09.104Z"
   },
   {
    "duration": 0,
    "start_time": "2023-09-16T11:28:09.106Z"
   },
   {
    "duration": 0,
    "start_time": "2023-09-16T11:28:09.107Z"
   },
   {
    "duration": 0,
    "start_time": "2023-09-16T11:28:09.123Z"
   },
   {
    "duration": 0,
    "start_time": "2023-09-16T11:28:09.125Z"
   },
   {
    "duration": 0,
    "start_time": "2023-09-16T11:28:09.126Z"
   },
   {
    "duration": 4,
    "start_time": "2023-09-16T11:28:17.253Z"
   },
   {
    "duration": 4,
    "start_time": "2023-09-16T11:28:17.791Z"
   },
   {
    "duration": 4,
    "start_time": "2023-09-16T11:28:20.077Z"
   },
   {
    "duration": 13,
    "start_time": "2023-09-16T11:28:25.430Z"
   },
   {
    "duration": 10,
    "start_time": "2023-09-16T11:30:14.546Z"
   },
   {
    "duration": 6,
    "start_time": "2023-09-16T11:30:20.657Z"
   },
   {
    "duration": 3,
    "start_time": "2023-09-16T11:30:38.926Z"
   },
   {
    "duration": 13,
    "start_time": "2023-09-16T11:30:40.293Z"
   },
   {
    "duration": 4,
    "start_time": "2023-09-16T11:30:46.134Z"
   },
   {
    "duration": 4,
    "start_time": "2023-09-16T11:30:53.831Z"
   },
   {
    "duration": 4,
    "start_time": "2023-09-16T11:31:20.281Z"
   },
   {
    "duration": 4,
    "start_time": "2023-09-16T11:31:20.842Z"
   },
   {
    "duration": 3,
    "start_time": "2023-09-16T11:31:23.333Z"
   },
   {
    "duration": 5,
    "start_time": "2023-09-16T11:31:32.849Z"
   },
   {
    "duration": 8,
    "start_time": "2023-09-16T11:31:35.963Z"
   },
   {
    "duration": 6,
    "start_time": "2023-09-16T11:31:51.325Z"
   },
   {
    "duration": 2,
    "start_time": "2023-09-16T11:31:52.720Z"
   },
   {
    "duration": 8,
    "start_time": "2023-09-16T11:31:55.552Z"
   },
   {
    "duration": 6,
    "start_time": "2023-09-16T11:31:57.382Z"
   },
   {
    "duration": 7,
    "start_time": "2023-09-16T11:31:58.743Z"
   },
   {
    "duration": 6,
    "start_time": "2023-09-16T11:33:17.018Z"
   },
   {
    "duration": 4,
    "start_time": "2023-09-16T11:33:18.189Z"
   },
   {
    "duration": 12,
    "start_time": "2023-09-16T11:33:20.358Z"
   },
   {
    "duration": 6,
    "start_time": "2023-09-16T11:33:22.533Z"
   },
   {
    "duration": 7,
    "start_time": "2023-09-16T11:33:30.336Z"
   },
   {
    "duration": 5,
    "start_time": "2023-09-16T11:33:31.321Z"
   },
   {
    "duration": 8,
    "start_time": "2023-09-16T11:33:32.273Z"
   },
   {
    "duration": 7,
    "start_time": "2023-09-16T11:33:33.040Z"
   },
   {
    "duration": 5,
    "start_time": "2023-09-16T11:35:02.255Z"
   },
   {
    "duration": 3,
    "start_time": "2023-09-16T11:35:03.240Z"
   },
   {
    "duration": 12,
    "start_time": "2023-09-16T11:35:04.116Z"
   },
   {
    "duration": 1886,
    "start_time": "2023-09-16T11:35:15.885Z"
   },
   {
    "duration": 41,
    "start_time": "2023-09-16T11:35:17.773Z"
   },
   {
    "duration": 14,
    "start_time": "2023-09-16T11:35:17.816Z"
   },
   {
    "duration": 53,
    "start_time": "2023-09-16T11:35:17.832Z"
   },
   {
    "duration": 18,
    "start_time": "2023-09-16T11:35:17.887Z"
   },
   {
    "duration": 631,
    "start_time": "2023-09-16T11:35:17.907Z"
   },
   {
    "duration": 12,
    "start_time": "2023-09-16T11:35:18.540Z"
   },
   {
    "duration": 16,
    "start_time": "2023-09-16T11:35:18.554Z"
   },
   {
    "duration": 23,
    "start_time": "2023-09-16T11:35:18.572Z"
   },
   {
    "duration": 22,
    "start_time": "2023-09-16T11:35:18.597Z"
   },
   {
    "duration": 317,
    "start_time": "2023-09-16T11:35:18.621Z"
   },
   {
    "duration": 3,
    "start_time": "2023-09-16T11:35:18.939Z"
   },
   {
    "duration": 30,
    "start_time": "2023-09-16T11:35:18.944Z"
   },
   {
    "duration": 36,
    "start_time": "2023-09-16T11:35:18.976Z"
   },
   {
    "duration": 12,
    "start_time": "2023-09-16T11:35:19.014Z"
   },
   {
    "duration": 5,
    "start_time": "2023-09-16T11:35:19.028Z"
   },
   {
    "duration": 6,
    "start_time": "2023-09-16T11:35:19.035Z"
   },
   {
    "duration": 5,
    "start_time": "2023-09-16T11:35:19.043Z"
   },
   {
    "duration": 5,
    "start_time": "2023-09-16T11:35:19.050Z"
   },
   {
    "duration": 11,
    "start_time": "2023-09-16T11:35:19.056Z"
   },
   {
    "duration": 12,
    "start_time": "2023-09-16T11:35:19.069Z"
   },
   {
    "duration": 7,
    "start_time": "2023-09-16T11:35:19.124Z"
   },
   {
    "duration": 114,
    "start_time": "2023-09-16T11:35:19.132Z"
   },
   {
    "duration": 150,
    "start_time": "2023-09-16T11:38:00.365Z"
   },
   {
    "duration": 5,
    "start_time": "2023-09-16T11:38:15.761Z"
   },
   {
    "duration": 3,
    "start_time": "2023-09-16T11:38:16.732Z"
   },
   {
    "duration": 6,
    "start_time": "2023-09-16T11:38:17.340Z"
   },
   {
    "duration": 5,
    "start_time": "2023-09-16T11:38:45.167Z"
   },
   {
    "duration": 3,
    "start_time": "2023-09-16T11:38:47.147Z"
   },
   {
    "duration": 6,
    "start_time": "2023-09-16T11:38:48.305Z"
   },
   {
    "duration": 8,
    "start_time": "2023-09-16T11:52:15.058Z"
   },
   {
    "duration": 5,
    "start_time": "2023-09-16T11:52:16.428Z"
   },
   {
    "duration": 1897,
    "start_time": "2023-09-16T11:52:32.363Z"
   },
   {
    "duration": 44,
    "start_time": "2023-09-16T11:52:34.262Z"
   },
   {
    "duration": 31,
    "start_time": "2023-09-16T11:52:34.309Z"
   },
   {
    "duration": 96,
    "start_time": "2023-09-16T11:52:34.342Z"
   },
   {
    "duration": 25,
    "start_time": "2023-09-16T11:52:34.440Z"
   },
   {
    "duration": 636,
    "start_time": "2023-09-16T11:52:34.466Z"
   },
   {
    "duration": 11,
    "start_time": "2023-09-16T11:52:35.104Z"
   },
   {
    "duration": 46,
    "start_time": "2023-09-16T11:52:35.124Z"
   },
   {
    "duration": 23,
    "start_time": "2023-09-16T11:52:35.172Z"
   },
   {
    "duration": 19,
    "start_time": "2023-09-16T11:52:35.197Z"
   },
   {
    "duration": 317,
    "start_time": "2023-09-16T11:52:35.218Z"
   },
   {
    "duration": 3,
    "start_time": "2023-09-16T11:52:35.537Z"
   },
   {
    "duration": 30,
    "start_time": "2023-09-16T11:52:35.542Z"
   },
   {
    "duration": 49,
    "start_time": "2023-09-16T11:52:35.576Z"
   },
   {
    "duration": 5,
    "start_time": "2023-09-16T11:52:35.627Z"
   },
   {
    "duration": 17,
    "start_time": "2023-09-16T11:52:35.634Z"
   },
   {
    "duration": 17,
    "start_time": "2023-09-16T11:52:35.652Z"
   },
   {
    "duration": 19,
    "start_time": "2023-09-16T11:52:35.670Z"
   },
   {
    "duration": 24,
    "start_time": "2023-09-16T11:52:35.691Z"
   },
   {
    "duration": 21,
    "start_time": "2023-09-16T11:52:35.717Z"
   },
   {
    "duration": 16,
    "start_time": "2023-09-16T11:52:35.740Z"
   },
   {
    "duration": 172,
    "start_time": "2023-09-16T11:52:35.758Z"
   },
   {
    "duration": 6,
    "start_time": "2023-09-16T11:58:01.281Z"
   },
   {
    "duration": 6,
    "start_time": "2023-09-16T11:58:02.241Z"
   },
   {
    "duration": 3,
    "start_time": "2023-09-16T11:58:03.566Z"
   },
   {
    "duration": 131,
    "start_time": "2023-09-16T11:58:04.542Z"
   },
   {
    "duration": 5,
    "start_time": "2023-09-16T11:58:19.655Z"
   },
   {
    "duration": 5,
    "start_time": "2023-09-16T11:58:21.072Z"
   },
   {
    "duration": 3,
    "start_time": "2023-09-16T11:58:21.860Z"
   },
   {
    "duration": 5,
    "start_time": "2023-09-16T11:58:22.729Z"
   },
   {
    "duration": 6,
    "start_time": "2023-09-16T11:58:23.187Z"
   },
   {
    "duration": 5,
    "start_time": "2023-09-16T11:58:55.146Z"
   },
   {
    "duration": 7,
    "start_time": "2023-09-16T11:58:55.936Z"
   },
   {
    "duration": 3,
    "start_time": "2023-09-16T11:58:59.243Z"
   },
   {
    "duration": 6,
    "start_time": "2023-09-16T11:59:00.043Z"
   },
   {
    "duration": 11,
    "start_time": "2023-09-16T12:22:51.444Z"
   },
   {
    "duration": 4,
    "start_time": "2023-09-16T12:22:56.950Z"
   },
   {
    "duration": 5,
    "start_time": "2023-09-16T12:23:09.417Z"
   },
   {
    "duration": 3,
    "start_time": "2023-09-16T12:23:15.977Z"
   },
   {
    "duration": 5,
    "start_time": "2023-09-16T12:23:17.050Z"
   },
   {
    "duration": 31,
    "start_time": "2023-09-16T12:23:29.394Z"
   },
   {
    "duration": 1935,
    "start_time": "2023-09-16T12:23:40.352Z"
   },
   {
    "duration": 44,
    "start_time": "2023-09-16T12:23:42.289Z"
   },
   {
    "duration": 21,
    "start_time": "2023-09-16T12:23:42.335Z"
   },
   {
    "duration": 77,
    "start_time": "2023-09-16T12:23:42.359Z"
   },
   {
    "duration": 18,
    "start_time": "2023-09-16T12:23:42.438Z"
   },
   {
    "duration": 661,
    "start_time": "2023-09-16T12:23:42.458Z"
   },
   {
    "duration": 12,
    "start_time": "2023-09-16T12:23:43.123Z"
   },
   {
    "duration": 42,
    "start_time": "2023-09-16T12:23:43.137Z"
   },
   {
    "duration": 15,
    "start_time": "2023-09-16T12:23:43.180Z"
   },
   {
    "duration": 7,
    "start_time": "2023-09-16T12:23:43.197Z"
   },
   {
    "duration": 327,
    "start_time": "2023-09-16T12:23:43.205Z"
   },
   {
    "duration": 3,
    "start_time": "2023-09-16T12:23:43.534Z"
   },
   {
    "duration": 111,
    "start_time": "2023-09-16T12:23:43.539Z"
   },
   {
    "duration": 65,
    "start_time": "2023-09-16T12:23:43.652Z"
   },
   {
    "duration": 4,
    "start_time": "2023-09-16T12:23:43.719Z"
   },
   {
    "duration": 46,
    "start_time": "2023-09-16T12:23:43.725Z"
   },
   {
    "duration": 21,
    "start_time": "2023-09-16T12:23:43.773Z"
   },
   {
    "duration": 21,
    "start_time": "2023-09-16T12:23:43.795Z"
   },
   {
    "duration": 47,
    "start_time": "2023-09-16T12:23:43.817Z"
   },
   {
    "duration": 50,
    "start_time": "2023-09-16T12:23:43.866Z"
   },
   {
    "duration": 120,
    "start_time": "2023-09-16T12:23:43.917Z"
   },
   {
    "duration": 6,
    "start_time": "2023-09-16T12:24:21.360Z"
   },
   {
    "duration": 3,
    "start_time": "2023-09-16T12:24:25.562Z"
   },
   {
    "duration": 5,
    "start_time": "2023-09-16T12:24:27.665Z"
   },
   {
    "duration": 44,
    "start_time": "2023-09-16T12:24:32.080Z"
   },
   {
    "duration": 1893,
    "start_time": "2023-09-16T12:26:24.074Z"
   },
   {
    "duration": 53,
    "start_time": "2023-09-16T12:26:25.970Z"
   },
   {
    "duration": 20,
    "start_time": "2023-09-16T12:26:26.025Z"
   },
   {
    "duration": 103,
    "start_time": "2023-09-16T12:26:26.047Z"
   },
   {
    "duration": 31,
    "start_time": "2023-09-16T12:26:26.152Z"
   },
   {
    "duration": 611,
    "start_time": "2023-09-16T12:26:26.185Z"
   },
   {
    "duration": 26,
    "start_time": "2023-09-16T12:26:26.798Z"
   },
   {
    "duration": 29,
    "start_time": "2023-09-16T12:26:26.825Z"
   },
   {
    "duration": 15,
    "start_time": "2023-09-16T12:26:26.855Z"
   },
   {
    "duration": 18,
    "start_time": "2023-09-16T12:26:26.872Z"
   },
   {
    "duration": 306,
    "start_time": "2023-09-16T12:26:26.892Z"
   },
   {
    "duration": 2,
    "start_time": "2023-09-16T12:26:27.200Z"
   },
   {
    "duration": 30,
    "start_time": "2023-09-16T12:26:27.204Z"
   },
   {
    "duration": 42,
    "start_time": "2023-09-16T12:26:27.237Z"
   },
   {
    "duration": 6,
    "start_time": "2023-09-16T12:26:27.282Z"
   },
   {
    "duration": 6,
    "start_time": "2023-09-16T12:26:27.290Z"
   },
   {
    "duration": 14,
    "start_time": "2023-09-16T12:26:27.298Z"
   },
   {
    "duration": 33,
    "start_time": "2023-09-16T12:26:27.314Z"
   },
   {
    "duration": 23,
    "start_time": "2023-09-16T12:26:27.349Z"
   },
   {
    "duration": 61,
    "start_time": "2023-09-16T12:26:27.374Z"
   },
   {
    "duration": 5,
    "start_time": "2023-09-16T12:27:10.741Z"
   },
   {
    "duration": 5,
    "start_time": "2023-09-16T12:27:17.888Z"
   },
   {
    "duration": 4,
    "start_time": "2023-09-16T12:36:18.595Z"
   },
   {
    "duration": 5,
    "start_time": "2023-09-16T12:36:22.681Z"
   },
   {
    "duration": 3,
    "start_time": "2023-09-16T12:36:29.323Z"
   },
   {
    "duration": 7,
    "start_time": "2023-09-16T12:36:30.798Z"
   },
   {
    "duration": 41,
    "start_time": "2023-09-16T12:36:32.106Z"
   },
   {
    "duration": 5,
    "start_time": "2023-09-16T12:39:09.448Z"
   },
   {
    "duration": 3,
    "start_time": "2023-09-16T12:39:10.523Z"
   },
   {
    "duration": 6,
    "start_time": "2023-09-16T12:39:10.887Z"
   },
   {
    "duration": 76,
    "start_time": "2023-09-16T12:39:11.057Z"
   },
   {
    "duration": 1880,
    "start_time": "2023-09-16T12:39:21.750Z"
   },
   {
    "duration": 42,
    "start_time": "2023-09-16T12:39:23.632Z"
   },
   {
    "duration": 85,
    "start_time": "2023-09-16T12:39:23.676Z"
   },
   {
    "duration": 126,
    "start_time": "2023-09-16T12:39:23.763Z"
   },
   {
    "duration": 99,
    "start_time": "2023-09-16T12:39:23.891Z"
   },
   {
    "duration": 643,
    "start_time": "2023-09-16T12:39:23.991Z"
   },
   {
    "duration": 10,
    "start_time": "2023-09-16T12:39:24.636Z"
   },
   {
    "duration": 274,
    "start_time": "2023-09-16T12:39:24.648Z"
   },
   {
    "duration": 116,
    "start_time": "2023-09-16T12:39:24.924Z"
   },
   {
    "duration": 55,
    "start_time": "2023-09-16T12:39:25.042Z"
   },
   {
    "duration": 304,
    "start_time": "2023-09-16T12:39:25.099Z"
   },
   {
    "duration": 3,
    "start_time": "2023-09-16T12:39:25.404Z"
   },
   {
    "duration": 95,
    "start_time": "2023-09-16T12:39:25.409Z"
   },
   {
    "duration": 86,
    "start_time": "2023-09-16T12:39:25.506Z"
   },
   {
    "duration": 20,
    "start_time": "2023-09-16T12:39:25.594Z"
   },
   {
    "duration": 16,
    "start_time": "2023-09-16T12:39:25.615Z"
   },
   {
    "duration": 50,
    "start_time": "2023-09-16T12:39:25.632Z"
   },
   {
    "duration": 11,
    "start_time": "2023-09-16T12:39:25.684Z"
   },
   {
    "duration": 40,
    "start_time": "2023-09-16T12:39:25.697Z"
   },
   {
    "duration": 57,
    "start_time": "2023-09-16T12:39:25.739Z"
   },
   {
    "duration": 242,
    "start_time": "2023-09-16T12:39:25.798Z"
   },
   {
    "duration": 5,
    "start_time": "2023-09-16T12:39:29.269Z"
   },
   {
    "duration": 75,
    "start_time": "2023-09-16T12:39:30.269Z"
   },
   {
    "duration": 135,
    "start_time": "2023-09-16T12:40:52.113Z"
   },
   {
    "duration": 5,
    "start_time": "2023-09-16T12:41:27.165Z"
   },
   {
    "duration": 6,
    "start_time": "2023-09-16T12:41:29.006Z"
   },
   {
    "duration": 3,
    "start_time": "2023-09-16T12:41:30.060Z"
   },
   {
    "duration": 7,
    "start_time": "2023-09-16T12:41:30.767Z"
   },
   {
    "duration": 46,
    "start_time": "2023-09-16T12:41:32.091Z"
   },
   {
    "duration": 1951,
    "start_time": "2023-09-16T12:41:39.325Z"
   },
   {
    "duration": 44,
    "start_time": "2023-09-16T12:41:41.278Z"
   },
   {
    "duration": 15,
    "start_time": "2023-09-16T12:41:41.323Z"
   },
   {
    "duration": 97,
    "start_time": "2023-09-16T12:41:41.340Z"
   },
   {
    "duration": 41,
    "start_time": "2023-09-16T12:41:41.439Z"
   },
   {
    "duration": 638,
    "start_time": "2023-09-16T12:41:41.482Z"
   },
   {
    "duration": 11,
    "start_time": "2023-09-16T12:41:42.124Z"
   },
   {
    "duration": 30,
    "start_time": "2023-09-16T12:41:42.136Z"
   },
   {
    "duration": 52,
    "start_time": "2023-09-16T12:41:42.168Z"
   },
   {
    "duration": 33,
    "start_time": "2023-09-16T12:41:42.222Z"
   },
   {
    "duration": 348,
    "start_time": "2023-09-16T12:41:42.257Z"
   },
   {
    "duration": 2,
    "start_time": "2023-09-16T12:41:42.607Z"
   },
   {
    "duration": 70,
    "start_time": "2023-09-16T12:41:42.611Z"
   },
   {
    "duration": 88,
    "start_time": "2023-09-16T12:41:42.682Z"
   },
   {
    "duration": 18,
    "start_time": "2023-09-16T12:41:42.771Z"
   },
   {
    "duration": 40,
    "start_time": "2023-09-16T12:41:42.791Z"
   },
   {
    "duration": 37,
    "start_time": "2023-09-16T12:41:42.833Z"
   },
   {
    "duration": 36,
    "start_time": "2023-09-16T12:41:42.872Z"
   },
   {
    "duration": 26,
    "start_time": "2023-09-16T12:41:42.910Z"
   },
   {
    "duration": 22,
    "start_time": "2023-09-16T12:41:42.938Z"
   },
   {
    "duration": 164,
    "start_time": "2023-09-16T12:41:42.962Z"
   },
   {
    "duration": 6,
    "start_time": "2023-09-16T12:42:47.723Z"
   },
   {
    "duration": 6,
    "start_time": "2023-09-16T12:42:58.178Z"
   },
   {
    "duration": 10,
    "start_time": "2023-09-16T12:46:46.225Z"
   },
   {
    "duration": 8,
    "start_time": "2023-09-16T12:46:56.499Z"
   },
   {
    "duration": 9,
    "start_time": "2023-09-16T12:47:03.753Z"
   },
   {
    "duration": 6,
    "start_time": "2023-09-16T12:47:07.331Z"
   },
   {
    "duration": 132,
    "start_time": "2023-09-16T12:48:34.313Z"
   },
   {
    "duration": 96,
    "start_time": "2023-09-16T12:48:54.980Z"
   },
   {
    "duration": 3,
    "start_time": "2023-09-16T12:48:59.767Z"
   },
   {
    "duration": 8,
    "start_time": "2023-09-16T12:49:00.238Z"
   },
   {
    "duration": 95,
    "start_time": "2023-09-16T12:49:00.443Z"
   },
   {
    "duration": 5,
    "start_time": "2023-09-16T12:49:00.631Z"
   },
   {
    "duration": 5,
    "start_time": "2023-09-16T12:50:39.535Z"
   },
   {
    "duration": 6,
    "start_time": "2023-09-16T12:50:40.579Z"
   },
   {
    "duration": 3,
    "start_time": "2023-09-16T12:50:41.177Z"
   },
   {
    "duration": 7,
    "start_time": "2023-09-16T12:50:41.702Z"
   },
   {
    "duration": 76,
    "start_time": "2023-09-16T12:50:41.961Z"
   },
   {
    "duration": 6,
    "start_time": "2023-09-16T12:50:42.737Z"
   },
   {
    "duration": 133,
    "start_time": "2023-09-16T12:51:00.764Z"
   },
   {
    "duration": 5,
    "start_time": "2023-09-16T12:51:06.818Z"
   },
   {
    "duration": 5,
    "start_time": "2023-09-16T12:51:07.561Z"
   },
   {
    "duration": 3,
    "start_time": "2023-09-16T12:51:08.102Z"
   },
   {
    "duration": 7,
    "start_time": "2023-09-16T12:51:08.508Z"
   },
   {
    "duration": 60,
    "start_time": "2023-09-16T12:51:08.778Z"
   },
   {
    "duration": 6,
    "start_time": "2023-09-16T12:51:10.337Z"
   },
   {
    "duration": 6,
    "start_time": "2023-09-16T12:55:15.056Z"
   },
   {
    "duration": 6,
    "start_time": "2023-09-16T12:55:16.178Z"
   },
   {
    "duration": 4,
    "start_time": "2023-09-16T12:55:17.384Z"
   },
   {
    "duration": 7,
    "start_time": "2023-09-16T12:55:18.125Z"
   },
   {
    "duration": 71,
    "start_time": "2023-09-16T12:55:19.974Z"
   },
   {
    "duration": 6,
    "start_time": "2023-09-16T12:55:21.517Z"
   },
   {
    "duration": 1974,
    "start_time": "2023-09-16T12:55:32.413Z"
   },
   {
    "duration": 44,
    "start_time": "2023-09-16T12:55:34.389Z"
   },
   {
    "duration": 191,
    "start_time": "2023-09-16T12:55:34.435Z"
   },
   {
    "duration": 74,
    "start_time": "2023-09-16T12:55:34.628Z"
   },
   {
    "duration": 28,
    "start_time": "2023-09-16T12:55:34.706Z"
   },
   {
    "duration": 660,
    "start_time": "2023-09-16T12:55:34.735Z"
   },
   {
    "duration": 12,
    "start_time": "2023-09-16T12:55:35.397Z"
   },
   {
    "duration": 19,
    "start_time": "2023-09-16T12:55:35.423Z"
   },
   {
    "duration": 62,
    "start_time": "2023-09-16T12:55:35.444Z"
   },
   {
    "duration": 110,
    "start_time": "2023-09-16T12:55:35.508Z"
   },
   {
    "duration": 514,
    "start_time": "2023-09-16T12:55:35.620Z"
   },
   {
    "duration": 3,
    "start_time": "2023-09-16T12:55:36.136Z"
   },
   {
    "duration": 70,
    "start_time": "2023-09-16T12:55:36.140Z"
   },
   {
    "duration": 92,
    "start_time": "2023-09-16T12:55:36.213Z"
   },
   {
    "duration": 69,
    "start_time": "2023-09-16T12:55:36.307Z"
   },
   {
    "duration": 60,
    "start_time": "2023-09-16T12:55:36.378Z"
   },
   {
    "duration": 43,
    "start_time": "2023-09-16T12:55:36.440Z"
   },
   {
    "duration": 97,
    "start_time": "2023-09-16T12:55:36.485Z"
   },
   {
    "duration": 5,
    "start_time": "2023-09-16T12:55:36.583Z"
   },
   {
    "duration": 37,
    "start_time": "2023-09-16T12:55:36.589Z"
   },
   {
    "duration": 204,
    "start_time": "2023-09-16T12:55:36.627Z"
   },
   {
    "duration": 17,
    "start_time": "2023-09-16T12:55:36.833Z"
   },
   {
    "duration": 73,
    "start_time": "2023-09-16T12:55:36.852Z"
   },
   {
    "duration": 6,
    "start_time": "2023-09-16T12:55:41.937Z"
   },
   {
    "duration": 7,
    "start_time": "2023-09-16T12:57:05.953Z"
   },
   {
    "duration": 4,
    "start_time": "2023-09-16T12:58:13.934Z"
   },
   {
    "duration": 5,
    "start_time": "2023-09-16T12:58:14.879Z"
   },
   {
    "duration": 4,
    "start_time": "2023-09-16T12:58:15.844Z"
   },
   {
    "duration": 7,
    "start_time": "2023-09-16T12:58:16.221Z"
   },
   {
    "duration": 84,
    "start_time": "2023-09-16T12:58:17.459Z"
   },
   {
    "duration": 1868,
    "start_time": "2023-09-16T12:58:25.368Z"
   },
   {
    "duration": 42,
    "start_time": "2023-09-16T12:58:27.238Z"
   },
   {
    "duration": 12,
    "start_time": "2023-09-16T12:58:27.282Z"
   },
   {
    "duration": 66,
    "start_time": "2023-09-16T12:58:27.296Z"
   },
   {
    "duration": 17,
    "start_time": "2023-09-16T12:58:27.363Z"
   },
   {
    "duration": 612,
    "start_time": "2023-09-16T12:58:27.382Z"
   },
   {
    "duration": 10,
    "start_time": "2023-09-16T12:58:27.996Z"
   },
   {
    "duration": 34,
    "start_time": "2023-09-16T12:58:28.008Z"
   },
   {
    "duration": 24,
    "start_time": "2023-09-16T12:58:28.043Z"
   },
   {
    "duration": 16,
    "start_time": "2023-09-16T12:58:28.070Z"
   },
   {
    "duration": 288,
    "start_time": "2023-09-16T12:58:28.087Z"
   },
   {
    "duration": 2,
    "start_time": "2023-09-16T12:58:28.376Z"
   },
   {
    "duration": 28,
    "start_time": "2023-09-16T12:58:28.380Z"
   },
   {
    "duration": 43,
    "start_time": "2023-09-16T12:58:28.410Z"
   },
   {
    "duration": 4,
    "start_time": "2023-09-16T12:58:28.454Z"
   },
   {
    "duration": 6,
    "start_time": "2023-09-16T12:58:28.460Z"
   },
   {
    "duration": 6,
    "start_time": "2023-09-16T12:58:28.467Z"
   },
   {
    "duration": 12,
    "start_time": "2023-09-16T12:58:28.474Z"
   },
   {
    "duration": 4,
    "start_time": "2023-09-16T12:58:28.487Z"
   },
   {
    "duration": 36,
    "start_time": "2023-09-16T12:58:28.492Z"
   },
   {
    "duration": 197,
    "start_time": "2023-09-16T12:58:28.530Z"
   },
   {
    "duration": 6,
    "start_time": "2023-09-16T12:58:28.729Z"
   },
   {
    "duration": 16,
    "start_time": "2023-09-16T12:58:28.736Z"
   },
   {
    "duration": 7,
    "start_time": "2023-09-16T12:59:31.229Z"
   },
   {
    "duration": 6,
    "start_time": "2023-09-16T13:00:55.805Z"
   },
   {
    "duration": 6,
    "start_time": "2023-09-16T13:00:57.694Z"
   },
   {
    "duration": 3,
    "start_time": "2023-09-16T13:00:58.852Z"
   },
   {
    "duration": 7,
    "start_time": "2023-09-16T13:00:59.920Z"
   },
   {
    "duration": 151,
    "start_time": "2023-09-16T13:01:01.877Z"
   },
   {
    "duration": 5,
    "start_time": "2023-09-16T13:01:03.625Z"
   },
   {
    "duration": 4,
    "start_time": "2023-09-16T13:01:14.222Z"
   },
   {
    "duration": 63,
    "start_time": "2023-09-16T13:04:19.379Z"
   },
   {
    "duration": 6,
    "start_time": "2023-09-16T13:04:20.642Z"
   },
   {
    "duration": 1917,
    "start_time": "2023-09-16T13:05:46.113Z"
   },
   {
    "duration": 45,
    "start_time": "2023-09-16T13:05:48.032Z"
   },
   {
    "duration": 16,
    "start_time": "2023-09-16T13:05:48.079Z"
   },
   {
    "duration": 273,
    "start_time": "2023-09-16T13:05:48.097Z"
   },
   {
    "duration": 109,
    "start_time": "2023-09-16T13:05:48.372Z"
   },
   {
    "duration": 787,
    "start_time": "2023-09-16T13:05:48.483Z"
   },
   {
    "duration": 12,
    "start_time": "2023-09-16T13:05:49.272Z"
   },
   {
    "duration": 55,
    "start_time": "2023-09-16T13:05:49.285Z"
   },
   {
    "duration": 35,
    "start_time": "2023-09-16T13:05:49.342Z"
   },
   {
    "duration": 139,
    "start_time": "2023-09-16T13:05:49.379Z"
   },
   {
    "duration": 363,
    "start_time": "2023-09-16T13:05:49.520Z"
   },
   {
    "duration": 3,
    "start_time": "2023-09-16T13:05:49.884Z"
   },
   {
    "duration": 35,
    "start_time": "2023-09-16T13:05:49.888Z"
   },
   {
    "duration": 41,
    "start_time": "2023-09-16T13:05:49.926Z"
   },
   {
    "duration": 6,
    "start_time": "2023-09-16T13:05:49.968Z"
   },
   {
    "duration": 21,
    "start_time": "2023-09-16T13:05:49.975Z"
   },
   {
    "duration": 13,
    "start_time": "2023-09-16T13:05:49.997Z"
   },
   {
    "duration": 43,
    "start_time": "2023-09-16T13:05:50.011Z"
   },
   {
    "duration": 38,
    "start_time": "2023-09-16T13:05:50.056Z"
   },
   {
    "duration": 61,
    "start_time": "2023-09-16T13:05:50.096Z"
   },
   {
    "duration": 88,
    "start_time": "2023-09-16T13:05:50.159Z"
   },
   {
    "duration": 8,
    "start_time": "2023-09-16T13:05:50.324Z"
   },
   {
    "duration": 14,
    "start_time": "2023-09-16T13:05:50.334Z"
   },
   {
    "duration": 130,
    "start_time": "2023-09-16T13:05:58.785Z"
   },
   {
    "duration": 6,
    "start_time": "2023-09-16T13:06:08.490Z"
   },
   {
    "duration": 75,
    "start_time": "2023-09-16T13:06:11.470Z"
   },
   {
    "duration": 5,
    "start_time": "2023-09-16T13:10:15.035Z"
   },
   {
    "duration": 12,
    "start_time": "2023-09-16T13:10:50.042Z"
   },
   {
    "duration": 11,
    "start_time": "2023-09-16T13:10:53.036Z"
   },
   {
    "duration": 7,
    "start_time": "2023-09-16T13:11:05.699Z"
   },
   {
    "duration": 4,
    "start_time": "2023-09-16T13:11:15.918Z"
   },
   {
    "duration": 83,
    "start_time": "2023-09-16T13:11:16.085Z"
   },
   {
    "duration": 25,
    "start_time": "2023-09-16T13:11:16.260Z"
   },
   {
    "duration": 66,
    "start_time": "2023-09-16T13:11:16.391Z"
   },
   {
    "duration": 24,
    "start_time": "2023-09-16T13:11:16.596Z"
   },
   {
    "duration": 595,
    "start_time": "2023-09-16T13:11:16.757Z"
   },
   {
    "duration": 10,
    "start_time": "2023-09-16T13:11:17.354Z"
   },
   {
    "duration": 4,
    "start_time": "2023-09-16T13:11:20.042Z"
   },
   {
    "duration": 5,
    "start_time": "2023-09-16T13:11:20.656Z"
   },
   {
    "duration": 9,
    "start_time": "2023-09-16T13:11:23.721Z"
   },
   {
    "duration": 285,
    "start_time": "2023-09-16T13:11:24.397Z"
   },
   {
    "duration": 3,
    "start_time": "2023-09-16T13:11:25.528Z"
   },
   {
    "duration": 5,
    "start_time": "2023-09-16T13:11:26.753Z"
   },
   {
    "duration": 6,
    "start_time": "2023-09-16T13:11:27.189Z"
   },
   {
    "duration": 1943,
    "start_time": "2023-09-16T13:18:12.696Z"
   },
   {
    "duration": 41,
    "start_time": "2023-09-16T13:18:14.641Z"
   },
   {
    "duration": 14,
    "start_time": "2023-09-16T13:18:14.684Z"
   },
   {
    "duration": 57,
    "start_time": "2023-09-16T13:18:14.700Z"
   },
   {
    "duration": 21,
    "start_time": "2023-09-16T13:18:14.759Z"
   },
   {
    "duration": 596,
    "start_time": "2023-09-16T13:18:14.781Z"
   },
   {
    "duration": 16,
    "start_time": "2023-09-16T13:18:15.379Z"
   },
   {
    "duration": 9,
    "start_time": "2023-09-16T13:18:15.397Z"
   },
   {
    "duration": 17,
    "start_time": "2023-09-16T13:18:15.408Z"
   },
   {
    "duration": 46,
    "start_time": "2023-09-16T13:18:15.428Z"
   },
   {
    "duration": 311,
    "start_time": "2023-09-16T13:18:15.477Z"
   },
   {
    "duration": 3,
    "start_time": "2023-09-16T13:18:15.789Z"
   },
   {
    "duration": 151,
    "start_time": "2023-09-16T13:18:15.795Z"
   },
   {
    "duration": 0,
    "start_time": "2023-09-16T13:18:15.948Z"
   },
   {
    "duration": 0,
    "start_time": "2023-09-16T13:18:15.950Z"
   },
   {
    "duration": 0,
    "start_time": "2023-09-16T13:18:15.957Z"
   },
   {
    "duration": 0,
    "start_time": "2023-09-16T13:18:15.959Z"
   },
   {
    "duration": 0,
    "start_time": "2023-09-16T13:18:15.960Z"
   },
   {
    "duration": 0,
    "start_time": "2023-09-16T13:18:15.962Z"
   },
   {
    "duration": 0,
    "start_time": "2023-09-16T13:18:15.964Z"
   },
   {
    "duration": 0,
    "start_time": "2023-09-16T13:18:15.965Z"
   },
   {
    "duration": 0,
    "start_time": "2023-09-16T13:18:15.967Z"
   },
   {
    "duration": 0,
    "start_time": "2023-09-16T13:18:15.969Z"
   },
   {
    "duration": 20,
    "start_time": "2023-09-16T13:18:47.025Z"
   },
   {
    "duration": 45,
    "start_time": "2023-09-16T13:18:47.384Z"
   },
   {
    "duration": 6,
    "start_time": "2023-09-16T13:18:47.749Z"
   },
   {
    "duration": 4,
    "start_time": "2023-09-16T13:18:48.090Z"
   },
   {
    "duration": 7,
    "start_time": "2023-09-16T13:18:48.459Z"
   },
   {
    "duration": 7,
    "start_time": "2023-09-16T13:18:48.763Z"
   },
   {
    "duration": 4,
    "start_time": "2023-09-16T13:18:49.131Z"
   },
   {
    "duration": 9,
    "start_time": "2023-09-16T13:18:49.495Z"
   },
   {
    "duration": 145,
    "start_time": "2023-09-16T13:18:49.689Z"
   },
   {
    "duration": 7,
    "start_time": "2023-09-16T13:18:50.221Z"
   },
   {
    "duration": 6,
    "start_time": "2023-09-16T13:18:50.450Z"
   },
   {
    "duration": 4858,
    "start_time": "2023-09-16T13:31:36.182Z"
   },
   {
    "duration": 3699,
    "start_time": "2023-09-16T13:31:59.425Z"
   },
   {
    "duration": 8349,
    "start_time": "2023-09-16T13:32:16.082Z"
   },
   {
    "duration": 7,
    "start_time": "2023-09-16T13:32:55.664Z"
   },
   {
    "duration": 8,
    "start_time": "2023-09-16T13:33:14.537Z"
   },
   {
    "duration": 1919,
    "start_time": "2023-09-16T13:34:03.246Z"
   },
   {
    "duration": 42,
    "start_time": "2023-09-16T13:34:05.168Z"
   },
   {
    "duration": 27,
    "start_time": "2023-09-16T13:34:05.212Z"
   },
   {
    "duration": 157,
    "start_time": "2023-09-16T13:34:05.240Z"
   },
   {
    "duration": 36,
    "start_time": "2023-09-16T13:34:05.399Z"
   },
   {
    "duration": 693,
    "start_time": "2023-09-16T13:34:05.437Z"
   },
   {
    "duration": 12,
    "start_time": "2023-09-16T13:34:06.131Z"
   },
   {
    "duration": 73,
    "start_time": "2023-09-16T13:34:06.145Z"
   },
   {
    "duration": 97,
    "start_time": "2023-09-16T13:34:06.220Z"
   },
   {
    "duration": 91,
    "start_time": "2023-09-16T13:34:06.319Z"
   },
   {
    "duration": 399,
    "start_time": "2023-09-16T13:34:06.412Z"
   },
   {
    "duration": 3,
    "start_time": "2023-09-16T13:34:06.813Z"
   },
   {
    "duration": 87,
    "start_time": "2023-09-16T13:34:06.823Z"
   },
   {
    "duration": 161,
    "start_time": "2023-09-16T13:34:06.913Z"
   },
   {
    "duration": 31,
    "start_time": "2023-09-16T13:34:07.076Z"
   },
   {
    "duration": 59,
    "start_time": "2023-09-16T13:34:07.109Z"
   },
   {
    "duration": 64,
    "start_time": "2023-09-16T13:34:07.169Z"
   },
   {
    "duration": 26,
    "start_time": "2023-09-16T13:34:07.235Z"
   },
   {
    "duration": 106,
    "start_time": "2023-09-16T13:34:07.263Z"
   },
   {
    "duration": 132,
    "start_time": "2023-09-16T13:34:07.371Z"
   },
   {
    "duration": 7325,
    "start_time": "2023-09-16T13:34:07.504Z"
   },
   {
    "duration": 7,
    "start_time": "2023-09-16T13:34:14.831Z"
   },
   {
    "duration": 18,
    "start_time": "2023-09-16T13:34:14.840Z"
   },
   {
    "duration": 3,
    "start_time": "2023-09-16T13:34:24.593Z"
   },
   {
    "duration": 14,
    "start_time": "2023-09-16T13:34:25.818Z"
   },
   {
    "duration": 7087,
    "start_time": "2023-09-16T13:34:26.089Z"
   },
   {
    "duration": 77,
    "start_time": "2023-09-16T13:34:42.919Z"
   },
   {
    "duration": 1969,
    "start_time": "2023-09-16T13:34:48.198Z"
   },
   {
    "duration": 42,
    "start_time": "2023-09-16T13:34:50.169Z"
   },
   {
    "duration": 15,
    "start_time": "2023-09-16T13:34:50.213Z"
   },
   {
    "duration": 84,
    "start_time": "2023-09-16T13:34:50.230Z"
   },
   {
    "duration": 30,
    "start_time": "2023-09-16T13:34:50.316Z"
   },
   {
    "duration": 670,
    "start_time": "2023-09-16T13:34:50.348Z"
   },
   {
    "duration": 16,
    "start_time": "2023-09-16T13:34:51.024Z"
   },
   {
    "duration": 32,
    "start_time": "2023-09-16T13:34:51.042Z"
   },
   {
    "duration": 7,
    "start_time": "2023-09-16T13:34:51.076Z"
   },
   {
    "duration": 48,
    "start_time": "2023-09-16T13:34:51.086Z"
   },
   {
    "duration": 360,
    "start_time": "2023-09-16T13:34:51.136Z"
   },
   {
    "duration": 3,
    "start_time": "2023-09-16T13:34:51.498Z"
   },
   {
    "duration": 60,
    "start_time": "2023-09-16T13:34:51.503Z"
   },
   {
    "duration": 66,
    "start_time": "2023-09-16T13:34:51.564Z"
   },
   {
    "duration": 5,
    "start_time": "2023-09-16T13:34:51.631Z"
   },
   {
    "duration": 36,
    "start_time": "2023-09-16T13:34:51.637Z"
   },
   {
    "duration": 36,
    "start_time": "2023-09-16T13:34:51.674Z"
   },
   {
    "duration": 49,
    "start_time": "2023-09-16T13:34:51.712Z"
   },
   {
    "duration": 26,
    "start_time": "2023-09-16T13:34:51.763Z"
   },
   {
    "duration": 23,
    "start_time": "2023-09-16T13:34:51.791Z"
   },
   {
    "duration": 7410,
    "start_time": "2023-09-16T13:34:51.816Z"
   },
   {
    "duration": 8,
    "start_time": "2023-09-16T13:34:59.228Z"
   },
   {
    "duration": 139,
    "start_time": "2023-09-16T13:34:59.237Z"
   },
   {
    "duration": 2074,
    "start_time": "2023-09-16T13:35:37.925Z"
   },
   {
    "duration": 53,
    "start_time": "2023-09-16T13:35:40.002Z"
   },
   {
    "duration": 35,
    "start_time": "2023-09-16T13:35:40.058Z"
   },
   {
    "duration": 171,
    "start_time": "2023-09-16T13:35:40.095Z"
   },
   {
    "duration": 28,
    "start_time": "2023-09-16T13:35:40.269Z"
   },
   {
    "duration": 777,
    "start_time": "2023-09-16T13:35:40.304Z"
   },
   {
    "duration": 17,
    "start_time": "2023-09-16T13:35:41.084Z"
   },
   {
    "duration": 37,
    "start_time": "2023-09-16T13:35:41.103Z"
   },
   {
    "duration": 26,
    "start_time": "2023-09-16T13:35:41.142Z"
   },
   {
    "duration": 44,
    "start_time": "2023-09-16T13:35:41.171Z"
   },
   {
    "duration": 435,
    "start_time": "2023-09-16T13:35:41.218Z"
   },
   {
    "duration": 3,
    "start_time": "2023-09-16T13:35:41.655Z"
   },
   {
    "duration": 65,
    "start_time": "2023-09-16T13:35:41.659Z"
   },
   {
    "duration": 52,
    "start_time": "2023-09-16T13:35:41.728Z"
   },
   {
    "duration": 5,
    "start_time": "2023-09-16T13:35:41.783Z"
   },
   {
    "duration": 20,
    "start_time": "2023-09-16T13:35:41.790Z"
   },
   {
    "duration": 26,
    "start_time": "2023-09-16T13:35:41.812Z"
   },
   {
    "duration": 7,
    "start_time": "2023-09-16T13:35:41.841Z"
   },
   {
    "duration": 12,
    "start_time": "2023-09-16T13:35:41.850Z"
   },
   {
    "duration": 18,
    "start_time": "2023-09-16T13:35:41.864Z"
   },
   {
    "duration": 12747,
    "start_time": "2023-09-16T13:35:41.884Z"
   },
   {
    "duration": 7,
    "start_time": "2023-09-16T13:35:54.634Z"
   },
   {
    "duration": 44,
    "start_time": "2023-09-16T13:35:54.644Z"
   },
   {
    "duration": 2059,
    "start_time": "2023-09-16T13:36:15.065Z"
   },
   {
    "duration": 45,
    "start_time": "2023-09-16T13:36:17.126Z"
   },
   {
    "duration": 118,
    "start_time": "2023-09-16T13:36:17.172Z"
   },
   {
    "duration": 50,
    "start_time": "2023-09-16T13:36:17.292Z"
   },
   {
    "duration": 20,
    "start_time": "2023-09-16T13:36:17.344Z"
   },
   {
    "duration": 732,
    "start_time": "2023-09-16T13:36:17.365Z"
   },
   {
    "duration": 25,
    "start_time": "2023-09-16T13:36:18.099Z"
   },
   {
    "duration": 16,
    "start_time": "2023-09-16T13:36:18.126Z"
   },
   {
    "duration": 14,
    "start_time": "2023-09-16T13:36:18.144Z"
   },
   {
    "duration": 17,
    "start_time": "2023-09-16T13:36:18.161Z"
   },
   {
    "duration": 338,
    "start_time": "2023-09-16T13:36:18.180Z"
   },
   {
    "duration": 3,
    "start_time": "2023-09-16T13:36:18.524Z"
   },
   {
    "duration": 35,
    "start_time": "2023-09-16T13:36:18.528Z"
   },
   {
    "duration": 62,
    "start_time": "2023-09-16T13:36:18.566Z"
   },
   {
    "duration": 5,
    "start_time": "2023-09-16T13:36:18.629Z"
   },
   {
    "duration": 15,
    "start_time": "2023-09-16T13:36:18.636Z"
   },
   {
    "duration": 6,
    "start_time": "2023-09-16T13:36:18.653Z"
   },
   {
    "duration": 6,
    "start_time": "2023-09-16T13:36:18.661Z"
   },
   {
    "duration": 3,
    "start_time": "2023-09-16T13:36:18.668Z"
   },
   {
    "duration": 51,
    "start_time": "2023-09-16T13:36:18.673Z"
   },
   {
    "duration": 14419,
    "start_time": "2023-09-16T13:36:18.726Z"
   },
   {
    "duration": 82,
    "start_time": "2023-09-16T13:36:33.147Z"
   },
   {
    "duration": 123,
    "start_time": "2023-09-16T13:36:33.231Z"
   },
   {
    "duration": 1876,
    "start_time": "2023-09-16T13:37:28.017Z"
   },
   {
    "duration": 42,
    "start_time": "2023-09-16T13:37:29.895Z"
   },
   {
    "duration": 13,
    "start_time": "2023-09-16T13:37:29.939Z"
   },
   {
    "duration": 69,
    "start_time": "2023-09-16T13:37:29.953Z"
   },
   {
    "duration": 43,
    "start_time": "2023-09-16T13:37:30.023Z"
   },
   {
    "duration": 682,
    "start_time": "2023-09-16T13:37:30.068Z"
   },
   {
    "duration": 11,
    "start_time": "2023-09-16T13:37:30.752Z"
   },
   {
    "duration": 40,
    "start_time": "2023-09-16T13:37:30.765Z"
   },
   {
    "duration": 29,
    "start_time": "2023-09-16T13:37:30.807Z"
   },
   {
    "duration": 42,
    "start_time": "2023-09-16T13:37:30.838Z"
   },
   {
    "duration": 345,
    "start_time": "2023-09-16T13:37:30.882Z"
   },
   {
    "duration": 2,
    "start_time": "2023-09-16T13:37:31.229Z"
   },
   {
    "duration": 51,
    "start_time": "2023-09-16T13:37:31.232Z"
   },
   {
    "duration": 60,
    "start_time": "2023-09-16T13:37:31.285Z"
   },
   {
    "duration": 13,
    "start_time": "2023-09-16T13:37:31.346Z"
   },
   {
    "duration": 31,
    "start_time": "2023-09-16T13:37:31.361Z"
   },
   {
    "duration": 36,
    "start_time": "2023-09-16T13:37:31.394Z"
   },
   {
    "duration": 33,
    "start_time": "2023-09-16T13:37:31.433Z"
   },
   {
    "duration": 24,
    "start_time": "2023-09-16T13:37:31.468Z"
   },
   {
    "duration": 33,
    "start_time": "2023-09-16T13:37:31.494Z"
   },
   {
    "duration": 12504,
    "start_time": "2023-09-16T13:37:31.529Z"
   },
   {
    "duration": 7,
    "start_time": "2023-09-16T13:37:44.035Z"
   },
   {
    "duration": 33,
    "start_time": "2023-09-16T13:37:44.043Z"
   },
   {
    "duration": 4,
    "start_time": "2023-09-16T13:38:12.119Z"
   },
   {
    "duration": 4,
    "start_time": "2023-09-16T13:38:40.156Z"
   },
   {
    "duration": 4,
    "start_time": "2023-09-16T13:38:57.843Z"
   },
   {
    "duration": 6,
    "start_time": "2023-09-16T13:38:58.791Z"
   },
   {
    "duration": 12057,
    "start_time": "2023-09-16T13:38:59.371Z"
   },
   {
    "duration": 2232,
    "start_time": "2023-09-16T13:40:05.914Z"
   },
   {
    "duration": 42,
    "start_time": "2023-09-16T13:40:08.148Z"
   },
   {
    "duration": 14,
    "start_time": "2023-09-16T13:40:08.192Z"
   },
   {
    "duration": 64,
    "start_time": "2023-09-16T13:40:08.208Z"
   },
   {
    "duration": 18,
    "start_time": "2023-09-16T13:40:08.274Z"
   },
   {
    "duration": 702,
    "start_time": "2023-09-16T13:40:08.294Z"
   },
   {
    "duration": 25,
    "start_time": "2023-09-16T13:40:08.999Z"
   },
   {
    "duration": 5,
    "start_time": "2023-09-16T13:40:09.026Z"
   },
   {
    "duration": 12,
    "start_time": "2023-09-16T13:40:09.033Z"
   },
   {
    "duration": 6,
    "start_time": "2023-09-16T13:40:09.047Z"
   },
   {
    "duration": 385,
    "start_time": "2023-09-16T13:40:09.055Z"
   },
   {
    "duration": 4,
    "start_time": "2023-09-16T13:40:09.442Z"
   },
   {
    "duration": 36,
    "start_time": "2023-09-16T13:40:09.447Z"
   },
   {
    "duration": 45,
    "start_time": "2023-09-16T13:40:09.486Z"
   },
   {
    "duration": 7,
    "start_time": "2023-09-16T13:40:09.534Z"
   },
   {
    "duration": 14,
    "start_time": "2023-09-16T13:40:09.542Z"
   },
   {
    "duration": 23,
    "start_time": "2023-09-16T13:40:09.558Z"
   },
   {
    "duration": 28,
    "start_time": "2023-09-16T13:40:09.583Z"
   },
   {
    "duration": 23,
    "start_time": "2023-09-16T13:40:09.613Z"
   },
   {
    "duration": 19,
    "start_time": "2023-09-16T13:40:09.639Z"
   },
   {
    "duration": 18871,
    "start_time": "2023-09-16T13:40:09.661Z"
   },
   {
    "duration": 3,
    "start_time": "2023-09-16T13:40:28.534Z"
   },
   {
    "duration": 58,
    "start_time": "2023-09-16T13:40:28.540Z"
   },
   {
    "duration": 17,
    "start_time": "2023-09-16T13:40:28.599Z"
   },
   {
    "duration": 23,
    "start_time": "2023-09-16T13:40:28.618Z"
   },
   {
    "duration": 4,
    "start_time": "2023-09-16T13:40:40.240Z"
   },
   {
    "duration": 4,
    "start_time": "2023-09-16T13:40:40.955Z"
   },
   {
    "duration": 1908,
    "start_time": "2023-09-16T13:43:03.594Z"
   },
   {
    "duration": 45,
    "start_time": "2023-09-16T13:43:05.504Z"
   },
   {
    "duration": 17,
    "start_time": "2023-09-16T13:43:05.551Z"
   },
   {
    "duration": 113,
    "start_time": "2023-09-16T13:43:05.569Z"
   },
   {
    "duration": 148,
    "start_time": "2023-09-16T13:43:05.684Z"
   },
   {
    "duration": 712,
    "start_time": "2023-09-16T13:43:05.834Z"
   },
   {
    "duration": 13,
    "start_time": "2023-09-16T13:43:06.548Z"
   },
   {
    "duration": 90,
    "start_time": "2023-09-16T13:43:06.562Z"
   },
   {
    "duration": 157,
    "start_time": "2023-09-16T13:43:06.654Z"
   },
   {
    "duration": 25,
    "start_time": "2023-09-16T13:43:06.813Z"
   },
   {
    "duration": 324,
    "start_time": "2023-09-16T13:43:06.840Z"
   },
   {
    "duration": 3,
    "start_time": "2023-09-16T13:43:07.165Z"
   },
   {
    "duration": 45,
    "start_time": "2023-09-16T13:43:07.170Z"
   },
   {
    "duration": 85,
    "start_time": "2023-09-16T13:43:07.218Z"
   },
   {
    "duration": 4,
    "start_time": "2023-09-16T13:43:07.305Z"
   },
   {
    "duration": 118,
    "start_time": "2023-09-16T13:43:07.311Z"
   },
   {
    "duration": 26,
    "start_time": "2023-09-16T13:43:07.431Z"
   },
   {
    "duration": 33,
    "start_time": "2023-09-16T13:43:07.459Z"
   },
   {
    "duration": 17,
    "start_time": "2023-09-16T13:43:07.494Z"
   },
   {
    "duration": 124,
    "start_time": "2023-09-16T13:43:07.513Z"
   },
   {
    "duration": 11886,
    "start_time": "2023-09-16T13:43:07.639Z"
   },
   {
    "duration": 4,
    "start_time": "2023-09-16T13:43:19.527Z"
   },
   {
    "duration": 9,
    "start_time": "2023-09-16T13:43:19.533Z"
   },
   {
    "duration": 8,
    "start_time": "2023-09-16T13:43:19.544Z"
   },
   {
    "duration": 8,
    "start_time": "2023-09-16T13:43:19.553Z"
   },
   {
    "duration": 6,
    "start_time": "2023-09-16T13:43:50.131Z"
   },
   {
    "duration": 7,
    "start_time": "2023-09-16T13:43:50.820Z"
   },
   {
    "duration": 4,
    "start_time": "2023-09-16T13:43:51.841Z"
   },
   {
    "duration": 8,
    "start_time": "2023-09-16T13:43:53.029Z"
   },
   {
    "duration": 11000,
    "start_time": "2023-09-16T13:43:53.528Z"
   },
   {
    "duration": 4,
    "start_time": "2023-09-16T13:44:11.005Z"
   },
   {
    "duration": 4,
    "start_time": "2023-09-16T13:44:11.734Z"
   },
   {
    "duration": 7,
    "start_time": "2023-09-16T13:45:45.086Z"
   },
   {
    "duration": 6,
    "start_time": "2023-09-16T13:45:48.600Z"
   },
   {
    "duration": 3,
    "start_time": "2023-09-16T13:46:05.237Z"
   },
   {
    "duration": 8,
    "start_time": "2023-09-16T13:46:05.955Z"
   },
   {
    "duration": 10707,
    "start_time": "2023-09-16T13:46:06.828Z"
   },
   {
    "duration": 4,
    "start_time": "2023-09-16T13:46:20.819Z"
   },
   {
    "duration": 4,
    "start_time": "2023-09-16T13:46:21.625Z"
   },
   {
    "duration": 2023,
    "start_time": "2023-09-16T13:46:28.401Z"
   },
   {
    "duration": 44,
    "start_time": "2023-09-16T13:46:30.426Z"
   },
   {
    "duration": 34,
    "start_time": "2023-09-16T13:46:30.472Z"
   },
   {
    "duration": 106,
    "start_time": "2023-09-16T13:46:30.508Z"
   },
   {
    "duration": 39,
    "start_time": "2023-09-16T13:46:30.616Z"
   },
   {
    "duration": 697,
    "start_time": "2023-09-16T13:46:30.656Z"
   },
   {
    "duration": 12,
    "start_time": "2023-09-16T13:46:31.355Z"
   },
   {
    "duration": 51,
    "start_time": "2023-09-16T13:46:31.369Z"
   },
   {
    "duration": 92,
    "start_time": "2023-09-16T13:46:31.422Z"
   },
   {
    "duration": 81,
    "start_time": "2023-09-16T13:46:31.516Z"
   },
   {
    "duration": 361,
    "start_time": "2023-09-16T13:46:31.598Z"
   },
   {
    "duration": 3,
    "start_time": "2023-09-16T13:46:31.961Z"
   },
   {
    "duration": 204,
    "start_time": "2023-09-16T13:46:31.965Z"
   },
   {
    "duration": 227,
    "start_time": "2023-09-16T13:46:32.171Z"
   },
   {
    "duration": 6,
    "start_time": "2023-09-16T13:46:32.400Z"
   },
   {
    "duration": 457,
    "start_time": "2023-09-16T13:46:32.408Z"
   },
   {
    "duration": 409,
    "start_time": "2023-09-16T13:46:32.867Z"
   },
   {
    "duration": 115,
    "start_time": "2023-09-16T13:46:33.278Z"
   },
   {
    "duration": 34,
    "start_time": "2023-09-16T13:46:33.395Z"
   },
   {
    "duration": 452,
    "start_time": "2023-09-16T13:46:33.431Z"
   },
   {
    "duration": 11045,
    "start_time": "2023-09-16T13:46:33.885Z"
   },
   {
    "duration": 4,
    "start_time": "2023-09-16T13:46:44.932Z"
   },
   {
    "duration": 27,
    "start_time": "2023-09-16T13:46:44.938Z"
   },
   {
    "duration": 18,
    "start_time": "2023-09-16T13:46:44.967Z"
   },
   {
    "duration": 85,
    "start_time": "2023-09-16T13:46:44.987Z"
   },
   {
    "duration": 5,
    "start_time": "2023-09-16T13:47:56.825Z"
   },
   {
    "duration": 7,
    "start_time": "2023-09-16T13:47:57.539Z"
   },
   {
    "duration": 3,
    "start_time": "2023-09-16T13:47:58.843Z"
   },
   {
    "duration": 12164,
    "start_time": "2023-09-16T13:47:59.770Z"
   },
   {
    "duration": 4,
    "start_time": "2023-09-16T13:48:14.256Z"
   },
   {
    "duration": 3,
    "start_time": "2023-09-16T13:48:15.199Z"
   },
   {
    "duration": 6,
    "start_time": "2023-09-16T13:48:24.138Z"
   },
   {
    "duration": 6,
    "start_time": "2023-09-16T13:48:25.110Z"
   },
   {
    "duration": 4,
    "start_time": "2023-09-16T13:48:25.914Z"
   },
   {
    "duration": 11618,
    "start_time": "2023-09-16T13:48:26.821Z"
   },
   {
    "duration": 4,
    "start_time": "2023-09-16T13:48:42.384Z"
   },
   {
    "duration": 4,
    "start_time": "2023-09-16T13:48:42.881Z"
   },
   {
    "duration": 1929,
    "start_time": "2023-09-16T13:49:18.550Z"
   },
   {
    "duration": 53,
    "start_time": "2023-09-16T13:49:20.481Z"
   },
   {
    "duration": 17,
    "start_time": "2023-09-16T13:49:20.537Z"
   },
   {
    "duration": 74,
    "start_time": "2023-09-16T13:49:20.555Z"
   },
   {
    "duration": 23,
    "start_time": "2023-09-16T13:49:20.632Z"
   },
   {
    "duration": 608,
    "start_time": "2023-09-16T13:49:20.656Z"
   },
   {
    "duration": 11,
    "start_time": "2023-09-16T13:49:21.265Z"
   },
   {
    "duration": 11,
    "start_time": "2023-09-16T13:49:21.279Z"
   },
   {
    "duration": 7,
    "start_time": "2023-09-16T13:49:21.292Z"
   },
   {
    "duration": 25,
    "start_time": "2023-09-16T13:49:21.300Z"
   },
   {
    "duration": 319,
    "start_time": "2023-09-16T13:49:21.327Z"
   },
   {
    "duration": 3,
    "start_time": "2023-09-16T13:49:21.648Z"
   },
   {
    "duration": 172,
    "start_time": "2023-09-16T13:49:21.653Z"
   },
   {
    "duration": 138,
    "start_time": "2023-09-16T13:49:21.827Z"
   },
   {
    "duration": 26,
    "start_time": "2023-09-16T13:49:21.967Z"
   },
   {
    "duration": 22,
    "start_time": "2023-09-16T13:49:21.995Z"
   },
   {
    "duration": 24,
    "start_time": "2023-09-16T13:49:22.018Z"
   },
   {
    "duration": 161,
    "start_time": "2023-09-16T13:49:22.044Z"
   },
   {
    "duration": 74,
    "start_time": "2023-09-16T13:49:22.206Z"
   },
   {
    "duration": 9650,
    "start_time": "2023-09-16T13:49:22.282Z"
   },
   {
    "duration": 4,
    "start_time": "2023-09-16T13:49:31.933Z"
   },
   {
    "duration": 140,
    "start_time": "2023-09-16T13:49:31.938Z"
   },
   {
    "duration": 1857,
    "start_time": "2023-09-16T13:50:12.173Z"
   },
   {
    "duration": 42,
    "start_time": "2023-09-16T13:50:14.033Z"
   },
   {
    "duration": 15,
    "start_time": "2023-09-16T13:50:14.077Z"
   },
   {
    "duration": 85,
    "start_time": "2023-09-16T13:50:14.093Z"
   },
   {
    "duration": 28,
    "start_time": "2023-09-16T13:50:14.180Z"
   },
   {
    "duration": 619,
    "start_time": "2023-09-16T13:50:14.210Z"
   },
   {
    "duration": 13,
    "start_time": "2023-09-16T13:50:14.830Z"
   },
   {
    "duration": 11,
    "start_time": "2023-09-16T13:50:14.844Z"
   },
   {
    "duration": 10,
    "start_time": "2023-09-16T13:50:14.856Z"
   },
   {
    "duration": 6,
    "start_time": "2023-09-16T13:50:14.868Z"
   },
   {
    "duration": 333,
    "start_time": "2023-09-16T13:50:14.877Z"
   },
   {
    "duration": 12,
    "start_time": "2023-09-16T13:50:15.212Z"
   },
   {
    "duration": 38,
    "start_time": "2023-09-16T13:50:15.226Z"
   },
   {
    "duration": 40,
    "start_time": "2023-09-16T13:50:15.267Z"
   },
   {
    "duration": 4,
    "start_time": "2023-09-16T13:50:15.309Z"
   },
   {
    "duration": 19,
    "start_time": "2023-09-16T13:50:15.314Z"
   },
   {
    "duration": 19,
    "start_time": "2023-09-16T13:50:15.335Z"
   },
   {
    "duration": 22,
    "start_time": "2023-09-16T13:50:15.356Z"
   },
   {
    "duration": 20,
    "start_time": "2023-09-16T13:50:15.380Z"
   },
   {
    "duration": 10522,
    "start_time": "2023-09-16T13:50:15.402Z"
   },
   {
    "duration": 6,
    "start_time": "2023-09-16T13:50:25.926Z"
   },
   {
    "duration": 49,
    "start_time": "2023-09-16T13:50:25.934Z"
   },
   {
    "duration": 6,
    "start_time": "2023-09-16T13:51:48.007Z"
   },
   {
    "duration": 1909,
    "start_time": "2023-09-16T13:51:57.560Z"
   },
   {
    "duration": 44,
    "start_time": "2023-09-16T13:51:59.471Z"
   },
   {
    "duration": 13,
    "start_time": "2023-09-16T13:51:59.517Z"
   },
   {
    "duration": 49,
    "start_time": "2023-09-16T13:51:59.532Z"
   },
   {
    "duration": 18,
    "start_time": "2023-09-16T13:51:59.584Z"
   },
   {
    "duration": 641,
    "start_time": "2023-09-16T13:51:59.604Z"
   },
   {
    "duration": 12,
    "start_time": "2023-09-16T13:52:00.247Z"
   },
   {
    "duration": 85,
    "start_time": "2023-09-16T13:52:00.261Z"
   },
   {
    "duration": 71,
    "start_time": "2023-09-16T13:52:00.349Z"
   },
   {
    "duration": 49,
    "start_time": "2023-09-16T13:52:00.422Z"
   },
   {
    "duration": 369,
    "start_time": "2023-09-16T13:52:00.473Z"
   },
   {
    "duration": 4,
    "start_time": "2023-09-16T13:52:00.843Z"
   },
   {
    "duration": 65,
    "start_time": "2023-09-16T13:52:00.848Z"
   },
   {
    "duration": 71,
    "start_time": "2023-09-16T13:52:00.916Z"
   },
   {
    "duration": 249,
    "start_time": "2023-09-16T13:52:00.989Z"
   },
   {
    "duration": 210,
    "start_time": "2023-09-16T13:52:01.241Z"
   },
   {
    "duration": 104,
    "start_time": "2023-09-16T13:52:01.453Z"
   },
   {
    "duration": 50,
    "start_time": "2023-09-16T13:52:01.559Z"
   },
   {
    "duration": 42,
    "start_time": "2023-09-16T13:52:01.610Z"
   },
   {
    "duration": 11687,
    "start_time": "2023-09-16T13:52:01.654Z"
   },
   {
    "duration": 3,
    "start_time": "2023-09-16T13:52:13.343Z"
   },
   {
    "duration": 78,
    "start_time": "2023-09-16T13:52:13.347Z"
   },
   {
    "duration": 2025,
    "start_time": "2023-09-16T13:54:15.081Z"
   },
   {
    "duration": 43,
    "start_time": "2023-09-16T13:54:17.108Z"
   },
   {
    "duration": 13,
    "start_time": "2023-09-16T13:54:17.153Z"
   },
   {
    "duration": 126,
    "start_time": "2023-09-16T13:54:17.168Z"
   },
   {
    "duration": 131,
    "start_time": "2023-09-16T13:54:17.296Z"
   },
   {
    "duration": 703,
    "start_time": "2023-09-16T13:54:17.429Z"
   },
   {
    "duration": 11,
    "start_time": "2023-09-16T13:54:18.133Z"
   },
   {
    "duration": 86,
    "start_time": "2023-09-16T13:54:18.145Z"
   },
   {
    "duration": 52,
    "start_time": "2023-09-16T13:54:18.232Z"
   },
   {
    "duration": 139,
    "start_time": "2023-09-16T13:54:18.285Z"
   },
   {
    "duration": 354,
    "start_time": "2023-09-16T13:54:18.425Z"
   },
   {
    "duration": 3,
    "start_time": "2023-09-16T13:54:18.781Z"
   },
   {
    "duration": 128,
    "start_time": "2023-09-16T13:54:18.785Z"
   },
   {
    "duration": 97,
    "start_time": "2023-09-16T13:54:18.916Z"
   },
   {
    "duration": 128,
    "start_time": "2023-09-16T13:54:19.015Z"
   },
   {
    "duration": 19,
    "start_time": "2023-09-16T13:54:19.145Z"
   },
   {
    "duration": 32,
    "start_time": "2023-09-16T13:54:19.165Z"
   },
   {
    "duration": 23,
    "start_time": "2023-09-16T13:54:19.199Z"
   },
   {
    "duration": 104,
    "start_time": "2023-09-16T13:54:19.224Z"
   },
   {
    "duration": 12311,
    "start_time": "2023-09-16T13:54:19.330Z"
   },
   {
    "duration": 4,
    "start_time": "2023-09-16T13:54:31.642Z"
   },
   {
    "duration": 78,
    "start_time": "2023-09-16T13:54:31.648Z"
   },
   {
    "duration": 1823,
    "start_time": "2023-09-16T13:54:42.856Z"
   },
   {
    "duration": 43,
    "start_time": "2023-09-16T13:54:44.682Z"
   },
   {
    "duration": 15,
    "start_time": "2023-09-16T13:54:44.727Z"
   },
   {
    "duration": 75,
    "start_time": "2023-09-16T13:54:44.743Z"
   },
   {
    "duration": 116,
    "start_time": "2023-09-16T13:54:44.820Z"
   },
   {
    "duration": 634,
    "start_time": "2023-09-16T13:54:44.938Z"
   },
   {
    "duration": 11,
    "start_time": "2023-09-16T13:54:45.573Z"
   },
   {
    "duration": 27,
    "start_time": "2023-09-16T13:54:45.586Z"
   },
   {
    "duration": 21,
    "start_time": "2023-09-16T13:54:45.615Z"
   },
   {
    "duration": 47,
    "start_time": "2023-09-16T13:54:45.638Z"
   },
   {
    "duration": 398,
    "start_time": "2023-09-16T13:54:45.687Z"
   },
   {
    "duration": 3,
    "start_time": "2023-09-16T13:54:46.087Z"
   },
   {
    "duration": 199,
    "start_time": "2023-09-16T13:54:46.092Z"
   },
   {
    "duration": 84,
    "start_time": "2023-09-16T13:54:46.294Z"
   },
   {
    "duration": 5,
    "start_time": "2023-09-16T13:54:46.380Z"
   },
   {
    "duration": 15,
    "start_time": "2023-09-16T13:54:46.387Z"
   },
   {
    "duration": 141,
    "start_time": "2023-09-16T13:54:46.403Z"
   },
   {
    "duration": 61,
    "start_time": "2023-09-16T13:54:46.545Z"
   },
   {
    "duration": 281,
    "start_time": "2023-09-16T13:54:46.609Z"
   },
   {
    "duration": 23252,
    "start_time": "2023-09-16T13:54:46.892Z"
   },
   {
    "duration": 78,
    "start_time": "2023-09-16T13:55:10.146Z"
   },
   {
    "duration": 4,
    "start_time": "2023-09-16T13:55:10.226Z"
   },
   {
    "duration": 1924,
    "start_time": "2023-09-16T13:55:48.777Z"
   },
   {
    "duration": 42,
    "start_time": "2023-09-16T13:55:50.703Z"
   },
   {
    "duration": 14,
    "start_time": "2023-09-16T13:55:50.746Z"
   },
   {
    "duration": 68,
    "start_time": "2023-09-16T13:55:50.762Z"
   },
   {
    "duration": 26,
    "start_time": "2023-09-16T13:55:50.832Z"
   },
   {
    "duration": 600,
    "start_time": "2023-09-16T13:55:50.859Z"
   },
   {
    "duration": 11,
    "start_time": "2023-09-16T13:55:51.461Z"
   },
   {
    "duration": 19,
    "start_time": "2023-09-16T13:55:51.474Z"
   },
   {
    "duration": 7,
    "start_time": "2023-09-16T13:55:51.494Z"
   },
   {
    "duration": 5,
    "start_time": "2023-09-16T13:55:51.504Z"
   },
   {
    "duration": 310,
    "start_time": "2023-09-16T13:55:51.511Z"
   },
   {
    "duration": 3,
    "start_time": "2023-09-16T13:55:51.822Z"
   },
   {
    "duration": 34,
    "start_time": "2023-09-16T13:55:51.826Z"
   },
   {
    "duration": 34,
    "start_time": "2023-09-16T13:55:51.862Z"
   },
   {
    "duration": 4,
    "start_time": "2023-09-16T13:55:51.898Z"
   },
   {
    "duration": 20,
    "start_time": "2023-09-16T13:55:51.904Z"
   },
   {
    "duration": 8,
    "start_time": "2023-09-16T13:55:51.926Z"
   },
   {
    "duration": 6,
    "start_time": "2023-09-16T13:55:51.936Z"
   },
   {
    "duration": 8,
    "start_time": "2023-09-16T13:55:51.945Z"
   },
   {
    "duration": 10780,
    "start_time": "2023-09-16T13:55:51.955Z"
   },
   {
    "duration": 4,
    "start_time": "2023-09-16T13:56:02.737Z"
   },
   {
    "duration": 6,
    "start_time": "2023-09-16T13:56:02.742Z"
   },
   {
    "duration": 1807,
    "start_time": "2023-09-16T13:56:52.333Z"
   },
   {
    "duration": 44,
    "start_time": "2023-09-16T13:56:54.142Z"
   },
   {
    "duration": 15,
    "start_time": "2023-09-16T13:56:54.187Z"
   },
   {
    "duration": 75,
    "start_time": "2023-09-16T13:56:54.203Z"
   },
   {
    "duration": 20,
    "start_time": "2023-09-16T13:56:54.280Z"
   },
   {
    "duration": 612,
    "start_time": "2023-09-16T13:56:54.302Z"
   },
   {
    "duration": 21,
    "start_time": "2023-09-16T13:56:54.917Z"
   },
   {
    "duration": 24,
    "start_time": "2023-09-16T13:56:54.940Z"
   },
   {
    "duration": 8,
    "start_time": "2023-09-16T13:56:54.965Z"
   },
   {
    "duration": 4,
    "start_time": "2023-09-16T13:56:54.975Z"
   },
   {
    "duration": 306,
    "start_time": "2023-09-16T13:56:54.981Z"
   },
   {
    "duration": 3,
    "start_time": "2023-09-16T13:56:55.289Z"
   },
   {
    "duration": 37,
    "start_time": "2023-09-16T13:56:55.293Z"
   },
   {
    "duration": 36,
    "start_time": "2023-09-16T13:56:55.332Z"
   },
   {
    "duration": 4,
    "start_time": "2023-09-16T13:56:55.370Z"
   },
   {
    "duration": 8,
    "start_time": "2023-09-16T13:56:55.376Z"
   },
   {
    "duration": 9,
    "start_time": "2023-09-16T13:56:55.385Z"
   },
   {
    "duration": 32,
    "start_time": "2023-09-16T13:56:55.395Z"
   },
   {
    "duration": 7,
    "start_time": "2023-09-16T13:56:55.429Z"
   },
   {
    "duration": 12111,
    "start_time": "2023-09-16T13:56:55.438Z"
   },
   {
    "duration": 4,
    "start_time": "2023-09-16T13:57:07.625Z"
   },
   {
    "duration": 31,
    "start_time": "2023-09-16T13:57:07.630Z"
   },
   {
    "duration": 1903,
    "start_time": "2023-09-16T13:57:26.683Z"
   },
   {
    "duration": 43,
    "start_time": "2023-09-16T13:57:28.587Z"
   },
   {
    "duration": 14,
    "start_time": "2023-09-16T13:57:28.631Z"
   },
   {
    "duration": 55,
    "start_time": "2023-09-16T13:57:28.647Z"
   },
   {
    "duration": 35,
    "start_time": "2023-09-16T13:57:28.704Z"
   },
   {
    "duration": 638,
    "start_time": "2023-09-16T13:57:28.740Z"
   },
   {
    "duration": 12,
    "start_time": "2023-09-16T13:57:29.380Z"
   },
   {
    "duration": 6,
    "start_time": "2023-09-16T13:57:29.393Z"
   },
   {
    "duration": 26,
    "start_time": "2023-09-16T13:57:29.400Z"
   },
   {
    "duration": 4,
    "start_time": "2023-09-16T13:57:29.428Z"
   },
   {
    "duration": 304,
    "start_time": "2023-09-16T13:57:29.434Z"
   },
   {
    "duration": 4,
    "start_time": "2023-09-16T13:57:29.739Z"
   },
   {
    "duration": 21,
    "start_time": "2023-09-16T13:57:29.744Z"
   },
   {
    "duration": 33,
    "start_time": "2023-09-16T13:57:29.767Z"
   },
   {
    "duration": 24,
    "start_time": "2023-09-16T13:57:29.802Z"
   },
   {
    "duration": 11,
    "start_time": "2023-09-16T13:57:29.828Z"
   },
   {
    "duration": 31,
    "start_time": "2023-09-16T13:57:29.841Z"
   },
   {
    "duration": 5,
    "start_time": "2023-09-16T13:57:29.874Z"
   },
   {
    "duration": 6,
    "start_time": "2023-09-16T13:57:29.880Z"
   },
   {
    "duration": 11452,
    "start_time": "2023-09-16T13:57:29.887Z"
   },
   {
    "duration": 4,
    "start_time": "2023-09-16T13:57:41.341Z"
   },
   {
    "duration": 79,
    "start_time": "2023-09-16T13:57:41.347Z"
   },
   {
    "duration": 1763,
    "start_time": "2023-09-16T13:58:18.274Z"
   },
   {
    "duration": 51,
    "start_time": "2023-09-16T13:58:20.039Z"
   },
   {
    "duration": 13,
    "start_time": "2023-09-16T13:58:20.091Z"
   },
   {
    "duration": 123,
    "start_time": "2023-09-16T13:58:20.107Z"
   },
   {
    "duration": 42,
    "start_time": "2023-09-16T13:58:20.232Z"
   },
   {
    "duration": 627,
    "start_time": "2023-09-16T13:58:20.276Z"
   },
   {
    "duration": 27,
    "start_time": "2023-09-16T13:58:20.905Z"
   },
   {
    "duration": 24,
    "start_time": "2023-09-16T13:58:20.933Z"
   },
   {
    "duration": 8,
    "start_time": "2023-09-16T13:58:20.959Z"
   },
   {
    "duration": 10,
    "start_time": "2023-09-16T13:58:20.969Z"
   },
   {
    "duration": 310,
    "start_time": "2023-09-16T13:58:20.981Z"
   },
   {
    "duration": 2,
    "start_time": "2023-09-16T13:58:21.293Z"
   },
   {
    "duration": 37,
    "start_time": "2023-09-16T13:58:21.297Z"
   },
   {
    "duration": 34,
    "start_time": "2023-09-16T13:58:21.336Z"
   },
   {
    "duration": 4,
    "start_time": "2023-09-16T13:58:21.372Z"
   },
   {
    "duration": 9,
    "start_time": "2023-09-16T13:58:21.378Z"
   },
   {
    "duration": 10,
    "start_time": "2023-09-16T13:58:21.389Z"
   },
   {
    "duration": 25,
    "start_time": "2023-09-16T13:58:21.401Z"
   },
   {
    "duration": 11,
    "start_time": "2023-09-16T13:58:21.427Z"
   },
   {
    "duration": 11288,
    "start_time": "2023-09-16T13:58:21.440Z"
   },
   {
    "duration": 4,
    "start_time": "2023-09-16T13:58:32.730Z"
   },
   {
    "duration": 177,
    "start_time": "2023-09-16T13:58:32.735Z"
   },
   {
    "duration": 767,
    "start_time": "2023-09-16T14:01:57.061Z"
   },
   {
    "duration": 1983,
    "start_time": "2023-09-16T14:02:19.845Z"
   },
   {
    "duration": 43,
    "start_time": "2023-09-16T14:02:21.830Z"
   },
   {
    "duration": 16,
    "start_time": "2023-09-16T14:02:21.875Z"
   },
   {
    "duration": 86,
    "start_time": "2023-09-16T14:02:21.892Z"
   },
   {
    "duration": 20,
    "start_time": "2023-09-16T14:02:21.980Z"
   },
   {
    "duration": 645,
    "start_time": "2023-09-16T14:02:22.002Z"
   },
   {
    "duration": 10,
    "start_time": "2023-09-16T14:02:22.649Z"
   },
   {
    "duration": 42,
    "start_time": "2023-09-16T14:02:22.661Z"
   },
   {
    "duration": 19,
    "start_time": "2023-09-16T14:02:22.704Z"
   },
   {
    "duration": 20,
    "start_time": "2023-09-16T14:02:22.724Z"
   },
   {
    "duration": 333,
    "start_time": "2023-09-16T14:02:22.745Z"
   },
   {
    "duration": 3,
    "start_time": "2023-09-16T14:02:23.079Z"
   },
   {
    "duration": 40,
    "start_time": "2023-09-16T14:02:23.084Z"
   },
   {
    "duration": 52,
    "start_time": "2023-09-16T14:02:23.128Z"
   },
   {
    "duration": 4,
    "start_time": "2023-09-16T14:02:23.182Z"
   },
   {
    "duration": 25,
    "start_time": "2023-09-16T14:02:23.187Z"
   },
   {
    "duration": 27,
    "start_time": "2023-09-16T14:02:23.214Z"
   },
   {
    "duration": 22,
    "start_time": "2023-09-16T14:02:23.243Z"
   },
   {
    "duration": 41,
    "start_time": "2023-09-16T14:02:23.267Z"
   },
   {
    "duration": 8621,
    "start_time": "2023-09-16T14:02:23.310Z"
   },
   {
    "duration": 4,
    "start_time": "2023-09-16T14:02:31.933Z"
   },
   {
    "duration": 63,
    "start_time": "2023-09-16T14:02:31.939Z"
   },
   {
    "duration": 712,
    "start_time": "2023-09-16T14:02:46.222Z"
   },
   {
    "duration": 1926,
    "start_time": "2023-09-16T14:02:53.653Z"
   },
   {
    "duration": 43,
    "start_time": "2023-09-16T14:02:55.581Z"
   },
   {
    "duration": 14,
    "start_time": "2023-09-16T14:02:55.625Z"
   },
   {
    "duration": 73,
    "start_time": "2023-09-16T14:02:55.641Z"
   },
   {
    "duration": 18,
    "start_time": "2023-09-16T14:02:55.716Z"
   },
   {
    "duration": 695,
    "start_time": "2023-09-16T14:02:55.736Z"
   },
   {
    "duration": 12,
    "start_time": "2023-09-16T14:02:56.433Z"
   },
   {
    "duration": 64,
    "start_time": "2023-09-16T14:02:56.447Z"
   },
   {
    "duration": 136,
    "start_time": "2023-09-16T14:02:56.513Z"
   },
   {
    "duration": 176,
    "start_time": "2023-09-16T14:02:56.651Z"
   },
   {
    "duration": 313,
    "start_time": "2023-09-16T14:02:56.829Z"
   },
   {
    "duration": 2,
    "start_time": "2023-09-16T14:02:57.144Z"
   },
   {
    "duration": 39,
    "start_time": "2023-09-16T14:02:57.148Z"
   },
   {
    "duration": 52,
    "start_time": "2023-09-16T14:02:57.189Z"
   },
   {
    "duration": 5,
    "start_time": "2023-09-16T14:02:57.242Z"
   },
   {
    "duration": 15,
    "start_time": "2023-09-16T14:02:57.249Z"
   },
   {
    "duration": 22,
    "start_time": "2023-09-16T14:02:57.266Z"
   },
   {
    "duration": 32,
    "start_time": "2023-09-16T14:02:57.289Z"
   },
   {
    "duration": 44,
    "start_time": "2023-09-16T14:02:57.322Z"
   },
   {
    "duration": 9665,
    "start_time": "2023-09-16T14:02:57.368Z"
   },
   {
    "duration": 3,
    "start_time": "2023-09-16T14:03:07.035Z"
   },
   {
    "duration": 171,
    "start_time": "2023-09-16T14:03:07.040Z"
   },
   {
    "duration": 1964,
    "start_time": "2023-09-16T14:03:45.712Z"
   },
   {
    "duration": 45,
    "start_time": "2023-09-16T14:03:47.678Z"
   },
   {
    "duration": 14,
    "start_time": "2023-09-16T14:03:47.725Z"
   },
   {
    "duration": 72,
    "start_time": "2023-09-16T14:03:47.742Z"
   },
   {
    "duration": 22,
    "start_time": "2023-09-16T14:03:47.815Z"
   },
   {
    "duration": 629,
    "start_time": "2023-09-16T14:03:47.839Z"
   },
   {
    "duration": 12,
    "start_time": "2023-09-16T14:03:48.471Z"
   },
   {
    "duration": 6,
    "start_time": "2023-09-16T14:03:48.485Z"
   },
   {
    "duration": 12,
    "start_time": "2023-09-16T14:03:48.492Z"
   },
   {
    "duration": 18,
    "start_time": "2023-09-16T14:03:48.507Z"
   },
   {
    "duration": 330,
    "start_time": "2023-09-16T14:03:48.527Z"
   },
   {
    "duration": 3,
    "start_time": "2023-09-16T14:03:48.858Z"
   },
   {
    "duration": 22,
    "start_time": "2023-09-16T14:03:48.862Z"
   },
   {
    "duration": 65,
    "start_time": "2023-09-16T14:03:48.886Z"
   },
   {
    "duration": 4,
    "start_time": "2023-09-16T14:03:48.953Z"
   },
   {
    "duration": 8,
    "start_time": "2023-09-16T14:03:48.959Z"
   },
   {
    "duration": 6,
    "start_time": "2023-09-16T14:03:48.969Z"
   },
   {
    "duration": 12,
    "start_time": "2023-09-16T14:03:48.976Z"
   },
   {
    "duration": 5,
    "start_time": "2023-09-16T14:03:48.990Z"
   },
   {
    "duration": 9028,
    "start_time": "2023-09-16T14:03:48.996Z"
   },
   {
    "duration": 4,
    "start_time": "2023-09-16T14:03:58.026Z"
   },
   {
    "duration": 5,
    "start_time": "2023-09-16T14:03:58.032Z"
   },
   {
    "duration": 1979,
    "start_time": "2023-09-16T14:04:17.572Z"
   },
   {
    "duration": 42,
    "start_time": "2023-09-16T14:04:19.553Z"
   },
   {
    "duration": 15,
    "start_time": "2023-09-16T14:04:19.596Z"
   },
   {
    "duration": 97,
    "start_time": "2023-09-16T14:04:19.612Z"
   },
   {
    "duration": 17,
    "start_time": "2023-09-16T14:04:19.712Z"
   },
   {
    "duration": 676,
    "start_time": "2023-09-16T14:04:19.730Z"
   },
   {
    "duration": 20,
    "start_time": "2023-09-16T14:04:20.408Z"
   },
   {
    "duration": 33,
    "start_time": "2023-09-16T14:04:20.430Z"
   },
   {
    "duration": 11,
    "start_time": "2023-09-16T14:04:20.466Z"
   },
   {
    "duration": 21,
    "start_time": "2023-09-16T14:04:20.479Z"
   },
   {
    "duration": 322,
    "start_time": "2023-09-16T14:04:20.502Z"
   },
   {
    "duration": 2,
    "start_time": "2023-09-16T14:04:20.826Z"
   },
   {
    "duration": 119,
    "start_time": "2023-09-16T14:04:20.830Z"
   },
   {
    "duration": 158,
    "start_time": "2023-09-16T14:04:20.951Z"
   },
   {
    "duration": 75,
    "start_time": "2023-09-16T14:04:21.111Z"
   },
   {
    "duration": 73,
    "start_time": "2023-09-16T14:04:21.188Z"
   },
   {
    "duration": 94,
    "start_time": "2023-09-16T14:04:21.263Z"
   },
   {
    "duration": 28,
    "start_time": "2023-09-16T14:04:21.358Z"
   },
   {
    "duration": 6,
    "start_time": "2023-09-16T14:04:21.388Z"
   },
   {
    "duration": 8836,
    "start_time": "2023-09-16T14:04:21.395Z"
   },
   {
    "duration": 3,
    "start_time": "2023-09-16T14:04:30.234Z"
   },
   {
    "duration": 93,
    "start_time": "2023-09-16T14:04:30.238Z"
   },
   {
    "duration": 1894,
    "start_time": "2023-09-16T14:05:27.661Z"
   },
   {
    "duration": 42,
    "start_time": "2023-09-16T14:05:29.557Z"
   },
   {
    "duration": 15,
    "start_time": "2023-09-16T14:05:29.600Z"
   },
   {
    "duration": 78,
    "start_time": "2023-09-16T14:05:29.616Z"
   },
   {
    "duration": 18,
    "start_time": "2023-09-16T14:05:29.696Z"
   },
   {
    "duration": 642,
    "start_time": "2023-09-16T14:05:29.716Z"
   },
   {
    "duration": 12,
    "start_time": "2023-09-16T14:05:30.360Z"
   },
   {
    "duration": 46,
    "start_time": "2023-09-16T14:05:30.374Z"
   },
   {
    "duration": 38,
    "start_time": "2023-09-16T14:05:30.422Z"
   },
   {
    "duration": 59,
    "start_time": "2023-09-16T14:05:30.462Z"
   },
   {
    "duration": 320,
    "start_time": "2023-09-16T14:05:30.523Z"
   },
   {
    "duration": 3,
    "start_time": "2023-09-16T14:05:30.845Z"
   },
   {
    "duration": 56,
    "start_time": "2023-09-16T14:05:30.850Z"
   },
   {
    "duration": 57,
    "start_time": "2023-09-16T14:05:30.910Z"
   },
   {
    "duration": 7,
    "start_time": "2023-09-16T14:05:30.969Z"
   },
   {
    "duration": 32,
    "start_time": "2023-09-16T14:05:30.977Z"
   },
   {
    "duration": 44,
    "start_time": "2023-09-16T14:05:31.011Z"
   },
   {
    "duration": 28,
    "start_time": "2023-09-16T14:05:31.057Z"
   },
   {
    "duration": 59,
    "start_time": "2023-09-16T14:05:31.086Z"
   },
   {
    "duration": 6500,
    "start_time": "2023-09-16T14:05:31.146Z"
   },
   {
    "duration": 4,
    "start_time": "2023-09-16T14:05:37.725Z"
   },
   {
    "duration": 12,
    "start_time": "2023-09-16T14:05:37.731Z"
   },
   {
    "duration": 1938,
    "start_time": "2023-09-16T14:07:18.443Z"
   },
   {
    "duration": 44,
    "start_time": "2023-09-16T14:07:20.383Z"
   },
   {
    "duration": 14,
    "start_time": "2023-09-16T14:07:20.429Z"
   },
   {
    "duration": 97,
    "start_time": "2023-09-16T14:07:20.445Z"
   },
   {
    "duration": 27,
    "start_time": "2023-09-16T14:07:20.543Z"
   },
   {
    "duration": 654,
    "start_time": "2023-09-16T14:07:20.572Z"
   },
   {
    "duration": 11,
    "start_time": "2023-09-16T14:07:21.228Z"
   },
   {
    "duration": 46,
    "start_time": "2023-09-16T14:07:21.241Z"
   },
   {
    "duration": 60,
    "start_time": "2023-09-16T14:07:21.289Z"
   },
   {
    "duration": 55,
    "start_time": "2023-09-16T14:07:21.352Z"
   },
   {
    "duration": 315,
    "start_time": "2023-09-16T14:07:21.409Z"
   },
   {
    "duration": 2,
    "start_time": "2023-09-16T14:07:21.726Z"
   },
   {
    "duration": 49,
    "start_time": "2023-09-16T14:07:21.730Z"
   },
   {
    "duration": 85,
    "start_time": "2023-09-16T14:07:21.781Z"
   },
   {
    "duration": 54,
    "start_time": "2023-09-16T14:07:21.867Z"
   },
   {
    "duration": 29,
    "start_time": "2023-09-16T14:07:21.923Z"
   },
   {
    "duration": 23,
    "start_time": "2023-09-16T14:07:21.954Z"
   },
   {
    "duration": 60,
    "start_time": "2023-09-16T14:07:21.978Z"
   },
   {
    "duration": 23,
    "start_time": "2023-09-16T14:07:22.040Z"
   },
   {
    "duration": 8673,
    "start_time": "2023-09-16T14:07:22.065Z"
   },
   {
    "duration": 10,
    "start_time": "2023-09-16T14:07:30.740Z"
   },
   {
    "duration": 73,
    "start_time": "2023-09-16T14:07:30.751Z"
   },
   {
    "duration": 1970,
    "start_time": "2023-09-16T14:07:54.544Z"
   },
   {
    "duration": 44,
    "start_time": "2023-09-16T14:07:56.515Z"
   },
   {
    "duration": 35,
    "start_time": "2023-09-16T14:07:56.561Z"
   },
   {
    "duration": 72,
    "start_time": "2023-09-16T14:07:56.598Z"
   },
   {
    "duration": 71,
    "start_time": "2023-09-16T14:07:56.672Z"
   },
   {
    "duration": 681,
    "start_time": "2023-09-16T14:07:56.745Z"
   },
   {
    "duration": 12,
    "start_time": "2023-09-16T14:07:57.428Z"
   },
   {
    "duration": 33,
    "start_time": "2023-09-16T14:07:57.442Z"
   },
   {
    "duration": 14,
    "start_time": "2023-09-16T14:07:57.478Z"
   },
   {
    "duration": 7,
    "start_time": "2023-09-16T14:07:57.494Z"
   },
   {
    "duration": 325,
    "start_time": "2023-09-16T14:07:57.503Z"
   },
   {
    "duration": 3,
    "start_time": "2023-09-16T14:07:57.829Z"
   },
   {
    "duration": 106,
    "start_time": "2023-09-16T14:07:57.834Z"
   },
   {
    "duration": 82,
    "start_time": "2023-09-16T14:07:57.942Z"
   },
   {
    "duration": 5,
    "start_time": "2023-09-16T14:07:58.026Z"
   },
   {
    "duration": 8,
    "start_time": "2023-09-16T14:07:58.032Z"
   },
   {
    "duration": 19,
    "start_time": "2023-09-16T14:07:58.042Z"
   },
   {
    "duration": 14,
    "start_time": "2023-09-16T14:07:58.064Z"
   },
   {
    "duration": 8,
    "start_time": "2023-09-16T14:07:58.080Z"
   },
   {
    "duration": 8040,
    "start_time": "2023-09-16T14:07:58.090Z"
   },
   {
    "duration": 4,
    "start_time": "2023-09-16T14:08:06.132Z"
   },
   {
    "duration": 9,
    "start_time": "2023-09-16T14:08:06.138Z"
   },
   {
    "duration": 2039,
    "start_time": "2023-09-16T14:08:30.173Z"
   },
   {
    "duration": 47,
    "start_time": "2023-09-16T14:08:32.214Z"
   },
   {
    "duration": 20,
    "start_time": "2023-09-16T14:08:32.263Z"
   },
   {
    "duration": 97,
    "start_time": "2023-09-16T14:08:32.285Z"
   },
   {
    "duration": 22,
    "start_time": "2023-09-16T14:08:32.385Z"
   },
   {
    "duration": 645,
    "start_time": "2023-09-16T14:08:32.408Z"
   },
   {
    "duration": 12,
    "start_time": "2023-09-16T14:08:33.055Z"
   },
   {
    "duration": 6,
    "start_time": "2023-09-16T14:08:33.069Z"
   },
   {
    "duration": 6,
    "start_time": "2023-09-16T14:08:33.077Z"
   },
   {
    "duration": 7,
    "start_time": "2023-09-16T14:08:33.085Z"
   },
   {
    "duration": 340,
    "start_time": "2023-09-16T14:08:33.094Z"
   },
   {
    "duration": 3,
    "start_time": "2023-09-16T14:08:33.436Z"
   },
   {
    "duration": 26,
    "start_time": "2023-09-16T14:08:33.441Z"
   },
   {
    "duration": 55,
    "start_time": "2023-09-16T14:08:33.470Z"
   },
   {
    "duration": 5,
    "start_time": "2023-09-16T14:08:33.526Z"
   },
   {
    "duration": 16,
    "start_time": "2023-09-16T14:08:33.532Z"
   },
   {
    "duration": 29,
    "start_time": "2023-09-16T14:08:33.549Z"
   },
   {
    "duration": 14,
    "start_time": "2023-09-16T14:08:33.580Z"
   },
   {
    "duration": 19,
    "start_time": "2023-09-16T14:08:33.595Z"
   },
   {
    "duration": 8827,
    "start_time": "2023-09-16T14:08:33.615Z"
   },
   {
    "duration": 4,
    "start_time": "2023-09-16T14:08:42.444Z"
   },
   {
    "duration": 23,
    "start_time": "2023-09-16T14:08:42.449Z"
   },
   {
    "duration": 1887,
    "start_time": "2023-09-16T14:09:06.423Z"
   },
   {
    "duration": 42,
    "start_time": "2023-09-16T14:09:08.312Z"
   },
   {
    "duration": 15,
    "start_time": "2023-09-16T14:09:08.356Z"
   },
   {
    "duration": 74,
    "start_time": "2023-09-16T14:09:08.372Z"
   },
   {
    "duration": 29,
    "start_time": "2023-09-16T14:09:08.448Z"
   },
   {
    "duration": 620,
    "start_time": "2023-09-16T14:09:08.479Z"
   },
   {
    "duration": 12,
    "start_time": "2023-09-16T14:09:09.100Z"
   },
   {
    "duration": 9,
    "start_time": "2023-09-16T14:09:09.124Z"
   },
   {
    "duration": 30,
    "start_time": "2023-09-16T14:09:09.134Z"
   },
   {
    "duration": 12,
    "start_time": "2023-09-16T14:09:09.166Z"
   },
   {
    "duration": 339,
    "start_time": "2023-09-16T14:09:09.180Z"
   },
   {
    "duration": 2,
    "start_time": "2023-09-16T14:09:09.524Z"
   },
   {
    "duration": 69,
    "start_time": "2023-09-16T14:09:09.528Z"
   },
   {
    "duration": 90,
    "start_time": "2023-09-16T14:09:09.600Z"
   },
   {
    "duration": 5,
    "start_time": "2023-09-16T14:09:09.692Z"
   },
   {
    "duration": 28,
    "start_time": "2023-09-16T14:09:09.699Z"
   },
   {
    "duration": 20,
    "start_time": "2023-09-16T14:09:09.729Z"
   },
   {
    "duration": 21,
    "start_time": "2023-09-16T14:09:09.751Z"
   },
   {
    "duration": 48,
    "start_time": "2023-09-16T14:09:09.773Z"
   },
   {
    "duration": 7922,
    "start_time": "2023-09-16T14:09:09.823Z"
   },
   {
    "duration": 78,
    "start_time": "2023-09-16T14:09:17.747Z"
   },
   {
    "duration": 197,
    "start_time": "2023-09-16T14:09:17.827Z"
   },
   {
    "duration": 1983,
    "start_time": "2023-09-16T14:10:05.809Z"
   },
   {
    "duration": 49,
    "start_time": "2023-09-16T14:10:07.794Z"
   },
   {
    "duration": 29,
    "start_time": "2023-09-16T14:10:07.845Z"
   },
   {
    "duration": 86,
    "start_time": "2023-09-16T14:10:07.876Z"
   },
   {
    "duration": 23,
    "start_time": "2023-09-16T14:10:07.964Z"
   },
   {
    "duration": 650,
    "start_time": "2023-09-16T14:10:07.989Z"
   },
   {
    "duration": 11,
    "start_time": "2023-09-16T14:10:08.641Z"
   },
   {
    "duration": 84,
    "start_time": "2023-09-16T14:10:08.653Z"
   },
   {
    "duration": 13,
    "start_time": "2023-09-16T14:10:08.739Z"
   },
   {
    "duration": 54,
    "start_time": "2023-09-16T14:10:08.754Z"
   },
   {
    "duration": 399,
    "start_time": "2023-09-16T14:10:08.809Z"
   },
   {
    "duration": 3,
    "start_time": "2023-09-16T14:10:09.211Z"
   },
   {
    "duration": 22,
    "start_time": "2023-09-16T14:10:09.224Z"
   },
   {
    "duration": 119,
    "start_time": "2023-09-16T14:10:09.249Z"
   },
   {
    "duration": 19,
    "start_time": "2023-09-16T14:10:09.370Z"
   },
   {
    "duration": 31,
    "start_time": "2023-09-16T14:10:09.391Z"
   },
   {
    "duration": 32,
    "start_time": "2023-09-16T14:10:09.424Z"
   },
   {
    "duration": 40,
    "start_time": "2023-09-16T14:10:09.458Z"
   },
   {
    "duration": 11,
    "start_time": "2023-09-16T14:10:09.501Z"
   },
   {
    "duration": 9624,
    "start_time": "2023-09-16T14:10:09.513Z"
   },
   {
    "duration": 4,
    "start_time": "2023-09-16T14:10:19.139Z"
   },
   {
    "duration": 40,
    "start_time": "2023-09-16T14:10:19.145Z"
   },
   {
    "duration": 134,
    "start_time": "2023-09-16T14:13:59.119Z"
   },
   {
    "duration": 21,
    "start_time": "2023-09-16T14:15:39.094Z"
   },
   {
    "duration": 5,
    "start_time": "2023-09-16T14:15:56.775Z"
   },
   {
    "duration": 19,
    "start_time": "2023-09-16T14:16:30.272Z"
   },
   {
    "duration": 12,
    "start_time": "2023-09-16T14:16:54.085Z"
   },
   {
    "duration": 4,
    "start_time": "2023-09-16T14:18:36.805Z"
   },
   {
    "duration": 10,
    "start_time": "2023-09-16T14:18:43.574Z"
   },
   {
    "duration": 4,
    "start_time": "2023-09-16T14:18:56.667Z"
   },
   {
    "duration": 2149,
    "start_time": "2023-09-16T14:21:10.118Z"
   },
   {
    "duration": 43,
    "start_time": "2023-09-16T14:21:12.271Z"
   },
   {
    "duration": 21,
    "start_time": "2023-09-16T14:21:12.316Z"
   },
   {
    "duration": 75,
    "start_time": "2023-09-16T14:21:12.339Z"
   },
   {
    "duration": 28,
    "start_time": "2023-09-16T14:21:12.416Z"
   },
   {
    "duration": 722,
    "start_time": "2023-09-16T14:21:12.446Z"
   },
   {
    "duration": 13,
    "start_time": "2023-09-16T14:21:13.169Z"
   },
   {
    "duration": 6,
    "start_time": "2023-09-16T14:21:13.183Z"
   },
   {
    "duration": 7,
    "start_time": "2023-09-16T14:21:13.190Z"
   },
   {
    "duration": 77,
    "start_time": "2023-09-16T14:21:13.198Z"
   },
   {
    "duration": 0,
    "start_time": "2023-09-16T14:21:13.277Z"
   },
   {
    "duration": 0,
    "start_time": "2023-09-16T14:21:13.278Z"
   },
   {
    "duration": 0,
    "start_time": "2023-09-16T14:21:13.280Z"
   },
   {
    "duration": 0,
    "start_time": "2023-09-16T14:21:13.282Z"
   },
   {
    "duration": 0,
    "start_time": "2023-09-16T14:21:13.283Z"
   },
   {
    "duration": 0,
    "start_time": "2023-09-16T14:21:13.284Z"
   },
   {
    "duration": 0,
    "start_time": "2023-09-16T14:21:13.285Z"
   },
   {
    "duration": 0,
    "start_time": "2023-09-16T14:21:13.286Z"
   },
   {
    "duration": 0,
    "start_time": "2023-09-16T14:21:13.288Z"
   },
   {
    "duration": 0,
    "start_time": "2023-09-16T14:21:13.289Z"
   },
   {
    "duration": 0,
    "start_time": "2023-09-16T14:21:13.290Z"
   },
   {
    "duration": 0,
    "start_time": "2023-09-16T14:21:13.291Z"
   },
   {
    "duration": 0,
    "start_time": "2023-09-16T14:21:13.292Z"
   },
   {
    "duration": 0,
    "start_time": "2023-09-16T14:21:13.293Z"
   },
   {
    "duration": 0,
    "start_time": "2023-09-16T14:21:13.294Z"
   },
   {
    "duration": 0,
    "start_time": "2023-09-16T14:21:13.295Z"
   },
   {
    "duration": 8,
    "start_time": "2023-09-16T14:21:37.027Z"
   },
   {
    "duration": 4,
    "start_time": "2023-09-16T14:21:37.217Z"
   },
   {
    "duration": 294,
    "start_time": "2023-09-16T14:21:37.370Z"
   },
   {
    "duration": 3,
    "start_time": "2023-09-16T14:21:37.673Z"
   },
   {
    "duration": 19,
    "start_time": "2023-09-16T14:21:37.999Z"
   },
   {
    "duration": 36,
    "start_time": "2023-09-16T14:21:38.333Z"
   },
   {
    "duration": 7,
    "start_time": "2023-09-16T14:21:38.638Z"
   },
   {
    "duration": 3,
    "start_time": "2023-09-16T14:21:38.974Z"
   },
   {
    "duration": 8,
    "start_time": "2023-09-16T14:21:39.307Z"
   },
   {
    "duration": 8,
    "start_time": "2023-09-16T14:21:39.622Z"
   },
   {
    "duration": 3,
    "start_time": "2023-09-16T14:21:39.957Z"
   },
   {
    "duration": 18130,
    "start_time": "2023-09-16T14:21:40.295Z"
   },
   {
    "duration": 8,
    "start_time": "2023-09-16T14:21:58.427Z"
   },
   {
    "duration": 15,
    "start_time": "2023-09-16T14:21:58.437Z"
   },
   {
    "duration": 12,
    "start_time": "2023-09-16T14:21:58.455Z"
   },
   {
    "duration": 7,
    "start_time": "2023-09-16T14:21:58.469Z"
   },
   {
    "duration": 2021,
    "start_time": "2023-09-16T14:23:36.560Z"
   },
   {
    "duration": 44,
    "start_time": "2023-09-16T14:23:38.583Z"
   },
   {
    "duration": 24,
    "start_time": "2023-09-16T14:23:38.630Z"
   },
   {
    "duration": 66,
    "start_time": "2023-09-16T14:23:38.655Z"
   },
   {
    "duration": 24,
    "start_time": "2023-09-16T14:23:38.724Z"
   },
   {
    "duration": 726,
    "start_time": "2023-09-16T14:23:38.749Z"
   },
   {
    "duration": 13,
    "start_time": "2023-09-16T14:23:39.477Z"
   },
   {
    "duration": 43,
    "start_time": "2023-09-16T14:23:39.491Z"
   },
   {
    "duration": 29,
    "start_time": "2023-09-16T14:23:39.537Z"
   },
   {
    "duration": 30,
    "start_time": "2023-09-16T14:23:39.568Z"
   },
   {
    "duration": 15,
    "start_time": "2023-09-16T14:23:39.599Z"
   },
   {
    "duration": 268,
    "start_time": "2023-09-16T14:23:39.615Z"
   },
   {
    "duration": 3,
    "start_time": "2023-09-16T14:23:39.886Z"
   },
   {
    "duration": 43,
    "start_time": "2023-09-16T14:23:39.892Z"
   },
   {
    "duration": 32,
    "start_time": "2023-09-16T14:23:39.938Z"
   },
   {
    "duration": 6,
    "start_time": "2023-09-16T14:23:39.971Z"
   },
   {
    "duration": 6,
    "start_time": "2023-09-16T14:23:39.978Z"
   },
   {
    "duration": 8,
    "start_time": "2023-09-16T14:23:39.985Z"
   },
   {
    "duration": 41,
    "start_time": "2023-09-16T14:23:39.995Z"
   },
   {
    "duration": 7,
    "start_time": "2023-09-16T14:23:40.037Z"
   },
   {
    "duration": 11189,
    "start_time": "2023-09-16T14:23:40.045Z"
   },
   {
    "duration": 6,
    "start_time": "2023-09-16T14:23:51.237Z"
   },
   {
    "duration": 23,
    "start_time": "2023-09-16T14:23:51.246Z"
   },
   {
    "duration": 31,
    "start_time": "2023-09-16T14:23:51.271Z"
   },
   {
    "duration": 34,
    "start_time": "2023-09-16T14:23:51.304Z"
   },
   {
    "duration": 185,
    "start_time": "2023-09-16T14:23:51.341Z"
   },
   {
    "duration": 18,
    "start_time": "2023-09-16T14:24:42.516Z"
   },
   {
    "duration": 18,
    "start_time": "2023-09-16T14:25:36.217Z"
   },
   {
    "duration": 22,
    "start_time": "2023-09-16T14:25:44.442Z"
   },
   {
    "duration": 5,
    "start_time": "2023-09-16T14:25:59.249Z"
   },
   {
    "duration": 4,
    "start_time": "2023-09-16T14:28:20.071Z"
   },
   {
    "duration": 3,
    "start_time": "2023-09-16T14:28:48.411Z"
   },
   {
    "duration": 4,
    "start_time": "2023-09-16T14:28:52.935Z"
   },
   {
    "duration": 4,
    "start_time": "2023-09-16T14:28:56.845Z"
   },
   {
    "duration": 4,
    "start_time": "2023-09-16T14:29:12.843Z"
   },
   {
    "duration": 16,
    "start_time": "2023-09-16T14:29:19.457Z"
   },
   {
    "duration": 22,
    "start_time": "2023-09-16T14:29:28.560Z"
   },
   {
    "duration": 21,
    "start_time": "2023-09-16T14:29:53.297Z"
   },
   {
    "duration": 19,
    "start_time": "2023-09-16T14:30:10.746Z"
   },
   {
    "duration": 20,
    "start_time": "2023-09-16T14:30:45.273Z"
   },
   {
    "duration": 8,
    "start_time": "2023-09-16T14:30:56.140Z"
   },
   {
    "duration": 20,
    "start_time": "2023-09-16T14:31:43.833Z"
   },
   {
    "duration": 17,
    "start_time": "2023-09-16T14:31:51.188Z"
   },
   {
    "duration": 21,
    "start_time": "2023-09-16T14:32:23.472Z"
   },
   {
    "duration": 13,
    "start_time": "2023-09-16T14:35:15.818Z"
   },
   {
    "duration": 6,
    "start_time": "2023-09-16T14:35:25.496Z"
   },
   {
    "duration": 11,
    "start_time": "2023-09-16T14:35:32.743Z"
   },
   {
    "duration": 11,
    "start_time": "2023-09-16T14:35:36.788Z"
   },
   {
    "duration": 11,
    "start_time": "2023-09-16T14:37:22.638Z"
   },
   {
    "duration": 12,
    "start_time": "2023-09-16T14:37:33.398Z"
   },
   {
    "duration": 11,
    "start_time": "2023-09-16T14:37:37.017Z"
   },
   {
    "duration": 13,
    "start_time": "2023-09-16T14:37:44.330Z"
   },
   {
    "duration": 8,
    "start_time": "2023-09-16T14:37:48.459Z"
   },
   {
    "duration": 5,
    "start_time": "2023-09-16T14:37:58.387Z"
   },
   {
    "duration": 4,
    "start_time": "2023-09-16T14:38:06.475Z"
   },
   {
    "duration": 4,
    "start_time": "2023-09-16T14:38:19.145Z"
   },
   {
    "duration": 24,
    "start_time": "2023-09-16T14:38:30.782Z"
   },
   {
    "duration": 5,
    "start_time": "2023-09-16T14:38:40.867Z"
   },
   {
    "duration": 4,
    "start_time": "2023-09-16T14:39:18.148Z"
   },
   {
    "duration": 21,
    "start_time": "2023-09-16T14:39:19.003Z"
   },
   {
    "duration": 4,
    "start_time": "2023-09-16T14:40:22.099Z"
   },
   {
    "duration": 21,
    "start_time": "2023-09-16T14:41:19.741Z"
   },
   {
    "duration": 19,
    "start_time": "2023-09-16T14:41:42.097Z"
   },
   {
    "duration": 17,
    "start_time": "2023-09-16T14:42:02.048Z"
   },
   {
    "duration": 7,
    "start_time": "2023-09-16T14:42:55.841Z"
   },
   {
    "duration": 5,
    "start_time": "2023-09-16T14:43:35.087Z"
   },
   {
    "duration": 7,
    "start_time": "2023-09-16T14:44:47.050Z"
   },
   {
    "duration": 5,
    "start_time": "2023-09-16T14:44:55.074Z"
   },
   {
    "duration": 10,
    "start_time": "2023-09-16T14:45:17.592Z"
   },
   {
    "duration": 4,
    "start_time": "2023-09-16T14:45:28.947Z"
   },
   {
    "duration": 5,
    "start_time": "2023-09-16T14:45:35.197Z"
   },
   {
    "duration": 541,
    "start_time": "2023-09-16T14:45:41.351Z"
   },
   {
    "duration": 806,
    "start_time": "2023-09-16T14:45:51.672Z"
   },
   {
    "duration": 198,
    "start_time": "2023-09-16T14:46:34.234Z"
   },
   {
    "duration": 775,
    "start_time": "2023-09-16T14:46:42.649Z"
   },
   {
    "duration": 820,
    "start_time": "2023-09-16T14:48:17.666Z"
   },
   {
    "duration": 728,
    "start_time": "2023-09-16T14:48:26.837Z"
   },
   {
    "duration": 715,
    "start_time": "2023-09-16T14:48:51.806Z"
   },
   {
    "duration": 855,
    "start_time": "2023-09-16T14:48:59.617Z"
   },
   {
    "duration": 764,
    "start_time": "2023-09-16T14:49:09.752Z"
   },
   {
    "duration": 1994,
    "start_time": "2023-09-16T14:52:37.113Z"
   },
   {
    "duration": 54,
    "start_time": "2023-09-16T14:52:39.110Z"
   },
   {
    "duration": 21,
    "start_time": "2023-09-16T14:52:39.166Z"
   },
   {
    "duration": 80,
    "start_time": "2023-09-16T14:52:39.189Z"
   },
   {
    "duration": 19,
    "start_time": "2023-09-16T14:52:39.272Z"
   },
   {
    "duration": 762,
    "start_time": "2023-09-16T14:52:39.294Z"
   },
   {
    "duration": 13,
    "start_time": "2023-09-16T14:52:40.058Z"
   },
   {
    "duration": 140,
    "start_time": "2023-09-16T14:52:40.072Z"
   },
   {
    "duration": 121,
    "start_time": "2023-09-16T14:52:40.214Z"
   },
   {
    "duration": 34,
    "start_time": "2023-09-16T14:52:40.337Z"
   },
   {
    "duration": 53,
    "start_time": "2023-09-16T14:52:40.374Z"
   },
   {
    "duration": 316,
    "start_time": "2023-09-16T14:52:40.430Z"
   },
   {
    "duration": 5,
    "start_time": "2023-09-16T14:52:40.748Z"
   },
   {
    "duration": 47,
    "start_time": "2023-09-16T14:52:40.756Z"
   },
   {
    "duration": 31,
    "start_time": "2023-09-16T14:52:40.805Z"
   },
   {
    "duration": 6,
    "start_time": "2023-09-16T14:52:48.858Z"
   },
   {
    "duration": 4,
    "start_time": "2023-09-16T14:52:57.219Z"
   },
   {
    "duration": 6,
    "start_time": "2023-09-16T14:53:07.478Z"
   },
   {
    "duration": 5,
    "start_time": "2023-09-16T14:53:29.063Z"
   },
   {
    "duration": 14,
    "start_time": "2023-09-16T14:53:33.233Z"
   },
   {
    "duration": 4,
    "start_time": "2023-09-16T14:53:38.484Z"
   },
   {
    "duration": 7,
    "start_time": "2023-09-16T14:54:07.215Z"
   },
   {
    "duration": 14,
    "start_time": "2023-09-16T14:56:37.414Z"
   },
   {
    "duration": 13,
    "start_time": "2023-09-16T14:57:06.291Z"
   },
   {
    "duration": 9,
    "start_time": "2023-09-16T14:58:36.593Z"
   },
   {
    "duration": 9,
    "start_time": "2023-09-16T14:58:37.402Z"
   },
   {
    "duration": 10,
    "start_time": "2023-09-16T14:58:37.997Z"
   },
   {
    "duration": 15,
    "start_time": "2023-09-16T14:58:38.459Z"
   },
   {
    "duration": 10,
    "start_time": "2023-09-16T14:58:40.639Z"
   },
   {
    "duration": 12,
    "start_time": "2023-09-16T14:58:41.145Z"
   },
   {
    "duration": 18,
    "start_time": "2023-09-16T14:58:41.615Z"
   },
   {
    "duration": 10,
    "start_time": "2023-09-16T14:58:42.100Z"
   },
   {
    "duration": 10,
    "start_time": "2023-09-16T14:58:44.902Z"
   },
   {
    "duration": 13,
    "start_time": "2023-09-16T14:58:45.988Z"
   },
   {
    "duration": 10,
    "start_time": "2023-09-16T14:58:46.396Z"
   },
   {
    "duration": 247,
    "start_time": "2023-09-16T15:01:41.298Z"
   },
   {
    "duration": 3,
    "start_time": "2023-09-16T15:01:41.750Z"
   },
   {
    "duration": 26,
    "start_time": "2023-09-16T15:01:42.112Z"
   },
   {
    "duration": 32,
    "start_time": "2023-09-16T15:01:42.484Z"
   },
   {
    "duration": 5,
    "start_time": "2023-09-16T15:01:42.821Z"
   },
   {
    "duration": 11,
    "start_time": "2023-09-16T15:01:42.987Z"
   },
   {
    "duration": 12,
    "start_time": "2023-09-16T15:01:43.175Z"
   },
   {
    "duration": 13,
    "start_time": "2023-09-16T15:01:43.335Z"
   },
   {
    "duration": 10,
    "start_time": "2023-09-16T15:01:43.511Z"
   },
   {
    "duration": 10,
    "start_time": "2023-09-16T15:01:43.676Z"
   },
   {
    "duration": 10,
    "start_time": "2023-09-16T15:01:43.871Z"
   },
   {
    "duration": 12,
    "start_time": "2023-09-16T15:01:44.038Z"
   },
   {
    "duration": 22,
    "start_time": "2023-09-16T15:01:44.220Z"
   },
   {
    "duration": 11,
    "start_time": "2023-09-16T15:01:44.384Z"
   },
   {
    "duration": 201,
    "start_time": "2023-09-16T15:01:44.552Z"
   },
   {
    "duration": 432,
    "start_time": "2023-09-16T15:01:44.755Z"
   },
   {
    "duration": 162,
    "start_time": "2023-09-16T15:01:45.189Z"
   },
   {
    "duration": 197,
    "start_time": "2023-09-16T15:01:45.353Z"
   },
   {
    "duration": 4,
    "start_time": "2023-09-16T15:01:45.736Z"
   },
   {
    "duration": 8,
    "start_time": "2023-09-16T15:01:46.083Z"
   },
   {
    "duration": 6,
    "start_time": "2023-09-16T15:01:46.413Z"
   },
   {
    "duration": 3,
    "start_time": "2023-09-16T15:01:46.746Z"
   },
   {
    "duration": 13265,
    "start_time": "2023-09-16T15:01:47.091Z"
   },
   {
    "duration": 13,
    "start_time": "2023-09-16T15:02:00.426Z"
   },
   {
    "duration": 22,
    "start_time": "2023-09-16T15:02:00.441Z"
   },
   {
    "duration": 988,
    "start_time": "2023-09-16T15:02:00.465Z"
   },
   {
    "duration": 240,
    "start_time": "2023-09-16T15:03:07.763Z"
   },
   {
    "duration": 237,
    "start_time": "2023-09-16T15:03:23.694Z"
   },
   {
    "duration": 231,
    "start_time": "2023-09-16T15:04:15.069Z"
   },
   {
    "duration": 14,
    "start_time": "2023-09-16T15:06:51.746Z"
   },
   {
    "duration": 14,
    "start_time": "2023-09-16T15:07:01.226Z"
   },
   {
    "duration": 10,
    "start_time": "2023-09-16T15:07:08.996Z"
   },
   {
    "duration": 232,
    "start_time": "2023-09-16T15:10:50.284Z"
   },
   {
    "duration": 150,
    "start_time": "2023-09-16T15:11:18.746Z"
   },
   {
    "duration": 191,
    "start_time": "2023-09-16T15:11:35.828Z"
   },
   {
    "duration": 11,
    "start_time": "2023-09-16T15:11:44.096Z"
   },
   {
    "duration": 2009,
    "start_time": "2023-09-16T15:14:22.983Z"
   },
   {
    "duration": 49,
    "start_time": "2023-09-16T15:14:24.994Z"
   },
   {
    "duration": 16,
    "start_time": "2023-09-16T15:14:25.045Z"
   },
   {
    "duration": 20,
    "start_time": "2023-09-16T15:14:25.063Z"
   },
   {
    "duration": 7,
    "start_time": "2023-09-16T15:14:25.085Z"
   },
   {
    "duration": 18,
    "start_time": "2023-09-16T15:14:25.093Z"
   },
   {
    "duration": 13,
    "start_time": "2023-09-16T15:14:25.113Z"
   },
   {
    "duration": 27,
    "start_time": "2023-09-16T15:14:25.127Z"
   },
   {
    "duration": 331,
    "start_time": "2023-09-16T15:14:25.156Z"
   },
   {
    "duration": 3,
    "start_time": "2023-09-16T15:14:25.489Z"
   },
   {
    "duration": 50,
    "start_time": "2023-09-16T15:14:25.494Z"
   },
   {
    "duration": 54,
    "start_time": "2023-09-16T15:14:25.546Z"
   },
   {
    "duration": 6,
    "start_time": "2023-09-16T15:14:25.602Z"
   },
   {
    "duration": 6,
    "start_time": "2023-09-16T15:14:25.611Z"
   },
   {
    "duration": 13,
    "start_time": "2023-09-16T15:14:25.619Z"
   },
   {
    "duration": 24,
    "start_time": "2023-09-16T15:14:25.637Z"
   },
   {
    "duration": 5,
    "start_time": "2023-09-16T15:14:25.663Z"
   },
   {
    "duration": 11457,
    "start_time": "2023-09-16T15:14:25.670Z"
   },
   {
    "duration": 7,
    "start_time": "2023-09-16T15:14:37.130Z"
   },
   {
    "duration": 79,
    "start_time": "2023-09-16T15:14:37.141Z"
   },
   {
    "duration": 973,
    "start_time": "2023-09-16T15:14:37.222Z"
   },
   {
    "duration": 2005,
    "start_time": "2023-09-16T15:16:01.655Z"
   },
   {
    "duration": 43,
    "start_time": "2023-09-16T15:16:03.662Z"
   },
   {
    "duration": 14,
    "start_time": "2023-09-16T15:16:03.706Z"
   },
   {
    "duration": 18,
    "start_time": "2023-09-16T15:16:03.722Z"
   },
   {
    "duration": 31,
    "start_time": "2023-09-16T15:16:03.742Z"
   },
   {
    "duration": 8,
    "start_time": "2023-09-16T15:16:03.774Z"
   },
   {
    "duration": 7,
    "start_time": "2023-09-16T15:16:03.784Z"
   },
   {
    "duration": 9,
    "start_time": "2023-09-16T15:16:03.792Z"
   },
   {
    "duration": 256,
    "start_time": "2023-09-16T15:16:03.802Z"
   },
   {
    "duration": 3,
    "start_time": "2023-09-16T15:16:04.060Z"
   },
   {
    "duration": 43,
    "start_time": "2023-09-16T15:16:04.065Z"
   },
   {
    "duration": 37,
    "start_time": "2023-09-16T15:16:04.110Z"
   },
   {
    "duration": 6,
    "start_time": "2023-09-16T15:16:04.148Z"
   },
   {
    "duration": 27,
    "start_time": "2023-09-16T15:16:04.157Z"
   },
   {
    "duration": 27,
    "start_time": "2023-09-16T15:16:04.185Z"
   },
   {
    "duration": 23,
    "start_time": "2023-09-16T15:16:04.214Z"
   },
   {
    "duration": 6,
    "start_time": "2023-09-16T15:16:04.238Z"
   },
   {
    "duration": 40494,
    "start_time": "2023-09-16T15:16:04.246Z"
   },
   {
    "duration": 4,
    "start_time": "2023-09-16T15:16:44.746Z"
   },
   {
    "duration": 11,
    "start_time": "2023-09-16T15:16:44.752Z"
   },
   {
    "duration": 351,
    "start_time": "2023-09-16T15:16:44.765Z"
   },
   {
    "duration": 14,
    "start_time": "2023-09-16T15:17:21.298Z"
   },
   {
    "duration": 4,
    "start_time": "2023-09-16T15:18:01.142Z"
   },
   {
    "duration": 43,
    "start_time": "2023-09-16T15:18:01.599Z"
   },
   {
    "duration": 14,
    "start_time": "2023-09-16T15:18:04.377Z"
   },
   {
    "duration": 3,
    "start_time": "2023-09-16T15:18:21.911Z"
   },
   {
    "duration": 20,
    "start_time": "2023-09-16T15:18:37.660Z"
   },
   {
    "duration": 22,
    "start_time": "2023-09-16T15:19:13.485Z"
   },
   {
    "duration": 24,
    "start_time": "2023-09-16T15:19:23.518Z"
   },
   {
    "duration": 15,
    "start_time": "2023-09-16T15:19:32.753Z"
   },
   {
    "duration": 21,
    "start_time": "2023-09-16T15:19:33.211Z"
   },
   {
    "duration": 158,
    "start_time": "2023-09-16T15:19:48.146Z"
   },
   {
    "duration": 36,
    "start_time": "2023-09-16T15:19:51.976Z"
   },
   {
    "duration": 16,
    "start_time": "2023-09-16T15:19:52.475Z"
   },
   {
    "duration": 21,
    "start_time": "2023-09-16T15:19:53.512Z"
   },
   {
    "duration": 18,
    "start_time": "2023-09-16T15:19:55.511Z"
   },
   {
    "duration": 19,
    "start_time": "2023-09-16T15:20:41.948Z"
   },
   {
    "duration": 17,
    "start_time": "2023-09-16T15:22:06.955Z"
   },
   {
    "duration": 19,
    "start_time": "2023-09-16T15:22:12.869Z"
   },
   {
    "duration": 54,
    "start_time": "2023-09-16T15:22:17.214Z"
   },
   {
    "duration": 20,
    "start_time": "2023-09-16T15:22:18.134Z"
   },
   {
    "duration": 28,
    "start_time": "2023-09-16T15:22:27.124Z"
   },
   {
    "duration": 23,
    "start_time": "2023-09-16T15:22:36.517Z"
   },
   {
    "duration": 16,
    "start_time": "2023-09-16T15:22:50.381Z"
   },
   {
    "duration": 2084,
    "start_time": "2023-09-16T15:23:08.901Z"
   },
   {
    "duration": 55,
    "start_time": "2023-09-16T15:23:10.987Z"
   },
   {
    "duration": 30,
    "start_time": "2023-09-16T15:23:16.113Z"
   },
   {
    "duration": 17,
    "start_time": "2023-09-16T15:23:20.005Z"
   },
   {
    "duration": 15,
    "start_time": "2023-09-16T15:23:22.966Z"
   },
   {
    "duration": 18,
    "start_time": "2023-09-16T15:24:42.417Z"
   },
   {
    "duration": 29,
    "start_time": "2023-09-16T15:24:47.716Z"
   },
   {
    "duration": 29,
    "start_time": "2023-09-16T15:24:50.212Z"
   },
   {
    "duration": 41,
    "start_time": "2023-09-16T15:24:58.016Z"
   },
   {
    "duration": 14,
    "start_time": "2023-09-16T15:24:58.845Z"
   },
   {
    "duration": 15,
    "start_time": "2023-09-16T15:25:00.284Z"
   },
   {
    "duration": 16,
    "start_time": "2023-09-16T15:25:11.475Z"
   },
   {
    "duration": 17,
    "start_time": "2023-09-16T15:25:15.890Z"
   },
   {
    "duration": 3,
    "start_time": "2023-09-16T15:25:49.558Z"
   },
   {
    "duration": 14,
    "start_time": "2023-09-16T15:25:50.142Z"
   },
   {
    "duration": 16,
    "start_time": "2023-09-16T15:26:19.953Z"
   },
   {
    "duration": 18,
    "start_time": "2023-09-16T15:26:22.752Z"
   },
   {
    "duration": 16,
    "start_time": "2023-09-16T15:26:24.147Z"
   },
   {
    "duration": 24,
    "start_time": "2023-09-16T15:26:28.646Z"
   },
   {
    "duration": 24,
    "start_time": "2023-09-16T15:26:32.298Z"
   },
   {
    "duration": 21,
    "start_time": "2023-09-16T15:26:36.501Z"
   },
   {
    "duration": 39,
    "start_time": "2023-09-16T15:26:39.814Z"
   },
   {
    "duration": 23,
    "start_time": "2023-09-16T15:26:40.646Z"
   },
   {
    "duration": 24,
    "start_time": "2023-09-16T15:26:43.296Z"
   },
   {
    "duration": 26,
    "start_time": "2023-09-16T15:26:44.920Z"
   },
   {
    "duration": 27,
    "start_time": "2023-09-16T15:26:47.315Z"
   },
   {
    "duration": 25,
    "start_time": "2023-09-16T15:27:48.802Z"
   },
   {
    "duration": 2157,
    "start_time": "2023-09-16T15:28:05.684Z"
   },
   {
    "duration": 60,
    "start_time": "2023-09-16T15:28:07.845Z"
   },
   {
    "duration": 78,
    "start_time": "2023-09-16T15:28:07.907Z"
   },
   {
    "duration": 22,
    "start_time": "2023-09-16T15:28:15.247Z"
   },
   {
    "duration": 201,
    "start_time": "2023-09-16T15:28:16.546Z"
   },
   {
    "duration": 1415,
    "start_time": "2023-09-16T15:29:09.652Z"
   },
   {
    "duration": 24,
    "start_time": "2023-09-16T15:29:48.519Z"
   },
   {
    "duration": 14,
    "start_time": "2023-09-16T15:29:54.538Z"
   },
   {
    "duration": 20,
    "start_time": "2023-09-16T15:30:18.945Z"
   },
   {
    "duration": 14,
    "start_time": "2023-09-16T15:30:38.508Z"
   },
   {
    "duration": 19,
    "start_time": "2023-09-16T15:30:51.239Z"
   },
   {
    "duration": 28,
    "start_time": "2023-09-16T15:30:55.617Z"
   },
   {
    "duration": 19,
    "start_time": "2023-09-16T15:30:58.585Z"
   },
   {
    "duration": 3,
    "start_time": "2023-09-16T15:32:52.499Z"
   },
   {
    "duration": 43,
    "start_time": "2023-09-16T15:32:52.855Z"
   },
   {
    "duration": 15,
    "start_time": "2023-09-16T15:32:54.035Z"
   },
   {
    "duration": 18,
    "start_time": "2023-09-16T15:32:58.243Z"
   },
   {
    "duration": 27,
    "start_time": "2023-09-16T15:33:00.931Z"
   },
   {
    "duration": 11,
    "start_time": "2023-09-16T15:33:03.483Z"
   },
   {
    "duration": 16,
    "start_time": "2023-09-16T15:33:10.538Z"
   },
   {
    "duration": 13,
    "start_time": "2023-09-16T15:33:14.369Z"
   },
   {
    "duration": 5,
    "start_time": "2023-09-16T15:33:14.969Z"
   },
   {
    "duration": 6,
    "start_time": "2023-09-16T15:33:15.167Z"
   },
   {
    "duration": 5,
    "start_time": "2023-09-16T15:33:15.349Z"
   },
   {
    "duration": 5,
    "start_time": "2023-09-16T15:33:15.540Z"
   },
   {
    "duration": 333,
    "start_time": "2023-09-16T15:33:15.720Z"
   },
   {
    "duration": 3,
    "start_time": "2023-09-16T15:33:16.105Z"
   },
   {
    "duration": 20,
    "start_time": "2023-09-16T15:33:16.469Z"
   },
   {
    "duration": 38,
    "start_time": "2023-09-16T15:33:16.853Z"
   },
   {
    "duration": 5,
    "start_time": "2023-09-16T15:33:17.198Z"
   },
   {
    "duration": 3,
    "start_time": "2023-09-16T15:33:17.569Z"
   },
   {
    "duration": 6,
    "start_time": "2023-09-16T15:33:17.942Z"
   },
   {
    "duration": 6,
    "start_time": "2023-09-16T15:33:18.289Z"
   },
   {
    "duration": 3,
    "start_time": "2023-09-16T15:33:18.668Z"
   },
   {
    "duration": 11304,
    "start_time": "2023-09-16T15:33:19.037Z"
   },
   {
    "duration": 3,
    "start_time": "2023-09-16T15:33:30.344Z"
   },
   {
    "duration": 38,
    "start_time": "2023-09-16T15:33:30.350Z"
   },
   {
    "duration": 529,
    "start_time": "2023-09-16T15:33:30.390Z"
   },
   {
    "duration": 2126,
    "start_time": "2023-09-16T15:33:54.941Z"
   },
   {
    "duration": 44,
    "start_time": "2023-09-16T15:33:57.069Z"
   },
   {
    "duration": 21,
    "start_time": "2023-09-16T15:33:57.114Z"
   },
   {
    "duration": 27,
    "start_time": "2023-09-16T15:33:57.138Z"
   },
   {
    "duration": 19,
    "start_time": "2023-09-16T15:33:57.168Z"
   },
   {
    "duration": 17,
    "start_time": "2023-09-16T15:33:57.190Z"
   },
   {
    "duration": 33,
    "start_time": "2023-09-16T15:33:57.209Z"
   },
   {
    "duration": 4,
    "start_time": "2023-09-16T15:33:57.244Z"
   },
   {
    "duration": 36,
    "start_time": "2023-09-16T15:33:57.250Z"
   },
   {
    "duration": 21,
    "start_time": "2023-09-16T15:33:57.288Z"
   },
   {
    "duration": 37,
    "start_time": "2023-09-16T15:33:57.311Z"
   },
   {
    "duration": 265,
    "start_time": "2023-09-16T15:33:57.349Z"
   },
   {
    "duration": 9,
    "start_time": "2023-09-16T15:33:57.615Z"
   },
   {
    "duration": 20,
    "start_time": "2023-09-16T15:33:57.642Z"
   },
   {
    "duration": 30,
    "start_time": "2023-09-16T15:33:57.663Z"
   },
   {
    "duration": 4,
    "start_time": "2023-09-16T15:33:57.694Z"
   },
   {
    "duration": 28,
    "start_time": "2023-09-16T15:33:57.700Z"
   },
   {
    "duration": 10,
    "start_time": "2023-09-16T15:33:57.737Z"
   },
   {
    "duration": 23,
    "start_time": "2023-09-16T15:33:57.748Z"
   },
   {
    "duration": 8,
    "start_time": "2023-09-16T15:33:57.773Z"
   },
   {
    "duration": 10674,
    "start_time": "2023-09-16T15:33:57.782Z"
   },
   {
    "duration": 4,
    "start_time": "2023-09-16T15:34:08.458Z"
   },
   {
    "duration": 5,
    "start_time": "2023-09-16T15:34:08.524Z"
   },
   {
    "duration": 2610,
    "start_time": "2023-09-16T15:34:08.531Z"
   },
   {
    "duration": 2053,
    "start_time": "2023-09-16T15:34:24.521Z"
   },
   {
    "duration": 44,
    "start_time": "2023-09-16T15:34:26.576Z"
   },
   {
    "duration": 106,
    "start_time": "2023-09-16T15:34:26.621Z"
   },
   {
    "duration": 106,
    "start_time": "2023-09-16T15:34:26.734Z"
   },
   {
    "duration": 39,
    "start_time": "2023-09-16T15:34:26.842Z"
   },
   {
    "duration": 36,
    "start_time": "2023-09-16T15:34:26.883Z"
   },
   {
    "duration": 58,
    "start_time": "2023-09-16T15:34:26.920Z"
   },
   {
    "duration": 14,
    "start_time": "2023-09-16T15:34:26.980Z"
   },
   {
    "duration": 49,
    "start_time": "2023-09-16T15:34:26.996Z"
   },
   {
    "duration": 118,
    "start_time": "2023-09-16T15:34:27.047Z"
   },
   {
    "duration": 84,
    "start_time": "2023-09-16T15:34:27.167Z"
   },
   {
    "duration": 412,
    "start_time": "2023-09-16T15:34:27.253Z"
   },
   {
    "duration": 2,
    "start_time": "2023-09-16T15:34:27.667Z"
   },
   {
    "duration": 138,
    "start_time": "2023-09-16T15:34:27.672Z"
   },
   {
    "duration": 166,
    "start_time": "2023-09-16T15:34:27.812Z"
   },
   {
    "duration": 17,
    "start_time": "2023-09-16T15:34:27.980Z"
   },
   {
    "duration": 30,
    "start_time": "2023-09-16T15:34:27.998Z"
   },
   {
    "duration": 41,
    "start_time": "2023-09-16T15:34:28.041Z"
   },
   {
    "duration": 7,
    "start_time": "2023-09-16T15:34:28.084Z"
   },
   {
    "duration": 8,
    "start_time": "2023-09-16T15:34:28.092Z"
   },
   {
    "duration": 9040,
    "start_time": "2023-09-16T15:34:28.102Z"
   },
   {
    "duration": 5,
    "start_time": "2023-09-16T15:34:37.143Z"
   },
   {
    "duration": 19,
    "start_time": "2023-09-16T15:34:37.151Z"
   },
   {
    "duration": 2687,
    "start_time": "2023-09-16T15:34:37.173Z"
   },
   {
    "duration": 2076,
    "start_time": "2023-09-16T15:34:54.645Z"
   },
   {
    "duration": 55,
    "start_time": "2023-09-16T15:34:56.724Z"
   },
   {
    "duration": 15,
    "start_time": "2023-09-16T15:34:56.780Z"
   },
   {
    "duration": 20,
    "start_time": "2023-09-16T15:34:56.797Z"
   },
   {
    "duration": 26,
    "start_time": "2023-09-16T15:34:56.819Z"
   },
   {
    "duration": 23,
    "start_time": "2023-09-16T15:34:56.847Z"
   },
   {
    "duration": 25,
    "start_time": "2023-09-16T15:34:56.872Z"
   },
   {
    "duration": 5,
    "start_time": "2023-09-16T15:34:56.899Z"
   },
   {
    "duration": 28,
    "start_time": "2023-09-16T15:34:56.906Z"
   },
   {
    "duration": 6,
    "start_time": "2023-09-16T15:34:56.936Z"
   },
   {
    "duration": 18,
    "start_time": "2023-09-16T15:34:56.944Z"
   },
   {
    "duration": 267,
    "start_time": "2023-09-16T15:34:56.964Z"
   },
   {
    "duration": 8,
    "start_time": "2023-09-16T15:34:57.232Z"
   },
   {
    "duration": 20,
    "start_time": "2023-09-16T15:34:57.243Z"
   },
   {
    "duration": 31,
    "start_time": "2023-09-16T15:34:57.265Z"
   },
   {
    "duration": 5,
    "start_time": "2023-09-16T15:34:57.298Z"
   },
   {
    "duration": 6,
    "start_time": "2023-09-16T15:34:57.324Z"
   },
   {
    "duration": 14,
    "start_time": "2023-09-16T15:34:57.333Z"
   },
   {
    "duration": 13,
    "start_time": "2023-09-16T15:34:57.349Z"
   },
   {
    "duration": 8,
    "start_time": "2023-09-16T15:34:57.364Z"
   },
   {
    "duration": 7473,
    "start_time": "2023-09-16T15:34:57.374Z"
   },
   {
    "duration": 4,
    "start_time": "2023-09-16T15:35:04.850Z"
   },
   {
    "duration": 73,
    "start_time": "2023-09-16T15:35:04.855Z"
   },
   {
    "duration": 2622,
    "start_time": "2023-09-16T15:35:04.931Z"
   },
   {
    "duration": 2107,
    "start_time": "2023-09-16T15:35:24.572Z"
   },
   {
    "duration": 43,
    "start_time": "2023-09-16T15:35:26.681Z"
   },
   {
    "duration": 21,
    "start_time": "2023-09-16T15:35:26.731Z"
   },
   {
    "duration": 23,
    "start_time": "2023-09-16T15:35:26.753Z"
   },
   {
    "duration": 20,
    "start_time": "2023-09-16T15:35:26.778Z"
   },
   {
    "duration": 39,
    "start_time": "2023-09-16T15:35:26.799Z"
   },
   {
    "duration": 14,
    "start_time": "2023-09-16T15:35:26.840Z"
   },
   {
    "duration": 36,
    "start_time": "2023-09-16T15:35:26.856Z"
   },
   {
    "duration": 23,
    "start_time": "2023-09-16T15:35:26.894Z"
   },
   {
    "duration": 34,
    "start_time": "2023-09-16T15:35:26.919Z"
   },
   {
    "duration": 23,
    "start_time": "2023-09-16T15:35:26.954Z"
   },
   {
    "duration": 273,
    "start_time": "2023-09-16T15:35:26.979Z"
   },
   {
    "duration": 3,
    "start_time": "2023-09-16T15:35:27.254Z"
   },
   {
    "duration": 35,
    "start_time": "2023-09-16T15:35:27.259Z"
   },
   {
    "duration": 45,
    "start_time": "2023-09-16T15:35:27.296Z"
   },
   {
    "duration": 5,
    "start_time": "2023-09-16T15:35:27.343Z"
   },
   {
    "duration": 28,
    "start_time": "2023-09-16T15:35:27.349Z"
   },
   {
    "duration": 42,
    "start_time": "2023-09-16T15:35:27.379Z"
   },
   {
    "duration": 20,
    "start_time": "2023-09-16T15:35:27.422Z"
   },
   {
    "duration": 15,
    "start_time": "2023-09-16T15:35:27.444Z"
   },
   {
    "duration": 9270,
    "start_time": "2023-09-16T15:35:27.460Z"
   },
   {
    "duration": 9,
    "start_time": "2023-09-16T15:35:36.731Z"
   },
   {
    "duration": 66,
    "start_time": "2023-09-16T15:35:36.742Z"
   },
   {
    "duration": 2642,
    "start_time": "2023-09-16T15:35:36.810Z"
   },
   {
    "duration": 1948,
    "start_time": "2023-09-16T15:36:20.052Z"
   },
   {
    "duration": 49,
    "start_time": "2023-09-16T15:36:22.002Z"
   },
   {
    "duration": 15,
    "start_time": "2023-09-16T15:36:22.053Z"
   },
   {
    "duration": 25,
    "start_time": "2023-09-16T15:36:22.070Z"
   },
   {
    "duration": 43,
    "start_time": "2023-09-16T15:36:22.097Z"
   },
   {
    "duration": 16,
    "start_time": "2023-09-16T15:36:22.142Z"
   },
   {
    "duration": 11,
    "start_time": "2023-09-16T15:36:22.159Z"
   },
   {
    "duration": 8,
    "start_time": "2023-09-16T15:36:22.172Z"
   },
   {
    "duration": 9,
    "start_time": "2023-09-16T15:36:22.181Z"
   },
   {
    "duration": 8,
    "start_time": "2023-09-16T15:36:22.192Z"
   },
   {
    "duration": 24,
    "start_time": "2023-09-16T15:36:22.201Z"
   },
   {
    "duration": 263,
    "start_time": "2023-09-16T15:36:22.227Z"
   },
   {
    "duration": 3,
    "start_time": "2023-09-16T15:36:22.492Z"
   },
   {
    "duration": 39,
    "start_time": "2023-09-16T15:36:22.496Z"
   },
   {
    "duration": 30,
    "start_time": "2023-09-16T15:36:22.536Z"
   },
   {
    "duration": 5,
    "start_time": "2023-09-16T15:36:22.568Z"
   },
   {
    "duration": 13,
    "start_time": "2023-09-16T15:36:22.574Z"
   },
   {
    "duration": 14,
    "start_time": "2023-09-16T15:36:22.588Z"
   },
   {
    "duration": 12,
    "start_time": "2023-09-16T15:36:22.604Z"
   },
   {
    "duration": 9,
    "start_time": "2023-09-16T15:36:22.617Z"
   },
   {
    "duration": 4704,
    "start_time": "2023-09-16T15:36:22.636Z"
   },
   {
    "duration": 4,
    "start_time": "2023-09-16T15:36:27.346Z"
   },
   {
    "duration": 6,
    "start_time": "2023-09-16T15:36:27.352Z"
   },
   {
    "duration": 2599,
    "start_time": "2023-09-16T15:36:27.360Z"
   },
   {
    "duration": 2257,
    "start_time": "2023-09-17T05:15:06.852Z"
   },
   {
    "duration": 96,
    "start_time": "2023-09-17T05:15:09.111Z"
   },
   {
    "duration": 16,
    "start_time": "2023-09-17T05:15:09.209Z"
   },
   {
    "duration": 33,
    "start_time": "2023-09-17T05:15:09.228Z"
   },
   {
    "duration": 22,
    "start_time": "2023-09-17T05:15:09.263Z"
   },
   {
    "duration": 15,
    "start_time": "2023-09-17T05:15:09.287Z"
   },
   {
    "duration": 12,
    "start_time": "2023-09-17T05:15:09.304Z"
   },
   {
    "duration": 35,
    "start_time": "2023-09-17T05:15:09.317Z"
   },
   {
    "duration": 7,
    "start_time": "2023-09-17T05:15:09.354Z"
   },
   {
    "duration": 8,
    "start_time": "2023-09-17T05:15:09.364Z"
   },
   {
    "duration": 6,
    "start_time": "2023-09-17T05:15:09.374Z"
   },
   {
    "duration": 323,
    "start_time": "2023-09-17T05:15:09.522Z"
   },
   {
    "duration": 2,
    "start_time": "2023-09-17T05:15:09.898Z"
   },
   {
    "duration": 187,
    "start_time": "2023-09-17T05:15:10.291Z"
   },
   {
    "duration": 23,
    "start_time": "2023-09-17T05:15:10.678Z"
   },
   {
    "duration": 35,
    "start_time": "2023-09-17T05:15:11.094Z"
   },
   {
    "duration": 3,
    "start_time": "2023-09-17T05:16:00.242Z"
   },
   {
    "duration": 6,
    "start_time": "2023-09-17T05:16:06.718Z"
   },
   {
    "duration": 12,
    "start_time": "2023-09-17T05:17:02.020Z"
   },
   {
    "duration": 4,
    "start_time": "2023-09-17T05:17:13.804Z"
   },
   {
    "duration": 6,
    "start_time": "2023-09-17T05:21:21.659Z"
   },
   {
    "duration": 20,
    "start_time": "2023-09-17T05:21:43.167Z"
   },
   {
    "duration": 5,
    "start_time": "2023-09-17T05:21:57.182Z"
   },
   {
    "duration": 14,
    "start_time": "2023-09-17T05:21:57.876Z"
   },
   {
    "duration": 5,
    "start_time": "2023-09-17T05:22:02.284Z"
   },
   {
    "duration": 8,
    "start_time": "2023-09-17T05:22:27.204Z"
   },
   {
    "duration": 14,
    "start_time": "2023-09-17T05:22:27.824Z"
   },
   {
    "duration": 7,
    "start_time": "2023-09-17T05:22:32.777Z"
   },
   {
    "duration": 26,
    "start_time": "2023-09-17T05:22:33.444Z"
   },
   {
    "duration": 30,
    "start_time": "2023-09-17T05:22:46.333Z"
   },
   {
    "duration": 29,
    "start_time": "2023-09-17T05:22:51.101Z"
   },
   {
    "duration": 19,
    "start_time": "2023-09-17T05:24:45.722Z"
   },
   {
    "duration": 16,
    "start_time": "2023-09-17T05:27:23.383Z"
   },
   {
    "duration": 10,
    "start_time": "2023-09-17T05:27:31.240Z"
   },
   {
    "duration": 15,
    "start_time": "2023-09-17T05:27:45.627Z"
   },
   {
    "duration": 15,
    "start_time": "2023-09-17T05:28:25.880Z"
   },
   {
    "duration": 2277,
    "start_time": "2023-09-17T05:29:01.535Z"
   },
   {
    "duration": 57,
    "start_time": "2023-09-17T05:29:03.815Z"
   },
   {
    "duration": 16,
    "start_time": "2023-09-17T05:29:03.877Z"
   },
   {
    "duration": 28,
    "start_time": "2023-09-17T05:29:03.895Z"
   },
   {
    "duration": 49,
    "start_time": "2023-09-17T05:29:03.926Z"
   },
   {
    "duration": 18,
    "start_time": "2023-09-17T05:29:03.977Z"
   },
   {
    "duration": 16,
    "start_time": "2023-09-17T05:29:03.997Z"
   },
   {
    "duration": 23,
    "start_time": "2023-09-17T05:29:04.014Z"
   },
   {
    "duration": 31,
    "start_time": "2023-09-17T05:29:04.039Z"
   },
   {
    "duration": 13,
    "start_time": "2023-09-17T05:29:04.072Z"
   },
   {
    "duration": 8,
    "start_time": "2023-09-17T05:29:04.087Z"
   },
   {
    "duration": 320,
    "start_time": "2023-09-17T05:29:04.097Z"
   },
   {
    "duration": 3,
    "start_time": "2023-09-17T05:29:04.419Z"
   },
   {
    "duration": 13,
    "start_time": "2023-09-17T05:29:04.424Z"
   },
   {
    "duration": 34,
    "start_time": "2023-09-17T05:29:04.439Z"
   },
   {
    "duration": 17,
    "start_time": "2023-09-17T05:29:08.780Z"
   },
   {
    "duration": 192,
    "start_time": "2023-09-17T05:29:13.947Z"
   },
   {
    "duration": 40,
    "start_time": "2023-09-17T05:30:01.164Z"
   },
   {
    "duration": 51,
    "start_time": "2023-09-17T05:31:12.017Z"
   },
   {
    "duration": 31,
    "start_time": "2023-09-17T05:31:49.246Z"
   },
   {
    "duration": 36,
    "start_time": "2023-09-17T05:32:25.383Z"
   },
   {
    "duration": 16,
    "start_time": "2023-09-17T05:35:30.767Z"
   },
   {
    "duration": 16,
    "start_time": "2023-09-17T05:35:37.313Z"
   },
   {
    "duration": 3,
    "start_time": "2023-09-17T05:35:41.986Z"
   },
   {
    "duration": 90,
    "start_time": "2023-09-17T05:35:41.991Z"
   },
   {
    "duration": 16,
    "start_time": "2023-09-17T05:35:43.473Z"
   },
   {
    "duration": 23,
    "start_time": "2023-09-17T05:35:46.520Z"
   },
   {
    "duration": 32,
    "start_time": "2023-09-17T05:35:46.546Z"
   },
   {
    "duration": 19,
    "start_time": "2023-09-17T05:35:52.465Z"
   },
   {
    "duration": 13,
    "start_time": "2023-09-17T05:35:58.912Z"
   },
   {
    "duration": 6,
    "start_time": "2023-09-17T05:35:59.457Z"
   },
   {
    "duration": 6,
    "start_time": "2023-09-17T05:35:59.651Z"
   },
   {
    "duration": 4,
    "start_time": "2023-09-17T05:35:59.824Z"
   },
   {
    "duration": 5,
    "start_time": "2023-09-17T05:35:59.999Z"
   },
   {
    "duration": 324,
    "start_time": "2023-09-17T05:36:00.188Z"
   },
   {
    "duration": 5,
    "start_time": "2023-09-17T05:36:00.556Z"
   },
   {
    "duration": 8,
    "start_time": "2023-09-17T05:36:05.538Z"
   },
   {
    "duration": 22,
    "start_time": "2023-09-17T05:36:06.464Z"
   },
   {
    "duration": 19,
    "start_time": "2023-09-17T05:36:07.036Z"
   },
   {
    "duration": 37,
    "start_time": "2023-09-17T05:36:08.986Z"
   },
   {
    "duration": 39,
    "start_time": "2023-09-17T05:36:15.053Z"
   },
   {
    "duration": 34,
    "start_time": "2023-09-17T05:36:17.893Z"
   },
   {
    "duration": 11,
    "start_time": "2023-09-17T05:36:23.372Z"
   },
   {
    "duration": 2230,
    "start_time": "2023-09-17T05:39:58.532Z"
   },
   {
    "duration": 46,
    "start_time": "2023-09-17T05:40:00.766Z"
   },
   {
    "duration": 165,
    "start_time": "2023-09-17T05:40:00.813Z"
   },
   {
    "duration": 101,
    "start_time": "2023-09-17T05:40:00.980Z"
   },
   {
    "duration": 80,
    "start_time": "2023-09-17T05:40:01.085Z"
   },
   {
    "duration": 35,
    "start_time": "2023-09-17T05:40:01.168Z"
   },
   {
    "duration": 69,
    "start_time": "2023-09-17T05:40:01.206Z"
   },
   {
    "duration": 33,
    "start_time": "2023-09-17T05:40:01.276Z"
   },
   {
    "duration": 60,
    "start_time": "2023-09-17T05:40:01.311Z"
   },
   {
    "duration": 55,
    "start_time": "2023-09-17T05:40:01.372Z"
   },
   {
    "duration": 88,
    "start_time": "2023-09-17T05:40:01.429Z"
   },
   {
    "duration": 407,
    "start_time": "2023-09-17T05:40:01.519Z"
   },
   {
    "duration": 43,
    "start_time": "2023-09-17T05:40:01.928Z"
   },
   {
    "duration": 38,
    "start_time": "2023-09-17T05:40:01.974Z"
   },
   {
    "duration": 63,
    "start_time": "2023-09-17T05:40:02.014Z"
   },
   {
    "duration": 89,
    "start_time": "2023-09-17T05:40:02.079Z"
   },
   {
    "duration": 168,
    "start_time": "2023-09-17T05:40:02.170Z"
   },
   {
    "duration": 123,
    "start_time": "2023-09-17T05:40:02.340Z"
   },
   {
    "duration": 2548,
    "start_time": "2023-09-17T05:49:17.977Z"
   },
   {
    "duration": 53,
    "start_time": "2023-09-17T05:49:20.528Z"
   },
   {
    "duration": 17,
    "start_time": "2023-09-17T05:49:20.584Z"
   },
   {
    "duration": 44,
    "start_time": "2023-09-17T05:49:20.603Z"
   },
   {
    "duration": 32,
    "start_time": "2023-09-17T05:49:20.656Z"
   },
   {
    "duration": 31,
    "start_time": "2023-09-17T05:49:20.690Z"
   },
   {
    "duration": 40,
    "start_time": "2023-09-17T05:49:20.723Z"
   },
   {
    "duration": 5,
    "start_time": "2023-09-17T05:49:20.770Z"
   },
   {
    "duration": 23,
    "start_time": "2023-09-17T05:49:20.777Z"
   },
   {
    "duration": 10,
    "start_time": "2023-09-17T05:49:20.802Z"
   },
   {
    "duration": 25,
    "start_time": "2023-09-17T05:49:20.814Z"
   },
   {
    "duration": 383,
    "start_time": "2023-09-17T05:49:20.841Z"
   },
   {
    "duration": 6,
    "start_time": "2023-09-17T05:49:21.226Z"
   },
   {
    "duration": 29,
    "start_time": "2023-09-17T05:49:21.235Z"
   },
   {
    "duration": 24,
    "start_time": "2023-09-17T05:49:21.267Z"
   },
   {
    "duration": 18,
    "start_time": "2023-09-17T05:49:21.293Z"
   },
   {
    "duration": 88,
    "start_time": "2023-09-17T05:49:21.313Z"
   },
   {
    "duration": 63,
    "start_time": "2023-09-17T05:49:21.403Z"
   },
   {
    "duration": 33,
    "start_time": "2023-09-17T05:49:21.469Z"
   },
   {
    "duration": 193,
    "start_time": "2023-09-17T05:49:34.541Z"
   },
   {
    "duration": 13,
    "start_time": "2023-09-17T05:50:48.720Z"
   },
   {
    "duration": 16,
    "start_time": "2023-09-17T05:50:54.110Z"
   },
   {
    "duration": 2262,
    "start_time": "2023-09-17T05:51:15.414Z"
   },
   {
    "duration": 45,
    "start_time": "2023-09-17T05:51:17.678Z"
   },
   {
    "duration": 18,
    "start_time": "2023-09-17T05:51:17.725Z"
   },
   {
    "duration": 32,
    "start_time": "2023-09-17T05:51:17.745Z"
   },
   {
    "duration": 21,
    "start_time": "2023-09-17T05:51:17.779Z"
   },
   {
    "duration": 47,
    "start_time": "2023-09-17T05:51:17.802Z"
   },
   {
    "duration": 16,
    "start_time": "2023-09-17T05:51:17.853Z"
   },
   {
    "duration": 25,
    "start_time": "2023-09-17T05:51:17.871Z"
   },
   {
    "duration": 15,
    "start_time": "2023-09-17T05:51:17.898Z"
   },
   {
    "duration": 27,
    "start_time": "2023-09-17T05:51:17.915Z"
   },
   {
    "duration": 31,
    "start_time": "2023-09-17T05:51:17.945Z"
   },
   {
    "duration": 345,
    "start_time": "2023-09-17T05:51:17.978Z"
   },
   {
    "duration": 4,
    "start_time": "2023-09-17T05:51:18.324Z"
   },
   {
    "duration": 23,
    "start_time": "2023-09-17T05:51:18.333Z"
   },
   {
    "duration": 47,
    "start_time": "2023-09-17T05:51:18.358Z"
   },
   {
    "duration": 21,
    "start_time": "2023-09-17T05:51:18.407Z"
   },
   {
    "duration": 45,
    "start_time": "2023-09-17T05:51:18.430Z"
   },
   {
    "duration": 33,
    "start_time": "2023-09-17T05:51:18.477Z"
   },
   {
    "duration": 61,
    "start_time": "2023-09-17T05:51:18.513Z"
   },
   {
    "duration": 5,
    "start_time": "2023-09-17T05:51:18.575Z"
   },
   {
    "duration": 10,
    "start_time": "2023-09-17T05:51:18.582Z"
   },
   {
    "duration": 29,
    "start_time": "2023-09-17T05:51:18.593Z"
   },
   {
    "duration": 20,
    "start_time": "2023-09-17T05:51:18.623Z"
   },
   {
    "duration": 102,
    "start_time": "2023-09-17T05:51:18.645Z"
   },
   {
    "duration": 6,
    "start_time": "2023-09-17T05:51:18.749Z"
   },
   {
    "duration": 12,
    "start_time": "2023-09-17T05:51:18.759Z"
   },
   {
    "duration": 3184,
    "start_time": "2023-09-17T05:51:18.774Z"
   },
   {
    "duration": 31,
    "start_time": "2023-09-17T05:51:42.877Z"
   },
   {
    "duration": 28383,
    "start_time": "2023-09-17T05:52:08.709Z"
   },
   {
    "duration": 7,
    "start_time": "2023-09-17T05:52:42.172Z"
   },
   {
    "duration": 14,
    "start_time": "2023-09-17T05:57:26.922Z"
   },
   {
    "duration": 7,
    "start_time": "2023-09-17T05:57:38.021Z"
   },
   {
    "duration": 35,
    "start_time": "2023-09-17T05:57:39.311Z"
   },
   {
    "duration": 7,
    "start_time": "2023-09-17T05:58:01.394Z"
   },
   {
    "duration": 21,
    "start_time": "2023-09-17T05:58:02.719Z"
   },
   {
    "duration": 10,
    "start_time": "2023-09-17T05:58:14.783Z"
   },
   {
    "duration": 29,
    "start_time": "2023-09-17T05:58:15.446Z"
   },
   {
    "duration": 41,
    "start_time": "2023-09-17T05:59:38.822Z"
   },
   {
    "duration": 7,
    "start_time": "2023-09-17T06:01:19.913Z"
   },
   {
    "duration": 26,
    "start_time": "2023-09-17T06:01:20.675Z"
   },
   {
    "duration": 37,
    "start_time": "2023-09-17T06:01:21.538Z"
   },
   {
    "duration": 42,
    "start_time": "2023-09-17T06:01:23.326Z"
   },
   {
    "duration": 27,
    "start_time": "2023-09-17T06:01:34.771Z"
   },
   {
    "duration": 7,
    "start_time": "2023-09-17T06:04:05.078Z"
   },
   {
    "duration": 25,
    "start_time": "2023-09-17T06:04:06.636Z"
   },
   {
    "duration": 18,
    "start_time": "2023-09-17T06:04:07.217Z"
   },
   {
    "duration": 54,
    "start_time": "2023-09-17T06:04:11.550Z"
   },
   {
    "duration": 27,
    "start_time": "2023-09-17T06:04:21.389Z"
   },
   {
    "duration": 11,
    "start_time": "2023-09-17T06:05:55.929Z"
   },
   {
    "duration": 28,
    "start_time": "2023-09-17T06:05:57.331Z"
   },
   {
    "duration": 27,
    "start_time": "2023-09-17T06:05:59.073Z"
   },
   {
    "duration": 36,
    "start_time": "2023-09-17T06:06:04.676Z"
   },
   {
    "duration": 32,
    "start_time": "2023-09-17T06:06:07.345Z"
   },
   {
    "duration": 35,
    "start_time": "2023-09-17T06:06:12.886Z"
   },
   {
    "duration": 15,
    "start_time": "2023-09-17T06:06:26.530Z"
   },
   {
    "duration": 18,
    "start_time": "2023-09-17T06:06:37.857Z"
   },
   {
    "duration": 12,
    "start_time": "2023-09-17T06:07:07.120Z"
   },
   {
    "duration": 2238,
    "start_time": "2023-09-17T06:07:20.859Z"
   },
   {
    "duration": 45,
    "start_time": "2023-09-17T06:07:23.099Z"
   },
   {
    "duration": 27,
    "start_time": "2023-09-17T06:07:23.146Z"
   },
   {
    "duration": 29,
    "start_time": "2023-09-17T06:07:23.176Z"
   },
   {
    "duration": 62,
    "start_time": "2023-09-17T06:07:23.207Z"
   },
   {
    "duration": 23,
    "start_time": "2023-09-17T06:07:23.273Z"
   },
   {
    "duration": 12,
    "start_time": "2023-09-17T06:07:23.298Z"
   },
   {
    "duration": 25,
    "start_time": "2023-09-17T06:07:23.312Z"
   },
   {
    "duration": 23,
    "start_time": "2023-09-17T06:07:23.339Z"
   },
   {
    "duration": 11,
    "start_time": "2023-09-17T06:07:23.366Z"
   },
   {
    "duration": 18,
    "start_time": "2023-09-17T06:07:23.379Z"
   },
   {
    "duration": 405,
    "start_time": "2023-09-17T06:07:23.398Z"
   },
   {
    "duration": 3,
    "start_time": "2023-09-17T06:07:23.805Z"
   },
   {
    "duration": 35,
    "start_time": "2023-09-17T06:07:23.810Z"
   },
   {
    "duration": 42,
    "start_time": "2023-09-17T06:07:23.848Z"
   },
   {
    "duration": 29,
    "start_time": "2023-09-17T06:07:23.892Z"
   },
   {
    "duration": 65,
    "start_time": "2023-09-17T06:07:23.923Z"
   },
   {
    "duration": 34,
    "start_time": "2023-09-17T06:07:23.989Z"
   },
   {
    "duration": 167,
    "start_time": "2023-09-17T06:07:24.024Z"
   },
   {
    "duration": 0,
    "start_time": "2023-09-17T06:07:24.193Z"
   },
   {
    "duration": 0,
    "start_time": "2023-09-17T06:07:24.194Z"
   },
   {
    "duration": 0,
    "start_time": "2023-09-17T06:07:24.196Z"
   },
   {
    "duration": 0,
    "start_time": "2023-09-17T06:07:24.198Z"
   },
   {
    "duration": 0,
    "start_time": "2023-09-17T06:07:24.199Z"
   },
   {
    "duration": 0,
    "start_time": "2023-09-17T06:07:24.200Z"
   },
   {
    "duration": 0,
    "start_time": "2023-09-17T06:07:24.202Z"
   },
   {
    "duration": 2256,
    "start_time": "2023-09-17T06:07:56.089Z"
   },
   {
    "duration": 58,
    "start_time": "2023-09-17T06:07:58.348Z"
   },
   {
    "duration": 15,
    "start_time": "2023-09-17T06:07:58.409Z"
   },
   {
    "duration": 52,
    "start_time": "2023-09-17T06:07:58.427Z"
   },
   {
    "duration": 20,
    "start_time": "2023-09-17T06:07:58.481Z"
   },
   {
    "duration": 19,
    "start_time": "2023-09-17T06:07:58.502Z"
   },
   {
    "duration": 40,
    "start_time": "2023-09-17T06:07:58.523Z"
   },
   {
    "duration": 7,
    "start_time": "2023-09-17T06:07:58.573Z"
   },
   {
    "duration": 17,
    "start_time": "2023-09-17T06:07:58.582Z"
   },
   {
    "duration": 19,
    "start_time": "2023-09-17T06:07:58.601Z"
   },
   {
    "duration": 28,
    "start_time": "2023-09-17T06:07:58.623Z"
   },
   {
    "duration": 369,
    "start_time": "2023-09-17T06:07:58.656Z"
   },
   {
    "duration": 4,
    "start_time": "2023-09-17T06:07:59.027Z"
   },
   {
    "duration": 12,
    "start_time": "2023-09-17T06:07:59.047Z"
   },
   {
    "duration": 57,
    "start_time": "2023-09-17T06:07:59.060Z"
   },
   {
    "duration": 49,
    "start_time": "2023-09-17T06:07:59.119Z"
   },
   {
    "duration": 45,
    "start_time": "2023-09-17T06:07:59.171Z"
   },
   {
    "duration": 45,
    "start_time": "2023-09-17T06:07:59.218Z"
   },
   {
    "duration": 168,
    "start_time": "2023-09-17T06:07:59.265Z"
   },
   {
    "duration": 0,
    "start_time": "2023-09-17T06:07:59.435Z"
   },
   {
    "duration": 0,
    "start_time": "2023-09-17T06:07:59.437Z"
   },
   {
    "duration": 0,
    "start_time": "2023-09-17T06:07:59.438Z"
   },
   {
    "duration": 0,
    "start_time": "2023-09-17T06:07:59.446Z"
   },
   {
    "duration": 0,
    "start_time": "2023-09-17T06:07:59.447Z"
   },
   {
    "duration": 0,
    "start_time": "2023-09-17T06:07:59.455Z"
   },
   {
    "duration": 0,
    "start_time": "2023-09-17T06:07:59.456Z"
   },
   {
    "duration": 12,
    "start_time": "2023-09-17T06:08:32.971Z"
   },
   {
    "duration": 47,
    "start_time": "2023-09-17T06:11:45.187Z"
   },
   {
    "duration": 19,
    "start_time": "2023-09-17T06:11:54.018Z"
   },
   {
    "duration": 46,
    "start_time": "2023-09-17T06:12:25.235Z"
   },
   {
    "duration": 2275,
    "start_time": "2023-09-17T06:18:10.575Z"
   },
   {
    "duration": 55,
    "start_time": "2023-09-17T06:18:12.853Z"
   },
   {
    "duration": 21,
    "start_time": "2023-09-17T06:18:12.910Z"
   },
   {
    "duration": 34,
    "start_time": "2023-09-17T06:18:12.933Z"
   },
   {
    "duration": 21,
    "start_time": "2023-09-17T06:18:12.971Z"
   },
   {
    "duration": 26,
    "start_time": "2023-09-17T06:18:12.994Z"
   },
   {
    "duration": 12,
    "start_time": "2023-09-17T06:18:13.022Z"
   },
   {
    "duration": 18,
    "start_time": "2023-09-17T06:18:13.035Z"
   },
   {
    "duration": 20,
    "start_time": "2023-09-17T06:18:13.056Z"
   },
   {
    "duration": 11,
    "start_time": "2023-09-17T06:18:13.078Z"
   },
   {
    "duration": 7,
    "start_time": "2023-09-17T06:18:13.091Z"
   },
   {
    "duration": 364,
    "start_time": "2023-09-17T06:18:13.099Z"
   },
   {
    "duration": 7,
    "start_time": "2023-09-17T06:18:13.466Z"
   },
   {
    "duration": 17,
    "start_time": "2023-09-17T06:18:13.477Z"
   },
   {
    "duration": 22,
    "start_time": "2023-09-17T06:18:13.495Z"
   },
   {
    "duration": 36,
    "start_time": "2023-09-17T06:18:13.520Z"
   },
   {
    "duration": 59,
    "start_time": "2023-09-17T06:18:13.559Z"
   },
   {
    "duration": 76,
    "start_time": "2023-09-17T06:18:13.620Z"
   },
   {
    "duration": 214,
    "start_time": "2023-09-17T06:18:13.698Z"
   },
   {
    "duration": 0,
    "start_time": "2023-09-17T06:18:13.914Z"
   },
   {
    "duration": 0,
    "start_time": "2023-09-17T06:18:13.916Z"
   },
   {
    "duration": 0,
    "start_time": "2023-09-17T06:18:13.917Z"
   },
   {
    "duration": 0,
    "start_time": "2023-09-17T06:18:13.919Z"
   },
   {
    "duration": 0,
    "start_time": "2023-09-17T06:18:13.920Z"
   },
   {
    "duration": 0,
    "start_time": "2023-09-17T06:18:13.922Z"
   },
   {
    "duration": 0,
    "start_time": "2023-09-17T06:18:13.923Z"
   },
   {
    "duration": 0,
    "start_time": "2023-09-17T06:18:13.925Z"
   },
   {
    "duration": 12,
    "start_time": "2023-09-17T06:19:43.725Z"
   },
   {
    "duration": 118,
    "start_time": "2023-09-17T06:19:50.042Z"
   },
   {
    "duration": 16,
    "start_time": "2023-09-17T06:19:55.039Z"
   },
   {
    "duration": 5,
    "start_time": "2023-09-17T06:20:16.323Z"
   },
   {
    "duration": 4,
    "start_time": "2023-09-17T06:20:30.676Z"
   },
   {
    "duration": 14,
    "start_time": "2023-09-17T06:20:31.055Z"
   },
   {
    "duration": 40,
    "start_time": "2023-09-17T06:20:31.401Z"
   },
   {
    "duration": 747,
    "start_time": "2023-09-17T06:20:31.595Z"
   },
   {
    "duration": 49,
    "start_time": "2023-09-17T06:20:34.431Z"
   },
   {
    "duration": 49,
    "start_time": "2023-09-17T06:20:37.374Z"
   },
   {
    "duration": 7,
    "start_time": "2023-09-17T06:20:41.119Z"
   },
   {
    "duration": 13,
    "start_time": "2023-09-17T06:20:50.859Z"
   },
   {
    "duration": 7,
    "start_time": "2023-09-17T06:21:01.821Z"
   },
   {
    "duration": 35,
    "start_time": "2023-09-17T06:21:16.379Z"
   },
   {
    "duration": 13,
    "start_time": "2023-09-17T06:21:43.417Z"
   },
   {
    "duration": 15,
    "start_time": "2023-09-17T06:23:33.412Z"
   },
   {
    "duration": 15,
    "start_time": "2023-09-17T06:23:49.874Z"
   },
   {
    "duration": 2578,
    "start_time": "2023-09-17T06:23:57.282Z"
   },
   {
    "duration": 52,
    "start_time": "2023-09-17T06:23:59.863Z"
   },
   {
    "duration": 19,
    "start_time": "2023-09-17T06:23:59.916Z"
   },
   {
    "duration": 30,
    "start_time": "2023-09-17T06:23:59.937Z"
   },
   {
    "duration": 39,
    "start_time": "2023-09-17T06:23:59.970Z"
   },
   {
    "duration": 52,
    "start_time": "2023-09-17T06:24:00.011Z"
   },
   {
    "duration": 16,
    "start_time": "2023-09-17T06:24:00.065Z"
   },
   {
    "duration": 22,
    "start_time": "2023-09-17T06:24:00.082Z"
   },
   {
    "duration": 33,
    "start_time": "2023-09-17T06:24:00.106Z"
   },
   {
    "duration": 32,
    "start_time": "2023-09-17T06:24:00.141Z"
   },
   {
    "duration": 31,
    "start_time": "2023-09-17T06:24:00.176Z"
   },
   {
    "duration": 416,
    "start_time": "2023-09-17T06:24:00.209Z"
   },
   {
    "duration": 3,
    "start_time": "2023-09-17T06:24:00.627Z"
   },
   {
    "duration": 33,
    "start_time": "2023-09-17T06:24:00.652Z"
   },
   {
    "duration": 121,
    "start_time": "2023-09-17T06:24:00.688Z"
   },
   {
    "duration": 266,
    "start_time": "2023-09-17T06:24:00.811Z"
   },
   {
    "duration": 242,
    "start_time": "2023-09-17T06:24:01.079Z"
   },
   {
    "duration": 67,
    "start_time": "2023-09-17T06:24:01.323Z"
   },
   {
    "duration": 198,
    "start_time": "2023-09-17T06:24:01.396Z"
   },
   {
    "duration": 0,
    "start_time": "2023-09-17T06:24:01.596Z"
   },
   {
    "duration": 0,
    "start_time": "2023-09-17T06:24:01.598Z"
   },
   {
    "duration": 0,
    "start_time": "2023-09-17T06:24:01.599Z"
   },
   {
    "duration": 0,
    "start_time": "2023-09-17T06:24:01.601Z"
   },
   {
    "duration": 0,
    "start_time": "2023-09-17T06:24:01.603Z"
   },
   {
    "duration": 0,
    "start_time": "2023-09-17T06:24:01.606Z"
   },
   {
    "duration": 0,
    "start_time": "2023-09-17T06:24:01.608Z"
   },
   {
    "duration": 0,
    "start_time": "2023-09-17T06:24:01.609Z"
   },
   {
    "duration": 0,
    "start_time": "2023-09-17T06:24:01.611Z"
   },
   {
    "duration": 12,
    "start_time": "2023-09-17T06:24:17.323Z"
   },
   {
    "duration": 11,
    "start_time": "2023-09-17T06:24:31.812Z"
   },
   {
    "duration": 2194,
    "start_time": "2023-09-17T06:27:12.257Z"
   },
   {
    "duration": 2727,
    "start_time": "2023-09-17T06:27:41.990Z"
   },
   {
    "duration": 58,
    "start_time": "2023-09-17T06:27:44.719Z"
   },
   {
    "duration": 22,
    "start_time": "2023-09-17T06:27:44.779Z"
   },
   {
    "duration": 43,
    "start_time": "2023-09-17T06:27:44.803Z"
   },
   {
    "duration": 28,
    "start_time": "2023-09-17T06:27:44.855Z"
   },
   {
    "duration": 24,
    "start_time": "2023-09-17T06:27:44.886Z"
   },
   {
    "duration": 39,
    "start_time": "2023-09-17T06:27:44.913Z"
   },
   {
    "duration": 13,
    "start_time": "2023-09-17T06:27:44.954Z"
   },
   {
    "duration": 11,
    "start_time": "2023-09-17T06:27:44.969Z"
   },
   {
    "duration": 11,
    "start_time": "2023-09-17T06:27:44.982Z"
   },
   {
    "duration": 6,
    "start_time": "2023-09-17T06:27:44.996Z"
   },
   {
    "duration": 446,
    "start_time": "2023-09-17T06:27:45.005Z"
   },
   {
    "duration": 12,
    "start_time": "2023-09-17T06:27:45.453Z"
   },
   {
    "duration": 33,
    "start_time": "2023-09-17T06:27:45.470Z"
   },
   {
    "duration": 33,
    "start_time": "2023-09-17T06:27:45.509Z"
   },
   {
    "duration": 29,
    "start_time": "2023-09-17T06:27:45.545Z"
   },
   {
    "duration": 66,
    "start_time": "2023-09-17T06:27:45.577Z"
   },
   {
    "duration": 63,
    "start_time": "2023-09-17T06:27:45.646Z"
   },
   {
    "duration": 2094,
    "start_time": "2023-09-17T06:27:45.711Z"
   },
   {
    "duration": 422,
    "start_time": "2023-09-17T06:27:47.806Z"
   },
   {
    "duration": 0,
    "start_time": "2023-09-17T06:27:48.230Z"
   },
   {
    "duration": 0,
    "start_time": "2023-09-17T06:27:48.231Z"
   },
   {
    "duration": 0,
    "start_time": "2023-09-17T06:27:48.233Z"
   },
   {
    "duration": 0,
    "start_time": "2023-09-17T06:27:48.234Z"
   },
   {
    "duration": 0,
    "start_time": "2023-09-17T06:27:48.235Z"
   },
   {
    "duration": 0,
    "start_time": "2023-09-17T06:27:48.237Z"
   },
   {
    "duration": 1,
    "start_time": "2023-09-17T06:27:48.237Z"
   },
   {
    "duration": 0,
    "start_time": "2023-09-17T06:27:48.238Z"
   },
   {
    "duration": 0,
    "start_time": "2023-09-17T06:27:48.240Z"
   },
   {
    "duration": 23,
    "start_time": "2023-09-17T06:29:34.779Z"
   },
   {
    "duration": 2313,
    "start_time": "2023-09-17T06:29:47.977Z"
   },
   {
    "duration": 48,
    "start_time": "2023-09-17T06:29:50.293Z"
   },
   {
    "duration": 35,
    "start_time": "2023-09-17T06:29:50.343Z"
   },
   {
    "duration": 39,
    "start_time": "2023-09-17T06:29:50.380Z"
   },
   {
    "duration": 32,
    "start_time": "2023-09-17T06:29:50.422Z"
   },
   {
    "duration": 25,
    "start_time": "2023-09-17T06:29:50.456Z"
   },
   {
    "duration": 12,
    "start_time": "2023-09-17T06:29:50.484Z"
   },
   {
    "duration": 14,
    "start_time": "2023-09-17T06:29:50.498Z"
   },
   {
    "duration": 20,
    "start_time": "2023-09-17T06:29:50.514Z"
   },
   {
    "duration": 16,
    "start_time": "2023-09-17T06:29:50.536Z"
   },
   {
    "duration": 20,
    "start_time": "2023-09-17T06:29:50.555Z"
   },
   {
    "duration": 360,
    "start_time": "2023-09-17T06:29:50.577Z"
   },
   {
    "duration": 17,
    "start_time": "2023-09-17T06:29:50.938Z"
   },
   {
    "duration": 15,
    "start_time": "2023-09-17T06:29:50.959Z"
   },
   {
    "duration": 29,
    "start_time": "2023-09-17T06:29:50.977Z"
   },
   {
    "duration": 30,
    "start_time": "2023-09-17T06:29:51.007Z"
   },
   {
    "duration": 65,
    "start_time": "2023-09-17T06:29:51.039Z"
   },
   {
    "duration": 33,
    "start_time": "2023-09-17T06:29:51.105Z"
   },
   {
    "duration": 191,
    "start_time": "2023-09-17T06:29:51.139Z"
   },
   {
    "duration": 0,
    "start_time": "2023-09-17T06:29:51.332Z"
   },
   {
    "duration": 0,
    "start_time": "2023-09-17T06:29:51.333Z"
   },
   {
    "duration": 0,
    "start_time": "2023-09-17T06:29:51.335Z"
   },
   {
    "duration": 0,
    "start_time": "2023-09-17T06:29:51.336Z"
   },
   {
    "duration": 0,
    "start_time": "2023-09-17T06:29:51.360Z"
   },
   {
    "duration": 0,
    "start_time": "2023-09-17T06:29:51.368Z"
   },
   {
    "duration": 0,
    "start_time": "2023-09-17T06:29:51.374Z"
   },
   {
    "duration": 0,
    "start_time": "2023-09-17T06:29:51.380Z"
   },
   {
    "duration": 0,
    "start_time": "2023-09-17T06:29:51.382Z"
   },
   {
    "duration": 13,
    "start_time": "2023-09-17T06:30:15.825Z"
   },
   {
    "duration": 2633,
    "start_time": "2023-09-17T06:30:23.276Z"
   },
   {
    "duration": 51,
    "start_time": "2023-09-17T06:30:25.911Z"
   },
   {
    "duration": 31,
    "start_time": "2023-09-17T06:30:25.964Z"
   },
   {
    "duration": 32,
    "start_time": "2023-09-17T06:30:25.997Z"
   },
   {
    "duration": 35,
    "start_time": "2023-09-17T06:30:26.048Z"
   },
   {
    "duration": 25,
    "start_time": "2023-09-17T06:30:26.086Z"
   },
   {
    "duration": 37,
    "start_time": "2023-09-17T06:30:26.114Z"
   },
   {
    "duration": 18,
    "start_time": "2023-09-17T06:30:26.156Z"
   },
   {
    "duration": 9,
    "start_time": "2023-09-17T06:30:26.177Z"
   },
   {
    "duration": 5,
    "start_time": "2023-09-17T06:30:26.189Z"
   },
   {
    "duration": 11,
    "start_time": "2023-09-17T06:30:26.196Z"
   },
   {
    "duration": 387,
    "start_time": "2023-09-17T06:30:26.209Z"
   },
   {
    "duration": 3,
    "start_time": "2023-09-17T06:30:26.598Z"
   },
   {
    "duration": 17,
    "start_time": "2023-09-17T06:30:26.605Z"
   },
   {
    "duration": 53,
    "start_time": "2023-09-17T06:30:26.625Z"
   },
   {
    "duration": 29,
    "start_time": "2023-09-17T06:30:26.680Z"
   },
   {
    "duration": 48,
    "start_time": "2023-09-17T06:30:26.711Z"
   },
   {
    "duration": 54,
    "start_time": "2023-09-17T06:30:26.761Z"
   },
   {
    "duration": 276,
    "start_time": "2023-09-17T06:30:26.817Z"
   },
   {
    "duration": 0,
    "start_time": "2023-09-17T06:30:27.095Z"
   },
   {
    "duration": 0,
    "start_time": "2023-09-17T06:30:27.097Z"
   },
   {
    "duration": 0,
    "start_time": "2023-09-17T06:30:27.099Z"
   },
   {
    "duration": 0,
    "start_time": "2023-09-17T06:30:27.100Z"
   },
   {
    "duration": 0,
    "start_time": "2023-09-17T06:30:27.101Z"
   },
   {
    "duration": 0,
    "start_time": "2023-09-17T06:30:27.102Z"
   },
   {
    "duration": 0,
    "start_time": "2023-09-17T06:30:27.103Z"
   },
   {
    "duration": 0,
    "start_time": "2023-09-17T06:30:27.105Z"
   },
   {
    "duration": 0,
    "start_time": "2023-09-17T06:30:27.106Z"
   },
   {
    "duration": 8,
    "start_time": "2023-09-17T06:30:42.712Z"
   },
   {
    "duration": 3,
    "start_time": "2023-09-17T06:31:17.589Z"
   },
   {
    "duration": 9,
    "start_time": "2023-09-17T06:31:17.940Z"
   },
   {
    "duration": 22,
    "start_time": "2023-09-17T06:31:18.284Z"
   },
   {
    "duration": 23,
    "start_time": "2023-09-17T06:31:18.457Z"
   },
   {
    "duration": 56,
    "start_time": "2023-09-17T06:31:18.820Z"
   },
   {
    "duration": 47,
    "start_time": "2023-09-17T06:31:21.231Z"
   },
   {
    "duration": 5,
    "start_time": "2023-09-17T06:31:23.982Z"
   },
   {
    "duration": 18,
    "start_time": "2023-09-17T06:31:36.754Z"
   },
   {
    "duration": 14,
    "start_time": "2023-09-17T06:32:02.094Z"
   },
   {
    "duration": 11,
    "start_time": "2023-09-17T06:32:11.034Z"
   },
   {
    "duration": 25,
    "start_time": "2023-09-17T06:32:16.244Z"
   },
   {
    "duration": 11,
    "start_time": "2023-09-17T06:32:29.390Z"
   },
   {
    "duration": 11,
    "start_time": "2023-09-17T06:32:37.192Z"
   },
   {
    "duration": 15,
    "start_time": "2023-09-17T06:32:44.829Z"
   },
   {
    "duration": 15,
    "start_time": "2023-09-17T06:32:56.614Z"
   },
   {
    "duration": 3,
    "start_time": "2023-09-17T06:33:23.217Z"
   },
   {
    "duration": 9,
    "start_time": "2023-09-17T06:33:24.041Z"
   },
   {
    "duration": 20,
    "start_time": "2023-09-17T06:33:24.605Z"
   },
   {
    "duration": 16,
    "start_time": "2023-09-17T06:33:24.829Z"
   },
   {
    "duration": 45,
    "start_time": "2023-09-17T06:33:27.060Z"
   },
   {
    "duration": 37,
    "start_time": "2023-09-17T06:33:27.362Z"
   },
   {
    "duration": 6,
    "start_time": "2023-09-17T06:33:45.455Z"
   },
   {
    "duration": 4,
    "start_time": "2023-09-17T06:33:56.771Z"
   },
   {
    "duration": 7,
    "start_time": "2023-09-17T06:34:01.334Z"
   },
   {
    "duration": 8,
    "start_time": "2023-09-17T06:34:14.058Z"
   },
   {
    "duration": 7,
    "start_time": "2023-09-17T06:34:14.631Z"
   },
   {
    "duration": 21,
    "start_time": "2023-09-17T06:34:26.067Z"
   },
   {
    "duration": 3,
    "start_time": "2023-09-17T06:34:30.893Z"
   },
   {
    "duration": 20,
    "start_time": "2023-09-17T06:34:31.245Z"
   },
   {
    "duration": 19,
    "start_time": "2023-09-17T06:34:31.591Z"
   },
   {
    "duration": 20,
    "start_time": "2023-09-17T06:34:31.777Z"
   },
   {
    "duration": 48,
    "start_time": "2023-09-17T06:34:32.113Z"
   },
   {
    "duration": 44,
    "start_time": "2023-09-17T06:34:32.281Z"
   },
   {
    "duration": 7,
    "start_time": "2023-09-17T06:34:32.622Z"
   },
   {
    "duration": 25,
    "start_time": "2023-09-17T06:34:32.975Z"
   },
   {
    "duration": 17,
    "start_time": "2023-09-17T06:34:33.172Z"
   },
   {
    "duration": 7,
    "start_time": "2023-09-17T06:34:46.192Z"
   },
   {
    "duration": 9,
    "start_time": "2023-09-17T06:34:51.172Z"
   },
   {
    "duration": 3,
    "start_time": "2023-09-17T06:34:54.012Z"
   },
   {
    "duration": 6588,
    "start_time": "2023-09-17T06:34:55.189Z"
   },
   {
    "duration": 3996,
    "start_time": "2023-09-17T06:36:19.276Z"
   },
   {
    "duration": 2409,
    "start_time": "2023-09-17T06:36:45.602Z"
   },
   {
    "duration": 50,
    "start_time": "2023-09-17T06:36:48.013Z"
   },
   {
    "duration": 25,
    "start_time": "2023-09-17T06:36:48.065Z"
   },
   {
    "duration": 29,
    "start_time": "2023-09-17T06:36:48.093Z"
   },
   {
    "duration": 58,
    "start_time": "2023-09-17T06:36:48.125Z"
   },
   {
    "duration": 23,
    "start_time": "2023-09-17T06:36:48.185Z"
   },
   {
    "duration": 13,
    "start_time": "2023-09-17T06:36:48.210Z"
   },
   {
    "duration": 25,
    "start_time": "2023-09-17T06:36:48.225Z"
   },
   {
    "duration": 14,
    "start_time": "2023-09-17T06:36:48.253Z"
   },
   {
    "duration": 8,
    "start_time": "2023-09-17T06:36:48.270Z"
   },
   {
    "duration": 18,
    "start_time": "2023-09-17T06:36:48.280Z"
   },
   {
    "duration": 377,
    "start_time": "2023-09-17T06:36:48.300Z"
   },
   {
    "duration": 10,
    "start_time": "2023-09-17T06:36:48.682Z"
   },
   {
    "duration": 9,
    "start_time": "2023-09-17T06:36:48.695Z"
   },
   {
    "duration": 21,
    "start_time": "2023-09-17T06:36:48.706Z"
   },
   {
    "duration": 32,
    "start_time": "2023-09-17T06:36:48.752Z"
   },
   {
    "duration": 35,
    "start_time": "2023-09-17T06:36:48.786Z"
   },
   {
    "duration": 65,
    "start_time": "2023-09-17T06:36:48.823Z"
   },
   {
    "duration": 78,
    "start_time": "2023-09-17T06:36:48.891Z"
   },
   {
    "duration": 36,
    "start_time": "2023-09-17T06:36:48.972Z"
   },
   {
    "duration": 16,
    "start_time": "2023-09-17T06:36:49.011Z"
   },
   {
    "duration": 13,
    "start_time": "2023-09-17T06:36:49.029Z"
   },
   {
    "duration": 11007,
    "start_time": "2023-09-17T06:36:49.044Z"
   },
   {
    "duration": 3351,
    "start_time": "2023-09-17T06:37:00.054Z"
   },
   {
    "duration": 2261,
    "start_time": "2023-09-17T06:37:15.517Z"
   },
   {
    "duration": 44,
    "start_time": "2023-09-17T06:37:17.781Z"
   },
   {
    "duration": 15,
    "start_time": "2023-09-17T06:37:17.827Z"
   },
   {
    "duration": 35,
    "start_time": "2023-09-17T06:37:17.844Z"
   },
   {
    "duration": 20,
    "start_time": "2023-09-17T06:37:17.882Z"
   },
   {
    "duration": 16,
    "start_time": "2023-09-17T06:37:17.904Z"
   },
   {
    "duration": 34,
    "start_time": "2023-09-17T06:37:17.922Z"
   },
   {
    "duration": 10,
    "start_time": "2023-09-17T06:37:17.959Z"
   },
   {
    "duration": 8,
    "start_time": "2023-09-17T06:37:17.971Z"
   },
   {
    "duration": 32,
    "start_time": "2023-09-17T06:37:17.981Z"
   },
   {
    "duration": 9,
    "start_time": "2023-09-17T06:37:18.015Z"
   },
   {
    "duration": 356,
    "start_time": "2023-09-17T06:37:18.025Z"
   },
   {
    "duration": 4,
    "start_time": "2023-09-17T06:37:18.384Z"
   },
   {
    "duration": 11,
    "start_time": "2023-09-17T06:37:18.391Z"
   },
   {
    "duration": 21,
    "start_time": "2023-09-17T06:37:18.404Z"
   },
   {
    "duration": 36,
    "start_time": "2023-09-17T06:37:18.426Z"
   },
   {
    "duration": 50,
    "start_time": "2023-09-17T06:37:18.465Z"
   },
   {
    "duration": 52,
    "start_time": "2023-09-17T06:37:18.518Z"
   },
   {
    "duration": 10,
    "start_time": "2023-09-17T06:37:18.574Z"
   },
   {
    "duration": 12,
    "start_time": "2023-09-17T06:37:18.586Z"
   },
   {
    "duration": 24,
    "start_time": "2023-09-17T06:37:18.599Z"
   },
   {
    "duration": 22,
    "start_time": "2023-09-17T06:37:18.625Z"
   },
   {
    "duration": 10134,
    "start_time": "2023-09-17T06:37:18.649Z"
   },
   {
    "duration": 3331,
    "start_time": "2023-09-17T06:37:28.788Z"
   },
   {
    "duration": 2392,
    "start_time": "2023-09-17T06:38:35.046Z"
   },
   {
    "duration": 58,
    "start_time": "2023-09-17T06:38:37.440Z"
   },
   {
    "duration": 15,
    "start_time": "2023-09-17T06:38:37.499Z"
   },
   {
    "duration": 20,
    "start_time": "2023-09-17T06:38:37.516Z"
   },
   {
    "duration": 27,
    "start_time": "2023-09-17T06:38:37.539Z"
   },
   {
    "duration": 34,
    "start_time": "2023-09-17T06:38:37.567Z"
   },
   {
    "duration": 19,
    "start_time": "2023-09-17T06:38:37.602Z"
   },
   {
    "duration": 16,
    "start_time": "2023-09-17T06:38:37.623Z"
   },
   {
    "duration": 13,
    "start_time": "2023-09-17T06:38:37.640Z"
   },
   {
    "duration": 8,
    "start_time": "2023-09-17T06:38:37.656Z"
   },
   {
    "duration": 14,
    "start_time": "2023-09-17T06:38:37.666Z"
   },
   {
    "duration": 378,
    "start_time": "2023-09-17T06:38:37.682Z"
   },
   {
    "duration": 4,
    "start_time": "2023-09-17T06:38:38.062Z"
   },
   {
    "duration": 12,
    "start_time": "2023-09-17T06:38:38.070Z"
   },
   {
    "duration": 29,
    "start_time": "2023-09-17T06:38:38.084Z"
   },
   {
    "duration": 45,
    "start_time": "2023-09-17T06:38:38.115Z"
   },
   {
    "duration": 45,
    "start_time": "2023-09-17T06:38:38.163Z"
   },
   {
    "duration": 56,
    "start_time": "2023-09-17T06:38:38.209Z"
   },
   {
    "duration": 7,
    "start_time": "2023-09-17T06:38:38.267Z"
   },
   {
    "duration": 13,
    "start_time": "2023-09-17T06:38:38.276Z"
   },
   {
    "duration": 25,
    "start_time": "2023-09-17T06:38:38.291Z"
   },
   {
    "duration": 18,
    "start_time": "2023-09-17T06:38:38.318Z"
   },
   {
    "duration": 27057,
    "start_time": "2023-09-17T06:38:38.338Z"
   },
   {
    "duration": 3383,
    "start_time": "2023-09-17T06:39:05.405Z"
   },
   {
    "duration": 2424,
    "start_time": "2023-09-17T06:40:04.864Z"
   },
   {
    "duration": 52,
    "start_time": "2023-09-17T06:40:07.291Z"
   },
   {
    "duration": 29,
    "start_time": "2023-09-17T06:40:07.346Z"
   },
   {
    "duration": 25,
    "start_time": "2023-09-17T06:40:07.378Z"
   },
   {
    "duration": 21,
    "start_time": "2023-09-17T06:40:07.404Z"
   },
   {
    "duration": 47,
    "start_time": "2023-09-17T06:40:07.427Z"
   },
   {
    "duration": 17,
    "start_time": "2023-09-17T06:40:07.475Z"
   },
   {
    "duration": 10,
    "start_time": "2023-09-17T06:40:07.494Z"
   },
   {
    "duration": 7,
    "start_time": "2023-09-17T06:40:07.506Z"
   },
   {
    "duration": 26,
    "start_time": "2023-09-17T06:40:07.516Z"
   },
   {
    "duration": 23,
    "start_time": "2023-09-17T06:40:07.543Z"
   },
   {
    "duration": 331,
    "start_time": "2023-09-17T06:40:07.567Z"
   },
   {
    "duration": 4,
    "start_time": "2023-09-17T06:40:07.900Z"
   },
   {
    "duration": 12,
    "start_time": "2023-09-17T06:40:07.906Z"
   },
   {
    "duration": 48,
    "start_time": "2023-09-17T06:40:07.919Z"
   },
   {
    "duration": 21,
    "start_time": "2023-09-17T06:40:07.970Z"
   },
   {
    "duration": 63,
    "start_time": "2023-09-17T06:40:07.993Z"
   },
   {
    "duration": 44,
    "start_time": "2023-09-17T06:40:08.058Z"
   },
   {
    "duration": 5,
    "start_time": "2023-09-17T06:40:08.105Z"
   },
   {
    "duration": 8,
    "start_time": "2023-09-17T06:40:08.112Z"
   },
   {
    "duration": 7,
    "start_time": "2023-09-17T06:40:08.121Z"
   },
   {
    "duration": 5,
    "start_time": "2023-09-17T06:40:08.150Z"
   },
   {
    "duration": 22604,
    "start_time": "2023-09-17T06:40:08.157Z"
   },
   {
    "duration": 3212,
    "start_time": "2023-09-17T06:40:30.763Z"
   },
   {
    "duration": 2210,
    "start_time": "2023-09-17T06:40:55.380Z"
   },
   {
    "duration": 45,
    "start_time": "2023-09-17T06:40:57.592Z"
   },
   {
    "duration": 21,
    "start_time": "2023-09-17T06:40:57.638Z"
   },
   {
    "duration": 30,
    "start_time": "2023-09-17T06:40:57.662Z"
   },
   {
    "duration": 22,
    "start_time": "2023-09-17T06:40:57.694Z"
   },
   {
    "duration": 37,
    "start_time": "2023-09-17T06:40:57.718Z"
   },
   {
    "duration": 20,
    "start_time": "2023-09-17T06:40:57.757Z"
   },
   {
    "duration": 4,
    "start_time": "2023-09-17T06:40:57.780Z"
   },
   {
    "duration": 29,
    "start_time": "2023-09-17T06:40:57.786Z"
   },
   {
    "duration": 8,
    "start_time": "2023-09-17T06:40:57.819Z"
   },
   {
    "duration": 20,
    "start_time": "2023-09-17T06:40:57.829Z"
   },
   {
    "duration": 317,
    "start_time": "2023-09-17T06:40:57.851Z"
   },
   {
    "duration": 4,
    "start_time": "2023-09-17T06:40:58.173Z"
   },
   {
    "duration": 18,
    "start_time": "2023-09-17T06:40:58.178Z"
   },
   {
    "duration": 35,
    "start_time": "2023-09-17T06:40:58.198Z"
   },
   {
    "duration": 20,
    "start_time": "2023-09-17T06:40:58.235Z"
   },
   {
    "duration": 56,
    "start_time": "2023-09-17T06:40:58.257Z"
   },
   {
    "duration": 51,
    "start_time": "2023-09-17T06:40:58.315Z"
   },
   {
    "duration": 7,
    "start_time": "2023-09-17T06:40:58.371Z"
   },
   {
    "duration": 17,
    "start_time": "2023-09-17T06:40:58.379Z"
   },
   {
    "duration": 10,
    "start_time": "2023-09-17T06:40:58.398Z"
   },
   {
    "duration": 4,
    "start_time": "2023-09-17T06:40:58.409Z"
   },
   {
    "duration": 16054,
    "start_time": "2023-09-17T06:40:58.415Z"
   },
   {
    "duration": 3249,
    "start_time": "2023-09-17T06:41:14.476Z"
   },
   {
    "duration": 2283,
    "start_time": "2023-09-17T06:41:30.809Z"
   },
   {
    "duration": 50,
    "start_time": "2023-09-17T06:41:33.094Z"
   },
   {
    "duration": 25,
    "start_time": "2023-09-17T06:41:33.148Z"
   },
   {
    "duration": 34,
    "start_time": "2023-09-17T06:41:33.175Z"
   },
   {
    "duration": 21,
    "start_time": "2023-09-17T06:41:33.211Z"
   },
   {
    "duration": 34,
    "start_time": "2023-09-17T06:41:33.234Z"
   },
   {
    "duration": 17,
    "start_time": "2023-09-17T06:41:33.270Z"
   },
   {
    "duration": 15,
    "start_time": "2023-09-17T06:41:33.289Z"
   },
   {
    "duration": 15,
    "start_time": "2023-09-17T06:41:33.306Z"
   },
   {
    "duration": 6,
    "start_time": "2023-09-17T06:41:33.324Z"
   },
   {
    "duration": 18,
    "start_time": "2023-09-17T06:41:33.331Z"
   },
   {
    "duration": 355,
    "start_time": "2023-09-17T06:41:33.351Z"
   },
   {
    "duration": 2,
    "start_time": "2023-09-17T06:41:33.709Z"
   },
   {
    "duration": 12,
    "start_time": "2023-09-17T06:41:33.714Z"
   },
   {
    "duration": 40,
    "start_time": "2023-09-17T06:41:33.728Z"
   },
   {
    "duration": 28,
    "start_time": "2023-09-17T06:41:33.769Z"
   },
   {
    "duration": 36,
    "start_time": "2023-09-17T06:41:33.800Z"
   },
   {
    "duration": 53,
    "start_time": "2023-09-17T06:41:33.847Z"
   },
   {
    "duration": 5,
    "start_time": "2023-09-17T06:41:33.902Z"
   },
   {
    "duration": 6,
    "start_time": "2023-09-17T06:41:33.909Z"
   },
   {
    "duration": 35,
    "start_time": "2023-09-17T06:41:33.916Z"
   },
   {
    "duration": 10,
    "start_time": "2023-09-17T06:41:33.953Z"
   },
   {
    "duration": 17497,
    "start_time": "2023-09-17T06:41:33.965Z"
   },
   {
    "duration": 3079,
    "start_time": "2023-09-17T06:41:51.464Z"
   },
   {
    "duration": 2306,
    "start_time": "2023-09-17T06:42:13.293Z"
   },
   {
    "duration": 44,
    "start_time": "2023-09-17T06:42:15.601Z"
   },
   {
    "duration": 23,
    "start_time": "2023-09-17T06:42:15.648Z"
   },
   {
    "duration": 28,
    "start_time": "2023-09-17T06:42:15.674Z"
   },
   {
    "duration": 45,
    "start_time": "2023-09-17T06:42:15.704Z"
   },
   {
    "duration": 26,
    "start_time": "2023-09-17T06:42:15.752Z"
   },
   {
    "duration": 14,
    "start_time": "2023-09-17T06:42:15.780Z"
   },
   {
    "duration": 16,
    "start_time": "2023-09-17T06:42:15.796Z"
   },
   {
    "duration": 14,
    "start_time": "2023-09-17T06:42:15.814Z"
   },
   {
    "duration": 32,
    "start_time": "2023-09-17T06:42:15.829Z"
   },
   {
    "duration": 13,
    "start_time": "2023-09-17T06:42:15.863Z"
   },
   {
    "duration": 338,
    "start_time": "2023-09-17T06:42:15.878Z"
   },
   {
    "duration": 3,
    "start_time": "2023-09-17T06:42:16.218Z"
   },
   {
    "duration": 24,
    "start_time": "2023-09-17T06:42:16.225Z"
   },
   {
    "duration": 25,
    "start_time": "2023-09-17T06:42:16.250Z"
   },
   {
    "duration": 25,
    "start_time": "2023-09-17T06:42:16.277Z"
   },
   {
    "duration": 48,
    "start_time": "2023-09-17T06:42:16.304Z"
   },
   {
    "duration": 39,
    "start_time": "2023-09-17T06:42:16.354Z"
   },
   {
    "duration": 6,
    "start_time": "2023-09-17T06:42:16.394Z"
   },
   {
    "duration": 20,
    "start_time": "2023-09-17T06:42:16.401Z"
   },
   {
    "duration": 13,
    "start_time": "2023-09-17T06:42:16.423Z"
   },
   {
    "duration": 16,
    "start_time": "2023-09-17T06:42:16.447Z"
   },
   {
    "duration": 14689,
    "start_time": "2023-09-17T06:42:16.467Z"
   },
   {
    "duration": 3324,
    "start_time": "2023-09-17T06:42:31.158Z"
   },
   {
    "duration": 2184,
    "start_time": "2023-09-17T06:42:51.901Z"
   },
   {
    "duration": 48,
    "start_time": "2023-09-17T06:42:54.087Z"
   },
   {
    "duration": 19,
    "start_time": "2023-09-17T06:42:54.137Z"
   },
   {
    "duration": 36,
    "start_time": "2023-09-17T06:42:54.159Z"
   },
   {
    "duration": 21,
    "start_time": "2023-09-17T06:42:54.197Z"
   },
   {
    "duration": 31,
    "start_time": "2023-09-17T06:42:54.220Z"
   },
   {
    "duration": 16,
    "start_time": "2023-09-17T06:42:54.253Z"
   },
   {
    "duration": 8,
    "start_time": "2023-09-17T06:42:54.270Z"
   },
   {
    "duration": 16,
    "start_time": "2023-09-17T06:42:54.280Z"
   },
   {
    "duration": 7,
    "start_time": "2023-09-17T06:42:54.298Z"
   },
   {
    "duration": 11,
    "start_time": "2023-09-17T06:42:54.307Z"
   },
   {
    "duration": 354,
    "start_time": "2023-09-17T06:42:54.320Z"
   },
   {
    "duration": 4,
    "start_time": "2023-09-17T06:42:54.676Z"
   },
   {
    "duration": 18,
    "start_time": "2023-09-17T06:42:54.683Z"
   },
   {
    "duration": 23,
    "start_time": "2023-09-17T06:42:54.703Z"
   },
   {
    "duration": 35,
    "start_time": "2023-09-17T06:42:54.728Z"
   },
   {
    "duration": 36,
    "start_time": "2023-09-17T06:42:54.769Z"
   },
   {
    "duration": 58,
    "start_time": "2023-09-17T06:42:54.807Z"
   },
   {
    "duration": 8,
    "start_time": "2023-09-17T06:42:54.869Z"
   },
   {
    "duration": 8,
    "start_time": "2023-09-17T06:42:54.879Z"
   },
   {
    "duration": 20,
    "start_time": "2023-09-17T06:42:54.889Z"
   },
   {
    "duration": 12,
    "start_time": "2023-09-17T06:42:54.911Z"
   },
   {
    "duration": 17835,
    "start_time": "2023-09-17T06:42:54.925Z"
   },
   {
    "duration": 3052,
    "start_time": "2023-09-17T06:43:12.765Z"
   },
   {
    "duration": 2204,
    "start_time": "2023-09-17T06:43:30.092Z"
   },
   {
    "duration": 49,
    "start_time": "2023-09-17T06:43:32.298Z"
   },
   {
    "duration": 22,
    "start_time": "2023-09-17T06:43:32.350Z"
   },
   {
    "duration": 46,
    "start_time": "2023-09-17T06:43:32.374Z"
   },
   {
    "duration": 37,
    "start_time": "2023-09-17T06:43:32.422Z"
   },
   {
    "duration": 39,
    "start_time": "2023-09-17T06:43:32.462Z"
   },
   {
    "duration": 25,
    "start_time": "2023-09-17T06:43:32.503Z"
   },
   {
    "duration": 30,
    "start_time": "2023-09-17T06:43:32.530Z"
   },
   {
    "duration": 26,
    "start_time": "2023-09-17T06:43:32.562Z"
   },
   {
    "duration": 29,
    "start_time": "2023-09-17T06:43:32.590Z"
   },
   {
    "duration": 18,
    "start_time": "2023-09-17T06:43:32.621Z"
   },
   {
    "duration": 331,
    "start_time": "2023-09-17T06:43:32.641Z"
   },
   {
    "duration": 4,
    "start_time": "2023-09-17T06:43:32.974Z"
   },
   {
    "duration": 20,
    "start_time": "2023-09-17T06:43:32.980Z"
   },
   {
    "duration": 37,
    "start_time": "2023-09-17T06:43:33.002Z"
   },
   {
    "duration": 35,
    "start_time": "2023-09-17T06:43:33.041Z"
   },
   {
    "duration": 52,
    "start_time": "2023-09-17T06:43:33.079Z"
   },
   {
    "duration": 40,
    "start_time": "2023-09-17T06:43:33.133Z"
   },
   {
    "duration": 5,
    "start_time": "2023-09-17T06:43:33.175Z"
   },
   {
    "duration": 37,
    "start_time": "2023-09-17T06:43:33.182Z"
   },
   {
    "duration": 37,
    "start_time": "2023-09-17T06:43:33.221Z"
   },
   {
    "duration": 13,
    "start_time": "2023-09-17T06:43:33.261Z"
   },
   {
    "duration": 14975,
    "start_time": "2023-09-17T06:43:33.276Z"
   },
   {
    "duration": 3003,
    "start_time": "2023-09-17T06:43:48.253Z"
   },
   {
    "duration": 2122,
    "start_time": "2023-09-17T06:44:02.161Z"
   },
   {
    "duration": 49,
    "start_time": "2023-09-17T06:44:04.285Z"
   },
   {
    "duration": 18,
    "start_time": "2023-09-17T06:44:04.336Z"
   },
   {
    "duration": 23,
    "start_time": "2023-09-17T06:44:04.358Z"
   },
   {
    "duration": 21,
    "start_time": "2023-09-17T06:44:04.384Z"
   },
   {
    "duration": 42,
    "start_time": "2023-09-17T06:44:04.406Z"
   },
   {
    "duration": 19,
    "start_time": "2023-09-17T06:44:04.453Z"
   },
   {
    "duration": 12,
    "start_time": "2023-09-17T06:44:04.474Z"
   },
   {
    "duration": 7,
    "start_time": "2023-09-17T06:44:04.488Z"
   },
   {
    "duration": 6,
    "start_time": "2023-09-17T06:44:04.497Z"
   },
   {
    "duration": 16,
    "start_time": "2023-09-17T06:44:04.505Z"
   },
   {
    "duration": 354,
    "start_time": "2023-09-17T06:44:04.523Z"
   },
   {
    "duration": 2,
    "start_time": "2023-09-17T06:44:04.879Z"
   },
   {
    "duration": 13,
    "start_time": "2023-09-17T06:44:04.884Z"
   },
   {
    "duration": 23,
    "start_time": "2023-09-17T06:44:04.899Z"
   },
   {
    "duration": 50,
    "start_time": "2023-09-17T06:44:04.924Z"
   },
   {
    "duration": 35,
    "start_time": "2023-09-17T06:44:04.976Z"
   },
   {
    "duration": 43,
    "start_time": "2023-09-17T06:44:05.013Z"
   },
   {
    "duration": 7,
    "start_time": "2023-09-17T06:44:05.058Z"
   },
   {
    "duration": 7,
    "start_time": "2023-09-17T06:44:05.067Z"
   },
   {
    "duration": 6,
    "start_time": "2023-09-17T06:44:05.075Z"
   },
   {
    "duration": 6,
    "start_time": "2023-09-17T06:44:05.083Z"
   },
   {
    "duration": 14173,
    "start_time": "2023-09-17T06:44:05.091Z"
   },
   {
    "duration": 2869,
    "start_time": "2023-09-17T06:44:19.266Z"
   },
   {
    "duration": 2122,
    "start_time": "2023-09-17T06:44:45.386Z"
   },
   {
    "duration": 45,
    "start_time": "2023-09-17T06:44:47.510Z"
   },
   {
    "duration": 22,
    "start_time": "2023-09-17T06:44:47.557Z"
   },
   {
    "duration": 21,
    "start_time": "2023-09-17T06:44:47.580Z"
   },
   {
    "duration": 19,
    "start_time": "2023-09-17T06:44:47.603Z"
   },
   {
    "duration": 53,
    "start_time": "2023-09-17T06:44:47.623Z"
   },
   {
    "duration": 12,
    "start_time": "2023-09-17T06:44:47.678Z"
   },
   {
    "duration": 10,
    "start_time": "2023-09-17T06:44:47.692Z"
   },
   {
    "duration": 34,
    "start_time": "2023-09-17T06:44:47.703Z"
   },
   {
    "duration": 36,
    "start_time": "2023-09-17T06:44:47.739Z"
   },
   {
    "duration": 26,
    "start_time": "2023-09-17T06:44:47.776Z"
   },
   {
    "duration": 309,
    "start_time": "2023-09-17T06:44:47.804Z"
   },
   {
    "duration": 3,
    "start_time": "2023-09-17T06:44:48.116Z"
   },
   {
    "duration": 33,
    "start_time": "2023-09-17T06:44:48.123Z"
   },
   {
    "duration": 32,
    "start_time": "2023-09-17T06:44:48.158Z"
   },
   {
    "duration": 37,
    "start_time": "2023-09-17T06:44:48.192Z"
   },
   {
    "duration": 75,
    "start_time": "2023-09-17T06:44:48.231Z"
   },
   {
    "duration": 45,
    "start_time": "2023-09-17T06:44:48.308Z"
   },
   {
    "duration": 13,
    "start_time": "2023-09-17T06:44:48.368Z"
   },
   {
    "duration": 9,
    "start_time": "2023-09-17T06:44:48.383Z"
   },
   {
    "duration": 35,
    "start_time": "2023-09-17T06:44:48.393Z"
   },
   {
    "duration": 9,
    "start_time": "2023-09-17T06:44:48.429Z"
   },
   {
    "duration": 11031,
    "start_time": "2023-09-17T06:44:48.439Z"
   },
   {
    "duration": 3100,
    "start_time": "2023-09-17T06:44:59.472Z"
   },
   {
    "duration": 2319,
    "start_time": "2023-09-17T06:45:23.346Z"
   },
   {
    "duration": 45,
    "start_time": "2023-09-17T06:45:25.668Z"
   },
   {
    "duration": 15,
    "start_time": "2023-09-17T06:45:25.716Z"
   },
   {
    "duration": 133,
    "start_time": "2023-09-17T06:45:25.734Z"
   },
   {
    "duration": 22,
    "start_time": "2023-09-17T06:45:25.870Z"
   },
   {
    "duration": 29,
    "start_time": "2023-09-17T06:45:25.895Z"
   },
   {
    "duration": 28,
    "start_time": "2023-09-17T06:45:25.926Z"
   },
   {
    "duration": 25,
    "start_time": "2023-09-17T06:45:25.957Z"
   },
   {
    "duration": 10,
    "start_time": "2023-09-17T06:45:25.984Z"
   },
   {
    "duration": 7,
    "start_time": "2023-09-17T06:45:25.997Z"
   },
   {
    "duration": 29,
    "start_time": "2023-09-17T06:45:26.006Z"
   },
   {
    "duration": 466,
    "start_time": "2023-09-17T06:45:26.037Z"
   },
   {
    "duration": 3,
    "start_time": "2023-09-17T06:45:26.505Z"
   },
   {
    "duration": 11,
    "start_time": "2023-09-17T06:45:26.510Z"
   },
   {
    "duration": 39,
    "start_time": "2023-09-17T06:45:26.523Z"
   },
   {
    "duration": 24,
    "start_time": "2023-09-17T06:45:26.564Z"
   },
   {
    "duration": 44,
    "start_time": "2023-09-17T06:45:26.590Z"
   },
   {
    "duration": 60,
    "start_time": "2023-09-17T06:45:26.635Z"
   },
   {
    "duration": 6,
    "start_time": "2023-09-17T06:45:26.697Z"
   },
   {
    "duration": 22,
    "start_time": "2023-09-17T06:45:26.705Z"
   },
   {
    "duration": 25,
    "start_time": "2023-09-17T06:45:26.729Z"
   },
   {
    "duration": 5,
    "start_time": "2023-09-17T06:45:26.756Z"
   },
   {
    "duration": 16297,
    "start_time": "2023-09-17T06:45:26.763Z"
   },
   {
    "duration": 3133,
    "start_time": "2023-09-17T06:45:43.062Z"
   },
   {
    "duration": 2189,
    "start_time": "2023-09-17T06:45:59.719Z"
   },
   {
    "duration": 45,
    "start_time": "2023-09-17T06:46:01.911Z"
   },
   {
    "duration": 21,
    "start_time": "2023-09-17T06:46:01.958Z"
   },
   {
    "duration": 194,
    "start_time": "2023-09-17T06:46:01.981Z"
   },
   {
    "duration": 32,
    "start_time": "2023-09-17T06:46:02.178Z"
   },
   {
    "duration": 350,
    "start_time": "2023-09-17T06:46:02.212Z"
   },
   {
    "duration": 78,
    "start_time": "2023-09-17T06:46:02.564Z"
   },
   {
    "duration": 37,
    "start_time": "2023-09-17T06:46:02.644Z"
   },
   {
    "duration": 39,
    "start_time": "2023-09-17T06:46:02.683Z"
   },
   {
    "duration": 36,
    "start_time": "2023-09-17T06:46:02.726Z"
   },
   {
    "duration": 40,
    "start_time": "2023-09-17T06:46:02.764Z"
   },
   {
    "duration": 401,
    "start_time": "2023-09-17T06:46:02.806Z"
   },
   {
    "duration": 4,
    "start_time": "2023-09-17T06:46:03.209Z"
   },
   {
    "duration": 19,
    "start_time": "2023-09-17T06:46:03.215Z"
   },
   {
    "duration": 40,
    "start_time": "2023-09-17T06:46:03.236Z"
   },
   {
    "duration": 31,
    "start_time": "2023-09-17T06:46:03.278Z"
   },
   {
    "duration": 46,
    "start_time": "2023-09-17T06:46:03.311Z"
   },
   {
    "duration": 40,
    "start_time": "2023-09-17T06:46:03.359Z"
   },
   {
    "duration": 5,
    "start_time": "2023-09-17T06:46:03.401Z"
   },
   {
    "duration": 13,
    "start_time": "2023-09-17T06:46:03.408Z"
   },
   {
    "duration": 21,
    "start_time": "2023-09-17T06:46:03.423Z"
   },
   {
    "duration": 16,
    "start_time": "2023-09-17T06:46:03.447Z"
   },
   {
    "duration": 43385,
    "start_time": "2023-09-17T06:46:03.465Z"
   },
   {
    "duration": 3058,
    "start_time": "2023-09-17T06:46:46.852Z"
   },
   {
    "duration": 2264,
    "start_time": "2023-09-17T06:47:09.770Z"
   },
   {
    "duration": 49,
    "start_time": "2023-09-17T06:47:12.036Z"
   },
   {
    "duration": 17,
    "start_time": "2023-09-17T06:47:12.086Z"
   },
   {
    "duration": 28,
    "start_time": "2023-09-17T06:47:12.105Z"
   },
   {
    "duration": 27,
    "start_time": "2023-09-17T06:47:12.135Z"
   },
   {
    "duration": 28,
    "start_time": "2023-09-17T06:47:12.165Z"
   },
   {
    "duration": 12,
    "start_time": "2023-09-17T06:47:12.195Z"
   },
   {
    "duration": 20,
    "start_time": "2023-09-17T06:47:12.209Z"
   },
   {
    "duration": 12,
    "start_time": "2023-09-17T06:47:12.231Z"
   },
   {
    "duration": 52,
    "start_time": "2023-09-17T06:47:12.244Z"
   },
   {
    "duration": 32,
    "start_time": "2023-09-17T06:47:12.298Z"
   },
   {
    "duration": 440,
    "start_time": "2023-09-17T06:47:12.332Z"
   },
   {
    "duration": 3,
    "start_time": "2023-09-17T06:47:12.774Z"
   },
   {
    "duration": 10,
    "start_time": "2023-09-17T06:47:12.781Z"
   },
   {
    "duration": 61,
    "start_time": "2023-09-17T06:47:12.792Z"
   },
   {
    "duration": 50,
    "start_time": "2023-09-17T06:47:12.855Z"
   },
   {
    "duration": 39,
    "start_time": "2023-09-17T06:47:12.906Z"
   },
   {
    "duration": 42,
    "start_time": "2023-09-17T06:47:12.949Z"
   },
   {
    "duration": 6,
    "start_time": "2023-09-17T06:47:12.992Z"
   },
   {
    "duration": 7,
    "start_time": "2023-09-17T06:47:13.000Z"
   },
   {
    "duration": 5,
    "start_time": "2023-09-17T06:47:13.009Z"
   },
   {
    "duration": 33356,
    "start_time": "2023-09-17T06:47:13.016Z"
   },
   {
    "duration": 3262,
    "start_time": "2023-09-17T06:47:46.377Z"
   },
   {
    "duration": 2374,
    "start_time": "2023-09-17T08:06:33.216Z"
   },
   {
    "duration": 59,
    "start_time": "2023-09-17T08:06:35.593Z"
   },
   {
    "duration": 26,
    "start_time": "2023-09-17T08:06:35.654Z"
   },
   {
    "duration": 37,
    "start_time": "2023-09-17T08:06:35.683Z"
   },
   {
    "duration": 60,
    "start_time": "2023-09-17T08:06:35.722Z"
   },
   {
    "duration": 35,
    "start_time": "2023-09-17T08:06:35.784Z"
   },
   {
    "duration": 44,
    "start_time": "2023-09-17T08:06:35.821Z"
   },
   {
    "duration": 5,
    "start_time": "2023-09-17T08:06:35.875Z"
   },
   {
    "duration": 51,
    "start_time": "2023-09-17T08:06:35.882Z"
   },
   {
    "duration": 29,
    "start_time": "2023-09-17T08:06:35.937Z"
   },
   {
    "duration": 14,
    "start_time": "2023-09-17T08:06:35.968Z"
   },
   {
    "duration": 397,
    "start_time": "2023-09-17T08:06:35.984Z"
   },
   {
    "duration": 4,
    "start_time": "2023-09-17T08:06:36.382Z"
   },
   {
    "duration": 15,
    "start_time": "2023-09-17T08:06:36.388Z"
   },
   {
    "duration": 40,
    "start_time": "2023-09-17T08:06:36.406Z"
   },
   {
    "duration": 23,
    "start_time": "2023-09-17T08:06:36.449Z"
   },
   {
    "duration": 36,
    "start_time": "2023-09-17T08:06:36.474Z"
   },
   {
    "duration": 75,
    "start_time": "2023-09-17T08:06:36.512Z"
   },
   {
    "duration": 7,
    "start_time": "2023-09-17T08:06:36.588Z"
   },
   {
    "duration": 7,
    "start_time": "2023-09-17T08:06:36.596Z"
   },
   {
    "duration": 5,
    "start_time": "2023-09-17T08:06:36.605Z"
   },
   {
    "duration": 182465,
    "start_time": "2023-09-17T08:06:36.612Z"
   },
   {
    "duration": 3724,
    "start_time": "2023-09-17T08:09:39.080Z"
   },
   {
    "duration": 2663,
    "start_time": "2023-09-17T08:09:54.378Z"
   },
   {
    "duration": 68,
    "start_time": "2023-09-17T08:09:57.044Z"
   },
   {
    "duration": 22,
    "start_time": "2023-09-17T08:09:57.114Z"
   },
   {
    "duration": 48,
    "start_time": "2023-09-17T08:09:57.138Z"
   },
   {
    "duration": 24,
    "start_time": "2023-09-17T08:09:57.191Z"
   },
   {
    "duration": 28,
    "start_time": "2023-09-17T08:09:57.217Z"
   },
   {
    "duration": 19,
    "start_time": "2023-09-17T08:09:57.251Z"
   },
   {
    "duration": 5,
    "start_time": "2023-09-17T08:09:57.272Z"
   },
   {
    "duration": 12,
    "start_time": "2023-09-17T08:09:57.280Z"
   },
   {
    "duration": 9,
    "start_time": "2023-09-17T08:09:57.294Z"
   },
   {
    "duration": 16,
    "start_time": "2023-09-17T08:09:57.304Z"
   },
   {
    "duration": 404,
    "start_time": "2023-09-17T08:09:57.322Z"
   },
   {
    "duration": 3,
    "start_time": "2023-09-17T08:09:57.728Z"
   },
   {
    "duration": 30,
    "start_time": "2023-09-17T08:09:57.734Z"
   },
   {
    "duration": 24,
    "start_time": "2023-09-17T08:09:57.773Z"
   },
   {
    "duration": 54,
    "start_time": "2023-09-17T08:09:57.799Z"
   },
   {
    "duration": 48,
    "start_time": "2023-09-17T08:09:57.855Z"
   },
   {
    "duration": 67,
    "start_time": "2023-09-17T08:09:57.905Z"
   },
   {
    "duration": 11,
    "start_time": "2023-09-17T08:09:57.974Z"
   },
   {
    "duration": 19,
    "start_time": "2023-09-17T08:09:57.987Z"
   },
   {
    "duration": 17,
    "start_time": "2023-09-17T08:09:58.008Z"
   },
   {
    "duration": 129970,
    "start_time": "2023-09-17T08:09:58.027Z"
   },
   {
    "duration": 3609,
    "start_time": "2023-09-17T08:12:07.999Z"
   },
   {
    "duration": 2565,
    "start_time": "2023-09-17T08:12:52.075Z"
   },
   {
    "duration": 69,
    "start_time": "2023-09-17T08:12:54.643Z"
   },
   {
    "duration": 24,
    "start_time": "2023-09-17T08:12:54.716Z"
   },
   {
    "duration": 62,
    "start_time": "2023-09-17T08:12:54.743Z"
   },
   {
    "duration": 32,
    "start_time": "2023-09-17T08:12:54.808Z"
   },
   {
    "duration": 42,
    "start_time": "2023-09-17T08:12:54.843Z"
   },
   {
    "duration": 32,
    "start_time": "2023-09-17T08:12:54.887Z"
   },
   {
    "duration": 7,
    "start_time": "2023-09-17T08:12:54.921Z"
   },
   {
    "duration": 10,
    "start_time": "2023-09-17T08:12:54.931Z"
   },
   {
    "duration": 15,
    "start_time": "2023-09-17T08:12:54.946Z"
   },
   {
    "duration": 17,
    "start_time": "2023-09-17T08:12:54.968Z"
   },
   {
    "duration": 449,
    "start_time": "2023-09-17T08:12:54.992Z"
   },
   {
    "duration": 5,
    "start_time": "2023-09-17T08:12:55.443Z"
   },
   {
    "duration": 15,
    "start_time": "2023-09-17T08:12:55.458Z"
   },
   {
    "duration": 51,
    "start_time": "2023-09-17T08:12:55.481Z"
   },
   {
    "duration": 71,
    "start_time": "2023-09-17T08:12:55.535Z"
   },
   {
    "duration": 68,
    "start_time": "2023-09-17T08:12:55.608Z"
   },
   {
    "duration": 66,
    "start_time": "2023-09-17T08:12:55.678Z"
   },
   {
    "duration": 6,
    "start_time": "2023-09-17T08:12:55.747Z"
   },
   {
    "duration": 8,
    "start_time": "2023-09-17T08:12:55.755Z"
   },
   {
    "duration": 9,
    "start_time": "2023-09-17T08:12:55.766Z"
   },
   {
    "duration": 4,
    "start_time": "2023-09-17T08:16:34.854Z"
   },
   {
    "duration": 60,
    "start_time": "2023-09-17T08:16:34.862Z"
   },
   {
    "duration": 26,
    "start_time": "2023-09-17T08:16:34.924Z"
   },
   {
    "duration": 31,
    "start_time": "2023-09-17T08:16:34.953Z"
   },
   {
    "duration": 31,
    "start_time": "2023-09-17T08:16:34.987Z"
   },
   {
    "duration": 51,
    "start_time": "2023-09-17T08:16:35.021Z"
   },
   {
    "duration": 17,
    "start_time": "2023-09-17T08:16:35.073Z"
   },
   {
    "duration": 17,
    "start_time": "2023-09-17T08:16:35.092Z"
   },
   {
    "duration": 12,
    "start_time": "2023-09-17T08:16:35.111Z"
   },
   {
    "duration": 27,
    "start_time": "2023-09-17T08:16:35.126Z"
   },
   {
    "duration": 9,
    "start_time": "2023-09-17T08:16:35.155Z"
   },
   {
    "duration": 440,
    "start_time": "2023-09-17T08:16:35.166Z"
   },
   {
    "duration": 4,
    "start_time": "2023-09-17T08:16:35.609Z"
   },
   {
    "duration": 40,
    "start_time": "2023-09-17T08:16:35.615Z"
   },
   {
    "duration": 26,
    "start_time": "2023-09-17T08:16:35.663Z"
   },
   {
    "duration": 20,
    "start_time": "2023-09-17T08:16:35.692Z"
   },
   {
    "duration": 141,
    "start_time": "2023-09-17T08:16:35.713Z"
   },
   {
    "duration": 49,
    "start_time": "2023-09-17T08:16:35.859Z"
   },
   {
    "duration": 7,
    "start_time": "2023-09-17T08:16:35.912Z"
   },
   {
    "duration": 39,
    "start_time": "2023-09-17T08:16:35.921Z"
   },
   {
    "duration": 34,
    "start_time": "2023-09-17T08:16:35.962Z"
   },
   {
    "duration": 72264,
    "start_time": "2023-09-17T08:16:35.998Z"
   },
   {
    "duration": 3314,
    "start_time": "2023-09-17T08:17:48.265Z"
   },
   {
    "duration": 2359,
    "start_time": "2023-09-17T08:18:07.904Z"
   },
   {
    "duration": 53,
    "start_time": "2023-09-17T08:18:10.269Z"
   },
   {
    "duration": 28,
    "start_time": "2023-09-17T08:18:10.325Z"
   },
   {
    "duration": 32,
    "start_time": "2023-09-17T08:18:10.355Z"
   },
   {
    "duration": 29,
    "start_time": "2023-09-17T08:18:10.390Z"
   },
   {
    "duration": 45,
    "start_time": "2023-09-17T08:18:10.421Z"
   },
   {
    "duration": 19,
    "start_time": "2023-09-17T08:18:10.470Z"
   },
   {
    "duration": 6,
    "start_time": "2023-09-17T08:18:10.491Z"
   },
   {
    "duration": 14,
    "start_time": "2023-09-17T08:18:10.499Z"
   },
   {
    "duration": 8,
    "start_time": "2023-09-17T08:18:10.516Z"
   },
   {
    "duration": 48,
    "start_time": "2023-09-17T08:18:10.526Z"
   },
   {
    "duration": 430,
    "start_time": "2023-09-17T08:18:10.580Z"
   },
   {
    "duration": 4,
    "start_time": "2023-09-17T08:18:11.012Z"
   },
   {
    "duration": 17,
    "start_time": "2023-09-17T08:18:11.019Z"
   },
   {
    "duration": 31,
    "start_time": "2023-09-17T08:18:11.050Z"
   },
   {
    "duration": 26,
    "start_time": "2023-09-17T08:18:11.083Z"
   },
   {
    "duration": 69,
    "start_time": "2023-09-17T08:18:11.112Z"
   },
   {
    "duration": 36,
    "start_time": "2023-09-17T08:18:11.184Z"
   },
   {
    "duration": 29,
    "start_time": "2023-09-17T08:18:11.223Z"
   },
   {
    "duration": 21,
    "start_time": "2023-09-17T08:18:11.256Z"
   },
   {
    "duration": 4,
    "start_time": "2023-09-17T08:18:11.279Z"
   },
   {
    "duration": 84182,
    "start_time": "2023-09-17T08:18:11.285Z"
   },
   {
    "duration": 3210,
    "start_time": "2023-09-17T08:19:35.469Z"
   },
   {
    "duration": 2453,
    "start_time": "2023-09-17T08:19:48.865Z"
   },
   {
    "duration": 56,
    "start_time": "2023-09-17T08:19:51.322Z"
   },
   {
    "duration": 24,
    "start_time": "2023-09-17T08:19:51.381Z"
   },
   {
    "duration": 51,
    "start_time": "2023-09-17T08:19:51.408Z"
   },
   {
    "duration": 30,
    "start_time": "2023-09-17T08:19:51.462Z"
   },
   {
    "duration": 61,
    "start_time": "2023-09-17T08:19:51.494Z"
   },
   {
    "duration": 18,
    "start_time": "2023-09-17T08:19:51.559Z"
   },
   {
    "duration": 27,
    "start_time": "2023-09-17T08:19:51.580Z"
   },
   {
    "duration": 19,
    "start_time": "2023-09-17T08:19:51.609Z"
   },
   {
    "duration": 34,
    "start_time": "2023-09-17T08:19:51.631Z"
   },
   {
    "duration": 22,
    "start_time": "2023-09-17T08:19:51.668Z"
   },
   {
    "duration": 343,
    "start_time": "2023-09-17T08:19:51.692Z"
   },
   {
    "duration": 3,
    "start_time": "2023-09-17T08:19:52.037Z"
   },
   {
    "duration": 18,
    "start_time": "2023-09-17T08:19:52.054Z"
   },
   {
    "duration": 26,
    "start_time": "2023-09-17T08:19:52.076Z"
   },
   {
    "duration": 36,
    "start_time": "2023-09-17T08:19:52.103Z"
   },
   {
    "duration": 66,
    "start_time": "2023-09-17T08:19:52.141Z"
   },
   {
    "duration": 45,
    "start_time": "2023-09-17T08:19:52.209Z"
   },
   {
    "duration": 6,
    "start_time": "2023-09-17T08:19:52.257Z"
   },
   {
    "duration": 24,
    "start_time": "2023-09-17T08:19:52.268Z"
   },
   {
    "duration": 15,
    "start_time": "2023-09-17T08:19:52.295Z"
   },
   {
    "duration": 197002,
    "start_time": "2023-09-17T08:19:52.312Z"
   },
   {
    "duration": 0,
    "start_time": "2023-09-17T08:23:09.317Z"
   },
   {
    "duration": 2876,
    "start_time": "2023-09-17T08:23:14.049Z"
   },
   {
    "duration": 64,
    "start_time": "2023-09-17T08:23:16.927Z"
   },
   {
    "duration": 24,
    "start_time": "2023-09-17T08:23:16.993Z"
   },
   {
    "duration": 27,
    "start_time": "2023-09-17T08:23:17.019Z"
   },
   {
    "duration": 30,
    "start_time": "2023-09-17T08:23:17.051Z"
   },
   {
    "duration": 36,
    "start_time": "2023-09-17T08:23:17.083Z"
   },
   {
    "duration": 13,
    "start_time": "2023-09-17T08:23:17.124Z"
   },
   {
    "duration": 26,
    "start_time": "2023-09-17T08:23:17.147Z"
   },
   {
    "duration": 9,
    "start_time": "2023-09-17T08:23:17.176Z"
   },
   {
    "duration": 12,
    "start_time": "2023-09-17T08:23:17.187Z"
   },
   {
    "duration": 10,
    "start_time": "2023-09-17T08:23:17.202Z"
   },
   {
    "duration": 413,
    "start_time": "2023-09-17T08:23:17.214Z"
   },
   {
    "duration": 5,
    "start_time": "2023-09-17T08:23:17.631Z"
   },
   {
    "duration": 17,
    "start_time": "2023-09-17T08:23:17.652Z"
   },
   {
    "duration": 53,
    "start_time": "2023-09-17T08:23:17.672Z"
   },
   {
    "duration": 28,
    "start_time": "2023-09-17T08:23:17.726Z"
   },
   {
    "duration": 57,
    "start_time": "2023-09-17T08:23:17.757Z"
   },
   {
    "duration": 45,
    "start_time": "2023-09-17T08:23:17.817Z"
   },
   {
    "duration": 6,
    "start_time": "2023-09-17T08:23:17.864Z"
   },
   {
    "duration": 24,
    "start_time": "2023-09-17T08:23:17.873Z"
   },
   {
    "duration": 18,
    "start_time": "2023-09-17T08:23:17.904Z"
   },
   {
    "duration": 10,
    "start_time": "2023-09-17T08:23:17.924Z"
   },
   {
    "duration": 90626,
    "start_time": "2023-09-17T08:23:17.936Z"
   },
   {
    "duration": 3236,
    "start_time": "2023-09-17T08:24:48.564Z"
   },
   {
    "duration": 2516,
    "start_time": "2023-09-17T10:43:03.986Z"
   },
   {
    "duration": 53,
    "start_time": "2023-09-17T10:43:06.504Z"
   },
   {
    "duration": 24,
    "start_time": "2023-09-17T10:43:06.559Z"
   },
   {
    "duration": 45,
    "start_time": "2023-09-17T10:43:06.585Z"
   },
   {
    "duration": 48,
    "start_time": "2023-09-17T10:43:06.634Z"
   },
   {
    "duration": 24,
    "start_time": "2023-09-17T10:43:06.684Z"
   },
   {
    "duration": 15,
    "start_time": "2023-09-17T10:43:06.710Z"
   },
   {
    "duration": 10,
    "start_time": "2023-09-17T10:43:06.727Z"
   },
   {
    "duration": 10,
    "start_time": "2023-09-17T10:43:06.746Z"
   },
   {
    "duration": 10,
    "start_time": "2023-09-17T10:43:06.759Z"
   },
   {
    "duration": 12,
    "start_time": "2023-09-17T10:43:06.772Z"
   },
   {
    "duration": 474,
    "start_time": "2023-09-17T10:43:06.787Z"
   },
   {
    "duration": 4,
    "start_time": "2023-09-17T10:43:07.264Z"
   },
   {
    "duration": 14,
    "start_time": "2023-09-17T10:43:07.271Z"
   },
   {
    "duration": 20,
    "start_time": "2023-09-17T10:43:07.287Z"
   },
   {
    "duration": 17,
    "start_time": "2023-09-17T10:43:07.309Z"
   },
   {
    "duration": 52,
    "start_time": "2023-09-17T10:43:07.347Z"
   },
   {
    "duration": 53,
    "start_time": "2023-09-17T10:43:07.401Z"
   },
   {
    "duration": 7,
    "start_time": "2023-09-17T10:43:07.457Z"
   },
   {
    "duration": 9,
    "start_time": "2023-09-17T10:43:07.466Z"
   },
   {
    "duration": 9,
    "start_time": "2023-09-17T10:43:07.478Z"
   },
   {
    "duration": 4,
    "start_time": "2023-09-17T10:43:07.490Z"
   },
   {
    "duration": 44291,
    "start_time": "2023-09-17T10:43:07.496Z"
   },
   {
    "duration": 3593,
    "start_time": "2023-09-17T10:43:51.795Z"
   },
   {
    "duration": 2313,
    "start_time": "2023-09-17T10:44:22.170Z"
   },
   {
    "duration": 45,
    "start_time": "2023-09-17T10:44:24.485Z"
   },
   {
    "duration": 34,
    "start_time": "2023-09-17T10:44:24.532Z"
   },
   {
    "duration": 39,
    "start_time": "2023-09-17T10:44:24.571Z"
   },
   {
    "duration": 34,
    "start_time": "2023-09-17T10:44:24.613Z"
   },
   {
    "duration": 30,
    "start_time": "2023-09-17T10:44:24.649Z"
   },
   {
    "duration": 16,
    "start_time": "2023-09-17T10:44:24.681Z"
   },
   {
    "duration": 20,
    "start_time": "2023-09-17T10:44:24.698Z"
   },
   {
    "duration": 49,
    "start_time": "2023-09-17T10:44:24.720Z"
   },
   {
    "duration": 22,
    "start_time": "2023-09-17T10:44:24.771Z"
   },
   {
    "duration": 23,
    "start_time": "2023-09-17T10:44:24.796Z"
   },
   {
    "duration": 481,
    "start_time": "2023-09-17T10:44:24.822Z"
   },
   {
    "duration": 4,
    "start_time": "2023-09-17T10:44:25.305Z"
   },
   {
    "duration": 14,
    "start_time": "2023-09-17T10:44:25.313Z"
   },
   {
    "duration": 48,
    "start_time": "2023-09-17T10:44:25.329Z"
   },
   {
    "duration": 32,
    "start_time": "2023-09-17T10:44:25.379Z"
   },
   {
    "duration": 103,
    "start_time": "2023-09-17T10:44:25.414Z"
   },
   {
    "duration": 61,
    "start_time": "2023-09-17T10:44:25.520Z"
   },
   {
    "duration": 8,
    "start_time": "2023-09-17T10:44:25.583Z"
   },
   {
    "duration": 11,
    "start_time": "2023-09-17T10:44:25.594Z"
   },
   {
    "duration": 9,
    "start_time": "2023-09-17T10:44:25.607Z"
   },
   {
    "duration": 13,
    "start_time": "2023-09-17T10:44:25.620Z"
   },
   {
    "duration": 19530,
    "start_time": "2023-09-17T10:44:25.646Z"
   },
   {
    "duration": 4421,
    "start_time": "2023-09-17T10:44:45.179Z"
   },
   {
    "duration": 2486,
    "start_time": "2023-09-17T10:45:34.710Z"
   },
   {
    "duration": 45,
    "start_time": "2023-09-17T10:45:37.198Z"
   },
   {
    "duration": 26,
    "start_time": "2023-09-17T10:45:37.247Z"
   },
   {
    "duration": 26,
    "start_time": "2023-09-17T10:45:37.275Z"
   },
   {
    "duration": 52,
    "start_time": "2023-09-17T10:45:37.304Z"
   },
   {
    "duration": 32,
    "start_time": "2023-09-17T10:45:37.358Z"
   },
   {
    "duration": 13,
    "start_time": "2023-09-17T10:45:37.393Z"
   },
   {
    "duration": 15,
    "start_time": "2023-09-17T10:45:37.408Z"
   },
   {
    "duration": 25,
    "start_time": "2023-09-17T10:45:37.425Z"
   },
   {
    "duration": 22,
    "start_time": "2023-09-17T10:45:37.452Z"
   },
   {
    "duration": 9,
    "start_time": "2023-09-17T10:45:37.476Z"
   },
   {
    "duration": 385,
    "start_time": "2023-09-17T10:45:37.487Z"
   },
   {
    "duration": 4,
    "start_time": "2023-09-17T10:45:37.878Z"
   },
   {
    "duration": 13,
    "start_time": "2023-09-17T10:45:37.889Z"
   },
   {
    "duration": 31,
    "start_time": "2023-09-17T10:45:37.904Z"
   },
   {
    "duration": 58,
    "start_time": "2023-09-17T10:45:37.937Z"
   },
   {
    "duration": 37,
    "start_time": "2023-09-17T10:45:37.997Z"
   },
   {
    "duration": 69,
    "start_time": "2023-09-17T10:45:38.036Z"
   },
   {
    "duration": 9,
    "start_time": "2023-09-17T10:45:38.108Z"
   },
   {
    "duration": 14,
    "start_time": "2023-09-17T10:45:38.119Z"
   },
   {
    "duration": 10,
    "start_time": "2023-09-17T10:45:38.135Z"
   },
   {
    "duration": 14,
    "start_time": "2023-09-17T10:45:38.152Z"
   },
   {
    "duration": 20995,
    "start_time": "2023-09-17T10:45:38.169Z"
   },
   {
    "duration": 4341,
    "start_time": "2023-09-17T10:45:59.168Z"
   },
   {
    "duration": 2523,
    "start_time": "2023-09-17T10:46:17.395Z"
   },
   {
    "duration": 68,
    "start_time": "2023-09-17T10:46:19.920Z"
   },
   {
    "duration": 17,
    "start_time": "2023-09-17T10:46:19.989Z"
   },
   {
    "duration": 54,
    "start_time": "2023-09-17T10:46:20.008Z"
   },
   {
    "duration": 31,
    "start_time": "2023-09-17T10:46:20.066Z"
   },
   {
    "duration": 24,
    "start_time": "2023-09-17T10:46:20.099Z"
   },
   {
    "duration": 36,
    "start_time": "2023-09-17T10:46:20.125Z"
   },
   {
    "duration": 6,
    "start_time": "2023-09-17T10:46:20.163Z"
   },
   {
    "duration": 9,
    "start_time": "2023-09-17T10:46:20.171Z"
   },
   {
    "duration": 8,
    "start_time": "2023-09-17T10:46:20.181Z"
   },
   {
    "duration": 21,
    "start_time": "2023-09-17T10:46:20.191Z"
   },
   {
    "duration": 428,
    "start_time": "2023-09-17T10:46:20.214Z"
   },
   {
    "duration": 4,
    "start_time": "2023-09-17T10:46:20.644Z"
   },
   {
    "duration": 33,
    "start_time": "2023-09-17T10:46:20.652Z"
   },
   {
    "duration": 48,
    "start_time": "2023-09-17T10:46:20.690Z"
   },
   {
    "duration": 42,
    "start_time": "2023-09-17T10:46:20.740Z"
   },
   {
    "duration": 38,
    "start_time": "2023-09-17T10:46:20.784Z"
   },
   {
    "duration": 62,
    "start_time": "2023-09-17T10:46:20.824Z"
   },
   {
    "duration": 7,
    "start_time": "2023-09-17T10:46:20.888Z"
   },
   {
    "duration": 27,
    "start_time": "2023-09-17T10:46:20.897Z"
   },
   {
    "duration": 35,
    "start_time": "2023-09-17T10:46:20.926Z"
   },
   {
    "duration": 35,
    "start_time": "2023-09-17T10:46:20.963Z"
   },
   {
    "duration": 61322,
    "start_time": "2023-09-17T10:46:21.001Z"
   },
   {
    "duration": 4920,
    "start_time": "2023-09-17T10:47:22.325Z"
   },
   {
    "duration": 2611,
    "start_time": "2023-09-17T11:08:01.237Z"
   },
   {
    "duration": 6,
    "start_time": "2023-09-17T11:08:03.849Z"
   },
   {
    "duration": 59,
    "start_time": "2023-09-17T11:08:03.857Z"
   },
   {
    "duration": 16,
    "start_time": "2023-09-17T11:08:03.918Z"
   },
   {
    "duration": 47,
    "start_time": "2023-09-17T11:08:03.937Z"
   },
   {
    "duration": 21,
    "start_time": "2023-09-17T11:08:03.986Z"
   },
   {
    "duration": 51,
    "start_time": "2023-09-17T11:08:04.009Z"
   },
   {
    "duration": 17,
    "start_time": "2023-09-17T11:08:04.062Z"
   },
   {
    "duration": 7,
    "start_time": "2023-09-17T11:08:04.080Z"
   },
   {
    "duration": 6,
    "start_time": "2023-09-17T11:08:04.089Z"
   },
   {
    "duration": 23,
    "start_time": "2023-09-17T11:08:04.097Z"
   },
   {
    "duration": 27,
    "start_time": "2023-09-17T11:08:04.122Z"
   },
   {
    "duration": 316,
    "start_time": "2023-09-17T11:08:04.151Z"
   },
   {
    "duration": 4,
    "start_time": "2023-09-17T11:08:04.471Z"
   },
   {
    "duration": 12,
    "start_time": "2023-09-17T11:08:04.477Z"
   },
   {
    "duration": 26,
    "start_time": "2023-09-17T11:08:04.491Z"
   },
   {
    "duration": 38,
    "start_time": "2023-09-17T11:08:04.519Z"
   },
   {
    "duration": 55,
    "start_time": "2023-09-17T11:08:04.560Z"
   },
   {
    "duration": 62,
    "start_time": "2023-09-17T11:08:04.617Z"
   },
   {
    "duration": 7,
    "start_time": "2023-09-17T11:08:04.681Z"
   },
   {
    "duration": 12,
    "start_time": "2023-09-17T11:08:04.690Z"
   },
   {
    "duration": 9,
    "start_time": "2023-09-17T11:08:04.703Z"
   },
   {
    "duration": 33,
    "start_time": "2023-09-17T11:08:04.714Z"
   },
   {
    "duration": 18002,
    "start_time": "2023-09-17T11:08:04.749Z"
   },
   {
    "duration": 3423,
    "start_time": "2023-09-17T11:08:22.752Z"
   },
   {
    "duration": 2192,
    "start_time": "2023-09-17T11:08:32.590Z"
   },
   {
    "duration": 5,
    "start_time": "2023-09-17T11:08:34.784Z"
   },
   {
    "duration": 55,
    "start_time": "2023-09-17T11:08:34.791Z"
   },
   {
    "duration": 19,
    "start_time": "2023-09-17T11:08:34.849Z"
   },
   {
    "duration": 24,
    "start_time": "2023-09-17T11:08:34.870Z"
   },
   {
    "duration": 52,
    "start_time": "2023-09-17T11:08:34.897Z"
   },
   {
    "duration": 26,
    "start_time": "2023-09-17T11:08:34.951Z"
   },
   {
    "duration": 16,
    "start_time": "2023-09-17T11:08:34.979Z"
   },
   {
    "duration": 17,
    "start_time": "2023-09-17T11:08:34.998Z"
   },
   {
    "duration": 31,
    "start_time": "2023-09-17T11:08:35.016Z"
   },
   {
    "duration": 5,
    "start_time": "2023-09-17T11:08:35.050Z"
   },
   {
    "duration": 22,
    "start_time": "2023-09-17T11:08:35.057Z"
   },
   {
    "duration": 376,
    "start_time": "2023-09-17T11:08:35.081Z"
   },
   {
    "duration": 4,
    "start_time": "2023-09-17T11:08:35.461Z"
   },
   {
    "duration": 25,
    "start_time": "2023-09-17T11:08:35.467Z"
   },
   {
    "duration": 142,
    "start_time": "2023-09-17T11:08:35.495Z"
   },
   {
    "duration": 48,
    "start_time": "2023-09-17T11:08:35.639Z"
   },
   {
    "duration": 40,
    "start_time": "2023-09-17T11:08:35.689Z"
   },
   {
    "duration": 38,
    "start_time": "2023-09-17T11:08:35.731Z"
   },
   {
    "duration": 9,
    "start_time": "2023-09-17T11:08:35.772Z"
   },
   {
    "duration": 24,
    "start_time": "2023-09-17T11:08:35.783Z"
   },
   {
    "duration": 52,
    "start_time": "2023-09-17T11:08:35.809Z"
   },
   {
    "duration": 23,
    "start_time": "2023-09-17T11:08:35.863Z"
   },
   {
    "duration": 17080,
    "start_time": "2023-09-17T11:08:35.889Z"
   },
   {
    "duration": 3537,
    "start_time": "2023-09-17T11:08:52.971Z"
   },
   {
    "duration": 25,
    "start_time": "2023-09-17T11:10:41.518Z"
   },
   {
    "duration": 5,
    "start_time": "2023-09-17T11:10:48.292Z"
   },
   {
    "duration": 6,
    "start_time": "2023-09-17T11:10:57.602Z"
   },
   {
    "duration": 5,
    "start_time": "2023-09-17T11:11:12.431Z"
   },
   {
    "duration": 3,
    "start_time": "2023-09-17T11:11:27.713Z"
   },
   {
    "duration": 5,
    "start_time": "2023-09-17T11:11:32.184Z"
   },
   {
    "duration": 6,
    "start_time": "2023-09-17T11:11:36.479Z"
   },
   {
    "duration": 305,
    "start_time": "2023-09-17T11:11:43.600Z"
   },
   {
    "duration": 2447,
    "start_time": "2023-09-17T11:23:44.216Z"
   },
   {
    "duration": 156,
    "start_time": "2023-09-17T11:23:46.666Z"
   },
   {
    "duration": 0,
    "start_time": "2023-09-17T11:23:46.824Z"
   },
   {
    "duration": 1,
    "start_time": "2023-09-17T11:23:46.825Z"
   },
   {
    "duration": 0,
    "start_time": "2023-09-17T11:23:46.827Z"
   },
   {
    "duration": 0,
    "start_time": "2023-09-17T11:23:46.829Z"
   },
   {
    "duration": 0,
    "start_time": "2023-09-17T11:23:46.830Z"
   },
   {
    "duration": 0,
    "start_time": "2023-09-17T11:23:46.832Z"
   },
   {
    "duration": 0,
    "start_time": "2023-09-17T11:23:46.852Z"
   },
   {
    "duration": 0,
    "start_time": "2023-09-17T11:23:46.860Z"
   },
   {
    "duration": 0,
    "start_time": "2023-09-17T11:23:46.865Z"
   },
   {
    "duration": 0,
    "start_time": "2023-09-17T11:23:46.867Z"
   },
   {
    "duration": 0,
    "start_time": "2023-09-17T11:23:46.868Z"
   },
   {
    "duration": 0,
    "start_time": "2023-09-17T11:23:46.869Z"
   },
   {
    "duration": 0,
    "start_time": "2023-09-17T11:23:46.871Z"
   },
   {
    "duration": 1,
    "start_time": "2023-09-17T11:23:46.871Z"
   },
   {
    "duration": 0,
    "start_time": "2023-09-17T11:23:46.873Z"
   },
   {
    "duration": 0,
    "start_time": "2023-09-17T11:23:46.874Z"
   },
   {
    "duration": 0,
    "start_time": "2023-09-17T11:23:46.875Z"
   },
   {
    "duration": 0,
    "start_time": "2023-09-17T11:23:46.876Z"
   },
   {
    "duration": 0,
    "start_time": "2023-09-17T11:23:46.877Z"
   },
   {
    "duration": 0,
    "start_time": "2023-09-17T11:23:46.878Z"
   },
   {
    "duration": 0,
    "start_time": "2023-09-17T11:23:46.879Z"
   },
   {
    "duration": 0,
    "start_time": "2023-09-17T11:23:46.881Z"
   },
   {
    "duration": 0,
    "start_time": "2023-09-17T11:23:46.882Z"
   },
   {
    "duration": 0,
    "start_time": "2023-09-17T11:23:46.883Z"
   },
   {
    "duration": 5,
    "start_time": "2023-09-17T11:24:10.918Z"
   },
   {
    "duration": 1959,
    "start_time": "2023-09-17T11:24:18.197Z"
   },
   {
    "duration": 4,
    "start_time": "2023-09-17T11:24:20.158Z"
   },
   {
    "duration": 68,
    "start_time": "2023-09-17T11:24:20.164Z"
   },
   {
    "duration": 23,
    "start_time": "2023-09-17T11:24:20.233Z"
   },
   {
    "duration": 48,
    "start_time": "2023-09-17T11:24:20.259Z"
   },
   {
    "duration": 29,
    "start_time": "2023-09-17T11:24:20.310Z"
   },
   {
    "duration": 43,
    "start_time": "2023-09-17T11:24:20.343Z"
   },
   {
    "duration": 22,
    "start_time": "2023-09-17T11:24:20.389Z"
   },
   {
    "duration": 20,
    "start_time": "2023-09-17T11:24:20.413Z"
   },
   {
    "duration": 49,
    "start_time": "2023-09-17T11:24:20.435Z"
   },
   {
    "duration": 27,
    "start_time": "2023-09-17T11:24:20.486Z"
   },
   {
    "duration": 8,
    "start_time": "2023-09-17T11:24:20.515Z"
   },
   {
    "duration": 321,
    "start_time": "2023-09-17T11:24:20.525Z"
   },
   {
    "duration": 3,
    "start_time": "2023-09-17T11:24:20.851Z"
   },
   {
    "duration": 15,
    "start_time": "2023-09-17T11:24:20.857Z"
   },
   {
    "duration": 40,
    "start_time": "2023-09-17T11:24:20.874Z"
   },
   {
    "duration": 17,
    "start_time": "2023-09-17T11:24:20.916Z"
   },
   {
    "duration": 44,
    "start_time": "2023-09-17T11:24:20.934Z"
   },
   {
    "duration": 37,
    "start_time": "2023-09-17T11:24:20.980Z"
   },
   {
    "duration": 28,
    "start_time": "2023-09-17T11:24:21.019Z"
   },
   {
    "duration": 4,
    "start_time": "2023-09-17T11:24:21.049Z"
   },
   {
    "duration": 11,
    "start_time": "2023-09-17T11:24:21.056Z"
   },
   {
    "duration": 7,
    "start_time": "2023-09-17T11:24:21.069Z"
   },
   {
    "duration": 18,
    "start_time": "2023-09-17T11:24:21.078Z"
   },
   {
    "duration": 19173,
    "start_time": "2023-09-17T11:24:21.099Z"
   },
   {
    "duration": 379,
    "start_time": "2023-09-17T11:24:40.350Z"
   },
   {
    "duration": 8,
    "start_time": "2023-09-17T11:27:51.764Z"
   },
   {
    "duration": 9,
    "start_time": "2023-09-17T11:30:35.249Z"
   },
   {
    "duration": 154,
    "start_time": "2023-09-17T11:30:49.929Z"
   },
   {
    "duration": 6,
    "start_time": "2023-09-17T11:31:28.792Z"
   },
   {
    "duration": 15,
    "start_time": "2023-09-17T11:31:29.584Z"
   },
   {
    "duration": 6,
    "start_time": "2023-09-17T11:31:45.899Z"
   },
   {
    "duration": 15,
    "start_time": "2023-09-17T11:31:46.835Z"
   },
   {
    "duration": 5,
    "start_time": "2023-09-17T11:31:55.273Z"
   },
   {
    "duration": 5,
    "start_time": "2023-09-17T11:32:30.153Z"
   },
   {
    "duration": 8,
    "start_time": "2023-09-17T11:32:35.645Z"
   },
   {
    "duration": 16,
    "start_time": "2023-09-17T11:32:36.382Z"
   },
   {
    "duration": 11,
    "start_time": "2023-09-17T11:32:55.992Z"
   },
   {
    "duration": 6,
    "start_time": "2023-09-17T11:33:00.055Z"
   },
   {
    "duration": 16,
    "start_time": "2023-09-17T11:33:00.653Z"
   },
   {
    "duration": 6,
    "start_time": "2023-09-17T11:33:51.227Z"
   },
   {
    "duration": 16,
    "start_time": "2023-09-17T11:33:51.718Z"
   },
   {
    "duration": 2053,
    "start_time": "2023-09-17T11:34:06.384Z"
   },
   {
    "duration": 4,
    "start_time": "2023-09-17T11:34:08.439Z"
   },
   {
    "duration": 47,
    "start_time": "2023-09-17T11:34:08.444Z"
   },
   {
    "duration": 16,
    "start_time": "2023-09-17T11:34:08.493Z"
   },
   {
    "duration": 29,
    "start_time": "2023-09-17T11:34:08.512Z"
   },
   {
    "duration": 26,
    "start_time": "2023-09-17T11:34:08.543Z"
   },
   {
    "duration": 19,
    "start_time": "2023-09-17T11:34:08.571Z"
   },
   {
    "duration": 12,
    "start_time": "2023-09-17T11:34:08.592Z"
   },
   {
    "duration": 8,
    "start_time": "2023-09-17T11:34:08.606Z"
   },
   {
    "duration": 38,
    "start_time": "2023-09-17T11:34:08.616Z"
   },
   {
    "duration": 10,
    "start_time": "2023-09-17T11:34:08.656Z"
   },
   {
    "duration": 15,
    "start_time": "2023-09-17T11:34:08.668Z"
   },
   {
    "duration": 300,
    "start_time": "2023-09-17T11:34:08.685Z"
   },
   {
    "duration": 3,
    "start_time": "2023-09-17T11:34:08.989Z"
   },
   {
    "duration": 12,
    "start_time": "2023-09-17T11:34:08.994Z"
   },
   {
    "duration": 40,
    "start_time": "2023-09-17T11:34:09.008Z"
   },
   {
    "duration": 23,
    "start_time": "2023-09-17T11:34:09.050Z"
   },
   {
    "duration": 60,
    "start_time": "2023-09-17T11:34:09.075Z"
   },
   {
    "duration": 35,
    "start_time": "2023-09-17T11:34:09.137Z"
   },
   {
    "duration": 6,
    "start_time": "2023-09-17T11:34:09.174Z"
   },
   {
    "duration": 7,
    "start_time": "2023-09-17T11:34:09.182Z"
   },
   {
    "duration": 11,
    "start_time": "2023-09-17T11:34:09.191Z"
   },
   {
    "duration": 22,
    "start_time": "2023-09-17T11:34:09.204Z"
   },
   {
    "duration": 4,
    "start_time": "2023-09-17T11:34:09.228Z"
   },
   {
    "duration": 17,
    "start_time": "2023-09-17T11:34:09.233Z"
   },
   {
    "duration": 156,
    "start_time": "2023-09-17T11:34:09.252Z"
   },
   {
    "duration": 0,
    "start_time": "2023-09-17T11:34:09.410Z"
   },
   {
    "duration": 0,
    "start_time": "2023-09-17T11:34:09.412Z"
   },
   {
    "duration": 10,
    "start_time": "2023-09-17T11:35:12.317Z"
   },
   {
    "duration": 11,
    "start_time": "2023-09-17T11:35:17.566Z"
   },
   {
    "duration": 4,
    "start_time": "2023-09-17T11:35:51.270Z"
   },
   {
    "duration": 5,
    "start_time": "2023-09-17T11:35:51.763Z"
   },
   {
    "duration": 6,
    "start_time": "2023-09-17T11:36:05.895Z"
   },
   {
    "duration": 15,
    "start_time": "2023-09-17T11:36:06.772Z"
   },
   {
    "duration": 5,
    "start_time": "2023-09-17T11:36:22.634Z"
   },
   {
    "duration": 16,
    "start_time": "2023-09-17T11:36:23.151Z"
   },
   {
    "duration": 11,
    "start_time": "2023-09-17T11:36:38.512Z"
   },
   {
    "duration": 12,
    "start_time": "2023-09-17T11:36:58.182Z"
   },
   {
    "duration": 8,
    "start_time": "2023-09-17T11:37:10.546Z"
   },
   {
    "duration": 5,
    "start_time": "2023-09-17T11:37:11.039Z"
   },
   {
    "duration": 5,
    "start_time": "2023-09-17T11:37:14.806Z"
   },
   {
    "duration": 5,
    "start_time": "2023-09-17T11:37:15.226Z"
   },
   {
    "duration": 5,
    "start_time": "2023-09-17T11:37:18.634Z"
   },
   {
    "duration": 6,
    "start_time": "2023-09-17T11:37:28.204Z"
   },
   {
    "duration": 46,
    "start_time": "2023-09-17T11:37:28.727Z"
   },
   {
    "duration": 15,
    "start_time": "2023-09-17T11:37:35.174Z"
   },
   {
    "duration": 7,
    "start_time": "2023-09-17T11:37:46.077Z"
   },
   {
    "duration": 5,
    "start_time": "2023-09-17T11:37:46.468Z"
   },
   {
    "duration": 4,
    "start_time": "2023-09-17T11:38:07.230Z"
   },
   {
    "duration": 4,
    "start_time": "2023-09-17T11:38:07.692Z"
   },
   {
    "duration": 6,
    "start_time": "2023-09-17T11:38:19.422Z"
   },
   {
    "duration": 4,
    "start_time": "2023-09-17T11:38:20.711Z"
   },
   {
    "duration": 5,
    "start_time": "2023-09-17T11:38:21.773Z"
   },
   {
    "duration": 16,
    "start_time": "2023-09-17T11:38:22.373Z"
   },
   {
    "duration": 5,
    "start_time": "2023-09-17T11:39:01.113Z"
   },
   {
    "duration": 3,
    "start_time": "2023-09-17T11:39:01.430Z"
   },
   {
    "duration": 6,
    "start_time": "2023-09-17T11:39:01.935Z"
   },
   {
    "duration": 3,
    "start_time": "2023-09-17T11:39:03.039Z"
   },
   {
    "duration": 5,
    "start_time": "2023-09-17T11:39:08.802Z"
   },
   {
    "duration": 6,
    "start_time": "2023-09-17T11:39:11.952Z"
   },
   {
    "duration": 4,
    "start_time": "2023-09-17T11:39:13.526Z"
   },
   {
    "duration": 6,
    "start_time": "2023-09-17T11:39:15.030Z"
   },
   {
    "duration": 15,
    "start_time": "2023-09-17T11:39:15.722Z"
   },
   {
    "duration": 20,
    "start_time": "2023-09-17T11:39:22.776Z"
   },
   {
    "duration": 19,
    "start_time": "2023-09-17T11:39:33.763Z"
   },
   {
    "duration": 5,
    "start_time": "2023-09-17T11:40:13.164Z"
   },
   {
    "duration": 5,
    "start_time": "2023-09-17T11:40:15.266Z"
   },
   {
    "duration": 5,
    "start_time": "2023-09-17T11:40:16.914Z"
   },
   {
    "duration": 4,
    "start_time": "2023-09-17T11:40:20.211Z"
   },
   {
    "duration": 5,
    "start_time": "2023-09-17T11:40:21.638Z"
   },
   {
    "duration": 8,
    "start_time": "2023-09-17T11:40:23.517Z"
   },
   {
    "duration": 3,
    "start_time": "2023-09-17T11:40:24.531Z"
   },
   {
    "duration": 7,
    "start_time": "2023-09-17T11:40:25.654Z"
   },
   {
    "duration": 279,
    "start_time": "2023-09-17T11:40:27.381Z"
   },
   {
    "duration": 5,
    "start_time": "2023-09-17T11:41:34.436Z"
   },
   {
    "duration": 6,
    "start_time": "2023-09-17T11:41:36.481Z"
   },
   {
    "duration": 8,
    "start_time": "2023-09-17T11:41:39.586Z"
   },
   {
    "duration": 14,
    "start_time": "2023-09-17T11:41:40.286Z"
   },
   {
    "duration": 6,
    "start_time": "2023-09-17T11:41:50.667Z"
   },
   {
    "duration": 16,
    "start_time": "2023-09-17T11:41:51.148Z"
   },
   {
    "duration": 7677,
    "start_time": "2023-09-17T11:41:51.473Z"
   },
   {
    "duration": 337,
    "start_time": "2023-09-17T11:42:13.716Z"
   },
   {
    "duration": 8,
    "start_time": "2023-09-17T11:42:37.689Z"
   },
   {
    "duration": 3,
    "start_time": "2023-09-17T11:42:38.924Z"
   },
   {
    "duration": 7,
    "start_time": "2023-09-17T11:42:41.306Z"
   },
   {
    "duration": 17,
    "start_time": "2023-09-17T11:42:42.212Z"
   },
   {
    "duration": 2027,
    "start_time": "2023-09-17T11:42:51.583Z"
   },
   {
    "duration": 4,
    "start_time": "2023-09-17T11:42:53.613Z"
   },
   {
    "duration": 68,
    "start_time": "2023-09-17T11:42:53.618Z"
   },
   {
    "duration": 16,
    "start_time": "2023-09-17T11:42:53.688Z"
   },
   {
    "duration": 23,
    "start_time": "2023-09-17T11:42:53.706Z"
   },
   {
    "duration": 28,
    "start_time": "2023-09-17T11:42:53.731Z"
   },
   {
    "duration": 56,
    "start_time": "2023-09-17T11:42:53.760Z"
   },
   {
    "duration": 13,
    "start_time": "2023-09-17T11:42:53.818Z"
   },
   {
    "duration": 32,
    "start_time": "2023-09-17T11:42:53.833Z"
   },
   {
    "duration": 32,
    "start_time": "2023-09-17T11:42:53.868Z"
   },
   {
    "duration": 8,
    "start_time": "2023-09-17T11:42:53.901Z"
   },
   {
    "duration": 13,
    "start_time": "2023-09-17T11:42:53.912Z"
   },
   {
    "duration": 324,
    "start_time": "2023-09-17T11:42:53.927Z"
   },
   {
    "duration": 4,
    "start_time": "2023-09-17T11:42:54.254Z"
   },
   {
    "duration": 27,
    "start_time": "2023-09-17T11:42:54.260Z"
   },
   {
    "duration": 30,
    "start_time": "2023-09-17T11:42:54.290Z"
   },
   {
    "duration": 36,
    "start_time": "2023-09-17T11:42:54.322Z"
   },
   {
    "duration": 46,
    "start_time": "2023-09-17T11:42:54.360Z"
   },
   {
    "duration": 54,
    "start_time": "2023-09-17T11:42:54.408Z"
   },
   {
    "duration": 10,
    "start_time": "2023-09-17T11:42:54.464Z"
   },
   {
    "duration": 14,
    "start_time": "2023-09-17T11:42:54.476Z"
   },
   {
    "duration": 10,
    "start_time": "2023-09-17T11:42:54.492Z"
   },
   {
    "duration": 7,
    "start_time": "2023-09-17T11:42:54.504Z"
   },
   {
    "duration": 162,
    "start_time": "2023-09-17T11:42:54.512Z"
   },
   {
    "duration": 0,
    "start_time": "2023-09-17T11:42:54.676Z"
   },
   {
    "duration": 0,
    "start_time": "2023-09-17T11:42:54.677Z"
   },
   {
    "duration": 6,
    "start_time": "2023-09-17T11:43:30.985Z"
   },
   {
    "duration": 16,
    "start_time": "2023-09-17T11:43:31.572Z"
   },
   {
    "duration": 7,
    "start_time": "2023-09-17T11:43:59.554Z"
   },
   {
    "duration": 18,
    "start_time": "2023-09-17T11:44:00.193Z"
   },
   {
    "duration": 12,
    "start_time": "2023-09-17T11:44:06.388Z"
   },
   {
    "duration": 3,
    "start_time": "2023-09-17T11:44:42.074Z"
   },
   {
    "duration": 6,
    "start_time": "2023-09-17T11:44:43.090Z"
   },
   {
    "duration": 11075,
    "start_time": "2023-09-17T11:44:43.530Z"
   },
   {
    "duration": 16,
    "start_time": "2023-09-17T11:45:07.933Z"
   },
   {
    "duration": 24,
    "start_time": "2023-09-17T11:45:21.935Z"
   },
   {
    "duration": 220,
    "start_time": "2023-09-17T11:46:20.081Z"
   },
   {
    "duration": 7936,
    "start_time": "2023-09-17T11:46:20.543Z"
   },
   {
    "duration": 5,
    "start_time": "2023-09-17T11:46:30.473Z"
   },
   {
    "duration": 37549,
    "start_time": "2023-09-17T11:46:31.905Z"
   },
   {
    "duration": 2281,
    "start_time": "2023-09-17T11:47:16.517Z"
   },
   {
    "duration": 5,
    "start_time": "2023-09-17T11:47:18.800Z"
   },
   {
    "duration": 62,
    "start_time": "2023-09-17T11:47:18.806Z"
   },
   {
    "duration": 18,
    "start_time": "2023-09-17T11:47:18.870Z"
   },
   {
    "duration": 44,
    "start_time": "2023-09-17T11:47:18.891Z"
   },
   {
    "duration": 35,
    "start_time": "2023-09-17T11:47:18.937Z"
   },
   {
    "duration": 40,
    "start_time": "2023-09-17T11:47:18.974Z"
   },
   {
    "duration": 44,
    "start_time": "2023-09-17T11:47:19.017Z"
   },
   {
    "duration": 20,
    "start_time": "2023-09-17T11:47:19.063Z"
   },
   {
    "duration": 32,
    "start_time": "2023-09-17T11:47:19.085Z"
   },
   {
    "duration": 15,
    "start_time": "2023-09-17T11:47:19.119Z"
   },
   {
    "duration": 11,
    "start_time": "2023-09-17T11:47:19.136Z"
   },
   {
    "duration": 375,
    "start_time": "2023-09-17T11:47:19.149Z"
   },
   {
    "duration": 4,
    "start_time": "2023-09-17T11:47:19.528Z"
   },
   {
    "duration": 19,
    "start_time": "2023-09-17T11:47:19.534Z"
   },
   {
    "duration": 20,
    "start_time": "2023-09-17T11:47:19.555Z"
   },
   {
    "duration": 24,
    "start_time": "2023-09-17T11:47:19.577Z"
   },
   {
    "duration": 74,
    "start_time": "2023-09-17T11:47:19.603Z"
   },
   {
    "duration": 54,
    "start_time": "2023-09-17T11:47:19.679Z"
   },
   {
    "duration": 18,
    "start_time": "2023-09-17T11:47:19.734Z"
   },
   {
    "duration": 8,
    "start_time": "2023-09-17T11:47:19.754Z"
   },
   {
    "duration": 24,
    "start_time": "2023-09-17T11:47:19.765Z"
   },
   {
    "duration": 12,
    "start_time": "2023-09-17T11:47:19.791Z"
   },
   {
    "duration": 19,
    "start_time": "2023-09-17T11:47:19.806Z"
   },
   {
    "duration": 23928,
    "start_time": "2023-09-17T11:47:19.828Z"
   },
   {
    "duration": 409,
    "start_time": "2023-09-17T11:47:43.759Z"
   },
   {
    "duration": 10,
    "start_time": "2023-09-17T11:48:02.997Z"
   },
   {
    "duration": 10730,
    "start_time": "2023-09-17T11:48:03.645Z"
   },
   {
    "duration": 2158,
    "start_time": "2023-09-17T11:48:24.650Z"
   },
   {
    "duration": 5,
    "start_time": "2023-09-17T11:48:26.811Z"
   },
   {
    "duration": 48,
    "start_time": "2023-09-17T11:48:26.817Z"
   },
   {
    "duration": 18,
    "start_time": "2023-09-17T11:48:26.866Z"
   },
   {
    "duration": 27,
    "start_time": "2023-09-17T11:48:26.887Z"
   },
   {
    "duration": 50,
    "start_time": "2023-09-17T11:48:26.916Z"
   },
   {
    "duration": 17,
    "start_time": "2023-09-17T11:48:26.968Z"
   },
   {
    "duration": 17,
    "start_time": "2023-09-17T11:48:26.987Z"
   },
   {
    "duration": 26,
    "start_time": "2023-09-17T11:48:27.007Z"
   },
   {
    "duration": 26,
    "start_time": "2023-09-17T11:48:27.036Z"
   },
   {
    "duration": 23,
    "start_time": "2023-09-17T11:48:27.064Z"
   },
   {
    "duration": 10,
    "start_time": "2023-09-17T11:48:27.089Z"
   },
   {
    "duration": 306,
    "start_time": "2023-09-17T11:48:27.102Z"
   },
   {
    "duration": 3,
    "start_time": "2023-09-17T11:48:27.413Z"
   },
   {
    "duration": 28,
    "start_time": "2023-09-17T11:48:27.418Z"
   },
   {
    "duration": 30,
    "start_time": "2023-09-17T11:48:27.449Z"
   },
   {
    "duration": 24,
    "start_time": "2023-09-17T11:48:27.481Z"
   },
   {
    "duration": 59,
    "start_time": "2023-09-17T11:48:27.507Z"
   },
   {
    "duration": 49,
    "start_time": "2023-09-17T11:48:27.568Z"
   },
   {
    "duration": 7,
    "start_time": "2023-09-17T11:48:27.619Z"
   },
   {
    "duration": 7,
    "start_time": "2023-09-17T11:48:27.646Z"
   },
   {
    "duration": 7,
    "start_time": "2023-09-17T11:48:27.655Z"
   },
   {
    "duration": 10,
    "start_time": "2023-09-17T11:48:27.664Z"
   },
   {
    "duration": 15,
    "start_time": "2023-09-17T11:48:27.676Z"
   },
   {
    "duration": 28574,
    "start_time": "2023-09-17T11:48:27.693Z"
   },
   {
    "duration": 491,
    "start_time": "2023-09-17T11:48:56.270Z"
   },
   {
    "duration": 104,
    "start_time": "2023-09-17T11:51:26.102Z"
   },
   {
    "duration": 338,
    "start_time": "2023-09-17T11:51:35.992Z"
   },
   {
    "duration": 90,
    "start_time": "2023-09-17T11:53:17.635Z"
   },
   {
    "duration": 97413,
    "start_time": "2023-09-17T11:53:25.204Z"
   },
   {
    "duration": 15264,
    "start_time": "2023-09-17T11:59:01.790Z"
   },
   {
    "duration": 160,
    "start_time": "2023-09-17T12:00:14.846Z"
   },
   {
    "duration": 25081,
    "start_time": "2023-09-17T12:00:34.987Z"
   },
   {
    "duration": 350,
    "start_time": "2023-09-17T12:01:03.688Z"
   },
   {
    "duration": 66488,
    "start_time": "2023-09-17T12:01:09.092Z"
   },
   {
    "duration": 9,
    "start_time": "2023-09-17T12:03:14.428Z"
   },
   {
    "duration": 26751,
    "start_time": "2023-09-17T12:03:19.323Z"
   },
   {
    "duration": 15522,
    "start_time": "2023-09-17T12:04:17.749Z"
   },
   {
    "duration": 159538,
    "start_time": "2023-09-17T12:04:53.477Z"
   },
   {
    "duration": 2147,
    "start_time": "2023-09-17T12:08:05.800Z"
   },
   {
    "duration": 4,
    "start_time": "2023-09-17T12:08:07.950Z"
   },
   {
    "duration": 57,
    "start_time": "2023-09-17T12:08:07.956Z"
   },
   {
    "duration": 17,
    "start_time": "2023-09-17T12:08:08.015Z"
   },
   {
    "duration": 74,
    "start_time": "2023-09-17T12:08:08.034Z"
   },
   {
    "duration": 48,
    "start_time": "2023-09-17T12:08:08.110Z"
   },
   {
    "duration": 38,
    "start_time": "2023-09-17T12:08:08.160Z"
   },
   {
    "duration": 13,
    "start_time": "2023-09-17T12:08:08.200Z"
   },
   {
    "duration": 14,
    "start_time": "2023-09-17T12:08:08.215Z"
   },
   {
    "duration": 6,
    "start_time": "2023-09-17T12:08:08.233Z"
   },
   {
    "duration": 10,
    "start_time": "2023-09-17T12:08:08.241Z"
   },
   {
    "duration": 9,
    "start_time": "2023-09-17T12:08:08.253Z"
   },
   {
    "duration": 315,
    "start_time": "2023-09-17T12:08:08.264Z"
   },
   {
    "duration": 4,
    "start_time": "2023-09-17T12:08:08.583Z"
   },
   {
    "duration": 32,
    "start_time": "2023-09-17T12:08:08.589Z"
   },
   {
    "duration": 21,
    "start_time": "2023-09-17T12:08:08.623Z"
   },
   {
    "duration": 17,
    "start_time": "2023-09-17T12:08:08.647Z"
   },
   {
    "duration": 34,
    "start_time": "2023-09-17T12:08:08.666Z"
   },
   {
    "duration": 61,
    "start_time": "2023-09-17T12:08:08.701Z"
   },
   {
    "duration": 6,
    "start_time": "2023-09-17T12:08:08.764Z"
   },
   {
    "duration": 10,
    "start_time": "2023-09-17T12:08:08.771Z"
   },
   {
    "duration": 17,
    "start_time": "2023-09-17T12:08:08.783Z"
   },
   {
    "duration": 13,
    "start_time": "2023-09-17T12:08:08.802Z"
   },
   {
    "duration": 14,
    "start_time": "2023-09-17T12:08:08.817Z"
   },
   {
    "duration": 20322,
    "start_time": "2023-09-17T12:08:08.832Z"
   },
   {
    "duration": 361,
    "start_time": "2023-09-17T12:08:29.156Z"
   },
   {
    "duration": 117650,
    "start_time": "2023-09-17T12:08:29.518Z"
   },
   {
    "duration": 7696,
    "start_time": "2023-09-17T12:10:33.358Z"
   },
   {
    "duration": 8,
    "start_time": "2023-09-17T12:12:23.930Z"
   },
   {
    "duration": 3397,
    "start_time": "2023-09-17T12:12:25.541Z"
   },
   {
    "duration": 5,
    "start_time": "2023-09-17T12:17:25.412Z"
   },
   {
    "duration": 2409,
    "start_time": "2023-09-17T12:19:23.797Z"
   },
   {
    "duration": 4,
    "start_time": "2023-09-17T12:19:26.210Z"
   },
   {
    "duration": 49,
    "start_time": "2023-09-17T12:19:26.216Z"
   },
   {
    "duration": 23,
    "start_time": "2023-09-17T12:19:26.268Z"
   },
   {
    "duration": 27,
    "start_time": "2023-09-17T12:19:26.293Z"
   },
   {
    "duration": 50,
    "start_time": "2023-09-17T12:19:26.323Z"
   },
   {
    "duration": 26,
    "start_time": "2023-09-17T12:19:26.375Z"
   },
   {
    "duration": 45,
    "start_time": "2023-09-17T12:19:26.403Z"
   },
   {
    "duration": 7,
    "start_time": "2023-09-17T12:19:26.451Z"
   },
   {
    "duration": 26,
    "start_time": "2023-09-17T12:19:26.463Z"
   },
   {
    "duration": 11,
    "start_time": "2023-09-17T12:19:26.491Z"
   },
   {
    "duration": 12,
    "start_time": "2023-09-17T12:19:26.505Z"
   },
   {
    "duration": 383,
    "start_time": "2023-09-17T12:19:26.520Z"
   },
   {
    "duration": 4,
    "start_time": "2023-09-17T12:19:26.906Z"
   },
   {
    "duration": 24,
    "start_time": "2023-09-17T12:19:26.912Z"
   },
   {
    "duration": 29,
    "start_time": "2023-09-17T12:19:26.938Z"
   },
   {
    "duration": 20,
    "start_time": "2023-09-17T12:19:26.969Z"
   },
   {
    "duration": 57,
    "start_time": "2023-09-17T12:19:26.991Z"
   },
   {
    "duration": 46,
    "start_time": "2023-09-17T12:19:27.050Z"
   },
   {
    "duration": 7,
    "start_time": "2023-09-17T12:19:27.099Z"
   },
   {
    "duration": 8,
    "start_time": "2023-09-17T12:19:27.108Z"
   },
   {
    "duration": 5,
    "start_time": "2023-09-17T12:19:27.148Z"
   },
   {
    "duration": 4,
    "start_time": "2023-09-17T12:19:27.155Z"
   },
   {
    "duration": 12,
    "start_time": "2023-09-17T12:19:27.162Z"
   },
   {
    "duration": 11,
    "start_time": "2023-09-17T12:19:27.176Z"
   },
   {
    "duration": 98311,
    "start_time": "2023-09-17T12:19:27.189Z"
   },
   {
    "duration": 163444,
    "start_time": "2023-09-17T12:21:05.503Z"
   },
   {
    "duration": 0,
    "start_time": "2023-09-17T12:23:48.950Z"
   },
   {
    "duration": 0,
    "start_time": "2023-09-17T12:23:48.951Z"
   },
   {
    "duration": 0,
    "start_time": "2023-09-17T12:23:48.952Z"
   },
   {
    "duration": 2292,
    "start_time": "2023-09-17T12:26:00.984Z"
   },
   {
    "duration": 4,
    "start_time": "2023-09-17T12:26:03.282Z"
   },
   {
    "duration": 75,
    "start_time": "2023-09-17T12:26:03.289Z"
   },
   {
    "duration": 23,
    "start_time": "2023-09-17T12:26:03.366Z"
   },
   {
    "duration": 38,
    "start_time": "2023-09-17T12:26:03.392Z"
   },
   {
    "duration": 33,
    "start_time": "2023-09-17T12:26:03.448Z"
   },
   {
    "duration": 22,
    "start_time": "2023-09-17T12:26:03.483Z"
   },
   {
    "duration": 45,
    "start_time": "2023-09-17T12:26:03.507Z"
   },
   {
    "duration": 11,
    "start_time": "2023-09-17T12:26:03.554Z"
   },
   {
    "duration": 9,
    "start_time": "2023-09-17T12:26:03.568Z"
   },
   {
    "duration": 18,
    "start_time": "2023-09-17T12:26:03.579Z"
   },
   {
    "duration": 24,
    "start_time": "2023-09-17T12:26:03.600Z"
   },
   {
    "duration": 324,
    "start_time": "2023-09-17T12:26:03.626Z"
   },
   {
    "duration": 3,
    "start_time": "2023-09-17T12:26:03.954Z"
   },
   {
    "duration": 30,
    "start_time": "2023-09-17T12:26:03.959Z"
   },
   {
    "duration": 36,
    "start_time": "2023-09-17T12:26:03.990Z"
   },
   {
    "duration": 27,
    "start_time": "2023-09-17T12:26:04.028Z"
   },
   {
    "duration": 58,
    "start_time": "2023-09-17T12:26:04.057Z"
   },
   {
    "duration": 44,
    "start_time": "2023-09-17T12:26:04.117Z"
   },
   {
    "duration": 8,
    "start_time": "2023-09-17T12:26:04.163Z"
   },
   {
    "duration": 7,
    "start_time": "2023-09-17T12:26:04.173Z"
   },
   {
    "duration": 24,
    "start_time": "2023-09-17T12:26:04.182Z"
   },
   {
    "duration": 6,
    "start_time": "2023-09-17T12:26:04.209Z"
   },
   {
    "duration": 40,
    "start_time": "2023-09-17T12:26:04.217Z"
   },
   {
    "duration": 32,
    "start_time": "2023-09-17T12:26:04.259Z"
   },
   {
    "duration": 37658,
    "start_time": "2023-09-17T12:26:04.294Z"
   },
   {
    "duration": 0,
    "start_time": "2023-09-17T12:26:41.954Z"
   },
   {
    "duration": 56158,
    "start_time": "2023-09-17T12:26:50.939Z"
   },
   {
    "duration": 7,
    "start_time": "2023-09-17T12:28:39.751Z"
   },
   {
    "duration": 6,
    "start_time": "2023-09-17T12:28:44.569Z"
   },
   {
    "duration": 9800,
    "start_time": "2023-09-17T12:28:51.454Z"
   },
   {
    "duration": 2237,
    "start_time": "2023-09-17T12:29:14.680Z"
   },
   {
    "duration": 4,
    "start_time": "2023-09-17T12:29:16.920Z"
   },
   {
    "duration": 62,
    "start_time": "2023-09-17T12:29:16.926Z"
   },
   {
    "duration": 17,
    "start_time": "2023-09-17T12:29:16.989Z"
   },
   {
    "duration": 40,
    "start_time": "2023-09-17T12:29:17.009Z"
   },
   {
    "duration": 27,
    "start_time": "2023-09-17T12:29:17.051Z"
   },
   {
    "duration": 29,
    "start_time": "2023-09-17T12:29:17.080Z"
   },
   {
    "duration": 40,
    "start_time": "2023-09-17T12:29:17.111Z"
   },
   {
    "duration": 6,
    "start_time": "2023-09-17T12:29:17.154Z"
   },
   {
    "duration": 8,
    "start_time": "2023-09-17T12:29:17.162Z"
   },
   {
    "duration": 21,
    "start_time": "2023-09-17T12:29:17.173Z"
   },
   {
    "duration": 19,
    "start_time": "2023-09-17T12:29:17.197Z"
   },
   {
    "duration": 315,
    "start_time": "2023-09-17T12:29:17.219Z"
   },
   {
    "duration": 11,
    "start_time": "2023-09-17T12:29:17.537Z"
   },
   {
    "duration": 65,
    "start_time": "2023-09-17T12:29:17.550Z"
   },
   {
    "duration": 128,
    "start_time": "2023-09-17T12:29:17.617Z"
   },
   {
    "duration": 58,
    "start_time": "2023-09-17T12:29:17.747Z"
   },
   {
    "duration": 37,
    "start_time": "2023-09-17T12:29:17.807Z"
   },
   {
    "duration": 37,
    "start_time": "2023-09-17T12:29:17.856Z"
   },
   {
    "duration": 27,
    "start_time": "2023-09-17T12:29:17.895Z"
   },
   {
    "duration": 28,
    "start_time": "2023-09-17T12:29:17.924Z"
   },
   {
    "duration": 66,
    "start_time": "2023-09-17T12:29:17.954Z"
   },
   {
    "duration": 20,
    "start_time": "2023-09-17T12:29:18.022Z"
   },
   {
    "duration": 13,
    "start_time": "2023-09-17T12:29:18.044Z"
   },
   {
    "duration": 45,
    "start_time": "2023-09-17T12:29:18.059Z"
   },
   {
    "duration": 8970,
    "start_time": "2023-09-17T12:29:18.107Z"
   },
   {
    "duration": 48958,
    "start_time": "2023-09-17T12:29:27.080Z"
   },
   {
    "duration": 2451,
    "start_time": "2023-09-17T12:30:23.472Z"
   },
   {
    "duration": 4,
    "start_time": "2023-09-17T12:30:25.925Z"
   },
   {
    "duration": 86,
    "start_time": "2023-09-17T12:30:25.931Z"
   },
   {
    "duration": 25,
    "start_time": "2023-09-17T12:30:26.019Z"
   },
   {
    "duration": 33,
    "start_time": "2023-09-17T12:30:26.046Z"
   },
   {
    "duration": 35,
    "start_time": "2023-09-17T12:30:26.082Z"
   },
   {
    "duration": 49,
    "start_time": "2023-09-17T12:30:26.120Z"
   },
   {
    "duration": 19,
    "start_time": "2023-09-17T12:30:26.171Z"
   },
   {
    "duration": 38,
    "start_time": "2023-09-17T12:30:26.193Z"
   },
   {
    "duration": 19,
    "start_time": "2023-09-17T12:30:26.235Z"
   },
   {
    "duration": 23,
    "start_time": "2023-09-17T12:30:26.255Z"
   },
   {
    "duration": 48,
    "start_time": "2023-09-17T12:30:26.281Z"
   },
   {
    "duration": 374,
    "start_time": "2023-09-17T12:30:26.332Z"
   },
   {
    "duration": 4,
    "start_time": "2023-09-17T12:30:26.708Z"
   },
   {
    "duration": 23,
    "start_time": "2023-09-17T12:30:26.715Z"
   },
   {
    "duration": 39,
    "start_time": "2023-09-17T12:30:26.746Z"
   },
   {
    "duration": 29,
    "start_time": "2023-09-17T12:30:26.787Z"
   },
   {
    "duration": 61,
    "start_time": "2023-09-17T12:30:26.819Z"
   },
   {
    "duration": 42,
    "start_time": "2023-09-17T12:30:26.882Z"
   },
   {
    "duration": 24,
    "start_time": "2023-09-17T12:30:26.926Z"
   },
   {
    "duration": 6,
    "start_time": "2023-09-17T12:30:26.952Z"
   },
   {
    "duration": 19,
    "start_time": "2023-09-17T12:30:26.961Z"
   },
   {
    "duration": 35,
    "start_time": "2023-09-17T12:30:26.982Z"
   },
   {
    "duration": 28,
    "start_time": "2023-09-17T12:30:27.019Z"
   },
   {
    "duration": 9968,
    "start_time": "2023-09-17T12:30:27.049Z"
   },
   {
    "duration": 2769753,
    "start_time": "2023-09-17T12:30:37.019Z"
   },
   {
    "duration": 4,
    "start_time": "2023-09-17T13:19:10.022Z"
   },
   {
    "duration": 4,
    "start_time": "2023-09-17T13:19:14.586Z"
   },
   {
    "duration": 5,
    "start_time": "2023-09-17T13:19:20.957Z"
   },
   {
    "duration": 10,
    "start_time": "2023-09-17T13:19:27.627Z"
   },
   {
    "duration": 6,
    "start_time": "2023-09-17T13:19:44.699Z"
   },
   {
    "duration": 6,
    "start_time": "2023-09-17T13:20:08.880Z"
   },
   {
    "duration": 5,
    "start_time": "2023-09-17T13:21:02.280Z"
   },
   {
    "duration": 4,
    "start_time": "2023-09-17T13:21:23.863Z"
   },
   {
    "duration": 11,
    "start_time": "2023-09-17T13:21:28.552Z"
   },
   {
    "duration": 12,
    "start_time": "2023-09-17T13:22:38.472Z"
   },
   {
    "duration": 2356,
    "start_time": "2023-09-17T13:22:54.716Z"
   },
   {
    "duration": 5,
    "start_time": "2023-09-17T13:22:57.075Z"
   },
   {
    "duration": 48,
    "start_time": "2023-09-17T13:22:57.083Z"
   },
   {
    "duration": 16,
    "start_time": "2023-09-17T13:22:57.133Z"
   },
   {
    "duration": 22,
    "start_time": "2023-09-17T13:22:57.152Z"
   },
   {
    "duration": 25,
    "start_time": "2023-09-17T13:22:57.176Z"
   },
   {
    "duration": 55,
    "start_time": "2023-09-17T13:22:57.203Z"
   },
   {
    "duration": 17,
    "start_time": "2023-09-17T13:22:57.261Z"
   },
   {
    "duration": 7,
    "start_time": "2023-09-17T13:22:57.281Z"
   },
   {
    "duration": 15,
    "start_time": "2023-09-17T13:22:57.290Z"
   },
   {
    "duration": 22,
    "start_time": "2023-09-17T13:22:57.307Z"
   },
   {
    "duration": 23,
    "start_time": "2023-09-17T13:22:57.331Z"
   },
   {
    "duration": 347,
    "start_time": "2023-09-17T13:22:57.356Z"
   },
   {
    "duration": 3,
    "start_time": "2023-09-17T13:22:57.707Z"
   },
   {
    "duration": 15,
    "start_time": "2023-09-17T13:22:57.713Z"
   },
   {
    "duration": 45,
    "start_time": "2023-09-17T13:22:57.730Z"
   },
   {
    "duration": 18,
    "start_time": "2023-09-17T13:22:57.777Z"
   },
   {
    "duration": 74,
    "start_time": "2023-09-17T13:22:57.798Z"
   },
   {
    "duration": 39,
    "start_time": "2023-09-17T13:22:57.874Z"
   },
   {
    "duration": 5,
    "start_time": "2023-09-17T13:22:57.915Z"
   },
   {
    "duration": 25,
    "start_time": "2023-09-17T13:22:57.922Z"
   },
   {
    "duration": 12,
    "start_time": "2023-09-17T13:22:57.949Z"
   },
   {
    "duration": 10,
    "start_time": "2023-09-17T13:22:57.962Z"
   },
   {
    "duration": 25,
    "start_time": "2023-09-17T13:22:57.974Z"
   },
   {
    "duration": 10133,
    "start_time": "2023-09-17T13:22:58.000Z"
   },
   {
    "duration": 2519026,
    "start_time": "2023-09-17T13:23:08.135Z"
   },
   {
    "duration": 0,
    "start_time": "2023-09-17T14:05:07.163Z"
   },
   {
    "duration": 0,
    "start_time": "2023-09-17T14:05:07.166Z"
   },
   {
    "duration": 0,
    "start_time": "2023-09-17T14:05:07.167Z"
   },
   {
    "duration": 0,
    "start_time": "2023-09-17T14:05:07.171Z"
   },
   {
    "duration": 2458,
    "start_time": "2023-09-17T14:05:13.729Z"
   },
   {
    "duration": 45,
    "start_time": "2023-09-17T14:05:16.189Z"
   },
   {
    "duration": 22,
    "start_time": "2023-09-17T14:05:16.236Z"
   },
   {
    "duration": 45,
    "start_time": "2023-09-17T14:05:16.260Z"
   },
   {
    "duration": 26,
    "start_time": "2023-09-17T14:05:16.308Z"
   },
   {
    "duration": 46,
    "start_time": "2023-09-17T14:05:16.336Z"
   },
   {
    "duration": 13,
    "start_time": "2023-09-17T14:05:16.384Z"
   },
   {
    "duration": 7,
    "start_time": "2023-09-17T14:05:16.399Z"
   },
   {
    "duration": 10,
    "start_time": "2023-09-17T14:05:16.408Z"
   },
   {
    "duration": 446,
    "start_time": "2023-09-17T14:05:16.420Z"
   },
   {
    "duration": 0,
    "start_time": "2023-09-17T14:05:16.869Z"
   },
   {
    "duration": 0,
    "start_time": "2023-09-17T14:05:16.870Z"
   },
   {
    "duration": 0,
    "start_time": "2023-09-17T14:05:16.871Z"
   },
   {
    "duration": 0,
    "start_time": "2023-09-17T14:05:16.872Z"
   },
   {
    "duration": 0,
    "start_time": "2023-09-17T14:05:16.873Z"
   },
   {
    "duration": 0,
    "start_time": "2023-09-17T14:05:16.874Z"
   },
   {
    "duration": 1,
    "start_time": "2023-09-17T14:05:16.875Z"
   },
   {
    "duration": 0,
    "start_time": "2023-09-17T14:05:16.877Z"
   },
   {
    "duration": 1,
    "start_time": "2023-09-17T14:05:16.877Z"
   },
   {
    "duration": 0,
    "start_time": "2023-09-17T14:05:16.878Z"
   },
   {
    "duration": 0,
    "start_time": "2023-09-17T14:05:16.879Z"
   },
   {
    "duration": 0,
    "start_time": "2023-09-17T14:05:16.880Z"
   },
   {
    "duration": 0,
    "start_time": "2023-09-17T14:05:16.881Z"
   },
   {
    "duration": 2054,
    "start_time": "2023-09-17T14:07:14.207Z"
   },
   {
    "duration": 43,
    "start_time": "2023-09-17T14:07:16.263Z"
   },
   {
    "duration": 18,
    "start_time": "2023-09-17T14:07:16.308Z"
   },
   {
    "duration": 52,
    "start_time": "2023-09-17T14:07:16.328Z"
   },
   {
    "duration": 20,
    "start_time": "2023-09-17T14:07:16.383Z"
   },
   {
    "duration": 38,
    "start_time": "2023-09-17T14:07:16.405Z"
   },
   {
    "duration": 27,
    "start_time": "2023-09-17T14:07:16.446Z"
   },
   {
    "duration": 12,
    "start_time": "2023-09-17T14:07:16.475Z"
   },
   {
    "duration": 32,
    "start_time": "2023-09-17T14:07:16.489Z"
   },
   {
    "duration": 342,
    "start_time": "2023-09-17T14:07:16.522Z"
   },
   {
    "duration": 3,
    "start_time": "2023-09-17T14:07:16.867Z"
   },
   {
    "duration": 41,
    "start_time": "2023-09-17T14:07:16.872Z"
   },
   {
    "duration": 44,
    "start_time": "2023-09-17T14:07:16.915Z"
   },
   {
    "duration": 87,
    "start_time": "2023-09-17T14:07:16.961Z"
   },
   {
    "duration": 6,
    "start_time": "2023-09-17T14:07:17.050Z"
   },
   {
    "duration": 51,
    "start_time": "2023-09-17T14:07:17.057Z"
   },
   {
    "duration": 49,
    "start_time": "2023-09-17T14:07:17.110Z"
   },
   {
    "duration": 27,
    "start_time": "2023-09-17T14:07:17.161Z"
   },
   {
    "duration": 45,
    "start_time": "2023-09-17T14:07:17.190Z"
   },
   {
    "duration": 16695,
    "start_time": "2023-09-17T14:07:17.236Z"
   },
   {
    "duration": 69,
    "start_time": "2023-09-17T14:07:33.934Z"
   },
   {
    "duration": 0,
    "start_time": "2023-09-17T14:07:34.006Z"
   },
   {
    "duration": 0,
    "start_time": "2023-09-17T14:07:34.007Z"
   },
   {
    "duration": 0,
    "start_time": "2023-09-17T14:07:34.009Z"
   },
   {
    "duration": 2056,
    "start_time": "2023-09-17T14:11:20.355Z"
   },
   {
    "duration": 45,
    "start_time": "2023-09-17T14:11:22.413Z"
   },
   {
    "duration": 17,
    "start_time": "2023-09-17T14:11:22.459Z"
   },
   {
    "duration": 22,
    "start_time": "2023-09-17T14:11:22.478Z"
   },
   {
    "duration": 45,
    "start_time": "2023-09-17T14:11:22.503Z"
   },
   {
    "duration": 18,
    "start_time": "2023-09-17T14:11:22.549Z"
   },
   {
    "duration": 21,
    "start_time": "2023-09-17T14:11:22.569Z"
   },
   {
    "duration": 26,
    "start_time": "2023-09-17T14:11:22.593Z"
   },
   {
    "duration": 16,
    "start_time": "2023-09-17T14:11:22.621Z"
   },
   {
    "duration": 325,
    "start_time": "2023-09-17T14:11:22.638Z"
   },
   {
    "duration": 3,
    "start_time": "2023-09-17T14:11:22.965Z"
   },
   {
    "duration": 27,
    "start_time": "2023-09-17T14:11:22.970Z"
   },
   {
    "duration": 80,
    "start_time": "2023-09-17T14:11:22.999Z"
   },
   {
    "duration": 88,
    "start_time": "2023-09-17T14:11:23.083Z"
   },
   {
    "duration": 5,
    "start_time": "2023-09-17T14:11:23.173Z"
   },
   {
    "duration": 31,
    "start_time": "2023-09-17T14:11:23.179Z"
   },
   {
    "duration": 5,
    "start_time": "2023-09-17T14:11:23.212Z"
   },
   {
    "duration": 15,
    "start_time": "2023-09-17T14:11:23.219Z"
   },
   {
    "duration": 15,
    "start_time": "2023-09-17T14:11:23.236Z"
   },
   {
    "duration": 17474,
    "start_time": "2023-09-17T14:11:23.253Z"
   },
   {
    "duration": 346191,
    "start_time": "2023-09-17T14:11:40.729Z"
   },
   {
    "duration": 0,
    "start_time": "2023-09-17T14:17:26.922Z"
   },
   {
    "duration": 0,
    "start_time": "2023-09-17T14:17:26.923Z"
   },
   {
    "duration": 2215,
    "start_time": "2023-09-17T14:17:37.047Z"
   },
   {
    "duration": 45,
    "start_time": "2023-09-17T14:17:39.264Z"
   },
   {
    "duration": 18,
    "start_time": "2023-09-17T14:17:39.310Z"
   },
   {
    "duration": 45,
    "start_time": "2023-09-17T14:17:39.330Z"
   },
   {
    "duration": 29,
    "start_time": "2023-09-17T14:17:39.377Z"
   },
   {
    "duration": 55,
    "start_time": "2023-09-17T14:17:39.408Z"
   },
   {
    "duration": 30,
    "start_time": "2023-09-17T14:17:39.466Z"
   },
   {
    "duration": 8,
    "start_time": "2023-09-17T14:17:40.346Z"
   },
   {
    "duration": 7,
    "start_time": "2023-09-17T14:17:41.780Z"
   },
   {
    "duration": 329,
    "start_time": "2023-09-17T14:17:44.112Z"
   },
   {
    "duration": 3,
    "start_time": "2023-09-17T14:17:50.206Z"
   },
   {
    "duration": 11,
    "start_time": "2023-09-17T14:17:51.064Z"
   },
   {
    "duration": 41,
    "start_time": "2023-09-17T14:17:51.802Z"
   },
   {
    "duration": 78,
    "start_time": "2023-09-17T14:17:52.201Z"
   },
   {
    "duration": 7,
    "start_time": "2023-09-17T14:17:54.252Z"
   },
   {
    "duration": 6,
    "start_time": "2023-09-17T14:17:54.893Z"
   },
   {
    "duration": 4,
    "start_time": "2023-09-17T14:17:56.175Z"
   },
   {
    "duration": 12,
    "start_time": "2023-09-17T14:17:59.889Z"
   },
   {
    "duration": 12,
    "start_time": "2023-09-17T14:18:01.212Z"
   },
   {
    "duration": 17666,
    "start_time": "2023-09-17T14:18:02.897Z"
   },
   {
    "duration": 1335995,
    "start_time": "2023-09-17T14:18:42.277Z"
   },
   {
    "duration": 0,
    "start_time": "2023-09-17T14:40:58.274Z"
   },
   {
    "duration": 0,
    "start_time": "2023-09-17T14:40:58.276Z"
   },
   {
    "duration": 2223,
    "start_time": "2023-09-17T14:41:55.452Z"
   },
   {
    "duration": 46,
    "start_time": "2023-09-17T14:41:57.678Z"
   },
   {
    "duration": 18,
    "start_time": "2023-09-17T14:41:57.727Z"
   },
   {
    "duration": 27,
    "start_time": "2023-09-17T14:41:57.748Z"
   },
   {
    "duration": 28,
    "start_time": "2023-09-17T14:41:57.777Z"
   },
   {
    "duration": 58,
    "start_time": "2023-09-17T14:41:57.807Z"
   },
   {
    "duration": 16,
    "start_time": "2023-09-17T14:41:57.868Z"
   },
   {
    "duration": 12,
    "start_time": "2023-09-17T14:41:57.886Z"
   },
   {
    "duration": 10,
    "start_time": "2023-09-17T14:41:57.900Z"
   },
   {
    "duration": 407,
    "start_time": "2023-09-17T14:41:57.913Z"
   },
   {
    "duration": 4,
    "start_time": "2023-09-17T14:41:58.323Z"
   },
   {
    "duration": 40,
    "start_time": "2023-09-17T14:41:58.329Z"
   },
   {
    "duration": 47,
    "start_time": "2023-09-17T14:41:58.371Z"
   },
   {
    "duration": 108,
    "start_time": "2023-09-17T14:41:58.420Z"
   },
   {
    "duration": 26,
    "start_time": "2023-09-17T14:41:58.530Z"
   },
   {
    "duration": 11,
    "start_time": "2023-09-17T14:41:58.558Z"
   },
   {
    "duration": 8,
    "start_time": "2023-09-17T14:41:58.574Z"
   },
   {
    "duration": 18,
    "start_time": "2023-09-17T14:41:58.585Z"
   },
   {
    "duration": 20,
    "start_time": "2023-09-17T14:41:58.606Z"
   },
   {
    "duration": 63035,
    "start_time": "2023-09-17T14:41:58.628Z"
   },
   {
    "duration": 218439,
    "start_time": "2023-09-17T14:43:01.665Z"
   },
   {
    "duration": 0,
    "start_time": "2023-09-17T14:46:40.106Z"
   },
   {
    "duration": 0,
    "start_time": "2023-09-17T14:46:40.108Z"
   },
   {
    "duration": 2289,
    "start_time": "2023-09-17T14:46:45.039Z"
   },
   {
    "duration": 46,
    "start_time": "2023-09-17T14:46:47.331Z"
   },
   {
    "duration": 16,
    "start_time": "2023-09-17T14:46:47.379Z"
   },
   {
    "duration": 33,
    "start_time": "2023-09-17T14:46:47.397Z"
   },
   {
    "duration": 34,
    "start_time": "2023-09-17T14:46:47.433Z"
   },
   {
    "duration": 18,
    "start_time": "2023-09-17T14:46:47.469Z"
   },
   {
    "duration": 16,
    "start_time": "2023-09-17T14:46:47.489Z"
   },
   {
    "duration": 44,
    "start_time": "2023-09-17T14:46:47.507Z"
   },
   {
    "duration": 59,
    "start_time": "2023-09-17T14:46:47.553Z"
   },
   {
    "duration": 368,
    "start_time": "2023-09-17T14:46:47.614Z"
   },
   {
    "duration": 3,
    "start_time": "2023-09-17T14:46:47.984Z"
   },
   {
    "duration": 11,
    "start_time": "2023-09-17T14:46:47.989Z"
   },
   {
    "duration": 74,
    "start_time": "2023-09-17T14:46:48.002Z"
   },
   {
    "duration": 115,
    "start_time": "2023-09-17T14:46:48.080Z"
   },
   {
    "duration": 6,
    "start_time": "2023-09-17T14:46:48.197Z"
   },
   {
    "duration": 12,
    "start_time": "2023-09-17T14:46:48.205Z"
   },
   {
    "duration": 31,
    "start_time": "2023-09-17T14:46:48.219Z"
   },
   {
    "duration": 12,
    "start_time": "2023-09-17T14:46:48.253Z"
   },
   {
    "duration": 40,
    "start_time": "2023-09-17T14:46:48.267Z"
   },
   {
    "duration": 19694,
    "start_time": "2023-09-17T14:46:48.310Z"
   },
   {
    "duration": 4170244,
    "start_time": "2023-09-17T14:47:08.006Z"
   },
   {
    "duration": 335,
    "start_time": "2023-09-17T15:56:38.252Z"
   },
   {
    "duration": 15,
    "start_time": "2023-09-17T15:56:38.589Z"
   },
   {
    "duration": 16,
    "start_time": "2023-09-17T16:00:46.883Z"
   },
   {
    "duration": 18,
    "start_time": "2023-09-17T16:01:10.356Z"
   },
   {
    "duration": 161,
    "start_time": "2023-09-17T16:01:53.973Z"
   },
   {
    "duration": 15,
    "start_time": "2023-09-17T16:02:01.722Z"
   },
   {
    "duration": 22,
    "start_time": "2023-09-17T16:02:39.628Z"
   },
   {
    "duration": 330,
    "start_time": "2023-09-17T16:02:54.220Z"
   },
   {
    "duration": 341,
    "start_time": "2023-09-17T16:03:08.688Z"
   },
   {
    "duration": 194,
    "start_time": "2023-09-17T16:03:35.665Z"
   },
   {
    "duration": 15,
    "start_time": "2023-09-17T16:03:54.378Z"
   },
   {
    "duration": 206,
    "start_time": "2023-09-17T16:03:56.880Z"
   },
   {
    "duration": 294,
    "start_time": "2023-09-17T16:04:09.292Z"
   },
   {
    "duration": 21,
    "start_time": "2023-09-17T16:05:25.851Z"
   },
   {
    "duration": 6,
    "start_time": "2023-09-17T16:06:08.264Z"
   },
   {
    "duration": 27,
    "start_time": "2023-09-17T16:06:17.101Z"
   },
   {
    "duration": 17,
    "start_time": "2023-09-17T16:06:32.355Z"
   },
   {
    "duration": 26,
    "start_time": "2023-09-17T16:06:53.340Z"
   },
   {
    "duration": 23,
    "start_time": "2023-09-17T16:07:03.292Z"
   },
   {
    "duration": 16,
    "start_time": "2023-09-17T16:07:14.034Z"
   },
   {
    "duration": 12,
    "start_time": "2023-09-17T16:07:40.597Z"
   },
   {
    "duration": 27,
    "start_time": "2023-09-17T16:07:48.430Z"
   },
   {
    "duration": 15,
    "start_time": "2023-09-17T16:08:17.596Z"
   },
   {
    "duration": 28,
    "start_time": "2023-09-17T16:08:26.281Z"
   },
   {
    "duration": 18,
    "start_time": "2023-09-17T16:10:44.854Z"
   },
   {
    "duration": 16,
    "start_time": "2023-09-17T16:10:52.969Z"
   },
   {
    "duration": 16,
    "start_time": "2023-09-17T16:10:58.469Z"
   },
   {
    "duration": 15,
    "start_time": "2023-09-17T16:11:16.652Z"
   },
   {
    "duration": 16,
    "start_time": "2023-09-17T16:12:05.989Z"
   },
   {
    "duration": 1648,
    "start_time": "2023-09-17T16:12:43.627Z"
   },
   {
    "duration": 1297,
    "start_time": "2023-09-17T16:13:49.532Z"
   },
   {
    "duration": 12,
    "start_time": "2023-09-17T16:15:25.039Z"
   },
   {
    "duration": 883,
    "start_time": "2023-09-17T16:15:33.364Z"
   },
   {
    "duration": 537,
    "start_time": "2023-09-17T16:16:27.700Z"
   },
   {
    "duration": 674,
    "start_time": "2023-09-17T16:16:57.142Z"
   },
   {
    "duration": 197,
    "start_time": "2023-09-17T16:17:23.799Z"
   },
   {
    "duration": 546,
    "start_time": "2023-09-17T16:17:47.795Z"
   },
   {
    "duration": 629,
    "start_time": "2023-09-17T16:17:55.033Z"
   },
   {
    "duration": 538,
    "start_time": "2023-09-17T16:19:11.189Z"
   },
   {
    "duration": 558,
    "start_time": "2023-09-17T16:19:16.413Z"
   },
   {
    "duration": 536,
    "start_time": "2023-09-17T16:19:27.056Z"
   },
   {
    "duration": 641,
    "start_time": "2023-09-17T16:19:37.688Z"
   },
   {
    "duration": 656,
    "start_time": "2023-09-17T16:19:47.636Z"
   },
   {
    "duration": 516,
    "start_time": "2023-09-17T16:20:37.069Z"
   },
   {
    "duration": 550,
    "start_time": "2023-09-17T16:21:25.834Z"
   },
   {
    "duration": 583,
    "start_time": "2023-09-17T16:21:58.598Z"
   },
   {
    "duration": 519,
    "start_time": "2023-09-17T16:22:44.693Z"
   },
   {
    "duration": 705,
    "start_time": "2023-09-17T16:22:54.228Z"
   },
   {
    "duration": 575,
    "start_time": "2023-09-17T16:23:05.733Z"
   },
   {
    "duration": 632,
    "start_time": "2023-09-17T16:24:17.577Z"
   },
   {
    "duration": 653,
    "start_time": "2023-09-17T16:24:36.113Z"
   },
   {
    "duration": 597,
    "start_time": "2023-09-17T16:24:52.472Z"
   },
   {
    "duration": 788,
    "start_time": "2023-09-17T16:29:11.819Z"
   },
   {
    "duration": 2908,
    "start_time": "2023-09-18T17:30:31.578Z"
   },
   {
    "duration": 99,
    "start_time": "2023-09-18T17:30:34.489Z"
   },
   {
    "duration": 15,
    "start_time": "2023-09-18T17:30:34.590Z"
   },
   {
    "duration": 18,
    "start_time": "2023-09-18T17:30:35.151Z"
   },
   {
    "duration": 17,
    "start_time": "2023-09-18T17:30:35.363Z"
   },
   {
    "duration": 15,
    "start_time": "2023-09-18T17:30:37.300Z"
   },
   {
    "duration": 11,
    "start_time": "2023-09-18T17:30:40.365Z"
   },
   {
    "duration": 5,
    "start_time": "2023-09-18T17:30:45.020Z"
   },
   {
    "duration": 7,
    "start_time": "2023-09-18T17:30:46.702Z"
   },
   {
    "duration": 286,
    "start_time": "2023-09-18T17:30:48.531Z"
   },
   {
    "duration": 2,
    "start_time": "2023-09-18T17:30:51.400Z"
   },
   {
    "duration": 8,
    "start_time": "2023-09-18T17:30:55.364Z"
   },
   {
    "duration": 17,
    "start_time": "2023-09-18T17:31:58.716Z"
   },
   {
    "duration": 5,
    "start_time": "2023-09-18T17:32:01.158Z"
   },
   {
    "duration": 130,
    "start_time": "2023-09-18T17:32:06.528Z"
   },
   {
    "duration": 4,
    "start_time": "2023-09-18T17:32:20.686Z"
   },
   {
    "duration": 6,
    "start_time": "2023-09-18T17:32:24.022Z"
   },
   {
    "duration": 4,
    "start_time": "2023-09-18T17:32:24.832Z"
   },
   {
    "duration": 8,
    "start_time": "2023-09-18T17:32:26.422Z"
   },
   {
    "duration": 7,
    "start_time": "2023-09-18T17:32:30.001Z"
   },
   {
    "duration": 19273,
    "start_time": "2023-09-18T17:32:33.452Z"
   },
   {
    "duration": 14,
    "start_time": "2023-09-18T17:33:58.545Z"
   },
   {
    "duration": 7,
    "start_time": "2023-09-18T17:35:35.260Z"
   },
   {
    "duration": 15,
    "start_time": "2023-09-18T17:35:37.381Z"
   },
   {
    "duration": 5,
    "start_time": "2023-09-18T18:11:39.928Z"
   },
   {
    "duration": 47,
    "start_time": "2023-09-18T18:11:39.934Z"
   },
   {
    "duration": 13,
    "start_time": "2023-09-18T18:11:39.983Z"
   },
   {
    "duration": 18,
    "start_time": "2023-09-18T18:11:39.998Z"
   },
   {
    "duration": 23,
    "start_time": "2023-09-18T18:11:40.018Z"
   },
   {
    "duration": 18,
    "start_time": "2023-09-18T18:11:40.043Z"
   },
   {
    "duration": 10,
    "start_time": "2023-09-18T18:11:40.063Z"
   },
   {
    "duration": 21,
    "start_time": "2023-09-18T18:11:40.075Z"
   },
   {
    "duration": 16,
    "start_time": "2023-09-18T18:11:40.098Z"
   },
   {
    "duration": 292,
    "start_time": "2023-09-18T18:11:40.116Z"
   },
   {
    "duration": 3,
    "start_time": "2023-09-18T18:11:40.409Z"
   },
   {
    "duration": 22,
    "start_time": "2023-09-18T18:11:40.414Z"
   },
   {
    "duration": 12,
    "start_time": "2023-09-18T18:11:45.895Z"
   },
   {
    "duration": 2342,
    "start_time": "2023-09-18T18:13:15.072Z"
   },
   {
    "duration": 1430,
    "start_time": "2023-09-18T18:13:36.200Z"
   },
   {
    "duration": 2238,
    "start_time": "2023-09-18T18:14:51.249Z"
   },
   {
    "duration": 6,
    "start_time": "2023-09-18T18:15:25.070Z"
   },
   {
    "duration": 7,
    "start_time": "2023-09-18T18:15:32.948Z"
   },
   {
    "duration": 23,
    "start_time": "2023-09-18T18:15:32.956Z"
   },
   {
    "duration": 18,
    "start_time": "2023-09-18T18:15:36.705Z"
   },
   {
    "duration": 12,
    "start_time": "2023-09-18T18:15:47.009Z"
   },
   {
    "duration": 8,
    "start_time": "2023-09-18T18:16:09.931Z"
   },
   {
    "duration": 12,
    "start_time": "2023-09-18T18:16:10.387Z"
   },
   {
    "duration": 17,
    "start_time": "2023-09-18T18:16:12.078Z"
   },
   {
    "duration": 7,
    "start_time": "2023-09-18T18:16:31.652Z"
   },
   {
    "duration": 12,
    "start_time": "2023-09-18T18:16:32.115Z"
   },
   {
    "duration": 18,
    "start_time": "2023-09-18T18:16:32.582Z"
   },
   {
    "duration": 6,
    "start_time": "2023-09-18T18:17:16.064Z"
   },
   {
    "duration": 13,
    "start_time": "2023-09-18T18:18:16.102Z"
   },
   {
    "duration": 6,
    "start_time": "2023-09-18T18:19:35.139Z"
   },
   {
    "duration": 11,
    "start_time": "2023-09-18T18:19:41.597Z"
   },
   {
    "duration": 6,
    "start_time": "2023-09-18T18:19:45.222Z"
   },
   {
    "duration": 7,
    "start_time": "2023-09-18T18:19:59.455Z"
   },
   {
    "duration": 16,
    "start_time": "2023-09-18T18:20:25.084Z"
   },
   {
    "duration": 6,
    "start_time": "2023-09-18T18:21:07.382Z"
   },
   {
    "duration": 8,
    "start_time": "2023-09-18T18:21:30.756Z"
   },
   {
    "duration": 7,
    "start_time": "2023-09-18T18:21:42.424Z"
   },
   {
    "duration": 6,
    "start_time": "2023-09-18T18:21:48.101Z"
   },
   {
    "duration": 5,
    "start_time": "2023-09-18T18:21:48.631Z"
   },
   {
    "duration": 8,
    "start_time": "2023-09-18T18:21:57.994Z"
   },
   {
    "duration": 7,
    "start_time": "2023-09-18T18:22:49.020Z"
   },
   {
    "duration": 6,
    "start_time": "2023-09-18T18:22:49.544Z"
   },
   {
    "duration": 6,
    "start_time": "2023-09-18T18:22:50.840Z"
   },
   {
    "duration": 19,
    "start_time": "2023-09-18T18:25:11.660Z"
   },
   {
    "duration": 1615,
    "start_time": "2023-09-18T18:25:44.687Z"
   },
   {
    "duration": 17,
    "start_time": "2023-09-18T18:25:53.401Z"
   },
   {
    "duration": 16,
    "start_time": "2023-09-18T18:26:06.270Z"
   },
   {
    "duration": 17,
    "start_time": "2023-09-18T18:26:17.348Z"
   },
   {
    "duration": 4,
    "start_time": "2023-09-18T18:31:13.873Z"
   },
   {
    "duration": 47,
    "start_time": "2023-09-18T18:31:13.879Z"
   },
   {
    "duration": 14,
    "start_time": "2023-09-18T18:31:13.927Z"
   },
   {
    "duration": 18,
    "start_time": "2023-09-18T18:31:13.943Z"
   },
   {
    "duration": 11,
    "start_time": "2023-09-18T18:31:13.963Z"
   },
   {
    "duration": 10,
    "start_time": "2023-09-18T18:31:13.975Z"
   },
   {
    "duration": 275,
    "start_time": "2023-09-18T18:31:13.986Z"
   },
   {
    "duration": 3,
    "start_time": "2023-09-18T18:31:14.262Z"
   },
   {
    "duration": 10,
    "start_time": "2023-09-18T18:31:14.266Z"
   },
   {
    "duration": 17,
    "start_time": "2023-09-18T18:31:14.278Z"
   },
   {
    "duration": 31,
    "start_time": "2023-09-18T18:31:14.297Z"
   },
   {
    "duration": 13,
    "start_time": "2023-09-18T18:31:14.343Z"
   },
   {
    "duration": 5,
    "start_time": "2023-09-18T18:31:14.357Z"
   },
   {
    "duration": 30,
    "start_time": "2023-09-18T18:31:48.341Z"
   },
   {
    "duration": 15,
    "start_time": "2023-09-18T18:37:58.274Z"
   },
   {
    "duration": 7,
    "start_time": "2023-09-18T18:38:09.585Z"
   },
   {
    "duration": 46,
    "start_time": "2023-09-18T18:38:09.594Z"
   },
   {
    "duration": 19,
    "start_time": "2023-09-18T18:38:09.642Z"
   },
   {
    "duration": 10,
    "start_time": "2023-09-18T18:38:09.663Z"
   },
   {
    "duration": 30,
    "start_time": "2023-09-18T18:38:09.676Z"
   },
   {
    "duration": 12,
    "start_time": "2023-09-18T18:38:09.709Z"
   },
   {
    "duration": 288,
    "start_time": "2023-09-18T18:38:09.723Z"
   },
   {
    "duration": 3,
    "start_time": "2023-09-18T18:38:10.013Z"
   },
   {
    "duration": 19,
    "start_time": "2023-09-18T18:38:10.017Z"
   },
   {
    "duration": 21,
    "start_time": "2023-09-18T18:38:10.037Z"
   },
   {
    "duration": 137,
    "start_time": "2023-09-18T18:38:10.060Z"
   },
   {
    "duration": 13,
    "start_time": "2023-09-18T18:38:10.199Z"
   },
   {
    "duration": 6,
    "start_time": "2023-09-18T18:38:10.214Z"
   },
   {
    "duration": 29,
    "start_time": "2023-09-18T18:38:13.097Z"
   },
   {
    "duration": 5,
    "start_time": "2023-09-18T18:39:33.491Z"
   },
   {
    "duration": 48,
    "start_time": "2023-09-18T18:39:33.498Z"
   },
   {
    "duration": 21,
    "start_time": "2023-09-18T18:39:33.550Z"
   },
   {
    "duration": 20,
    "start_time": "2023-09-18T18:39:33.574Z"
   },
   {
    "duration": 22,
    "start_time": "2023-09-18T18:39:33.595Z"
   },
   {
    "duration": 10,
    "start_time": "2023-09-18T18:39:33.619Z"
   },
   {
    "duration": 382,
    "start_time": "2023-09-18T18:39:33.631Z"
   },
   {
    "duration": 3,
    "start_time": "2023-09-18T18:39:34.015Z"
   },
   {
    "duration": 12,
    "start_time": "2023-09-18T18:39:34.020Z"
   },
   {
    "duration": 40,
    "start_time": "2023-09-18T18:39:34.033Z"
   },
   {
    "duration": 34,
    "start_time": "2023-09-18T18:39:34.075Z"
   },
   {
    "duration": 14,
    "start_time": "2023-09-18T18:39:34.112Z"
   },
   {
    "duration": 8,
    "start_time": "2023-09-18T18:39:34.144Z"
   },
   {
    "duration": 18,
    "start_time": "2023-09-18T18:39:37.392Z"
   },
   {
    "duration": 4,
    "start_time": "2023-09-18T18:39:41.332Z"
   },
   {
    "duration": 5,
    "start_time": "2023-09-18T18:39:42.503Z"
   },
   {
    "duration": 4,
    "start_time": "2023-09-18T18:39:43.454Z"
   },
   {
    "duration": 9,
    "start_time": "2023-09-18T18:39:44.071Z"
   },
   {
    "duration": 8,
    "start_time": "2023-09-18T18:39:45.938Z"
   },
   {
    "duration": 2957,
    "start_time": "2023-09-18T18:39:47.009Z"
   },
   {
    "duration": 3002,
    "start_time": "2023-09-18T18:39:53.719Z"
   },
   {
    "duration": 3468,
    "start_time": "2023-09-18T18:40:00.018Z"
   },
   {
    "duration": 3909,
    "start_time": "2023-09-18T18:40:05.934Z"
   },
   {
    "duration": 5,
    "start_time": "2023-09-18T18:45:57.143Z"
   },
   {
    "duration": 45,
    "start_time": "2023-09-18T18:45:57.150Z"
   },
   {
    "duration": 14,
    "start_time": "2023-09-18T18:45:57.196Z"
   },
   {
    "duration": 10,
    "start_time": "2023-09-18T18:45:57.212Z"
   },
   {
    "duration": 20,
    "start_time": "2023-09-18T18:45:57.224Z"
   },
   {
    "duration": 9,
    "start_time": "2023-09-18T18:45:57.245Z"
   },
   {
    "duration": 270,
    "start_time": "2023-09-18T18:45:57.255Z"
   },
   {
    "duration": 3,
    "start_time": "2023-09-18T18:45:57.527Z"
   },
   {
    "duration": 9,
    "start_time": "2023-09-18T18:45:57.543Z"
   },
   {
    "duration": 25,
    "start_time": "2023-09-18T18:45:57.554Z"
   },
   {
    "duration": 147,
    "start_time": "2023-09-18T18:45:57.580Z"
   },
   {
    "duration": 22,
    "start_time": "2023-09-18T18:45:57.729Z"
   },
   {
    "duration": 15,
    "start_time": "2023-09-18T18:45:57.753Z"
   },
   {
    "duration": 22,
    "start_time": "2023-09-18T18:45:57.769Z"
   },
   {
    "duration": 0,
    "start_time": "2023-09-18T18:45:57.793Z"
   },
   {
    "duration": 0,
    "start_time": "2023-09-18T18:45:57.794Z"
   },
   {
    "duration": 0,
    "start_time": "2023-09-18T18:45:57.795Z"
   },
   {
    "duration": 0,
    "start_time": "2023-09-18T18:45:57.796Z"
   },
   {
    "duration": 0,
    "start_time": "2023-09-18T18:45:57.797Z"
   },
   {
    "duration": 2410,
    "start_time": "2023-09-18T18:47:31.387Z"
   },
   {
    "duration": 47,
    "start_time": "2023-09-18T18:47:33.800Z"
   },
   {
    "duration": 12,
    "start_time": "2023-09-18T18:47:33.849Z"
   },
   {
    "duration": 25,
    "start_time": "2023-09-18T18:47:33.863Z"
   },
   {
    "duration": 44,
    "start_time": "2023-09-18T18:47:33.890Z"
   },
   {
    "duration": 19,
    "start_time": "2023-09-18T18:47:33.935Z"
   },
   {
    "duration": 298,
    "start_time": "2023-09-18T18:47:33.956Z"
   },
   {
    "duration": 2,
    "start_time": "2023-09-18T18:47:34.256Z"
   },
   {
    "duration": 25,
    "start_time": "2023-09-18T18:47:34.260Z"
   },
   {
    "duration": 28,
    "start_time": "2023-09-18T18:47:34.287Z"
   },
   {
    "duration": 50,
    "start_time": "2023-09-18T18:47:34.317Z"
   },
   {
    "duration": 47,
    "start_time": "2023-09-18T18:47:34.368Z"
   },
   {
    "duration": 37,
    "start_time": "2023-09-18T18:47:34.417Z"
   },
   {
    "duration": 37,
    "start_time": "2023-09-18T18:47:34.457Z"
   },
   {
    "duration": 30,
    "start_time": "2023-09-18T18:47:34.496Z"
   },
   {
    "duration": 10,
    "start_time": "2023-09-18T18:47:34.528Z"
   },
   {
    "duration": 30,
    "start_time": "2023-09-18T18:47:34.540Z"
   },
   {
    "duration": 21,
    "start_time": "2023-09-18T18:47:34.572Z"
   },
   {
    "duration": 28,
    "start_time": "2023-09-18T18:47:34.595Z"
   },
   {
    "duration": 2721,
    "start_time": "2023-09-18T18:47:37.367Z"
   },
   {
    "duration": 2959,
    "start_time": "2023-09-18T18:47:43.121Z"
   },
   {
    "duration": 3247,
    "start_time": "2023-09-18T18:47:48.874Z"
   },
   {
    "duration": 52407,
    "start_time": "2023-09-18T18:48:01.994Z"
   },
   {
    "duration": 5,
    "start_time": "2023-09-18T18:50:32.518Z"
   },
   {
    "duration": 174,
    "start_time": "2023-09-18T18:50:32.526Z"
   },
   {
    "duration": 14,
    "start_time": "2023-09-18T18:50:32.701Z"
   },
   {
    "duration": 16,
    "start_time": "2023-09-18T18:50:32.717Z"
   },
   {
    "duration": 13,
    "start_time": "2023-09-18T18:50:32.735Z"
   },
   {
    "duration": 10,
    "start_time": "2023-09-18T18:50:32.749Z"
   },
   {
    "duration": 285,
    "start_time": "2023-09-18T18:50:32.761Z"
   },
   {
    "duration": 6,
    "start_time": "2023-09-18T18:50:33.047Z"
   },
   {
    "duration": 9,
    "start_time": "2023-09-18T18:50:33.056Z"
   },
   {
    "duration": 28,
    "start_time": "2023-09-18T18:50:33.067Z"
   },
   {
    "duration": 139,
    "start_time": "2023-09-18T18:50:33.097Z"
   },
   {
    "duration": 14,
    "start_time": "2023-09-18T18:50:33.243Z"
   },
   {
    "duration": 14,
    "start_time": "2023-09-18T18:50:33.259Z"
   },
   {
    "duration": 29,
    "start_time": "2023-09-18T18:50:33.275Z"
   },
   {
    "duration": 12,
    "start_time": "2023-09-18T18:50:33.306Z"
   },
   {
    "duration": 15,
    "start_time": "2023-09-18T18:50:33.319Z"
   },
   {
    "duration": 25,
    "start_time": "2023-09-18T18:50:33.336Z"
   },
   {
    "duration": 10,
    "start_time": "2023-09-18T18:50:33.363Z"
   },
   {
    "duration": 38,
    "start_time": "2023-09-18T18:50:33.374Z"
   },
   {
    "duration": 3536,
    "start_time": "2023-09-18T18:50:37.122Z"
   },
   {
    "duration": 11672,
    "start_time": "2023-09-18T18:50:58.496Z"
   },
   {
    "duration": 2925,
    "start_time": "2023-09-18T18:51:17.114Z"
   },
   {
    "duration": 3310,
    "start_time": "2023-09-18T18:51:24.459Z"
   },
   {
    "duration": 2925,
    "start_time": "2023-09-18T18:51:29.704Z"
   },
   {
    "duration": 3585,
    "start_time": "2023-09-18T18:51:36.350Z"
   },
   {
    "duration": 4,
    "start_time": "2023-09-18T18:51:45.625Z"
   },
   {
    "duration": 76,
    "start_time": "2023-09-18T18:51:45.631Z"
   },
   {
    "duration": 12,
    "start_time": "2023-09-18T18:51:45.709Z"
   },
   {
    "duration": 9,
    "start_time": "2023-09-18T18:51:45.723Z"
   },
   {
    "duration": 30,
    "start_time": "2023-09-18T18:51:45.734Z"
   },
   {
    "duration": 23,
    "start_time": "2023-09-18T18:51:45.766Z"
   },
   {
    "duration": 271,
    "start_time": "2023-09-18T18:51:45.791Z"
   },
   {
    "duration": 3,
    "start_time": "2023-09-18T18:51:46.063Z"
   },
   {
    "duration": 26,
    "start_time": "2023-09-18T18:51:46.067Z"
   },
   {
    "duration": 19,
    "start_time": "2023-09-18T18:51:46.095Z"
   },
   {
    "duration": 32,
    "start_time": "2023-09-18T18:51:46.116Z"
   },
   {
    "duration": 13,
    "start_time": "2023-09-18T18:51:46.149Z"
   },
   {
    "duration": 6,
    "start_time": "2023-09-18T18:51:46.163Z"
   },
   {
    "duration": 23,
    "start_time": "2023-09-18T18:51:46.170Z"
   },
   {
    "duration": 13,
    "start_time": "2023-09-18T18:51:46.195Z"
   },
   {
    "duration": 11,
    "start_time": "2023-09-18T18:51:46.209Z"
   },
   {
    "duration": 24,
    "start_time": "2023-09-18T18:51:46.221Z"
   },
   {
    "duration": 16,
    "start_time": "2023-09-18T18:51:46.247Z"
   },
   {
    "duration": 6,
    "start_time": "2023-09-18T18:51:46.265Z"
   },
   {
    "duration": 3080,
    "start_time": "2023-09-18T18:51:46.273Z"
   },
   {
    "duration": 5,
    "start_time": "2023-09-18T18:52:52.596Z"
   },
   {
    "duration": 46,
    "start_time": "2023-09-18T18:52:52.603Z"
   },
   {
    "duration": 13,
    "start_time": "2023-09-18T18:52:52.651Z"
   },
   {
    "duration": 26,
    "start_time": "2023-09-18T18:52:52.665Z"
   },
   {
    "duration": 6,
    "start_time": "2023-09-18T18:52:52.693Z"
   },
   {
    "duration": 6,
    "start_time": "2023-09-18T18:52:52.701Z"
   },
   {
    "duration": 276,
    "start_time": "2023-09-18T18:52:52.709Z"
   },
   {
    "duration": 2,
    "start_time": "2023-09-18T18:52:52.987Z"
   },
   {
    "duration": 31,
    "start_time": "2023-09-18T18:52:52.991Z"
   },
   {
    "duration": 34,
    "start_time": "2023-09-18T18:52:53.024Z"
   },
   {
    "duration": 47,
    "start_time": "2023-09-18T18:52:53.059Z"
   },
   {
    "duration": 31,
    "start_time": "2023-09-18T18:52:53.108Z"
   },
   {
    "duration": 5,
    "start_time": "2023-09-18T18:52:53.141Z"
   },
   {
    "duration": 17,
    "start_time": "2023-09-18T18:52:53.148Z"
   },
   {
    "duration": 12,
    "start_time": "2023-09-18T18:52:53.166Z"
   },
   {
    "duration": 7,
    "start_time": "2023-09-18T18:52:53.180Z"
   },
   {
    "duration": 5,
    "start_time": "2023-09-18T18:52:53.188Z"
   },
   {
    "duration": 26,
    "start_time": "2023-09-18T18:52:53.195Z"
   },
   {
    "duration": 13,
    "start_time": "2023-09-18T18:52:53.223Z"
   },
   {
    "duration": 4513,
    "start_time": "2023-09-18T18:52:53.237Z"
   },
   {
    "duration": 656444,
    "start_time": "2023-09-18T18:53:06.727Z"
   },
   {
    "duration": 273,
    "start_time": "2023-09-18T19:06:26.711Z"
   },
   {
    "duration": 14,
    "start_time": "2023-09-18T19:06:33.036Z"
   },
   {
    "duration": 617,
    "start_time": "2023-09-18T19:06:40.053Z"
   },
   {
    "duration": 4138,
    "start_time": "2023-09-18T19:07:10.066Z"
   },
   {
    "duration": 4725,
    "start_time": "2023-09-18T19:07:16.473Z"
   },
   {
    "duration": 4248,
    "start_time": "2023-09-18T19:07:23.306Z"
   },
   {
    "duration": 3505,
    "start_time": "2023-09-18T19:08:35.694Z"
   },
   {
    "duration": 1929,
    "start_time": "2023-09-18T19:09:50.631Z"
   },
   {
    "duration": 43,
    "start_time": "2023-09-18T19:09:52.563Z"
   },
   {
    "duration": 14,
    "start_time": "2023-09-18T19:09:52.607Z"
   },
   {
    "duration": 32,
    "start_time": "2023-09-18T19:09:52.622Z"
   },
   {
    "duration": 16,
    "start_time": "2023-09-18T19:09:52.656Z"
   },
   {
    "duration": 7,
    "start_time": "2023-09-18T19:09:52.674Z"
   },
   {
    "duration": 281,
    "start_time": "2023-09-18T19:09:52.682Z"
   },
   {
    "duration": 3,
    "start_time": "2023-09-18T19:09:52.965Z"
   },
   {
    "duration": 22,
    "start_time": "2023-09-18T19:09:52.970Z"
   },
   {
    "duration": 30,
    "start_time": "2023-09-18T19:09:52.993Z"
   },
   {
    "duration": 64,
    "start_time": "2023-09-18T19:09:53.025Z"
   },
   {
    "duration": 29,
    "start_time": "2023-09-18T19:09:53.091Z"
   },
   {
    "duration": 21,
    "start_time": "2023-09-18T19:09:53.122Z"
   },
   {
    "duration": 28,
    "start_time": "2023-09-18T19:09:53.146Z"
   },
   {
    "duration": 38,
    "start_time": "2023-09-18T19:09:53.175Z"
   },
   {
    "duration": 15,
    "start_time": "2023-09-18T19:09:53.214Z"
   },
   {
    "duration": 17,
    "start_time": "2023-09-18T19:09:53.231Z"
   },
   {
    "duration": 15,
    "start_time": "2023-09-18T19:09:53.249Z"
   },
   {
    "duration": 20,
    "start_time": "2023-09-18T19:09:53.266Z"
   },
   {
    "duration": 4326,
    "start_time": "2023-09-18T19:09:53.287Z"
   },
   {
    "duration": 20788,
    "start_time": "2023-09-18T19:09:57.614Z"
   },
   {
    "duration": 0,
    "start_time": "2023-09-18T19:10:18.404Z"
   },
   {
    "duration": 0,
    "start_time": "2023-09-18T19:10:18.405Z"
   },
   {
    "duration": 0,
    "start_time": "2023-09-18T19:10:18.406Z"
   },
   {
    "duration": 1932,
    "start_time": "2023-09-18T19:10:31.365Z"
   },
   {
    "duration": 43,
    "start_time": "2023-09-18T19:10:33.300Z"
   },
   {
    "duration": 16,
    "start_time": "2023-09-18T19:10:33.345Z"
   },
   {
    "duration": 35,
    "start_time": "2023-09-18T19:10:33.362Z"
   },
   {
    "duration": 29,
    "start_time": "2023-09-18T19:10:33.400Z"
   },
   {
    "duration": 37,
    "start_time": "2023-09-18T19:10:33.431Z"
   },
   {
    "duration": 295,
    "start_time": "2023-09-18T19:10:33.470Z"
   },
   {
    "duration": 3,
    "start_time": "2023-09-18T19:10:33.768Z"
   },
   {
    "duration": 43,
    "start_time": "2023-09-18T19:10:33.773Z"
   },
   {
    "duration": 39,
    "start_time": "2023-09-18T19:10:33.818Z"
   },
   {
    "duration": 70,
    "start_time": "2023-09-18T19:10:33.859Z"
   },
   {
    "duration": 53,
    "start_time": "2023-09-18T19:10:33.931Z"
   },
   {
    "duration": 17,
    "start_time": "2023-09-18T19:10:33.986Z"
   },
   {
    "duration": 29,
    "start_time": "2023-09-18T19:10:34.006Z"
   },
   {
    "duration": 28,
    "start_time": "2023-09-18T19:10:34.037Z"
   },
   {
    "duration": 9,
    "start_time": "2023-09-18T19:10:34.066Z"
   },
   {
    "duration": 29,
    "start_time": "2023-09-18T19:10:34.076Z"
   },
   {
    "duration": 25,
    "start_time": "2023-09-18T19:10:34.106Z"
   },
   {
    "duration": 18,
    "start_time": "2023-09-18T19:10:34.133Z"
   },
   {
    "duration": 4415,
    "start_time": "2023-09-18T19:10:34.153Z"
   },
   {
    "duration": 20907,
    "start_time": "2023-09-18T19:10:38.570Z"
   },
   {
    "duration": 0,
    "start_time": "2023-09-18T19:10:59.479Z"
   },
   {
    "duration": 0,
    "start_time": "2023-09-18T19:10:59.480Z"
   },
   {
    "duration": 0,
    "start_time": "2023-09-18T19:10:59.481Z"
   },
   {
    "duration": 2251,
    "start_time": "2023-09-19T05:44:29.972Z"
   },
   {
    "duration": 90,
    "start_time": "2023-09-19T05:44:32.226Z"
   },
   {
    "duration": 17,
    "start_time": "2023-09-19T05:44:32.318Z"
   },
   {
    "duration": 61,
    "start_time": "2023-09-19T05:44:32.337Z"
   },
   {
    "duration": 50,
    "start_time": "2023-09-19T05:44:32.401Z"
   },
   {
    "duration": 62,
    "start_time": "2023-09-19T05:44:32.453Z"
   },
   {
    "duration": 385,
    "start_time": "2023-09-19T05:44:32.517Z"
   },
   {
    "duration": 3,
    "start_time": "2023-09-19T05:44:32.904Z"
   },
   {
    "duration": 42,
    "start_time": "2023-09-19T05:44:32.909Z"
   },
   {
    "duration": 19,
    "start_time": "2023-09-19T05:44:32.953Z"
   },
   {
    "duration": 46,
    "start_time": "2023-09-19T05:44:32.974Z"
   },
   {
    "duration": 19,
    "start_time": "2023-09-19T05:44:33.022Z"
   },
   {
    "duration": 11,
    "start_time": "2023-09-19T05:44:33.043Z"
   },
   {
    "duration": 16,
    "start_time": "2023-09-19T05:44:33.057Z"
   },
   {
    "duration": 33,
    "start_time": "2023-09-19T05:44:33.075Z"
   },
   {
    "duration": 19,
    "start_time": "2023-09-19T05:44:33.109Z"
   },
   {
    "duration": 14,
    "start_time": "2023-09-19T05:44:33.130Z"
   },
   {
    "duration": 33,
    "start_time": "2023-09-19T05:44:33.145Z"
   },
   {
    "duration": 38,
    "start_time": "2023-09-19T05:44:33.180Z"
   },
   {
    "duration": 4678,
    "start_time": "2023-09-19T05:44:33.220Z"
   },
   {
    "duration": 122730,
    "start_time": "2023-09-19T05:44:37.900Z"
   },
   {
    "duration": 0,
    "start_time": "2023-09-19T05:46:40.632Z"
   },
   {
    "duration": 0,
    "start_time": "2023-09-19T05:46:40.633Z"
   },
   {
    "duration": 0,
    "start_time": "2023-09-19T05:46:40.634Z"
   },
   {
    "duration": 2013,
    "start_time": "2023-09-19T06:00:36.979Z"
   },
   {
    "duration": 47,
    "start_time": "2023-09-19T06:00:38.994Z"
   },
   {
    "duration": 16,
    "start_time": "2023-09-19T06:00:39.043Z"
   },
   {
    "duration": 21,
    "start_time": "2023-09-19T06:00:39.061Z"
   },
   {
    "duration": 11,
    "start_time": "2023-09-19T06:00:39.085Z"
   },
   {
    "duration": 10,
    "start_time": "2023-09-19T06:00:39.097Z"
   },
   {
    "duration": 333,
    "start_time": "2023-09-19T06:00:39.109Z"
   },
   {
    "duration": 3,
    "start_time": "2023-09-19T06:00:39.443Z"
   },
   {
    "duration": 19,
    "start_time": "2023-09-19T06:00:39.448Z"
   },
   {
    "duration": 24,
    "start_time": "2023-09-19T06:00:39.468Z"
   },
   {
    "duration": 59,
    "start_time": "2023-09-19T06:00:39.494Z"
   },
   {
    "duration": 23,
    "start_time": "2023-09-19T06:00:39.555Z"
   },
   {
    "duration": 22,
    "start_time": "2023-09-19T06:00:39.579Z"
   },
   {
    "duration": 30,
    "start_time": "2023-09-19T06:00:39.604Z"
   },
   {
    "duration": 23,
    "start_time": "2023-09-19T06:00:39.636Z"
   },
   {
    "duration": 15,
    "start_time": "2023-09-19T06:00:39.662Z"
   },
   {
    "duration": 18,
    "start_time": "2023-09-19T06:00:39.679Z"
   },
   {
    "duration": 12,
    "start_time": "2023-09-19T06:00:39.699Z"
   },
   {
    "duration": 30,
    "start_time": "2023-09-19T06:00:39.713Z"
   },
   {
    "duration": 4246,
    "start_time": "2023-09-19T06:00:39.744Z"
   },
   {
    "duration": 6,
    "start_time": "2023-09-19T06:00:58.252Z"
   },
   {
    "duration": 164,
    "start_time": "2023-09-19T06:00:58.976Z"
   },
   {
    "duration": 18,
    "start_time": "2023-09-19T06:01:49.238Z"
   },
   {
    "duration": 2037,
    "start_time": "2023-09-19T06:02:05.418Z"
   },
   {
    "duration": 44,
    "start_time": "2023-09-19T06:02:07.458Z"
   },
   {
    "duration": 15,
    "start_time": "2023-09-19T06:02:07.504Z"
   },
   {
    "duration": 17,
    "start_time": "2023-09-19T06:02:07.520Z"
   },
   {
    "duration": 10,
    "start_time": "2023-09-19T06:02:07.540Z"
   },
   {
    "duration": 11,
    "start_time": "2023-09-19T06:02:07.551Z"
   },
   {
    "duration": 318,
    "start_time": "2023-09-19T06:02:07.563Z"
   },
   {
    "duration": 3,
    "start_time": "2023-09-19T06:02:07.883Z"
   },
   {
    "duration": 21,
    "start_time": "2023-09-19T06:02:07.887Z"
   },
   {
    "duration": 19,
    "start_time": "2023-09-19T06:02:07.909Z"
   },
   {
    "duration": 46,
    "start_time": "2023-09-19T06:02:07.929Z"
   },
   {
    "duration": 22,
    "start_time": "2023-09-19T06:02:07.977Z"
   },
   {
    "duration": 26,
    "start_time": "2023-09-19T06:02:08.001Z"
   },
   {
    "duration": 34,
    "start_time": "2023-09-19T06:02:08.029Z"
   },
   {
    "duration": 4,
    "start_time": "2023-09-19T06:02:08.064Z"
   },
   {
    "duration": 25,
    "start_time": "2023-09-19T06:02:08.070Z"
   },
   {
    "duration": 31,
    "start_time": "2023-09-19T06:02:08.097Z"
   },
   {
    "duration": 13,
    "start_time": "2023-09-19T06:02:08.130Z"
   },
   {
    "duration": 14,
    "start_time": "2023-09-19T06:02:08.145Z"
   },
   {
    "duration": 4604,
    "start_time": "2023-09-19T06:02:08.161Z"
   },
   {
    "duration": 7,
    "start_time": "2023-09-19T06:02:12.766Z"
   },
   {
    "duration": 188,
    "start_time": "2023-09-19T06:02:12.774Z"
   },
   {
    "duration": 6,
    "start_time": "2023-09-19T06:02:53.298Z"
   },
   {
    "duration": 6,
    "start_time": "2023-09-19T06:02:53.643Z"
   },
   {
    "duration": 2007,
    "start_time": "2023-09-19T06:03:26.902Z"
   },
   {
    "duration": 44,
    "start_time": "2023-09-19T06:03:28.911Z"
   },
   {
    "duration": 15,
    "start_time": "2023-09-19T06:03:28.957Z"
   },
   {
    "duration": 22,
    "start_time": "2023-09-19T06:03:28.973Z"
   },
   {
    "duration": 14,
    "start_time": "2023-09-19T06:03:28.997Z"
   },
   {
    "duration": 10,
    "start_time": "2023-09-19T06:03:29.013Z"
   },
   {
    "duration": 360,
    "start_time": "2023-09-19T06:03:29.048Z"
   },
   {
    "duration": 3,
    "start_time": "2023-09-19T06:03:29.410Z"
   },
   {
    "duration": 10,
    "start_time": "2023-09-19T06:03:29.414Z"
   },
   {
    "duration": 28,
    "start_time": "2023-09-19T06:03:29.425Z"
   },
   {
    "duration": 35,
    "start_time": "2023-09-19T06:03:29.455Z"
   },
   {
    "duration": 15,
    "start_time": "2023-09-19T06:03:29.491Z"
   },
   {
    "duration": 6,
    "start_time": "2023-09-19T06:03:29.508Z"
   },
   {
    "duration": 44,
    "start_time": "2023-09-19T06:03:29.516Z"
   },
   {
    "duration": 4,
    "start_time": "2023-09-19T06:03:29.562Z"
   },
   {
    "duration": 5,
    "start_time": "2023-09-19T06:03:29.568Z"
   },
   {
    "duration": 7,
    "start_time": "2023-09-19T06:03:29.574Z"
   },
   {
    "duration": 10,
    "start_time": "2023-09-19T06:03:29.582Z"
   },
   {
    "duration": 12,
    "start_time": "2023-09-19T06:03:29.594Z"
   },
   {
    "duration": 4849,
    "start_time": "2023-09-19T06:03:29.607Z"
   },
   {
    "duration": 7,
    "start_time": "2023-09-19T06:03:34.458Z"
   },
   {
    "duration": 26,
    "start_time": "2023-09-19T06:03:34.466Z"
   },
   {
    "duration": 2059,
    "start_time": "2023-09-19T06:06:05.410Z"
   },
   {
    "duration": 43,
    "start_time": "2023-09-19T06:06:07.472Z"
   },
   {
    "duration": 16,
    "start_time": "2023-09-19T06:06:07.517Z"
   },
   {
    "duration": 18,
    "start_time": "2023-09-19T06:06:07.535Z"
   },
   {
    "duration": 21,
    "start_time": "2023-09-19T06:06:07.555Z"
   },
   {
    "duration": 13,
    "start_time": "2023-09-19T06:06:07.578Z"
   },
   {
    "duration": 373,
    "start_time": "2023-09-19T06:06:07.592Z"
   },
   {
    "duration": 4,
    "start_time": "2023-09-19T06:06:07.967Z"
   },
   {
    "duration": 33,
    "start_time": "2023-09-19T06:06:07.972Z"
   },
   {
    "duration": 14,
    "start_time": "2023-09-19T06:06:08.007Z"
   },
   {
    "duration": 46,
    "start_time": "2023-09-19T06:06:08.023Z"
   },
   {
    "duration": 13,
    "start_time": "2023-09-19T06:06:08.070Z"
   },
   {
    "duration": 12,
    "start_time": "2023-09-19T06:06:08.085Z"
   },
   {
    "duration": 20,
    "start_time": "2023-09-19T06:06:08.099Z"
   },
   {
    "duration": 26,
    "start_time": "2023-09-19T06:06:08.121Z"
   },
   {
    "duration": 4,
    "start_time": "2023-09-19T06:06:08.149Z"
   },
   {
    "duration": 22,
    "start_time": "2023-09-19T06:06:08.155Z"
   },
   {
    "duration": 24,
    "start_time": "2023-09-19T06:06:08.179Z"
   },
   {
    "duration": 21,
    "start_time": "2023-09-19T06:06:08.204Z"
   },
   {
    "duration": 4680,
    "start_time": "2023-09-19T06:06:08.227Z"
   },
   {
    "duration": 6,
    "start_time": "2023-09-19T06:06:12.909Z"
   },
   {
    "duration": 9,
    "start_time": "2023-09-19T06:06:12.918Z"
   },
   {
    "duration": 7,
    "start_time": "2023-09-19T06:08:40.810Z"
   },
   {
    "duration": 5,
    "start_time": "2023-09-19T06:17:00.914Z"
   },
   {
    "duration": 160,
    "start_time": "2023-09-19T06:17:40.660Z"
   },
   {
    "duration": 5,
    "start_time": "2023-09-19T06:17:55.992Z"
   },
   {
    "duration": 13,
    "start_time": "2023-09-19T06:18:05.352Z"
   },
   {
    "duration": 20,
    "start_time": "2023-09-19T06:18:33.155Z"
   },
   {
    "duration": 4,
    "start_time": "2023-09-19T06:19:18.861Z"
   },
   {
    "duration": 14,
    "start_time": "2023-09-19T06:19:24.467Z"
   },
   {
    "duration": 10,
    "start_time": "2023-09-19T06:19:31.294Z"
   },
   {
    "duration": 4,
    "start_time": "2023-09-19T06:19:34.265Z"
   },
   {
    "duration": 13,
    "start_time": "2023-09-19T06:19:36.781Z"
   },
   {
    "duration": 13,
    "start_time": "2023-09-19T06:20:06.774Z"
   },
   {
    "duration": 1083,
    "start_time": "2023-09-19T06:20:22.966Z"
   },
   {
    "duration": 978,
    "start_time": "2023-09-19T06:20:33.450Z"
   },
   {
    "duration": 152,
    "start_time": "2023-09-19T06:21:17.502Z"
   },
   {
    "duration": 68,
    "start_time": "2023-09-19T06:21:58.771Z"
   },
   {
    "duration": 103,
    "start_time": "2023-09-19T06:22:03.569Z"
   },
   {
    "duration": 2686,
    "start_time": "2023-09-19T06:22:09.047Z"
   },
   {
    "duration": 21,
    "start_time": "2023-09-19T06:22:15.231Z"
   },
   {
    "duration": 3706,
    "start_time": "2023-09-19T06:22:35.343Z"
   },
   {
    "duration": 59,
    "start_time": "2023-09-19T06:22:42.561Z"
   },
   {
    "duration": 19,
    "start_time": "2023-09-19T06:22:56.286Z"
   },
   {
    "duration": 6,
    "start_time": "2023-09-19T06:23:23.878Z"
   },
   {
    "duration": 12,
    "start_time": "2023-09-19T06:23:31.117Z"
   },
   {
    "duration": 12,
    "start_time": "2023-09-19T06:23:45.586Z"
   },
   {
    "duration": 5,
    "start_time": "2023-09-19T06:24:19.203Z"
   },
   {
    "duration": 5,
    "start_time": "2023-09-19T06:24:24.439Z"
   },
   {
    "duration": 71,
    "start_time": "2023-09-19T06:24:27.757Z"
   },
   {
    "duration": 58,
    "start_time": "2023-09-19T06:25:07.994Z"
   },
   {
    "duration": 56,
    "start_time": "2023-09-19T06:25:50.923Z"
   },
   {
    "duration": 2439,
    "start_time": "2023-09-19T06:26:04.978Z"
   },
   {
    "duration": 2069,
    "start_time": "2023-09-19T06:26:07.419Z"
   },
   {
    "duration": 42,
    "start_time": "2023-09-19T06:26:09.490Z"
   },
   {
    "duration": 14,
    "start_time": "2023-09-19T06:26:09.534Z"
   },
   {
    "duration": 15,
    "start_time": "2023-09-19T06:26:09.551Z"
   },
   {
    "duration": 24,
    "start_time": "2023-09-19T06:26:09.567Z"
   },
   {
    "duration": 16,
    "start_time": "2023-09-19T06:26:09.592Z"
   },
   {
    "duration": 317,
    "start_time": "2023-09-19T06:26:09.609Z"
   },
   {
    "duration": 2,
    "start_time": "2023-09-19T06:26:09.928Z"
   },
   {
    "duration": 18,
    "start_time": "2023-09-19T06:26:09.932Z"
   },
   {
    "duration": 45,
    "start_time": "2023-09-19T06:26:09.951Z"
   },
   {
    "duration": 41,
    "start_time": "2023-09-19T06:26:09.998Z"
   },
   {
    "duration": 16,
    "start_time": "2023-09-19T06:26:10.041Z"
   },
   {
    "duration": 6,
    "start_time": "2023-09-19T06:26:10.059Z"
   },
   {
    "duration": 43,
    "start_time": "2023-09-19T06:26:10.066Z"
   },
   {
    "duration": 4,
    "start_time": "2023-09-19T06:26:10.111Z"
   },
   {
    "duration": 5,
    "start_time": "2023-09-19T06:26:10.117Z"
   },
   {
    "duration": 43,
    "start_time": "2023-09-19T06:26:10.123Z"
   },
   {
    "duration": 28,
    "start_time": "2023-09-19T06:26:10.168Z"
   },
   {
    "duration": 31,
    "start_time": "2023-09-19T06:26:10.198Z"
   },
   {
    "duration": 4769,
    "start_time": "2023-09-19T06:26:10.231Z"
   },
   {
    "duration": 7,
    "start_time": "2023-09-19T06:26:15.002Z"
   },
   {
    "duration": 102,
    "start_time": "2023-09-19T06:26:15.011Z"
   },
   {
    "duration": 8,
    "start_time": "2023-09-19T06:26:15.115Z"
   },
   {
    "duration": 7,
    "start_time": "2023-09-19T06:26:15.125Z"
   },
   {
    "duration": 16,
    "start_time": "2023-09-19T06:26:15.134Z"
   },
   {
    "duration": 202,
    "start_time": "2023-09-19T06:26:40.084Z"
   },
   {
    "duration": 57,
    "start_time": "2023-09-19T06:26:49.419Z"
   },
   {
    "duration": 7,
    "start_time": "2023-09-19T06:27:05.353Z"
   },
   {
    "duration": 2717,
    "start_time": "2023-09-19T06:28:52.966Z"
   },
   {
    "duration": 2031,
    "start_time": "2023-09-19T06:28:55.686Z"
   },
   {
    "duration": 43,
    "start_time": "2023-09-19T06:28:57.719Z"
   },
   {
    "duration": 16,
    "start_time": "2023-09-19T06:28:57.764Z"
   },
   {
    "duration": 12,
    "start_time": "2023-09-19T06:28:57.781Z"
   },
   {
    "duration": 12,
    "start_time": "2023-09-19T06:28:57.794Z"
   },
   {
    "duration": 14,
    "start_time": "2023-09-19T06:28:57.808Z"
   },
   {
    "duration": 349,
    "start_time": "2023-09-19T06:28:57.823Z"
   },
   {
    "duration": 3,
    "start_time": "2023-09-19T06:28:58.174Z"
   },
   {
    "duration": 9,
    "start_time": "2023-09-19T06:28:58.179Z"
   },
   {
    "duration": 27,
    "start_time": "2023-09-19T06:28:58.189Z"
   },
   {
    "duration": 51,
    "start_time": "2023-09-19T06:28:58.218Z"
   },
   {
    "duration": 14,
    "start_time": "2023-09-19T06:28:58.271Z"
   },
   {
    "duration": 35,
    "start_time": "2023-09-19T06:28:58.287Z"
   },
   {
    "duration": 19,
    "start_time": "2023-09-19T06:28:58.324Z"
   },
   {
    "duration": 7,
    "start_time": "2023-09-19T06:28:58.345Z"
   },
   {
    "duration": 5,
    "start_time": "2023-09-19T06:28:58.354Z"
   },
   {
    "duration": 9,
    "start_time": "2023-09-19T06:28:58.361Z"
   },
   {
    "duration": 10,
    "start_time": "2023-09-19T06:28:58.372Z"
   },
   {
    "duration": 8,
    "start_time": "2023-09-19T06:28:58.384Z"
   },
   {
    "duration": 5082,
    "start_time": "2023-09-19T06:28:58.393Z"
   },
   {
    "duration": 7,
    "start_time": "2023-09-19T06:29:03.477Z"
   },
   {
    "duration": 21,
    "start_time": "2023-09-19T06:29:03.485Z"
   },
   {
    "duration": 9,
    "start_time": "2023-09-19T06:29:03.508Z"
   },
   {
    "duration": 7,
    "start_time": "2023-09-19T06:29:03.519Z"
   },
   {
    "duration": 7,
    "start_time": "2023-09-19T06:29:03.547Z"
   },
   {
    "duration": 13,
    "start_time": "2023-09-19T06:29:03.556Z"
   },
   {
    "duration": 196,
    "start_time": "2023-09-19T06:29:08.277Z"
   },
   {
    "duration": 2399,
    "start_time": "2023-09-19T06:30:16.694Z"
   },
   {
    "duration": 1976,
    "start_time": "2023-09-19T06:30:19.096Z"
   },
   {
    "duration": 44,
    "start_time": "2023-09-19T06:30:21.074Z"
   },
   {
    "duration": 15,
    "start_time": "2023-09-19T06:30:21.120Z"
   },
   {
    "duration": 19,
    "start_time": "2023-09-19T06:30:21.136Z"
   },
   {
    "duration": 17,
    "start_time": "2023-09-19T06:30:21.157Z"
   },
   {
    "duration": 19,
    "start_time": "2023-09-19T06:30:21.176Z"
   },
   {
    "duration": 339,
    "start_time": "2023-09-19T06:30:21.196Z"
   },
   {
    "duration": 10,
    "start_time": "2023-09-19T06:30:21.537Z"
   },
   {
    "duration": 9,
    "start_time": "2023-09-19T06:30:21.549Z"
   },
   {
    "duration": 17,
    "start_time": "2023-09-19T06:30:21.559Z"
   },
   {
    "duration": 37,
    "start_time": "2023-09-19T06:30:21.577Z"
   },
   {
    "duration": 38,
    "start_time": "2023-09-19T06:30:21.616Z"
   },
   {
    "duration": 15,
    "start_time": "2023-09-19T06:30:21.655Z"
   },
   {
    "duration": 38,
    "start_time": "2023-09-19T06:30:21.672Z"
   },
   {
    "duration": 4,
    "start_time": "2023-09-19T06:30:21.712Z"
   },
   {
    "duration": 8,
    "start_time": "2023-09-19T06:30:21.717Z"
   },
   {
    "duration": 9,
    "start_time": "2023-09-19T06:30:21.726Z"
   },
   {
    "duration": 12,
    "start_time": "2023-09-19T06:30:21.737Z"
   },
   {
    "duration": 11,
    "start_time": "2023-09-19T06:30:21.751Z"
   },
   {
    "duration": 4836,
    "start_time": "2023-09-19T06:30:21.764Z"
   },
   {
    "duration": 721345,
    "start_time": "2023-09-19T06:30:26.602Z"
   },
   {
    "duration": 348,
    "start_time": "2023-09-19T06:42:27.949Z"
   },
   {
    "duration": 16,
    "start_time": "2023-09-19T06:42:28.299Z"
   },
   {
    "duration": 580,
    "start_time": "2023-09-19T06:42:28.316Z"
   }
  ],
  "kernelspec": {
   "display_name": "Python 3 (ipykernel)",
   "language": "python",
   "name": "python3"
  },
  "language_info": {
   "codemirror_mode": {
    "name": "ipython",
    "version": 3
   },
   "file_extension": ".py",
   "mimetype": "text/x-python",
   "name": "python",
   "nbconvert_exporter": "python",
   "pygments_lexer": "ipython3",
   "version": "3.9.12"
  },
  "toc": {
   "base_numbering": 1,
   "nav_menu": {},
   "number_sections": false,
   "sideBar": true,
   "skip_h1_title": false,
   "title_cell": "Table of Contents",
   "title_sidebar": "Contents",
   "toc_cell": false,
   "toc_position": {},
   "toc_section_display": true,
   "toc_window_display": false
  },
  "varInspector": {
   "cols": {
    "lenName": 16,
    "lenType": 16,
    "lenVar": 40
   },
   "kernels_config": {
    "python": {
     "delete_cmd_postfix": "",
     "delete_cmd_prefix": "del ",
     "library": "var_list.py",
     "varRefreshCmd": "print(var_dic_list())"
    },
    "r": {
     "delete_cmd_postfix": ") ",
     "delete_cmd_prefix": "rm(",
     "library": "var_list.r",
     "varRefreshCmd": "cat(var_dic_list()) "
    }
   },
   "types_to_exclude": [
    "module",
    "function",
    "builtin_function_or_method",
    "instance",
    "_Feature"
   ],
   "window_display": false
  }
 },
 "nbformat": 4,
 "nbformat_minor": 5
}
